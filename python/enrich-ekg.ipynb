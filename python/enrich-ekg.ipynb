{
 "cells": [
  {
   "cell_type": "markdown",
   "metadata": {},
   "source": [
    "## Libraries"
   ]
  },
  {
   "cell_type": "code",
   "execution_count": null,
   "metadata": {},
   "outputs": [],
   "source": [
    "import pandas as pd \n",
    "import matplotlib.pyplot as plt \n",
    "import warnings\n",
    "warnings.filterwarnings('ignore')\n",
    "from neo4j import GraphDatabase"
   ]
  },
  {
   "cell_type": "markdown",
   "metadata": {},
   "source": [
    "## Connect to Neo4J"
   ]
  },
  {
   "cell_type": "code",
   "execution_count": null,
   "metadata": {},
   "outputs": [],
   "source": [
    "driver = GraphDatabase.driver(\"bolt://localhost:7687\", auth=(\"neo4j\", \"Neo4J1234\"))\n",
    "session = driver.session()"
   ]
  },
  {
   "cell_type": "markdown",
   "metadata": {},
   "source": [
    "## Create entities and relate them to events"
   ]
  },
  {
   "cell_type": "code",
   "execution_count": null,
   "metadata": {},
   "outputs": [],
   "source": [
    "query = f'''MATCH (e:Event) UNWIND e.KitID AS id_val\n",
    "WITH DISTINCT id_val\n",
    "MERGE (:Entity {{ID:id_val, EntityType:\"Kit\"}})'''\n",
    "session.run(query).single()"
   ]
  },
  {
   "cell_type": "code",
   "execution_count": null,
   "metadata": {},
   "outputs": [],
   "source": [
    "query = f'''MATCH (e:Event) UNWIND e.KitID AS kitID WITH e,kitID\n",
    "MATCH (n:Entity {{EntityType: \"Kit\"}}) WHERE kitID = n.ID\n",
    "MERGE (e)-[:CORR]->(n)'''\n",
    "session.run(query).single()"
   ]
  },
  {
   "cell_type": "markdown",
   "metadata": {},
   "source": [
    "## Create directly follows relationships between events related to the same entity"
   ]
  },
  {
   "cell_type": "code",
   "execution_count": null,
   "metadata": {},
   "outputs": [],
   "source": [
    "query = f'''MATCH (n:Entity {{EntityType:\"Kit\"}})\n",
    "MATCH (n)<-[:CORR]-(e)\n",
    "WITH n, e AS nodes ORDER BY e.timestamp, ID(e)\n",
    "WITH n, collect(nodes) AS event_node_list\n",
    "UNWIND range(0, size(event_node_list)-2) AS i\n",
    "WITH n, event_node_list[i] AS e1, event_node_list[i+1] AS e2\n",
    "MERGE (e1)-[df:DF {{EntityType:n.EntityType, ID:n.ID, Duration: duration.between(e1.timestamp , e2.timestamp).seconds}}]->(e2)\n",
    "'''\n",
    "session.run(query)"
   ]
  },
  {
   "cell_type": "markdown",
   "metadata": {},
   "source": [
    "## Create sterilization cycles as runs for each entity"
   ]
  },
  {
   "cell_type": "code",
   "execution_count": null,
   "metadata": {},
   "outputs": [],
   "source": [
    "#add start label to Entrada Material Sucio events\n",
    "query = f'''MATCH (e:Event)\n",
    "WHERE e.Activity =  \"Entrada Material Sucio\"\n",
    "OPTIONAL MATCH (f:Event) - [:DF] -> (e)\n",
    "SET e:NewKitEvent, f:LastKitEvent\n",
    " '''\n",
    "session.run(query).single()"
   ]
  },
  {
   "cell_type": "code",
   "execution_count": null,
   "metadata": {},
   "outputs": [],
   "source": [
    "#add end label to commisionada events\n",
    "query = f'''MATCH (e:Event)\n",
    "WHERE e.Activity =  \"Comisionado\"\n",
    "SET e:LastKitEvent\n",
    " '''\n",
    "session.run(query).single()"
   ]
  },
  {
   "cell_type": "code",
   "execution_count": null,
   "metadata": {},
   "outputs": [],
   "source": [
    "#add end label to commisionada events\n",
    "query = f'''MATCH (e:Event:LastKitEvent) - [:DF] -> (f:Event)\n",
    "where f.Activity <> \"Comisionado\"\n",
    "set f:NewKitEvent\n",
    " '''\n",
    "session.run(query).single()"
   ]
  },
  {
   "cell_type": "code",
   "execution_count": null,
   "metadata": {},
   "outputs": [],
   "source": [
    "#Find paths from start to end and create Run nodes\n",
    "query = f'''MATCH (start_event:Event:NewKitEvent)\n",
    "CALL apoc.path.expandConfig(start_event, {{relationshipFilter: \"DF>\", \n",
    "labelFilter:\"+Event|/LastKitEvent\"}})\n",
    "YIELD path\n",
    "MATCH (start_event) - [:CORR] -> (k:Entity)\n",
    "CALL apoc.refactor.cloneNodes([k])\n",
    "YIELD input, output as new_k, error\n",
    "SET new_k:Run\n",
    "remove new_k:Entity\n",
    "CREATE (new_k) - [:HAS_RUN] -> (k)\n",
    "WITH nodes(path) as events, k, new_k\n",
    "            CALL {{WITH events, k, new_k\n",
    "             UNWIND events as  kit_event\n",
    "            MATCH (kit_event) - [r:CORR] -> (k)\n",
    "            DELETE r\n",
    "            CREATE (kit_event) - [:CORR] -> (new_k)}}\n",
    " '''\n",
    "session.run(query).single()"
   ]
  },
  {
   "cell_type": "code",
   "execution_count": null,
   "metadata": {},
   "outputs": [],
   "source": [
    "#Find nodes that are followed by Entrada directly\n",
    "query = f'''MATCH (start_event:Event:NewKitEvent:LastKitEvent)\n",
    "            MATCH (start_event) - [:CORR] -> (k:Entity)\n",
    "            CALL apoc.refactor.cloneNodes([k])\n",
    "            YIELD input, output as new_k, error\n",
    "            SET new_k:Run\n",
    "            remove new_k:Entity\n",
    "            CREATE (new_k) - [:HAS_RUN] -> (k)\n",
    "            WITH start_event, k, new_k\n",
    "            CALL {{WITH start_event, k, new_k\n",
    "            MATCH (start_event) - [r:ACTS_ON] -> (k)\n",
    "            DELETE r\n",
    "            CREATE (start_event) - [:ACTS_ON] -> (new_k)}}\n",
    "'''\n",
    "session.run(query).single()"
   ]
  },
  {
   "cell_type": "code",
   "execution_count": null,
   "metadata": {},
   "outputs": [],
   "source": [
    "query = f'''MATCH (startEvent:NewKitEvent)-[:CORR]->(c:Run) \n",
    "MATCH (endEvent:LastKitEvent)-[:CORR]->(c) \n",
    "Match path = (startEvent) - [:DF*] -> (endEvent)\n",
    "set c.start_timestamp = startEvent.timestamp, \n",
    "c.end_timestamp=endEvent.timestamp, \n",
    "c.activities = startEvent.Activity\n",
    "with tail(nodes(path)) as pathNodes, c\n",
    "foreach (event in pathNodes | \n",
    "                set c.activities = c.activities + \", \" + event.Activity)\n",
    "'''\n",
    "session.run(query).single()"
   ]
  },
  {
   "cell_type": "code",
   "execution_count": null,
   "metadata": {},
   "outputs": [],
   "source": [
    "query = f'''\n",
    "Match (e:Entity) \n",
    "WITH  e AS cases ORDER BY e.start_timestamp, ID(e)\n",
    "WITH collect(cases) AS cases_list\n",
    "UNWIND range(0, size(cases_list)-1) AS i\n",
    "with cases_list[i] as node, i\n",
    "Match (ev:Event) - [:CORR] -> (node)\n",
    "set node.CaseID = node.ID + \"-CN\" + i,\n",
    "ev.CaseID = node.ID + \"-CN\" + i\n",
    "'''\n",
    "session.run(query).single()"
   ]
  },
  {
   "cell_type": "code",
   "execution_count": null,
   "metadata": {},
   "outputs": [],
   "source": [
    "query = f'''match (r:Run)\n",
    "return r.CaseID, r.start_timestamp, r.end_timestamp, r.start_timestamp.month\n",
    "'''\n",
    "frame = pd.DataFrame(session.run(query).data())\n",
    "frame['r.start_timestamp'] = pd.to_datetime(frame['r.start_timestamp'], format='%Y-%m-%dT%H:%M:%S.%f%z')\n",
    "frame['r.end_timestamp'] = pd.to_datetime(frame['r.end_timestamp'], format='%Y-%m-%dT%H:%M:%S.%f%z')\n",
    "frame['durationDays'] = (frame['r.end_timestamp'] - frame['r.start_timestamp']).dt.total_seconds() / 60 / 60 / 24\n",
    "frame['durationMinutes'] = (frame['r.end_timestamp'] - frame['r.start_timestamp']).dt.total_seconds() / 60 \n",
    "for index, row in frame.iterrows():\n",
    "    query = f'''match (r:Run {{CaseID: \"{row['r.CaseID']}\"}})\n",
    "                set r.durationInMinutes = {row['durationMinutes']}\n",
    "            '''\n",
    "    session.run(query)"
   ]
  },
  {
   "cell_type": "code",
   "execution_count": null,
   "metadata": {},
   "outputs": [],
   "source": [
    "query = f'''match (e:Entity)<-[:HAS_RUN]-(r:Run)\n",
    "with count(r) as numberOfCycles, e\n",
    "set e.numberOfCycles = numberOfCycles\n",
    "return e.ID, numberOfCycles\n",
    "'''\n",
    "session.run(query).single()"
   ]
  },
  {
   "cell_type": "markdown",
   "metadata": {},
   "source": [
    "## Make Kit nodes"
   ]
  },
  {
   "cell_type": "code",
   "execution_count": null,
   "metadata": {},
   "outputs": [],
   "source": [
    "query = f'''match (e:Event)\n",
    "UNWIND e.`Código` AS id\n",
    "with distinct (id), count(distinct(e.NS)) as num\n",
    "merge (k:Kit {{ID :id, numberOfUnits :num}})\n",
    "return id, num'''\n",
    "session.run(query).single()"
   ]
  },
  {
   "cell_type": "code",
   "execution_count": null,
   "metadata": {},
   "outputs": [],
   "source": [
    "query = f'''MATCH (e:Event)\n",
    "MATCH (n:Entity)<- [:HAS_RUN] - (r:Run) \n",
    "where e.KitID = n.ID\n",
    "set n.KitID = e.`Código`'''\n",
    "session.run(query).single()"
   ]
  },
  {
   "cell_type": "code",
   "execution_count": null,
   "metadata": {},
   "outputs": [],
   "source": [
    "query = f'''MATCH (n:Entity) <- [:HAS_RUN] - (r:Run) \n",
    "Match (k:Kit)\n",
    "where n.KitID = k.ID\n",
    "merge (n) <- [:HAS_UNIT] - (k)\n",
    "REMOVE n.KitID '''\n",
    "session.run(query).single()"
   ]
  },
  {
   "cell_type": "markdown",
   "metadata": {},
   "source": [
    "## Extract the process model"
   ]
  },
  {
   "cell_type": "code",
   "execution_count": null,
   "metadata": {},
   "outputs": [],
   "source": [
    "query = f'''MATCH ( e : Event ) WITH distinct e.Activity AS actName\n",
    "MERGE ( c : Class {{ Name:actName, Type:\"Activity\", ID: actName}})'''\n",
    "session.run(query).single()"
   ]
  },
  {
   "cell_type": "code",
   "execution_count": null,
   "metadata": {},
   "outputs": [],
   "source": [
    "query = f'''MATCH ( c : Class ) WHERE c.Type = \"Activity\"\n",
    "MATCH ( e : Event ) WHERE c.Name = e.Activity\n",
    "MERGE ( e ) -[:OBSERVED]-> ( c )'''\n",
    "session.run(query).single()"
   ]
  },
  {
   "cell_type": "code",
   "execution_count": null,
   "metadata": {},
   "outputs": [],
   "source": [
    "query = f'''MATCH ( c : Class ) WHERE c.Type = \"Activity\"\n",
    "MATCH ( e : Event ) WHERE c.Name = e.Activity\n",
    "match (en:Entity) <-[:CORR]- (e)\n",
    "MERGE ( en) -[:LOGGED_IN]-> ( c )'''\n",
    "session.run(query).single()"
   ]
  },
  {
   "cell_type": "code",
   "execution_count": null,
   "metadata": {},
   "outputs": [],
   "source": [
    "query = f'''match (e:Entity)<-[:HAS_RUN]-(r:Run)\n",
    "MATCH ( c1 : Class ) <-[:OBSERVED]- ( e1 : Event ) -[df:DF]-> ( e2 : Event ) -[:OBSERVED]-> ( c2 : Class )\n",
    "MATCH (e1) -[:CORR] -> (r) <-[:CORR]- (e2)\n",
    "WHERE c1.Type = c2.Type AND r.EntityType = df.EntityType\n",
    "WITH r.EntityType as EType,c1,count(df) AS df_freq,c2\n",
    "MERGE ( c1 ) -[rel2:DF_C {{EntityType:EType}}]-> ( c2 ) ON CREATE SET rel2.count=df_freq'''\n",
    "session.run(query).single()"
   ]
  },
  {
   "cell_type": "markdown",
   "metadata": {},
   "source": [
    "## Add employees"
   ]
  },
  {
   "cell_type": "code",
   "execution_count": null,
   "metadata": {},
   "outputs": [],
   "source": [
    "query = f'''MATCH ( e : Event ) UNWIND e.Usuario AS employee \n",
    "WITH distinct employee\n",
    "MERGE ( :Employee {{ Name:employee, Type:\"Usuario\", ID: employee}})'''\n",
    "session.run(query).single()"
   ]
  },
  {
   "cell_type": "code",
   "execution_count": null,
   "metadata": {},
   "outputs": [],
   "source": [
    "query = f'''MATCH ( m : Employee ) WHERE m.Type = \"Usuario\"\n",
    "MATCH ( e : Event ) WHERE m.Name = e.Usuario\n",
    "CREATE ( e ) <-[:WORKED_ON]- ( m )'''\n",
    "session.run(query).single()"
   ]
  },
  {
   "cell_type": "code",
   "execution_count": null,
   "metadata": {},
   "outputs": [],
   "source": [
    "query = f'''MATCH (emp:Employee)\n",
    "MATCH (emp)-[:WORKED_ON]->(e)\n",
    "WITH emp, e AS nodes ORDER BY e.timestamp, ID(e)\n",
    "WITH emp, collect(nodes) AS event_node_list\n",
    "UNWIND range(0, size(event_node_list)-2) AS i\n",
    "WITH emp, event_node_list[i] AS e1, event_node_list[i+1] AS e2\n",
    "MERGE (e1)-[df:DF_EMP {{ID:emp.ID, startTimestamp: e1.timestamp, endTimestamp: e2.timestamp}}]->(e2)\n",
    "'''\n",
    "session.run(query).single()"
   ]
  },
  {
   "cell_type": "markdown",
   "metadata": {},
   "source": [
    "## Add washing machines"
   ]
  },
  {
   "cell_type": "code",
   "execution_count": null,
   "metadata": {},
   "outputs": [],
   "source": [
    "query=f'''\n",
    "MATCH (e:Event) UNWIND e.additionalInfo5 AS rack\n",
    "WITH DISTINCT rack, SPLIT(rack, ' - ') AS result\n",
    "with rack, result, apoc.text.regexGroups(result[0], '([0-9]+)')[0][0] AS rackNumber\n",
    "MERGE (:Rack {{ID:rack, name: result[0], number:rackNumber, activity: result[1], EntityType:\"Rack\"}})\n",
    "'''\n",
    "session.run(query).single()"
   ]
  },
  {
   "cell_type": "code",
   "execution_count": null,
   "metadata": {},
   "outputs": [],
   "source": [
    "query=f'''\n",
    "MATCH (e:Event) \n",
    "where e.Activity = \"Carga L+D iniciada\" or e.Activity = \"Carga L+D liberada\"\n",
    "UNWIND e.additionalInfo1 AS wm\n",
    "WITH DISTINCT wm, SPLIT(wm, ' - ') AS result, e\n",
    "MERGE (:WashingMachine {{activity: rtrim(result[0]), machine: COALESCE(rtrim(result[1]), rtrim(e.additionalInfo2)), EntityType:\"Washing Machine\"}})\n",
    "'''\n",
    "session.run(query).single()"
   ]
  },
  {
   "cell_type": "code",
   "execution_count": null,
   "metadata": {},
   "outputs": [],
   "source": [
    "query = f'''\n",
    "Match (r:Rack) \n",
    "Match (w:WashingMachine)\n",
    "MATCH (e:Event) \n",
    "where e.Activity = \"Carga L+D iniciada\" or e.Activity = \"Carga L+D liberada\"\n",
    "with SPLIT(e.additionalInfo1, ' - ') AS wm, e.additionalInfo5 as rack, r, w\n",
    "where rack = r.ID and w.activity = wm[0]\n",
    "merge (r) -[:RELATED_TO] -> (w)\n",
    "'''\n",
    "session.run(query).single()"
   ]
  },
  {
   "cell_type": "code",
   "execution_count": null,
   "metadata": {},
   "outputs": [],
   "source": [
    "query = f'''Match (w:WashingMachine)\n",
    "MATCH (e:Event) \n",
    "where e.Activity = \"Carga L+D iniciada\" or e.Activity = \"Carga L+D liberada\"\n",
    "with SPLIT(e.additionalInfo1, ' - ') AS wm, w, e\n",
    "where w.activity = wm[0]\n",
    "create (e) -[:WASHED_IN {{timestamp: e.timestamp}}] -> (w)\n",
    "'''\n",
    "session.run(query).single()"
   ]
  },
  {
   "cell_type": "code",
   "execution_count": null,
   "metadata": {},
   "outputs": [],
   "source": [
    "query = f'''Match (r:Rack)\n",
    "MATCH (e:Event) \n",
    "where e.Activity = \"Carga L+D iniciada\" or e.Activity = \"Carga L+D liberada\"\n",
    "with e.additionalInfo5 as rack, r, e\n",
    "where rack = r.ID\n",
    "create (e) -[:WASHED_ON {{timestamp: e.timestamp}}] -> (r)'''\n",
    "session.run(query).single()"
   ]
  },
  {
   "cell_type": "markdown",
   "metadata": {},
   "source": [
    "## Add sterilization machines"
   ]
  },
  {
   "cell_type": "code",
   "execution_count": null,
   "metadata": {},
   "outputs": [],
   "source": [
    "query=f'''MATCH (e:Event) \n",
    "where e.Activity = \"Composición de cargas\" or e.Activity = \"Carga de esterilizador liberada\"\n",
    "UNWIND e.additionalInfo1 AS sm\n",
    "WITH DISTINCT sm, SPLIT(sm, ' - ') AS result, e\n",
    "MERGE (:SterilizationMachine {{activity: rtrim(result[0]), machine: rtrim(result[1]), EntityType:\"Sterilization Machine\",\n",
    " type: \n",
    " case \n",
    " when rtrim(toLower(result[1])) in ['amsco vpro', 'amsco eagle'] then 'Low Temperature Sterilization'\n",
    "     else 'High Temperature Sterilization' end}})\n",
    "     '''\n",
    "session.run(query).single()"
   ]
  },
  {
   "cell_type": "code",
   "execution_count": null,
   "metadata": {},
   "outputs": [],
   "source": [
    "query = f'''Match (s:SterilizationMachine)\n",
    "MATCH (e:Event) \n",
    "where e.Activity = \"Composición de cargas\" or e.Activity = \"Carga de esterilizador liberada\"\n",
    "with SPLIT(e.additionalInfo1, ' - ') as sm, s, e\n",
    "where rtrim(sm[1]) = s.machine\n",
    "create (e) -[:STERILIZED_IN {{timestamp: e.timestamp}}] -> (s)\n",
    "'''\n",
    "session.run(query).single()"
   ]
  },
  {
   "cell_type": "markdown",
   "metadata": {},
   "source": [
    "## Batch activities"
   ]
  },
  {
   "cell_type": "code",
   "execution_count": null,
   "metadata": {},
   "outputs": [],
   "source": [
    "#TODO check batches timestamp and the entry time for entrada\n",
    "#TODO make separate batching relation for washing machines and sterilization machines\n",
    "query=f'''\n",
    "Match (e1:Event) - [:OBSERVED] -> (c:Class) <- [:OBSERVED] - (e2)\n",
    "match (e1) -[:DF_EMP] - (e2)\n",
    "where e1.timestamp = e2.timestamp\n",
    "create (e1) - [:DF_BATCH {{Activity: c.Name}}] -> (e2)\n",
    "'''\n",
    "session.run(query).single()"
   ]
  }
 ],
 "metadata": {
  "kernelspec": {
   "display_name": "Python 3",
   "language": "python",
   "name": "python3"
  },
  "language_info": {
   "name": "python",
   "version": "3.9.18"
  }
 },
 "nbformat": 4,
 "nbformat_minor": 2
}
