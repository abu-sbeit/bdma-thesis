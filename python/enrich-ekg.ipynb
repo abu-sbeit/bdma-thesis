{
 "cells": [
  {
   "cell_type": "markdown",
   "metadata": {},
   "source": [
    "## Libraries"
   ]
  },
  {
   "cell_type": "code",
   "execution_count": 709,
   "metadata": {},
   "outputs": [],
   "source": [
    "import pandas as pd \n",
    "import matplotlib.pyplot as plt \n",
    "import warnings\n",
    "warnings.filterwarnings('ignore')\n",
    "from neo4j import GraphDatabase"
   ]
  },
  {
   "cell_type": "markdown",
   "metadata": {},
   "source": [
    "## Connect to Neo4J"
   ]
  },
  {
   "cell_type": "code",
   "execution_count": 710,
   "metadata": {},
   "outputs": [],
   "source": [
    "driver = GraphDatabase.driver(\"bolt://localhost:7687\", auth=(\"neo4j\", \"Croma2023\"))\n",
    "session = driver.session()"
   ]
  },
  {
   "cell_type": "markdown",
   "metadata": {},
   "source": [
    "## Create entities and relate them to events"
   ]
  },
  {
   "cell_type": "code",
   "execution_count": 711,
   "metadata": {},
   "outputs": [],
   "source": [
    "query = f'''MATCH (e:Event) \n",
    "where split(e.KitID, '-')[0] <> \"CONT\"\n",
    "UNWIND e.KitID AS id_val\n",
    "WITH DISTINCT id_val\n",
    "MERGE (:Entity {{ID:id_val, EntityType:\"Kit\"}})'''\n",
    "session.run(query).single()"
   ]
  },
  {
   "cell_type": "code",
   "execution_count": 712,
   "metadata": {},
   "outputs": [],
   "source": [
    "query = f'''MATCH (e:Event) \n",
    "where split(e.KitID, '-')[0] = \"CONT\"\n",
    "UNWIND e.KitID AS id_val\n",
    "WITH DISTINCT id_val\n",
    "MERGE (:Entity {{ID:id_val, EntityType:\"Container\"}})'''\n",
    "session.run(query).single()"
   ]
  },
  {
   "cell_type": "code",
   "execution_count": 713,
   "metadata": {},
   "outputs": [],
   "source": [
    "query = f'''MATCH (e:Event) \n",
    "UNWIND e.KitID AS kitID \n",
    "WITH e,kitID\n",
    "MATCH (n:Entity) \n",
    "WHERE kitID = n.ID\n",
    "MERGE (e)-[:CORR]->(n)'''\n",
    "session.run(query).single()"
   ]
  },
  {
   "cell_type": "markdown",
   "metadata": {},
   "source": [
    "## Create directly follows relationships between events related to the same entity"
   ]
  },
  {
   "cell_type": "code",
   "execution_count": 714,
   "metadata": {},
   "outputs": [
    {
     "data": {
      "text/plain": [
       "<neo4j._sync.work.result.Result at 0x147453b20>"
      ]
     },
     "execution_count": 714,
     "metadata": {},
     "output_type": "execute_result"
    }
   ],
   "source": [
    "query = f'''MATCH (n:Entity)\n",
    "MATCH (n)<-[:CORR]-(e)\n",
    "WITH n, e AS nodes ORDER BY e.timestamp, ID(e)\n",
    "WITH n, collect(nodes) AS event_node_list\n",
    "UNWIND range(0, size(event_node_list)-2) AS i\n",
    "WITH n, event_node_list[i] AS e1, event_node_list[i+1] AS e2\n",
    "MERGE (e1)-[df:DF {{EntityType:n.EntityType, ID:n.ID, Duration: duration.between(e1.timestamp , e2.timestamp).minutes}}]->(e2)\n",
    "'''\n",
    "session.run(query)"
   ]
  },
  {
   "cell_type": "markdown",
   "metadata": {},
   "source": [
    "## Create sterilization cycles as runs for each entity"
   ]
  },
  {
   "cell_type": "code",
   "execution_count": 715,
   "metadata": {},
   "outputs": [],
   "source": [
    "#add start label to Entrada Material Sucio events\n",
    "query = f'''MATCH (e:Event)\n",
    "WHERE e.Activity =  \"Entrada Material Sucio\"\n",
    "OPTIONAL MATCH (f:Event) - [:DF] -> (e)\n",
    "SET e:NewKitEvent, f:LastKitEvent\n",
    " '''\n",
    "session.run(query).single()"
   ]
  },
  {
   "cell_type": "code",
   "execution_count": 716,
   "metadata": {},
   "outputs": [],
   "source": [
    "#add end label to commisionada events\n",
    "query = f'''MATCH (e:Event {{Activity:  \"Comisionado\"}})\n",
    "OPTIONAL MATCH (f:Event) <- [:DF] - (e)\n",
    "SET e:LastKitEvent, f:NewKitEvent\n",
    "'''\n",
    "session.run(query).single()"
   ]
  },
  {
   "cell_type": "code",
   "execution_count": 717,
   "metadata": {},
   "outputs": [],
   "source": [
    "#add end label to commisionada events\n",
    "query = f'''MATCH (e:Event {{Activity:  \"Carga L+D liberada\"}}) - [:CORR] -> (n:Entity {{EntityType:\"Container\"}})\n",
    "OPTIONAL MATCH (f:Event) <- [:DF] - (e)\n",
    "SET e:LastKitEvent, f:NewKitEvent\n",
    "'''\n",
    "session.run(query).single()"
   ]
  },
  {
   "cell_type": "code",
   "execution_count": 718,
   "metadata": {},
   "outputs": [],
   "source": [
    "query = f'''MATCH (e:Event)\n",
    "WHERE e.Activity = \"Carga de esterilizador liberada\"\n",
    "MATCH (e) - [:DF] -> (f:Event)\n",
    "where f.Activity <> \"Comisionado\" and \n",
    "f.Activity <> \"Carga de esterilizador liberada\" \n",
    "and duration.between(e.timestamp, f.timestamp).minutes > 280\n",
    "SET e:LastKitEvent, f:NewKitEvent\n",
    "'''\n",
    "session.run(query).single()"
   ]
  },
  {
   "cell_type": "code",
   "execution_count": 719,
   "metadata": {},
   "outputs": [],
   "source": [
    "#add end label to commisionada events\n",
    "query = f'''MATCH (e:Event)\n",
    "WHERE not () - [:DF] -> (e)\n",
    "SET e:NewKitEvent\n",
    "'''\n",
    "session.run(query).single()"
   ]
  },
  {
   "cell_type": "code",
   "execution_count": 720,
   "metadata": {},
   "outputs": [],
   "source": [
    "#add end label to commisionada events\n",
    "#query = f'''MATCH (e:Event:LastKitEvent) - [:DF] -> (f:Event)\n",
    "#where f.Activity <> \"Comisionado\"\n",
    "#set f:NewKitEvent\n",
    "# '''\n",
    "#session.run(query).single()"
   ]
  },
  {
   "cell_type": "code",
   "execution_count": 721,
   "metadata": {},
   "outputs": [],
   "source": [
    "query = f'''MATCH (f:Event) - [:DF] -> (e:Event)\n",
    "where duration.between(f.timestamp, e.timestamp).days > 3\n",
    "SET e:NewKitEvent, f:LastKitEvent\n",
    " '''\n",
    "session.run(query).single()"
   ]
  },
  {
   "cell_type": "code",
   "execution_count": 722,
   "metadata": {},
   "outputs": [],
   "source": [
    "#Find nodes that are followed by Entrada directly\n",
    "query = f'''MATCH (start_event:Event:NewKitEvent:LastKitEvent)\n",
    "            MATCH (start_event) - [:CORR] -> (k:Entity)\n",
    "            CALL apoc.refactor.cloneNodes([k])\n",
    "            YIELD input, output as new_k, error\n",
    "            SET new_k:Run\n",
    "            remove new_k:Entity\n",
    "            SET start_event:OnlyKitEvent\n",
    "            remove start_event:NewKitEvent:LastKitEvent\n",
    "            //CREATE (new_k) <- [:HAS_RUN] - (k)\n",
    "            WITH start_event, k, new_k\n",
    "            CALL {{WITH start_event, k, new_k\n",
    "            MATCH (start_event) - [r:CORR] -> (k)\n",
    "            DELETE r\n",
    "            CREATE (start_event) - [:CORR] -> (new_k)}}\n",
    "'''\n",
    "session.run(query).single()"
   ]
  },
  {
   "cell_type": "code",
   "execution_count": 723,
   "metadata": {},
   "outputs": [],
   "source": [
    "#Find paths from start to end and create Run nodes\n",
    "query = f'''MATCH (start_event:Event:NewKitEvent)\n",
    "CALL apoc.path.expandConfig(start_event, {{relationshipFilter: \"DF>\", \n",
    "labelFilter:\"+Event|/LastKitEvent\"}})\n",
    "YIELD path\n",
    "MATCH (start_event) - [:CORR] -> (k:Entity)\n",
    "CALL apoc.refactor.cloneNodes([k])\n",
    "YIELD input, output as new_k, error\n",
    "SET new_k:Run\n",
    "remove new_k:Entity\n",
    "//CREATE (new_k) <- [:HAS_RUN] - (k)\n",
    "WITH nodes(path) as events, k, new_k\n",
    "            CALL {{WITH events, k, new_k\n",
    "             UNWIND events as  kit_event\n",
    "            MATCH (kit_event) - [r:CORR] -> (k)\n",
    "            DELETE r\n",
    "            CREATE (kit_event) - [:CORR] -> (new_k)}}\n",
    " '''\n",
    "session.run(query).single()"
   ]
  },
  {
   "cell_type": "code",
   "execution_count": 724,
   "metadata": {},
   "outputs": [],
   "source": [
    "query = f'''match (e:Entity)\n",
    "set e:Run\n",
    "remove e:Entity'''\n",
    "session.run(query).single()"
   ]
  },
  {
   "cell_type": "code",
   "execution_count": 725,
   "metadata": {},
   "outputs": [],
   "source": [
    "query = f'''match (r:Run) \n",
    "where not (r) <- [:CORR] - ()\n",
    "detach delete r\n",
    "'''\n",
    "session.run(query).single()"
   ]
  },
  {
   "cell_type": "code",
   "execution_count": 726,
   "metadata": {},
   "outputs": [],
   "source": [
    "query = f'''match (r:Run) \n",
    "UNWIND r.ID AS id_val\n",
    "WITH DISTINCT id_val, r.EntityType as et\n",
    "MERGE (:Entity {{ID:id_val, EntityType : et}})\n",
    "'''\n",
    "session.run(query).single()"
   ]
  },
  {
   "cell_type": "code",
   "execution_count": 727,
   "metadata": {},
   "outputs": [],
   "source": [
    "query = f'''MATCH (r:Run) \n",
    "UNWIND r.ID AS kitID \n",
    "WITH r, kitID\n",
    "MATCH (n:Entity) \n",
    "WHERE kitID = n.ID\n",
    "MERGE (r)<-[:HAS_RUN]-(n)'''\n",
    "session.run(query).single()"
   ]
  },
  {
   "cell_type": "code",
   "execution_count": 728,
   "metadata": {},
   "outputs": [],
   "source": [
    "query = f'''MATCH (startEvent:NewKitEvent)-[:CORR]->(c:Run) \n",
    "MATCH (endEvent:LastKitEvent)-[:CORR]->(c) \n",
    "Match path = (startEvent) - [:DF*] -> (endEvent)\n",
    "set c.startTimestamp = startEvent.timestamp, \n",
    "c.endTimestamp=endEvent.timestamp, \n",
    "c.activities = startEvent.Activity\n",
    "with tail(nodes(path)) as pathNodes, c\n",
    "foreach (event in pathNodes | \n",
    "                set c.activities = c.activities + \", \" + event.Activity)\n",
    "'''\n",
    "session.run(query).single()"
   ]
  },
  {
   "cell_type": "code",
   "execution_count": 729,
   "metadata": {},
   "outputs": [],
   "source": [
    "query = f'''match (r:Run) <- [:CORR] - (e:Event)\n",
    "where not (e) - [:DF] -> () and r.startTimestamp is null\n",
    "UNWIND r.ID AS kitID\n",
    "WITH r, kitID, e\n",
    "MATCH (startEvent:NewKitEvent)-[:CORR]->(r) \n",
    "Match path = (startEvent) - [:DF*] -> (e)\n",
    "set r.startTimestamp = startEvent.timestamp, \n",
    "r.endTimestamp=e.timestamp, \n",
    "e:LastKitEvent,\n",
    "r.activities = startEvent.Activity\n",
    "with tail(nodes(path)) as pathNodes, r\n",
    "foreach (event in pathNodes | \n",
    "                set r.activities = r.activities + \", \" + event.Activity)'''\n",
    "session.run(query).single()"
   ]
  },
  {
   "cell_type": "code",
   "execution_count": 730,
   "metadata": {},
   "outputs": [],
   "source": [
    "query = f'''MATCH (startEvent:OnlyKitEvent)-[:CORR]->(c:Run) \n",
    "set c.startTimestamp = startEvent.timestamp, \n",
    "c.endTimestamp=startEvent.timestamp, \n",
    "c.activities = startEvent.Activity\n",
    "'''\n",
    "session.run(query).single()"
   ]
  },
  {
   "cell_type": "code",
   "execution_count": 731,
   "metadata": {},
   "outputs": [],
   "source": [
    "# **\n",
    "query = f'''match (r:Run) <- [:CORR] - (e:Event)\n",
    "where r.startTimestamp is null \n",
    "unwind r.ID as kitID\n",
    "with r, count(e) as c, e\n",
    "where c = 1\n",
    "set e:OnlyKitEvent, \n",
    "r.startTimestamp = e.timestamp, \n",
    "r.endTimestamp = e.timestamp, \n",
    "r.activities = e.Activity\n",
    "remove e:NewKitEvent:LastKitEvent'''\n",
    "session.run(query).single()"
   ]
  },
  {
   "cell_type": "code",
   "execution_count": 732,
   "metadata": {},
   "outputs": [],
   "source": [
    "#query = f'''\n",
    "#Match (e:Entity) \n",
    "#WITH  e AS cases ORDER BY e.startTimestamp, ID(e)\n",
    "#WITH collect(cases) AS cases_list\n",
    "#UNWIND range(0, size(cases_list)-1) AS i\n",
    "#with cases_list[i] as node, i\n",
    "#Match (ev:Event) - [:CORR] -> (node)\n",
    "#set node.CaseID = node.ID + \"-CN\" + i,\n",
    "#ev.CaseID = node.ID + \"-CN\" + i\n",
    "#'''\n",
    "#session.run(query).single()"
   ]
  },
  {
   "cell_type": "code",
   "execution_count": 733,
   "metadata": {},
   "outputs": [],
   "source": [
    "query = f'''\n",
    "Match (e:Run) \n",
    "WITH  e AS cases ORDER BY e.startTimestamp, ID(e)\n",
    "WITH collect(cases) AS cases_list\n",
    "UNWIND range(0, size(cases_list)-1) AS i\n",
    "with cases_list[i] as node, i\n",
    "Match (ev:Event) - [:CORR] -> (node)\n",
    "set node.CaseID = node.ID + \"-CN\" + i,\n",
    "ev.CaseID = node.ID + \"-CN\" + i\n",
    "'''\n",
    "session.run(query).single()"
   ]
  },
  {
   "cell_type": "code",
   "execution_count": 734,
   "metadata": {},
   "outputs": [],
   "source": [
    "query = f'''match (r:Run)\n",
    "return r.CaseID, r.startTimestamp, r.endTimestamp, r.startTimestamp.month\n",
    "'''\n",
    "frame = pd.DataFrame(session.run(query).data())\n",
    "frame['r.startTimestamp'] = pd.to_datetime(frame['r.startTimestamp'], format='%Y-%m-%dT%H:%M:%S.%f%z')\n",
    "frame['r.endTimestamp'] = pd.to_datetime(frame['r.endTimestamp'], format='%Y-%m-%dT%H:%M:%S.%f%z')\n",
    "frame['durationDays'] = (frame['r.endTimestamp'] - frame['r.startTimestamp']).dt.total_seconds() / 60 / 60 / 24\n",
    "frame['durationMinutes'] = (frame['r.endTimestamp'] - frame['r.startTimestamp']).dt.total_seconds() / 60 \n",
    "for index, row in frame.iterrows():\n",
    "    query = f'''match (r:Run {{CaseID: \"{row['r.CaseID']}\"}})\n",
    "                set r.durationInMinutes = {row['durationMinutes']}\n",
    "            '''\n",
    "    session.run(query)"
   ]
  },
  {
   "cell_type": "code",
   "execution_count": 735,
   "metadata": {},
   "outputs": [
    {
     "data": {
      "text/plain": [
       "<Record e.ID='EQP-QUI.ORL.OPT-14' numberOfCycles=11>"
      ]
     },
     "execution_count": 735,
     "metadata": {},
     "output_type": "execute_result"
    }
   ],
   "source": [
    "query = f'''match (e:Entity)-[:HAS_RUN]->(r:Run)\n",
    "with count(r) as numberOfCycles, e\n",
    "set e.numberOfCycles = numberOfCycles\n",
    "return e.ID, numberOfCycles\n",
    "'''\n",
    "session.run(query).single()"
   ]
  },
  {
   "cell_type": "markdown",
   "metadata": {},
   "source": [
    "## Make Kit nodes"
   ]
  },
  {
   "cell_type": "code",
   "execution_count": 736,
   "metadata": {},
   "outputs": [
    {
     "data": {
      "text/plain": [
       "<Record id='EQP-QUI.ORL.OPT' num=1>"
      ]
     },
     "execution_count": 736,
     "metadata": {},
     "output_type": "execute_result"
    }
   ],
   "source": [
    "query = f'''match (e:Entity {{EntityType:\"Kit\"}}) - [:HAS_RUN] -> (r:Run) <- [:CORR] - (ev:Event)\n",
    "UNWIND ev.`Código` AS id\n",
    "with distinct (id), count(distinct(ev.NS)) as num, e\n",
    "merge (k:Kit {{ID :id, numberOfUnits :num}}) - [:HAS_UNIT] -> (e)\n",
    "return id, num'''\n",
    "session.run(query).single()"
   ]
  },
  {
   "cell_type": "code",
   "execution_count": 737,
   "metadata": {},
   "outputs": [],
   "source": [
    "# query = f'''MATCH (e:Event)\n",
    "# MATCH (n:Entity {{EntityType:\"Kit\"}})- [:HAS_RUN] -> (r:Run) \n",
    "# where e.KitID = n.ID\n",
    "# set n.KitID = e.`Código`'''\n",
    "# session.run(query).single()"
   ]
  },
  {
   "cell_type": "code",
   "execution_count": 738,
   "metadata": {},
   "outputs": [],
   "source": [
    "# query = f'''MATCH (n:Entity {{EntityType:\"Kit\"}}) - [:HAS_RUN] -> (r:Run) \n",
    "# Match (k:Kit)\n",
    "# where n.KitID = k.ID\n",
    "# merge (n) <- [:HAS_UNIT] - (k)\n",
    "# REMOVE n.KitID '''\n",
    "# session.run(query).single()"
   ]
  },
  {
   "cell_type": "markdown",
   "metadata": {},
   "source": [
    "## Make Container nodes"
   ]
  },
  {
   "cell_type": "code",
   "execution_count": 739,
   "metadata": {},
   "outputs": [],
   "source": [
    "query = f'''match (e:Entity {{EntityType:\"Container\"}}) - [:HAS_RUN] -> (r:Run) <- [:CORR] - (ev:Event)\n",
    "UNWIND ev.`Código` AS id\n",
    "with distinct (id), count(distinct(ev.NS)) as num, e\n",
    "merge (k:Container {{ID :id, numberOfUnits :num, isWashingMachineContainer: True}}) - [:HAS_UNIT] -> (e)\n",
    "'''\n",
    "session.run(query).single()"
   ]
  },
  {
   "cell_type": "markdown",
   "metadata": {},
   "source": [
    "## Extract the process model"
   ]
  },
  {
   "cell_type": "code",
   "execution_count": 740,
   "metadata": {},
   "outputs": [],
   "source": [
    "query = f'''MATCH ( e : Event ) WITH distinct e.Activity AS actName\n",
    "MERGE ( c : Class {{ Name:actName, Type:\"Activity\", ID: actName}})'''\n",
    "session.run(query).single()"
   ]
  },
  {
   "cell_type": "code",
   "execution_count": 741,
   "metadata": {},
   "outputs": [],
   "source": [
    "query = f'''MATCH ( c : Class ) WHERE c.Type = \"Activity\"\n",
    "MATCH ( e : Event ) WHERE c.Name = e.Activity\n",
    "MERGE ( e ) -[:OBSERVED]-> ( c )'''\n",
    "session.run(query).single()"
   ]
  },
  {
   "cell_type": "code",
   "execution_count": 742,
   "metadata": {},
   "outputs": [],
   "source": [
    "query = f'''MATCH ( c : Class ) WHERE c.Type = \"Activity\"\n",
    "MATCH ( e : Event ) WHERE c.Name = e.Activity\n",
    "match (en:Entity) <-[:CORR]- (e)\n",
    "MERGE ( en) -[:LOGGED_IN]-> ( c )'''\n",
    "session.run(query).single()"
   ]
  },
  {
   "cell_type": "code",
   "execution_count": 743,
   "metadata": {},
   "outputs": [],
   "source": [
    "query = f'''match (e:Entity)-[:HAS_RUN]->(r:Run)\n",
    "MATCH ( c1 : Class ) <-[:OBSERVED]- ( e1 : Event ) -[df:DF]-> ( e2 : Event ) -[:OBSERVED]-> ( c2 : Class )\n",
    "MATCH (e1) -[:CORR] -> (r) <-[:CORR]- (e2)\n",
    "WHERE c1.Type = c2.Type AND r.EntityType = df.EntityType\n",
    "WITH r.EntityType as EType,c1,count(df) AS df_freq,c2\n",
    "MERGE ( c1 ) -[rel2:DF_C {{EntityType:EType}}]-> ( c2 ) ON CREATE SET rel2.count=df_freq'''\n",
    "session.run(query).single()"
   ]
  },
  {
   "cell_type": "markdown",
   "metadata": {},
   "source": [
    "## Add employees"
   ]
  },
  {
   "cell_type": "code",
   "execution_count": 744,
   "metadata": {},
   "outputs": [],
   "source": [
    "query = f'''MATCH ( e : Event ) UNWIND e.Usuario AS employee \n",
    "WITH distinct employee\n",
    "MERGE ( :Employee {{ Name:employee, Type:\"Usuario\", ID: employee}})'''\n",
    "session.run(query).single()"
   ]
  },
  {
   "cell_type": "code",
   "execution_count": 745,
   "metadata": {},
   "outputs": [],
   "source": [
    "query = f'''MATCH ( m : Employee ) WHERE m.Type = \"Usuario\"\n",
    "MATCH ( e : Event ) WHERE m.Name = e.Usuario\n",
    "CREATE ( e ) <-[:WORKED_ON]- ( m )'''\n",
    "session.run(query).single()"
   ]
  },
  {
   "cell_type": "code",
   "execution_count": 746,
   "metadata": {},
   "outputs": [],
   "source": [
    "query = f'''MATCH (emp:Employee)\n",
    "MATCH (emp)-[:WORKED_ON]->(e)\n",
    "WITH emp, e AS nodes ORDER BY e.timestamp, ID(e)\n",
    "WITH emp, collect(nodes) AS event_node_list\n",
    "UNWIND range(0, size(event_node_list)-2) AS i\n",
    "WITH emp, event_node_list[i] AS e1, event_node_list[i+1] AS e2\n",
    "MERGE (e1)-[df:DF_EMP {{ID:emp.ID, startTimestamp: e1.timestamp, endTimestamp: e2.timestamp}}]->(e2)\n",
    "'''\n",
    "session.run(query).single()"
   ]
  },
  {
   "cell_type": "markdown",
   "metadata": {},
   "source": [
    "## Create directly follows for activities related to a case"
   ]
  },
  {
   "cell_type": "code",
   "execution_count": 747,
   "metadata": {},
   "outputs": [],
   "source": [
    "query = f'''match ( e1 : Event ) -[df:DF]-> ( e2 : Event )\n",
    "WHERE e1.CaseID = e2.CaseID\n",
    "MERGE ( e1 ) -[rel:DF_CASE {{CaseID: e1.CaseID}}]-> ( e2 )'''\n",
    "session.run(query).single()"
   ]
  },
  {
   "cell_type": "markdown",
   "metadata": {},
   "source": [
    "## Add washing machines"
   ]
  },
  {
   "cell_type": "code",
   "execution_count": 748,
   "metadata": {},
   "outputs": [],
   "source": [
    "query=f'''\n",
    "MATCH (e:Event) UNWIND e.additionalInfo5 AS rack\n",
    "WITH DISTINCT rack, SPLIT(rack, ' - ') AS result\n",
    "with rack, result, apoc.text.regexGroups(result[0], '([0-9]+)')[0][0] AS rackNumber\n",
    "MERGE (:Rack {{ID:rack, name: result[0], number:rackNumber, activity: result[1], EntityType:\"Rack\"}})\n",
    "'''\n",
    "session.run(query).single()"
   ]
  },
  {
   "cell_type": "code",
   "execution_count": 749,
   "metadata": {},
   "outputs": [
    {
     "name": "stdout",
     "output_type": "stream",
     "text": [
      "[]\n"
     ]
    }
   ],
   "source": [
    "flag = True\n",
    "while flag:\n",
    "    query = f'''match (e:Event) - [:DF_CASE] -> (e2:Event)\n",
    "where e.additionalInfo5 is null \n",
    " and e.Activity = 'Cargado en carro L+D'\n",
    "   and e2.Activity = 'Carga L+D iniciada'\n",
    "    and e2.additionalInfo5 is not null\n",
    "set e.additionalInfo5 = e2.additionalInfo5\n",
    "'''\n",
    "    result = session.run(query).data()\n",
    "    print(result)\n",
    "    if(result == []):\n",
    "        flag = False\n",
    "        break"
   ]
  },
  {
   "cell_type": "code",
   "execution_count": 750,
   "metadata": {},
   "outputs": [
    {
     "name": "stdout",
     "output_type": "stream",
     "text": [
      "[]\n"
     ]
    }
   ],
   "source": [
    "flag = True\n",
    "while flag:\n",
    "    query = f'''match (e:Event) - [:DF_CASE] -> (e2:Event)\n",
    "where e2.additionalInfo5 is null \n",
    " and e.Activity = 'Cargado en carro L+D'\n",
    "   and e2.Activity = 'Carga L+D iniciada'\n",
    "    and e.additionalInfo5 is not null\n",
    "set e2.additionalInfo5 = e.additionalInfo5\n",
    "'''\n",
    "    result = session.run(query).data()\n",
    "    print(result)\n",
    "    if(result == []):\n",
    "        flag = False\n",
    "        break"
   ]
  },
  {
   "cell_type": "code",
   "execution_count": 751,
   "metadata": {},
   "outputs": [],
   "source": [
    "query=f'''\n",
    "MATCH (e:Event) \n",
    "where e.Activity = \"Carga L+D iniciada\" or e.Activity = \"Carga L+D liberada\"\n",
    "UNWIND e.additionalInfo1 AS wm\n",
    "WITH DISTINCT wm, SPLIT(wm, ' - ') AS result, e\n",
    "MERGE (:WashingMachine {{activity: rtrim(result[0]), machine: COALESCE(rtrim(result[1]), rtrim(e.additionalInfo2)), EntityType:\"Washing Machine\"}})\n",
    "'''\n",
    "session.run(query).single()"
   ]
  },
  {
   "cell_type": "code",
   "execution_count": 752,
   "metadata": {},
   "outputs": [],
   "source": [
    "query = f'''\n",
    "Match (r:Rack) \n",
    "Match (w:WashingMachine)\n",
    "MATCH (e:Event) \n",
    "where e.Activity = \"Carga L+D iniciada\" or e.Activity = \"Carga L+D liberada\"\n",
    "with SPLIT(e.additionalInfo1, ' - ') AS wm, e.additionalInfo5 as rack, r, w\n",
    "where rack = r.ID and w.activity = wm[0]\n",
    "merge (r) -[:RELATED_TO] -> (w)\n",
    "'''\n",
    "session.run(query).single()"
   ]
  },
  {
   "cell_type": "code",
   "execution_count": 753,
   "metadata": {},
   "outputs": [
    {
     "name": "stdout",
     "output_type": "stream",
     "text": [
      "[]\n"
     ]
    }
   ],
   "source": [
    "flag = True\n",
    "while flag:\n",
    "    query = f'''match (e:Event) - [:DF_CASE] -> (e2:Event)\n",
    "where e.additionalInfo1 is null \n",
    " and e2.Activity = 'Carga L+D liberada'\n",
    "   and e.Activity = 'Carga L+D iniciada'\n",
    "    and e2.additionalInfo1 is not null\n",
    "set e.additionalInfo1 = e2.additionalInfo1,\n",
    "e.additionalInfo2 = e2.additionalInfo2,\n",
    "e.additionalInfo5 = e2.additionalInfo5\n",
    "'''\n",
    "    result = session.run(query).data()\n",
    "    print(result)\n",
    "    if(result == []):\n",
    "        flag = False\n",
    "        break\n"
   ]
  },
  {
   "cell_type": "code",
   "execution_count": 754,
   "metadata": {},
   "outputs": [
    {
     "name": "stdout",
     "output_type": "stream",
     "text": [
      "[]\n"
     ]
    }
   ],
   "source": [
    "flag = True\n",
    "while flag:\n",
    "    query = f'''match (e:Event) - [:DF_CASE] -> (e2:Event)\n",
    "where e2.additionalInfo1 is null \n",
    " and e2.Activity = 'Carga L+D liberada'\n",
    "  and e.Activity = 'Carga L+D iniciada'\n",
    "    and e.additionalInfo1 is not null\n",
    "set e2.additionalInfo1 = e.additionalInfo1,\n",
    "e2.additionalInfo2 = e.additionalInfo2,\n",
    "e2.additionalInfo5 = e.additionalInfo5\n",
    "'''\n",
    "    result = session.run(query).data()\n",
    "    print(result)\n",
    "    if(result == []):\n",
    "        flag = False\n",
    "        break"
   ]
  },
  {
   "cell_type": "code",
   "execution_count": 755,
   "metadata": {},
   "outputs": [],
   "source": [
    "query = f'''Match (w:WashingMachine)\n",
    "MATCH (e:Event) \n",
    "where e.Activity = \"Carga L+D iniciada\" or e.Activity = \"Carga L+D liberada\"\n",
    "with SPLIT(e.additionalInfo1, ' - ') AS wm, w, e\n",
    "where w.activity = wm[0]\n",
    "create (e) -[:WASHED_IN {{timestamp: e.timestamp}}] -> (w)\n",
    "'''\n",
    "session.run(query).single()"
   ]
  },
  {
   "cell_type": "code",
   "execution_count": 756,
   "metadata": {},
   "outputs": [],
   "source": [
    "query = f'''Match (r:Rack)\n",
    "MATCH (e:Event) \n",
    "where e.Activity = \"Carga L+D iniciada\" or e.Activity = \"Carga L+D liberada\"\n",
    "with e.additionalInfo5 as rack, r, e\n",
    "where rack = r.ID\n",
    "create (e) -[:WASHED_ON {{timestamp: e.timestamp}}] -> (r)'''\n",
    "session.run(query).single()"
   ]
  },
  {
   "cell_type": "markdown",
   "metadata": {},
   "source": [
    "## Add sterilization machines"
   ]
  },
  {
   "cell_type": "code",
   "execution_count": 757,
   "metadata": {},
   "outputs": [],
   "source": [
    "query=f'''MATCH (e:Event) \n",
    "where e.Activity = \"Composición de cargas\" or e.Activity = \"Carga de esterilizador liberada\"\n",
    "UNWIND e.additionalInfo1 AS sm\n",
    "WITH DISTINCT sm, SPLIT(sm, ' - ') AS result, e\n",
    "MERGE (:SterilizationMachine {{activity: rtrim(result[0]), machine: rtrim(result[1]), EntityType:\"Sterilization Machine\",\n",
    " type: \n",
    " case \n",
    " when rtrim(toLower(result[1])) in ['amsco vpro', 'amsco eagle'] then 'Low Temperature Sterilization'\n",
    "     else 'High Temperature Sterilization' end}})\n",
    "     '''\n",
    "session.run(query).single()"
   ]
  },
  {
   "cell_type": "code",
   "execution_count": 758,
   "metadata": {},
   "outputs": [],
   "source": [
    "flag = True\n",
    "while flag:\n",
    "    query = f'''match (e:Event) - [:DF_CASE] -> (e2:Event)\n",
    "where e2.additionalInfo1 is null\n",
    " and e2.Activity = 'Carga de esterilizador liberada'\n",
    "   and e.Activity = 'Composición de cargas'\n",
    "    and e.additionalInfo1 is not null\n",
    "set e2.additionalInfo1 = e.additionalInfo1,\n",
    "e2.additionalInfo2 = e.additionalInfo2\n",
    "'''\n",
    "    result = session.run(query).data()\n",
    "    if(result == []):\n",
    "        flag = False\n",
    "        break\n"
   ]
  },
  {
   "cell_type": "code",
   "execution_count": 759,
   "metadata": {},
   "outputs": [],
   "source": [
    "flag = True\n",
    "while flag:\n",
    "    query = f'''match (e:Event) - [:DF_CASE] -> (e2:Event)\n",
    "where e.additionalInfo1 is null\n",
    " and e2.Activity = 'Carga de esterilizador liberada'\n",
    "  and e.Activity = 'Composición de cargas'\n",
    "   and e2.additionalInfo1 is not null\n",
    "set e.additionalInfo1 = e2.additionalInfo1,\n",
    "e.additionalInfo2 = e2.additionalInfo2\n",
    "'''\n",
    "    result = session.run(query).data()\n",
    "    if(result == []):\n",
    "        flag = False\n",
    "        break\n"
   ]
  },
  {
   "cell_type": "code",
   "execution_count": 760,
   "metadata": {},
   "outputs": [],
   "source": [
    "query = f'''Match (s:SterilizationMachine)\n",
    "MATCH (e:Event) \n",
    "where e.Activity = \"Composición de cargas\" or e.Activity = \"Carga de esterilizador liberada\"\n",
    "with SPLIT(e.additionalInfo1, ' - ') as sm, s, e\n",
    "where rtrim(sm[1]) = s.machine\n",
    "merge (e) -[:STERILIZED_IN {{timestamp: e.timestamp}}] -> (s)\n",
    "'''\n",
    "session.run(query).single()"
   ]
  },
  {
   "cell_type": "markdown",
   "metadata": {},
   "source": [
    "## Create directly follows between cases"
   ]
  },
  {
   "cell_type": "code",
   "execution_count": 761,
   "metadata": {},
   "outputs": [],
   "source": [
    "query = f'''match ( e1 : Event ) -[df:DF]-> ( e2 : Event )\n",
    "WHERE e1.CaseID <> e2.CaseID\n",
    "MERGE (e1) -[rel:DF_CYCLE {{PreviousCaseID: e1.CaseID, EndActivity: e1.Activity, endTimestamp: e1.timestamp,\n",
    " NextCaseID: e2.CaseID, StartActivity: e2.Activity, startTimestamp: e2.timestamp, \n",
    "  DurationBetweenSterilizations: Duration.between(e1.timestamp, e2.timestamp).minutes, KitID: e1.KitID}}]-> (e2)'''\n",
    "session.run(query).single()"
   ]
  },
  {
   "cell_type": "markdown",
   "metadata": {},
   "source": [
    "## Batch activities"
   ]
  },
  {
   "cell_type": "code",
   "execution_count": 762,
   "metadata": {},
   "outputs": [],
   "source": [
    "#TODO check batches timestamp and the entry time for entrada\n",
    "#TODO make separate batching relation for washing machines and sterilization machines\n",
    "#TODO Question, should I batch activities with employee included or batch them as activity no matter the employee doing the job?\n",
    "\n",
    "#query=f'''\n",
    "#MATCH (e: Event)\n",
    "#WITH e AS nodes ORDER BY e.timestamp, ID(e)\n",
    "#WITH collect(nodes) AS event_node_list\n",
    "#UNWIND range(0, size(event_node_list)-2) AS i\n",
    "#WITH event_node_list[i] AS e1, event_node_list[i+1] AS e2\n",
    "#WITH e1, e2, duration.between(e1.timestamp , e2.timestamp).minutes AS time_diff\n",
    "#SET e1.batchID = CASE \n",
    "#    WHEN time_diff < 2 AND e1.Usuario = e2.Usuario AND e1.batchID IS NULL THEN \"b\" + ID(e1)\n",
    "#    ELSE e1.batchID END,\n",
    "#    e2.batchID = CASE \n",
    "#    WHEN time_diff < 2 AND e1.Usuario = e2.Usuario AND e1.batchID IS NOT NULL THEN e1.batchID\n",
    "#    ELSE e2.batchID END\n",
    "#'''\n",
    "#session.run(query).single()"
   ]
  },
  {
   "cell_type": "code",
   "execution_count": 763,
   "metadata": {},
   "outputs": [
    {
     "data": {
      "text/plain": [
       "<neo4j._sync.work.result.Result at 0x147b9ca90>"
      ]
     },
     "execution_count": 763,
     "metadata": {},
     "output_type": "execute_result"
    }
   ],
   "source": [
    "query=f'''MATCH (e: Event)\n",
    "where e.Activity in ['Carga L+D iniciada', 'Carga L+D liberada', 'Composición de cargas', 'Carga de esterilizador liberada', 'Cargado en carro L+D']\n",
    "WITH e AS nodes ORDER BY e.timestamp, ID(e)\n",
    "WITH collect(nodes) AS event_node_list\n",
    "UNWIND range(0, size(event_node_list)-2) AS i\n",
    "WITH event_node_list[i] AS e1, event_node_list[i+1] AS e2\n",
    "WITH e1, e2, duration.between(e1.timestamp , e2.timestamp).minutes AS time_diff\n",
    "SET e1.batchID = \n",
    "CASE \n",
    "    WHEN e1.batchID IS not NULL \n",
    "        THEN e1.batchID \n",
    "    ELSE \n",
    "        \"b\" + ID(e1)\n",
    "            END,\n",
    "    e2.batchID = \n",
    "CASE \n",
    "    WHEN time_diff < 3 AND (e1) - [:DF_EMP] -> (e2) \n",
    "        THEN e1.batchID\n",
    "    WHEN time_diff >= 3 AND (e1) - [:DF_EMP] -> (e2) and e2.batchID is null\n",
    "        THEN \"b\" + ID(e2)\n",
    "    else \n",
    "        e2.batchID\n",
    "            END'''\n",
    "session.run(query)"
   ]
  },
  {
   "cell_type": "code",
   "execution_count": 764,
   "metadata": {},
   "outputs": [
    {
     "data": {
      "text/plain": [
       "<neo4j._sync.work.result.Result at 0x15f33fd90>"
      ]
     },
     "execution_count": 764,
     "metadata": {},
     "output_type": "execute_result"
    }
   ],
   "source": [
    "query=f'''MATCH (e: Event)\n",
    "where e.Activity in ['Carga L+D iniciada', 'Carga L+D liberada', 'Composición de cargas', 'Carga de esterilizador liberada', 'Cargado en carro L+D']\n",
    "SET e.batchID = \"b\" + ID(e)\n",
    "'''\n",
    "session.run(query)"
   ]
  },
  {
   "cell_type": "code",
   "execution_count": 765,
   "metadata": {},
   "outputs": [
    {
     "data": {
      "text/plain": [
       "<neo4j._sync.work.result.Result at 0x15e55ffd0>"
      ]
     },
     "execution_count": 765,
     "metadata": {},
     "output_type": "execute_result"
    }
   ],
   "source": [
    "query=f'''MATCH (e: Event)\n",
    "where e.Activity in ['Carga L+D iniciada', 'Carga L+D liberada', 'Composición de cargas', 'Carga de esterilizador liberada', 'Cargado en carro L+D']\n",
    "WITH e AS nodes ORDER BY e.timestamp, ID(e)\n",
    "WITH collect(nodes) AS event_node_list\n",
    "UNWIND range(0, size(event_node_list)-2) AS i\n",
    "WITH event_node_list[i] AS e1, event_node_list[i+1] AS e2\n",
    "SET e2.batchID = \n",
    "CASE \n",
    "    WHEN duration.between(e1.timestamp , e2.timestamp).minutes < 3 AND (e1) - [:DF_EMP] -> (e2) \n",
    "        THEN e1.batchID\n",
    "    else \n",
    "        e2.batchID\n",
    "            END'''\n",
    "session.run(query)"
   ]
  },
  {
   "cell_type": "code",
   "execution_count": 766,
   "metadata": {},
   "outputs": [
    {
     "data": {
      "text/plain": [
       "<neo4j._sync.work.result.Result at 0x15f31d700>"
      ]
     },
     "execution_count": 766,
     "metadata": {},
     "output_type": "execute_result"
    }
   ],
   "source": [
    "query=f'''MATCH (e: Event)\n",
    "where e.Activity in ['Comisionado', 'Producción montada', 'Entrada Material Sucio', 'Montaje']\n",
    "SET e.batchID = \"b\" + ID(e)\n",
    "'''\n",
    "session.run(query)"
   ]
  },
  {
   "cell_type": "code",
   "execution_count": 767,
   "metadata": {},
   "outputs": [
    {
     "data": {
      "text/plain": [
       "<neo4j._sync.work.result.Result at 0x147453bb0>"
      ]
     },
     "execution_count": 767,
     "metadata": {},
     "output_type": "execute_result"
    }
   ],
   "source": [
    "query=f'''MATCH (e: Event)\n",
    "where e.Activity in ['Comisionado', 'Producción montada', 'Entrada Material Sucio', 'Montaje']\n",
    "WITH e AS nodes ORDER BY e.timestamp, ID(e)\n",
    "WITH collect(nodes) AS event_node_list\n",
    "UNWIND range(0, size(event_node_list)-2) AS i\n",
    "WITH event_node_list[i] AS e1, event_node_list[i+1] AS e2\n",
    "SET e2.batchID = \n",
    "CASE \n",
    "    WHEN duration.between(e1.timestamp , e2.timestamp).minutes < 3 AND (e1) - [:DF_EMP] - (e2) \n",
    "        THEN e1.batchID\n",
    "    else \n",
    "        e2.batchID\n",
    "            END'''\n",
    "session.run(query)"
   ]
  },
  {
   "cell_type": "code",
   "execution_count": 768,
   "metadata": {},
   "outputs": [
    {
     "data": {
      "text/plain": [
       "<neo4j._sync.work.result.Result at 0x15eaa39a0>"
      ]
     },
     "execution_count": 768,
     "metadata": {},
     "output_type": "execute_result"
    }
   ],
   "source": [
    "query=f'''MATCH (e:Event) \n",
    "UNWIND e.batchID AS id_val\n",
    "WITH DISTINCT id_val\n",
    "MERGE (:Batch {{ID:id_val}})'''\n",
    "session.run(query)"
   ]
  },
  {
   "cell_type": "code",
   "execution_count": 769,
   "metadata": {},
   "outputs": [
    {
     "data": {
      "text/plain": [
       "<neo4j._sync.work.result.Result at 0x15f685ee0>"
      ]
     },
     "execution_count": 769,
     "metadata": {},
     "output_type": "execute_result"
    }
   ],
   "source": [
    "query=f'''MATCH (e:Event) \n",
    "MATCH (b:Batch) \n",
    "WHERE e.batchID = b.ID\n",
    "merge (e)-[:BATCHED]->(b)'''\n",
    "session.run(query)"
   ]
  },
  {
   "cell_type": "code",
   "execution_count": 770,
   "metadata": {},
   "outputs": [
    {
     "data": {
      "text/plain": [
       "<neo4j._sync.work.result.Result at 0x1474536a0>"
      ]
     },
     "execution_count": 770,
     "metadata": {},
     "output_type": "execute_result"
    }
   ],
   "source": [
    "query = f'''MATCH (e:Event)-[:BATCHED]->(b:Batch)\n",
    "WITH e.timestamp AS timestamp, b\n",
    "with MIN(timestamp) AS minTimestamp, MAX(timestamp) AS maxTimestamp, b\n",
    "set b.startTimestamp = minTimestamp, b.endTimestamp = maxTimestamp'''\n",
    "session.run(query)"
   ]
  },
  {
   "cell_type": "code",
   "execution_count": 771,
   "metadata": {},
   "outputs": [],
   "source": [
    "#query = f'''match (s:SterilizationMachine) <- [si:STERILIZED_IN] - (e:Event) - [:DF_CASE] -> (e2:Event)\n",
    "#where e2.additionalInfo1 is null and e2.Activity = 'Carga de esterilizador liberada' and  e.Activity = 'Composición de cargas'\n",
    "#set e2.additionalInfo1 = e.additionalInfo1,\n",
    "#e2.additionalInfo2 = e.additionalInfo2\n",
    "#create (e2) -[:STERILIZED_IN {{timestamp: e2.timestamp}}] -> (s)'''\n",
    "#session.run(query)"
   ]
  },
  {
   "cell_type": "code",
   "execution_count": 772,
   "metadata": {},
   "outputs": [],
   "source": [
    "#\n",
    "# query=f'''MATCH (e: Event)\n",
    "# where e.Activity in ['Composición de cargas', 'Carga de esterilizador liberada']\n",
    "# WITH e AS nodes ORDER BY e.timestamp, ID(e)\n",
    "# WITH collect(nodes) AS event_node_list\n",
    "# UNWIND range(0, size(event_node_list)-2) AS i\n",
    "# WITH event_node_list[i] AS e1, event_node_list[i+1] AS e2\n",
    "# where e1.batchID = e2.batchID and e1.additionalInfo1 is null and e2.additionalInfo1 is not null\n",
    "# set e1.additionalInfo1 = e2.additionalInfo1'''\n",
    "# session.run(query).single()"
   ]
  },
  {
   "cell_type": "markdown",
   "metadata": {},
   "source": [
    "## Create Contained Kits"
   ]
  },
  {
   "cell_type": "code",
   "execution_count": 773,
   "metadata": {},
   "outputs": [],
   "source": [
    "query = f'''match (e:NewKitEvent {{Activity: \"Montaje\"}})\n",
    "WITH collect(distinct e.KitID) as kids \n",
    "UNWIND range(0, size(kids)-1) AS i\n",
    "with kids[i] as kid\n",
    "match (k:Kit) - [:HAS_UNIT] -> (e:Entity {{ID: kid}})\n",
    "set k.isContainedKit = True'''\n",
    "session.run(query).single()"
   ]
  },
  {
   "cell_type": "code",
   "execution_count": 774,
   "metadata": {},
   "outputs": [],
   "source": [
    "query = f'''match (k:Kit {{isContainedKit: True}}) - [:HAS_UNIT] -> (e:Entity) - [:HAS_RUN] -> (r:Run)\n",
    "where (r.activities contains 'Entrada Material Sucio' \n",
    "or r.activities contains 'Cargado en carro L+D' \n",
    "or r.activities contains 'Carga L+D iniciada' \n",
    "or r.activities contains 'Carga L+D liberada')\n",
    "set k.isContainedKit = False'''\n",
    "session.run(query).single()"
   ]
  },
  {
   "cell_type": "code",
   "execution_count": 775,
   "metadata": {},
   "outputs": [],
   "source": [
    "query = f'''match (k:Kit {{isContainedKit: True}}) - [:HAS_UNIT] -> (e:Entity) <- [:CORR] - (ev:Event)\n",
    "where (ev.Activity = 'Entrada Material Sucio' \n",
    "or ev.Activity = 'Cargado en carro L+D' \n",
    "or ev.Activity = 'Carga L+D iniciada'\n",
    "or ev.Activity = 'Carga L+D liberada')\n",
    "set k.isContainedKit = False'''\n",
    "session.run(query).single()"
   ]
  },
  {
   "cell_type": "markdown",
   "metadata": {},
   "source": [
    "## Relate Kits to Containers"
   ]
  },
  {
   "cell_type": "code",
   "execution_count": 776,
   "metadata": {},
   "outputs": [],
   "source": [
    "flag = True\n",
    "while flag:\n",
    "    query = f'''match (c:Container)\n",
    "with c.ID as text\n",
    "with split(text,'-')[1] as part2\n",
    "with collect(distinct part2) as kcol\n",
    "match (k:Kit {{isContainedKit: true}})\n",
    "WITH k.ID AS text, kcol\n",
    "WITH SPLIT(text, '-')[0] AS part1,\n",
    "       SPLIT(SPLIT(text, '-')[1], '.')[0] + '.' + SPLIT(SPLIT(text, '-')[1], '.')[1] AS part2,\n",
    "       SPLIT(SPLIT(text, '-')[1], '.')[2] AS part3, kcol\n",
    "where part2 in kcol\n",
    "unwind part2 as kid\n",
    "with distinct kid\n",
    "match (k:Kit {{isContainedKit: true}}) - [:HAS_UNIT] -> (e:Entity) - [:HAS_RUN] -> (r:Run)\n",
    "WHERE k.ID contains kid and r.durationInMinutes > 0 and r.containerCaseID is null\n",
    "match (c:Container) - [:HAS_UNIT] -> (e2:Entity) - [:HAS_RUN] -> (r2:Run)\n",
    "where c.ID contains kid and r2.durationInMinutes > 0 AND r.startTimestamp >= r2.endTimestamp\n",
    "with r, r2, k, c\n",
    "ORDER BY r2.endTimestamp desc\n",
    "LIMIT 1\n",
    "set r.containerCaseID = r2.CaseID, \n",
    "k.isLinked = true,\n",
    "c.isLinked = true\n",
    "MERGE (r2)-[:CONTAIN_RUN]->(r)\n",
    "return r.CaseID'''\n",
    "    result = session.run(query).data()\n",
    "    if(result == []):\n",
    "        flag = False\n",
    "        break"
   ]
  },
  {
   "cell_type": "code",
   "execution_count": 777,
   "metadata": {},
   "outputs": [],
   "source": [
    "flag = True\n",
    "while flag:\n",
    "    query = f'''\n",
    "match (c:Container)\n",
    "where c.ID =~ '^[^.]*$'\n",
    "with c.ID as text\n",
    "with split(text, '-')[1] as part2\n",
    "with collect(distinct part2) as kcol\n",
    "match (k:Kit {{isContainedKit: true}})\n",
    "where k.ID =~ '^[^.]*\\.[^.]*$'\n",
    "WITH k.ID AS text, kcol\n",
    "WITH split(split(text, '-')[1], '.')[0] AS part2, kcol\n",
    "where part2 in kcol\n",
    "unwind part2 as kid\n",
    "with distinct kid\n",
    "match (k:Kit {{isContainedKit: true}}) - [:HAS_UNIT] -> (e:Entity) - [:HAS_RUN] -> (r:Run)\n",
    "WHERE split(split(k.ID, '-')[1], '.')[0] = kid \n",
    "and r.durationInMinutes > 0 \n",
    "and r.containerCaseID is null \n",
    "and split(r.activities, ', ')[0] = \"Montaje\"\n",
    "match (c:Container) - [:HAS_UNIT] -> (e2:Entity) - [:HAS_RUN] -> (r2:Run)\n",
    "where split(c.ID, '-')[1] contains kid \n",
    "and r2.durationInMinutes > 0 \n",
    "AND r.startTimestamp >= r2.endTimestamp\n",
    "and split(r2.activities, ', ')[size(split(r2.activities, ', ')) - 1] = \"Carga L+D liberada\" \n",
    "with r, r2, k, c\n",
    "ORDER BY r2.endTimestamp desc\n",
    "LIMIT 1\n",
    "set r.containerCaseID = r2.CaseID,\n",
    "k.isLinked = true,\n",
    "c.isLinked = true\n",
    "MERGE (r2)-[:CONTAIN_RUN]->(r)\n",
    "return r.CaseID\n",
    "'''\n",
    "    result = session.run(query).data()\n",
    "    if(result == []):\n",
    "        flag = False\n",
    "        break"
   ]
  },
  {
   "cell_type": "code",
   "execution_count": 778,
   "metadata": {},
   "outputs": [],
   "source": [
    "# flag = True\n",
    "# while flag:\n",
    "#     query = f'''\n",
    "# match (k:Kit {{isContainedKit: true}})\n",
    "# where k.ID =~ '^[^.]*\\.[^.]*$'\n",
    "# WITH k.ID AS text\n",
    "# WITH split(split(text, '-')[1], '.')[0] AS part2\n",
    "# unwind part2 as kid\n",
    "# with distinct kid\n",
    "# match (k:Kit {{isContainedKit: true}}) - [:HAS_UNIT] -> (e:Entity) - [:HAS_RUN] -> (r:Run)\n",
    "# WHERE split(split(k.ID, '-')[1], '.')[0] = kid \n",
    "# and r.durationInMinutes > 0 \n",
    "# and r.containerCaseID is null \n",
    "# and split(r.activities, ', ')[0] = \"Montaje\"\n",
    "# match (c:Container) - [:HAS_UNIT] -> (e2:Entity) - [:HAS_RUN] -> (r2:Run)\n",
    "# where c.ID =~ '^[^.]*$' and split(c.ID, '-')[1] contains kid \n",
    "# and r2.durationInMinutes > 0 \n",
    "# AND r.startTimestamp >= r2.endTimestamp\n",
    "# and split(r2.activities, ', ')[size(split(r2.activities, ', ')) - 1] = \"Carga L+D liberada\" \n",
    "# with r, r2, k, c\n",
    "# ORDER BY r2.endTimestamp desc\n",
    "# LIMIT 1\n",
    "# set r.containerCaseID = r2.CaseID,\n",
    "# k.isLinked = true, \n",
    "# c.isLinked = true\n",
    "# MERGE (r2)-[:CONTAIN_RUN]->(r)\n",
    "# return r.CaseID\n",
    "# '''\n",
    "#     result = session.run(query).data()\n",
    "#     print(result)\n",
    "#     if(result == []):\n",
    "#         flag = False\n",
    "#         break"
   ]
  },
  {
   "cell_type": "code",
   "execution_count": 779,
   "metadata": {},
   "outputs": [],
   "source": [
    "# query = f'''MATCH p=(c:Container {{isTest:True}}) - [:HAS_UNIT] -> (:Entity) - [:HAS_RUN] -> (r2:Run)-[cr:CONTAIN_RUN] ->(r:Run) <- [:HAS_RUN] - (:Entity) <- [:HAS_UNIT] -(k:Kit {{isTest:True}}) \n",
    "# remove c.isTest, k.isTest, r.isTest, r2.isTest , r.containerCaseID, k.isLinked, c.isLinked\n",
    "# delete cr'''\n",
    "# session.run(query)"
   ]
  },
  {
   "cell_type": "code",
   "execution_count": 780,
   "metadata": {},
   "outputs": [],
   "source": [
    "# flag = True\n",
    "# while flag:\n",
    "#     query = f'''\n",
    "# match (k:Kit {{isContainedKit: true}})\n",
    "# where k.ID =~ '^[^.]*\\.[^.]*\\.[^.]*$'\n",
    "# WITH k.ID AS text\n",
    "# WITH split(split(text, '-')[1], '.')[1] AS part2\n",
    "# unwind part2 as kid\n",
    "# with distinct kid\n",
    "# match (k:Kit {{isContainedKit: true}}) - [:HAS_UNIT] -> (e:Entity) - [:HAS_RUN] -> (r:Run)\n",
    "# WHERE split(split(k.ID, '-')[1], '.')[1] = kid \n",
    "# and r.durationInMinutes > 0 \n",
    "# and r.containerCaseID is null \n",
    "# and split(r.activities, ', ')[0] = \"Montaje\"\n",
    "# match (c:Container) - [:HAS_UNIT] -> (e2:Entity) - [:HAS_RUN] -> (r2:Run)\n",
    "# where c.ID =~ '^[^.]*$' and split(c.ID, '-')[1] contains kid \n",
    "# and r2.durationInMinutes > 0 \n",
    "# AND r.startTimestamp >= r2.endTimestamp\n",
    "# and split(r2.activities, ', ')[size(split(r2.activities, ', ')) - 1] = \"Carga L+D liberada\" \n",
    "# with r, r2, k, c\n",
    "# ORDER BY r2.endTimestamp desc\n",
    "# LIMIT 1\n",
    "# set r.containerCaseID = r2.CaseID, r.isTest = true,\n",
    "# k.isLinked = true, k.isTest = true,\n",
    "# c.isLinked = true, c.isTest = true\n",
    "# MERGE (r2)-[:CONTAIN_RUN {{isTest:true}}]->(r)\n",
    "# return r.CaseID\n",
    "# '''\n",
    "#     result = session.run(query).data()\n",
    "#     print(result)\n",
    "#     if(result == []):\n",
    "#         flag = False\n",
    "#         break"
   ]
  },
  {
   "cell_type": "code",
   "execution_count": 781,
   "metadata": {},
   "outputs": [],
   "source": [
    "def group_consecutive_ones(row):\n",
    "    start = None\n",
    "    prevIsKit = True\n",
    "    cont_records1 = pd.DataFrame(columns=['CaseID'])\n",
    "    non_cont_records1 = pd.DataFrame(columns=['CaseID'])\n",
    "    for i, value in enumerate(row):\n",
    "        if value.startswith(\"CONT\") and prevIsKit and start is None:\n",
    "            start = i\n",
    "            prevIsKit = False\n",
    "            cont_records1 = cont_records1.append({'CaseID': value}, ignore_index=True)\n",
    "        elif value.startswith(\"CONT\") and not prevIsKit and start is not None:\n",
    "            cont_records1 = cont_records1.append({'CaseID': value}, ignore_index=True)\n",
    "        elif value.startswith(\"CONT\") and prevIsKit and start is not None:\n",
    "            while not non_cont_records1.empty:\n",
    "                selected_row = non_cont_records1.sample(n=1)\n",
    "                selected_cont_records1 = cont_records1.sample(n=1, replace=True)\n",
    "                non_cont_records1 = non_cont_records1.drop(selected_row.index)\n",
    "                query = f'''match (k:Kit {{isContainedKit: true}}) - [:HAS_UNIT] -> (e:Entity) - [:HAS_RUN] -> (r:Run {{CaseID: \"{selected_row['CaseID'].values[0]}\"}})\n",
    "                            match (c:Container) - [:HAS_UNIT] -> (e2:Entity) - [:HAS_RUN] -> (r2:Run {{CaseID: \"{selected_cont_records1['CaseID'].values[0]}\"}})\n",
    "                            with r, r2, k, c\n",
    "                            set r.containerCaseID = r2.CaseID,\n",
    "                            k.isLinked = true, \n",
    "                            c.isLinked = true\n",
    "                            MERGE (r2)-[:CONTAIN_RUN]->(r)'''\n",
    "                session.run(query)\n",
    "            start = None\n",
    "            prevIsKit = True\n",
    "            cont_records1 = pd.DataFrame(columns=['CaseID'])\n",
    "            cont_records1 = cont_records1.append({'CaseID': value}, ignore_index=True)\n",
    "        elif not value.startswith(\"CONT\"):\n",
    "            prevIsKit = True\n",
    "            non_cont_records1 = non_cont_records1.append({'CaseID': value}, ignore_index=True)\n"
   ]
  },
  {
   "cell_type": "code",
   "execution_count": 782,
   "metadata": {},
   "outputs": [],
   "source": [
    "query = f'''\n",
    "match (k:Kit {{isContainedKit: true}}) - [:HAS_UNIT] -> (e:Entity) - [:HAS_RUN] -> (r:Run)\n",
    "WHERE r.durationInMinutes > 0 and r.containerCaseID is null and split(r.activities, ', ')[0] = \"Montaje\"\n",
    "return r.CaseID, r.activities, r.startTimestamp, r.endTimestamp\n",
    "union\n",
    "match (c:Container) - [:HAS_UNIT] -> (e:Entity) - [:HAS_RUN] -> (r:Run)\n",
    "where c.isLinked is null and r.durationInMinutes > 0 and split(r.activities, ', ')[size(split(r.activities, ', ')) - 1] = \"Carga L+D liberada\"\n",
    "return r.CaseID, r.activities, r.startTimestamp, r.endTimestamp\n",
    "ORDER BY r.startTimestamp\n",
    "'''\n",
    "result = session.run(query)\n",
    "records = [record.values() for record in result]\n",
    "columns = result.keys()\n",
    "df = pd.DataFrame(records, columns=columns)\n",
    "df['r.startTimestamp'] = pd.to_datetime(df['r.startTimestamp'], format='%Y-%m-%dT%H:%M:%S.%f%z')\n",
    "df['r.endTimestamp'] = pd.to_datetime(df['r.endTimestamp'], format='%Y-%m-%dT%H:%M:%S.%f%z')\n",
    "df = df.sort_values('r.startTimestamp')\n",
    "group_consecutive_ones(df['r.CaseID'])"
   ]
  },
  {
   "cell_type": "code",
   "execution_count": 783,
   "metadata": {},
   "outputs": [],
   "source": [
    "query = f'''MATCH p=(e:LastKitEvent) - [:CORR] -> (r1:Run) - [r:CONTAIN_RUN]-> (r2:Run) <- [:CORR] - (e2:NewKitEvent) \n",
    "            create (e) - [:DF_CASE {{inferred:true}}] -> (e2)\n",
    "            set e:ConnectionKitEvent, e2:ConnectionKitEvent'''\n",
    "result = session.run(query)\n"
   ]
  },
  {
   "cell_type": "code",
   "execution_count": 784,
   "metadata": {},
   "outputs": [],
   "source": [
    "\n",
    "query = f'''match (r:Run)\n",
    "            where r.containerCaseID is not null\n",
    "            unwind r.containerCaseID as cid\n",
    "            with distinct cid\n",
    "            match (e:Event {{CaseID: cid}})\n",
    "            match (r:Run {{containerCaseID: cid}})\n",
    "            merge (e) - [:CORR {{inferred:true}}] -> (r)'''\n",
    "result = session.run(query)\n"
   ]
  },
  {
   "cell_type": "code",
   "execution_count": 785,
   "metadata": {},
   "outputs": [],
   "source": [
    "\n",
    "query = f'''MATCH (startEvent:NewKitEvent)-[:CORR]->(c:Run) \n",
    "            where not startEvent:ConnectionKitEvent and c.containerCaseID is not null\n",
    "            MATCH (endEvent:LastKitEvent)-[:CORR]->(c) \n",
    "            where not endEvent:ConnectionKitEvent\n",
    "            Match path = (startEvent) - [:DF_CASE*] -> (endEvent)\n",
    "            set c.startTimestamp = startEvent.timestamp, \n",
    "            c.endTimestamp=endEvent.timestamp, \n",
    "            c.activities = startEvent.Activity\n",
    "            with tail(nodes(path)) as pathNodes, c\n",
    "            foreach (event in pathNodes | \n",
    "                set c.activities = c.activities + \", \" + event.Activity)'''\n",
    "result = session.run(query)\n"
   ]
  },
  {
   "cell_type": "markdown",
   "metadata": {},
   "source": [
    "## Construct Waiting time and Working Time "
   ]
  },
  {
   "cell_type": "code",
   "execution_count": 789,
   "metadata": {},
   "outputs": [
    {
     "data": {
      "text/plain": [
       "<neo4j._sync.work.result.Result at 0x15f3f64c0>"
      ]
     },
     "execution_count": 789,
     "metadata": {},
     "output_type": "execute_result"
    }
   ],
   "source": [
    "query = f'''match (e1:Event {{Activity:\"Entrada Material Sucio\"}}) - [df:DF_CASE] -> \n",
    "(e2:Event {{Activity:\"Cargado en carro L+D\"}}) \n",
    "with duration.between(e1.timestamp, e2.timestamp).minutes as waitingDurationInMinutes, df\n",
    "set df.waitingDurationInMinutes = waitingDurationInMinutes\n",
    "'''\n",
    "session.run(query)\n",
    "query = f'''match (e1:Event {{Activity:\"Cargado en carro L+D\"}}) - [df:DF_CASE] -> (e2:Event {{Activity:\"Carga L+D iniciada\"}})\n",
    "with duration.between(e1.timestamp, e2.timestamp).minutes as waitingDurationInMinutes, df\n",
    "set df.waitingDurationInMinutes = waitingDurationInMinutes\n",
    "'''\n",
    "session.run(query)\n",
    "query = f'''match (e1:Event {{Activity:\"Carga L+D iniciada\"}}) - [df:DF_CASE] -> (e2:Event {{Activity:\"Carga L+D liberada\"}}) \n",
    "with duration.between(e1.timestamp, e2.timestamp).minutes as workingDurationInMinutes, df\n",
    "set df.workingDurationInMinutes = workingDurationInMinutes\n",
    "'''\n",
    "session.run(query)\n",
    "query = f'''match (e1:Event {{Activity:\"Carga L+D liberada\"}}) - [df:DF_CASE] -> (e2:Event {{Activity:\"Montaje\"}}) \n",
    "with duration.between(e1.timestamp, e2.timestamp).minutes as waitingDurationInMinutes, df\n",
    "set df.waitingDurationInMinutes = waitingDurationInMinutes\n",
    "'''\n",
    "session.run(query)\n",
    "query = f'''match (e1:Event {{Activity:\"Montaje\"}}) - [df:DF_CASE] -> (e2:Event {{Activity:\"Producción montada\"}})\n",
    "with duration.between(e1.timestamp, e2.timestamp).minutes as workingDurationInMinutes, df\n",
    "set df.workingDurationInMinutes = workingDurationInMinutes\n",
    "'''\n",
    "session.run(query)\n",
    "query = f'''match (e1:Event {{Activity:\"Producción montada\"}}) - [df:DF_CASE] -> (e2:Event {{Activity:\"Composición de cargas\"}})\n",
    "with duration.between(e1.timestamp, e2.timestamp).minutes as waitingDurationInMinutes, df\n",
    "set df.waitingDurationInMinutes = waitingDurationInMinutes\n",
    "'''\n",
    "session.run(query)\n",
    "query = f'''match (e1:Event {{Activity:\"Composición de cargas\"}}) - [df:DF_CASE] -> (e2:Event {{Activity:\"Carga de esterilizador liberada\"}})\n",
    "with duration.between(e1.timestamp, e2.timestamp).minutes as workingDurationInMinutes, df\n",
    "set df.workingDurationInMinutes = workingDurationInMinutes\n",
    "'''\n",
    "session.run(query)\n",
    "query = f'''match (e1:Event {{Activity:\"Carga de esterilizador liberada\"}}) - [df:DF_CASE] -> (e2:Event {{Activity:\"Comisionado\"}})\n",
    "with duration.between(e1.timestamp, e2.timestamp).minutes as waitingDurationInMinutes, df\n",
    "set df.waitingDurationInMinutes = waitingDurationInMinutes\n",
    "'''\n",
    "session.run(query)\n"
   ]
  },
  {
   "cell_type": "code",
   "execution_count": 791,
   "metadata": {},
   "outputs": [
    {
     "data": {
      "text/plain": [
       "<neo4j._sync.work.result.Result at 0x1692efdc0>"
      ]
     },
     "execution_count": 791,
     "metadata": {},
     "output_type": "execute_result"
    }
   ],
   "source": [
    "query = f'''\n",
    "MATCH (e1:Event)-[df:DF_CASE]->(e2:Event)\n",
    "match (e1) - [:CORR] -> (r:Run) <- [:CORR] - (e2)\n",
    "WITH r, SUM(df.workingDurationInMinutes) AS totalValue\n",
    "SET r.workingDurationInMinutes = totalValue\n",
    "'''\n",
    "session.run(query)\n",
    "\n",
    "query = f'''\n",
    "MATCH (e1:Event)-[df:DF_CASE]->(e2:Event)\n",
    "match (e1) - [:CORR] -> (r:Run) <- [:CORR] - (e2)\n",
    "WITH r, SUM(df.waitingDurationInMinutes) AS totalValue\n",
    "SET r.waitingDurationInMinutes = totalValue\n",
    "'''\n",
    "session.run(query)"
   ]
  }
 ],
 "metadata": {
  "kernelspec": {
   "display_name": "Python 3",
   "language": "python",
   "name": "python3"
  },
  "language_info": {
   "codemirror_mode": {
    "name": "ipython",
    "version": 3
   },
   "file_extension": ".py",
   "mimetype": "text/x-python",
   "name": "python",
   "nbconvert_exporter": "python",
   "pygments_lexer": "ipython3",
   "version": "3.9.18"
  }
 },
 "nbformat": 4,
 "nbformat_minor": 2
}
