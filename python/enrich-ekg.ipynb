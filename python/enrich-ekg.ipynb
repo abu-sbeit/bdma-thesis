{
 "cells": [
  {
   "cell_type": "markdown",
   "metadata": {},
   "source": [
    "## Libraries"
   ]
  },
  {
   "cell_type": "code",
   "execution_count": 1,
   "metadata": {},
   "outputs": [],
   "source": [
    "import pandas as pd \n",
    "import matplotlib.pyplot as plt \n",
    "import warnings\n",
    "warnings.filterwarnings('ignore')\n",
    "from neo4j import GraphDatabase"
   ]
  },
  {
   "cell_type": "markdown",
   "metadata": {},
   "source": [
    "## Connect to Neo4J"
   ]
  },
  {
   "cell_type": "code",
   "execution_count": 2,
   "metadata": {},
   "outputs": [],
   "source": [
    "driver = GraphDatabase.driver(\"bolt://localhost:7687\", auth=(\"neo4j\", \"Croma2023\"))\n",
    "session = driver.session()"
   ]
  },
  {
   "cell_type": "markdown",
   "metadata": {},
   "source": [
    "## Create entities and relate them to events"
   ]
  },
  {
   "cell_type": "code",
   "execution_count": 3,
   "metadata": {},
   "outputs": [],
   "source": [
    "query = f'''MATCH (e:Event) UNWIND e.KitID AS id_val\n",
    "WITH DISTINCT id_val\n",
    "MERGE (:Entity {{ID:id_val, EntityType:\"Kit\"}})'''\n",
    "session.run(query).single()"
   ]
  },
  {
   "cell_type": "code",
   "execution_count": 4,
   "metadata": {},
   "outputs": [],
   "source": [
    "query = f'''MATCH (e:Event) UNWIND e.KitID AS kitID WITH e,kitID\n",
    "MATCH (n:Entity {{EntityType: \"Kit\"}}) WHERE kitID = n.ID\n",
    "MERGE (e)-[:CORR]->(n)'''\n",
    "session.run(query).single()"
   ]
  },
  {
   "cell_type": "markdown",
   "metadata": {},
   "source": [
    "## Create directly follows relationships between events related to the same entity"
   ]
  },
  {
   "cell_type": "code",
   "execution_count": 5,
   "metadata": {},
   "outputs": [
    {
     "data": {
      "text/plain": [
       "<neo4j._sync.work.result.Result at 0x1055e7b50>"
      ]
     },
     "execution_count": 5,
     "metadata": {},
     "output_type": "execute_result"
    }
   ],
   "source": [
    "query = f'''MATCH (n:Entity {{EntityType:\"Kit\"}})\n",
    "MATCH (n)<-[:CORR]-(e)\n",
    "WITH n, e AS nodes ORDER BY e.timestamp, ID(e)\n",
    "WITH n, collect(nodes) AS event_node_list\n",
    "UNWIND range(0, size(event_node_list)-2) AS i\n",
    "WITH n, event_node_list[i] AS e1, event_node_list[i+1] AS e2\n",
    "MERGE (e1)-[df:DF {{EntityType:n.EntityType, ID:n.ID, Duration: duration.between(e1.timestamp , e2.timestamp).seconds}}]->(e2)\n",
    "'''\n",
    "session.run(query)"
   ]
  },
  {
   "cell_type": "markdown",
   "metadata": {},
   "source": [
    "## Create sterilization cycles as runs for each entity"
   ]
  },
  {
   "cell_type": "code",
   "execution_count": 6,
   "metadata": {},
   "outputs": [],
   "source": [
    "#add start label to Entrada Material Sucio events\n",
    "query = f'''MATCH (e:Event)\n",
    "WHERE e.Activity =  \"Entrada Material Sucio\"\n",
    "OPTIONAL MATCH (f:Event) - [:DF] -> (e)\n",
    "SET e:NewKitEvent, f:LastKitEvent\n",
    " '''\n",
    "session.run(query).single()"
   ]
  },
  {
   "cell_type": "code",
   "execution_count": 7,
   "metadata": {},
   "outputs": [],
   "source": [
    "#add end label to commisionada events\n",
    "query = f'''MATCH (e:Event)\n",
    "WHERE e.Activity =  \"Comisionado\"\n",
    "OPTIONAL MATCH (f:Event) <- [:DF] - (e)\n",
    "SET e:LastKitEvent, f:NewKitEvent\n",
    "'''\n",
    "session.run(query).single()"
   ]
  },
  {
   "cell_type": "code",
   "execution_count": 8,
   "metadata": {},
   "outputs": [],
   "source": [
    "#add end label to commisionada events\n",
    "query = f'''MATCH (e:Event)\n",
    "WHERE not () - [:DF] -> (e)\n",
    "SET e:NewKitEvent\n",
    "'''\n",
    "session.run(query).single()"
   ]
  },
  {
   "cell_type": "code",
   "execution_count": 9,
   "metadata": {},
   "outputs": [],
   "source": [
    "#add end label to commisionada events\n",
    "#query = f'''MATCH (e:Event:LastKitEvent) - [:DF] -> (f:Event)\n",
    "#where f.Activity <> \"Comisionado\"\n",
    "#set f:NewKitEvent\n",
    "# '''\n",
    "#session.run(query).single()"
   ]
  },
  {
   "cell_type": "code",
   "execution_count": 10,
   "metadata": {},
   "outputs": [],
   "source": [
    "query = f'''MATCH (f:Event) - [:DF] -> (e:Event)\n",
    "where duration.between(f.timestamp, e.timestamp).days > 3\n",
    "SET e:NewKitEvent, f:LastKitEvent\n",
    " '''\n",
    "session.run(query).single()"
   ]
  },
  {
   "cell_type": "code",
   "execution_count": 11,
   "metadata": {},
   "outputs": [],
   "source": [
    "#Find nodes that are followed by Entrada directly\n",
    "query = f'''MATCH (start_event:Event:NewKitEvent:LastKitEvent)\n",
    "            MATCH (start_event) - [:CORR] -> (k:Entity)\n",
    "            CALL apoc.refactor.cloneNodes([k])\n",
    "            YIELD input, output as new_k, error\n",
    "            SET new_k:Run\n",
    "            remove new_k:Entity\n",
    "            SET start_event:OnlyKitEvent\n",
    "            remove start_event:NewKitEvent:LastKitEvent\n",
    "            //CREATE (new_k) <- [:HAS_RUN] - (k)\n",
    "            WITH start_event, k, new_k\n",
    "            CALL {{WITH start_event, k, new_k\n",
    "            MATCH (start_event) - [r:CORR] -> (k)\n",
    "            DELETE r\n",
    "            CREATE (start_event) - [:CORR] -> (new_k)}}\n",
    "'''\n",
    "session.run(query).single()"
   ]
  },
  {
   "cell_type": "code",
   "execution_count": 12,
   "metadata": {},
   "outputs": [],
   "source": [
    "#Find paths from start to end and create Run nodes\n",
    "query = f'''MATCH (start_event:Event:NewKitEvent)\n",
    "CALL apoc.path.expandConfig(start_event, {{relationshipFilter: \"DF>\", \n",
    "labelFilter:\"+Event|/LastKitEvent\"}})\n",
    "YIELD path\n",
    "MATCH (start_event) - [:CORR] -> (k:Entity)\n",
    "CALL apoc.refactor.cloneNodes([k])\n",
    "YIELD input, output as new_k, error\n",
    "SET new_k:Run\n",
    "remove new_k:Entity\n",
    "//CREATE (new_k) <- [:HAS_RUN] - (k)\n",
    "WITH nodes(path) as events, k, new_k\n",
    "            CALL {{WITH events, k, new_k\n",
    "             UNWIND events as  kit_event\n",
    "            MATCH (kit_event) - [r:CORR] -> (k)\n",
    "            DELETE r\n",
    "            CREATE (kit_event) - [:CORR] -> (new_k)}}\n",
    " '''\n",
    "session.run(query).single()"
   ]
  },
  {
   "cell_type": "code",
   "execution_count": 13,
   "metadata": {},
   "outputs": [],
   "source": [
    "query = f'''match (e:Entity)\n",
    "set e:Run\n",
    "remove e:Entity'''\n",
    "session.run(query).single()"
   ]
  },
  {
   "cell_type": "code",
   "execution_count": 14,
   "metadata": {},
   "outputs": [],
   "source": [
    "query = f'''match (r:Run) \n",
    "where not (r) <- [:CORR] - ()\n",
    "detach delete r\n",
    "'''\n",
    "session.run(query).single()"
   ]
  },
  {
   "cell_type": "code",
   "execution_count": 15,
   "metadata": {},
   "outputs": [],
   "source": [
    "query = f'''match (r:Run) UNWIND r.ID AS id_val\n",
    "WITH DISTINCT id_val\n",
    "MERGE (:Entity {{ID:id_val, EntityType:\"Kit\"}})\n",
    "'''\n",
    "session.run(query).single()"
   ]
  },
  {
   "cell_type": "code",
   "execution_count": 16,
   "metadata": {},
   "outputs": [],
   "source": [
    "query = f'''MATCH (r:Run) \n",
    "UNWIND r.ID AS kitID \n",
    "WITH r, kitID\n",
    "MATCH (n:Entity {{EntityType: \"Kit\"}}) WHERE kitID = n.ID\n",
    "MERGE (r)<-[:HAS_RUN]-(n)'''\n",
    "session.run(query).single()"
   ]
  },
  {
   "cell_type": "code",
   "execution_count": 17,
   "metadata": {},
   "outputs": [],
   "source": [
    "query = f'''MATCH (startEvent:NewKitEvent)-[:CORR]->(c:Run) \n",
    "MATCH (endEvent:LastKitEvent)-[:CORR]->(c) \n",
    "Match path = (startEvent) - [:DF*] -> (endEvent)\n",
    "set c.startTimestamp = startEvent.timestamp, \n",
    "c.endTimestamp=endEvent.timestamp, \n",
    "c.activities = startEvent.Activity\n",
    "with tail(nodes(path)) as pathNodes, c\n",
    "foreach (event in pathNodes | \n",
    "                set c.activities = c.activities + \", \" + event.Activity)\n",
    "'''\n",
    "session.run(query).single()"
   ]
  },
  {
   "cell_type": "code",
   "execution_count": null,
   "metadata": {},
   "outputs": [],
   "source": [
    "query = f'''match (r:Run) <- [:CORR] - (e:Event)\n",
    "where not (e) - [:DF] -> () and r.startTimestamp is null\n",
    "UNWIND r.ID AS kitID\n",
    "WITH r, kitID, e\n",
    "MATCH (startEvent:NewKitEvent)-[:CORR]->(r) \n",
    "Match path = (startEvent) - [:DF*] -> (e)\n",
    "set r.startTimestamp = startEvent.timestamp, \n",
    "r.endTimestamp=e.timestamp, \n",
    "e:LastKitEvent,\n",
    "r.activities = startEvent.Activity\n",
    "with tail(nodes(path)) as pathNodes, r\n",
    "foreach (event in pathNodes | \n",
    "                set r.activities = r.activities + \", \" + event.Activity)'''\n",
    "session.run(query).single()"
   ]
  },
  {
   "cell_type": "code",
   "execution_count": 18,
   "metadata": {},
   "outputs": [],
   "source": [
    "query = f'''MATCH (startEvent:OnlyKitEvent)-[:CORR]->(c:Run) \n",
    "set c.startTimestamp = startEvent.timestamp, \n",
    "c.endTimestamp=startEvent.timestamp, \n",
    "c.activities = startEvent.Activity\n",
    "'''\n",
    "session.run(query).single()"
   ]
  },
  {
   "cell_type": "code",
   "execution_count": null,
   "metadata": {},
   "outputs": [],
   "source": [
    "query = f'''match (r:Run) <- [:CORR] - (e:Event)\n",
    "where r.startTimestamp is null \n",
    "unwind r.ID as kitID\n",
    "with r, count(e) as c, e\n",
    "where c = 1\n",
    "set e:OnlyKitEvent, \n",
    "r.startTimestamp = e.timestamp, \n",
    "r.endTimestamp = e.timestamp, \n",
    "r.activities = e.Activity\n",
    "remove e:NewKitEvent:LastKitEvent'''\n",
    "session.run(query).single()"
   ]
  },
  {
   "cell_type": "code",
   "execution_count": 19,
   "metadata": {},
   "outputs": [],
   "source": [
    "#query = f'''\n",
    "#Match (e:Entity) \n",
    "#WITH  e AS cases ORDER BY e.startTimestamp, ID(e)\n",
    "#WITH collect(cases) AS cases_list\n",
    "#UNWIND range(0, size(cases_list)-1) AS i\n",
    "#with cases_list[i] as node, i\n",
    "#Match (ev:Event) - [:CORR] -> (node)\n",
    "#set node.CaseID = node.ID + \"-CN\" + i,\n",
    "#ev.CaseID = node.ID + \"-CN\" + i\n",
    "#'''\n",
    "#session.run(query).single()"
   ]
  },
  {
   "cell_type": "code",
   "execution_count": 20,
   "metadata": {},
   "outputs": [],
   "source": [
    "query = f'''\n",
    "Match (e:Run) \n",
    "WITH  e AS cases ORDER BY e.startTimestamp, ID(e)\n",
    "WITH collect(cases) AS cases_list\n",
    "UNWIND range(0, size(cases_list)-1) AS i\n",
    "with cases_list[i] as node, i\n",
    "Match (ev:Event) - [:CORR] -> (node)\n",
    "set node.CaseID = node.ID + \"-CN\" + i,\n",
    "ev.CaseID = node.ID + \"-CN\" + i\n",
    "'''\n",
    "session.run(query).single()"
   ]
  },
  {
   "cell_type": "code",
   "execution_count": 21,
   "metadata": {},
   "outputs": [],
   "source": [
    "query = f'''match (r:Run)\n",
    "return r.CaseID, r.startTimestamp, r.endTimestamp, r.startTimestamp.month\n",
    "'''\n",
    "frame = pd.DataFrame(session.run(query).data())\n",
    "frame['r.startTimestamp'] = pd.to_datetime(frame['r.startTimestamp'], format='%Y-%m-%dT%H:%M:%S.%f%z')\n",
    "frame['r.endTimestamp'] = pd.to_datetime(frame['r.endTimestamp'], format='%Y-%m-%dT%H:%M:%S.%f%z')\n",
    "frame['durationDays'] = (frame['r.endTimestamp'] - frame['r.startTimestamp']).dt.total_seconds() / 60 / 60 / 24\n",
    "frame['durationMinutes'] = (frame['r.endTimestamp'] - frame['r.startTimestamp']).dt.total_seconds() / 60 \n",
    "for index, row in frame.iterrows():\n",
    "    query = f'''match (r:Run {{CaseID: \"{row['r.CaseID']}\"}})\n",
    "                set r.durationInMinutes = {row['durationMinutes']}\n",
    "            '''\n",
    "    session.run(query)"
   ]
  },
  {
   "cell_type": "code",
   "execution_count": 22,
   "metadata": {},
   "outputs": [
    {
     "data": {
      "text/plain": [
       "<Record e.ID='HNB-OFT.002-10' numberOfCycles=24>"
      ]
     },
     "execution_count": 22,
     "metadata": {},
     "output_type": "execute_result"
    }
   ],
   "source": [
    "query = f'''match (e:Entity)-[:HAS_RUN]->(r:Run)\n",
    "with count(r) as numberOfCycles, e\n",
    "set e.numberOfCycles = numberOfCycles\n",
    "return e.ID, numberOfCycles\n",
    "'''\n",
    "session.run(query).single()"
   ]
  },
  {
   "cell_type": "markdown",
   "metadata": {},
   "source": [
    "## Make Kit nodes"
   ]
  },
  {
   "cell_type": "code",
   "execution_count": 23,
   "metadata": {},
   "outputs": [
    {
     "data": {
      "text/plain": [
       "<Record id='HNB-OFT.002' num=19>"
      ]
     },
     "execution_count": 23,
     "metadata": {},
     "output_type": "execute_result"
    }
   ],
   "source": [
    "query = f'''match (e:Event)\n",
    "UNWIND e.`Código` AS id\n",
    "with distinct (id), count(distinct(e.NS)) as num\n",
    "merge (k:Kit {{ID :id, numberOfUnits :num}})\n",
    "return id, num'''\n",
    "session.run(query).single()"
   ]
  },
  {
   "cell_type": "code",
   "execution_count": 24,
   "metadata": {},
   "outputs": [],
   "source": [
    "query = f'''MATCH (e:Event)\n",
    "MATCH (n:Entity)- [:HAS_RUN] -> (r:Run) \n",
    "where e.KitID = n.ID\n",
    "set n.KitID = e.`Código`'''\n",
    "session.run(query).single()"
   ]
  },
  {
   "cell_type": "code",
   "execution_count": 25,
   "metadata": {},
   "outputs": [],
   "source": [
    "query = f'''MATCH (n:Entity) - [:HAS_RUN] -> (r:Run) \n",
    "Match (k:Kit)\n",
    "where n.KitID = k.ID\n",
    "merge (n) <- [:HAS_UNIT] - (k)\n",
    "REMOVE n.KitID '''\n",
    "session.run(query).single()"
   ]
  },
  {
   "cell_type": "markdown",
   "metadata": {},
   "source": [
    "## Extract the process model"
   ]
  },
  {
   "cell_type": "code",
   "execution_count": 26,
   "metadata": {},
   "outputs": [],
   "source": [
    "query = f'''MATCH ( e : Event ) WITH distinct e.Activity AS actName\n",
    "MERGE ( c : Class {{ Name:actName, Type:\"Activity\", ID: actName}})'''\n",
    "session.run(query).single()"
   ]
  },
  {
   "cell_type": "code",
   "execution_count": 27,
   "metadata": {},
   "outputs": [],
   "source": [
    "query = f'''MATCH ( c : Class ) WHERE c.Type = \"Activity\"\n",
    "MATCH ( e : Event ) WHERE c.Name = e.Activity\n",
    "MERGE ( e ) -[:OBSERVED]-> ( c )'''\n",
    "session.run(query).single()"
   ]
  },
  {
   "cell_type": "code",
   "execution_count": 28,
   "metadata": {},
   "outputs": [],
   "source": [
    "query = f'''MATCH ( c : Class ) WHERE c.Type = \"Activity\"\n",
    "MATCH ( e : Event ) WHERE c.Name = e.Activity\n",
    "match (en:Entity) <-[:CORR]- (e)\n",
    "MERGE ( en) -[:LOGGED_IN]-> ( c )'''\n",
    "session.run(query).single()"
   ]
  },
  {
   "cell_type": "code",
   "execution_count": 29,
   "metadata": {},
   "outputs": [],
   "source": [
    "query = f'''match (e:Entity)-[:HAS_RUN]->(r:Run)\n",
    "MATCH ( c1 : Class ) <-[:OBSERVED]- ( e1 : Event ) -[df:DF]-> ( e2 : Event ) -[:OBSERVED]-> ( c2 : Class )\n",
    "MATCH (e1) -[:CORR] -> (r) <-[:CORR]- (e2)\n",
    "WHERE c1.Type = c2.Type AND r.EntityType = df.EntityType\n",
    "WITH r.EntityType as EType,c1,count(df) AS df_freq,c2\n",
    "MERGE ( c1 ) -[rel2:DF_C {{EntityType:EType}}]-> ( c2 ) ON CREATE SET rel2.count=df_freq'''\n",
    "session.run(query).single()"
   ]
  },
  {
   "cell_type": "markdown",
   "metadata": {},
   "source": [
    "## Add employees"
   ]
  },
  {
   "cell_type": "code",
   "execution_count": 30,
   "metadata": {},
   "outputs": [],
   "source": [
    "query = f'''MATCH ( e : Event ) UNWIND e.Usuario AS employee \n",
    "WITH distinct employee\n",
    "MERGE ( :Employee {{ Name:employee, Type:\"Usuario\", ID: employee}})'''\n",
    "session.run(query).single()"
   ]
  },
  {
   "cell_type": "code",
   "execution_count": 31,
   "metadata": {},
   "outputs": [],
   "source": [
    "query = f'''MATCH ( m : Employee ) WHERE m.Type = \"Usuario\"\n",
    "MATCH ( e : Event ) WHERE m.Name = e.Usuario\n",
    "CREATE ( e ) <-[:WORKED_ON]- ( m )'''\n",
    "session.run(query).single()"
   ]
  },
  {
   "cell_type": "code",
   "execution_count": 32,
   "metadata": {},
   "outputs": [],
   "source": [
    "query = f'''MATCH (emp:Employee)\n",
    "MATCH (emp)-[:WORKED_ON]->(e)\n",
    "WITH emp, e AS nodes ORDER BY e.timestamp, ID(e)\n",
    "WITH emp, collect(nodes) AS event_node_list\n",
    "UNWIND range(0, size(event_node_list)-2) AS i\n",
    "WITH emp, event_node_list[i] AS e1, event_node_list[i+1] AS e2\n",
    "MERGE (e1)-[df:DF_EMP {{ID:emp.ID, startTimestamp: e1.timestamp, endTimestamp: e2.timestamp}}]->(e2)\n",
    "'''\n",
    "session.run(query).single()"
   ]
  },
  {
   "cell_type": "markdown",
   "metadata": {},
   "source": [
    "## Add washing machines"
   ]
  },
  {
   "cell_type": "code",
   "execution_count": 33,
   "metadata": {},
   "outputs": [],
   "source": [
    "query=f'''\n",
    "MATCH (e:Event) UNWIND e.additionalInfo5 AS rack\n",
    "WITH DISTINCT rack, SPLIT(rack, ' - ') AS result\n",
    "with rack, result, apoc.text.regexGroups(result[0], '([0-9]+)')[0][0] AS rackNumber\n",
    "MERGE (:Rack {{ID:rack, name: result[0], number:rackNumber, activity: result[1], EntityType:\"Rack\"}})\n",
    "'''\n",
    "session.run(query).single()"
   ]
  },
  {
   "cell_type": "code",
   "execution_count": 34,
   "metadata": {},
   "outputs": [],
   "source": [
    "query=f'''\n",
    "MATCH (e:Event) \n",
    "where e.Activity = \"Carga L+D iniciada\" or e.Activity = \"Carga L+D liberada\"\n",
    "UNWIND e.additionalInfo1 AS wm\n",
    "WITH DISTINCT wm, SPLIT(wm, ' - ') AS result, e\n",
    "MERGE (:WashingMachine {{activity: rtrim(result[0]), machine: COALESCE(rtrim(result[1]), rtrim(e.additionalInfo2)), EntityType:\"Washing Machine\"}})\n",
    "'''\n",
    "session.run(query).single()"
   ]
  },
  {
   "cell_type": "code",
   "execution_count": 35,
   "metadata": {},
   "outputs": [],
   "source": [
    "query = f'''\n",
    "Match (r:Rack) \n",
    "Match (w:WashingMachine)\n",
    "MATCH (e:Event) \n",
    "where e.Activity = \"Carga L+D iniciada\" or e.Activity = \"Carga L+D liberada\"\n",
    "with SPLIT(e.additionalInfo1, ' - ') AS wm, e.additionalInfo5 as rack, r, w\n",
    "where rack = r.ID and w.activity = wm[0]\n",
    "merge (r) -[:RELATED_TO] -> (w)\n",
    "'''\n",
    "session.run(query).single()"
   ]
  },
  {
   "cell_type": "code",
   "execution_count": 36,
   "metadata": {},
   "outputs": [],
   "source": [
    "query = f'''Match (w:WashingMachine)\n",
    "MATCH (e:Event) \n",
    "where e.Activity = \"Carga L+D iniciada\" or e.Activity = \"Carga L+D liberada\"\n",
    "with SPLIT(e.additionalInfo1, ' - ') AS wm, w, e\n",
    "where w.activity = wm[0]\n",
    "create (e) -[:WASHED_IN {{timestamp: e.timestamp}}] -> (w)\n",
    "'''\n",
    "session.run(query).single()"
   ]
  },
  {
   "cell_type": "code",
   "execution_count": 37,
   "metadata": {},
   "outputs": [],
   "source": [
    "query = f'''Match (r:Rack)\n",
    "MATCH (e:Event) \n",
    "where e.Activity = \"Carga L+D iniciada\" or e.Activity = \"Carga L+D liberada\"\n",
    "with e.additionalInfo5 as rack, r, e\n",
    "where rack = r.ID\n",
    "create (e) -[:WASHED_ON {{timestamp: e.timestamp}}] -> (r)'''\n",
    "session.run(query).single()"
   ]
  },
  {
   "cell_type": "markdown",
   "metadata": {},
   "source": [
    "## Add sterilization machines"
   ]
  },
  {
   "cell_type": "code",
   "execution_count": 38,
   "metadata": {},
   "outputs": [],
   "source": [
    "query=f'''MATCH (e:Event) \n",
    "where e.Activity = \"Composición de cargas\" or e.Activity = \"Carga de esterilizador liberada\"\n",
    "UNWIND e.additionalInfo1 AS sm\n",
    "WITH DISTINCT sm, SPLIT(sm, ' - ') AS result, e\n",
    "MERGE (:SterilizationMachine {{activity: rtrim(result[0]), machine: rtrim(result[1]), EntityType:\"Sterilization Machine\",\n",
    " type: \n",
    " case \n",
    " when rtrim(toLower(result[1])) in ['amsco vpro', 'amsco eagle'] then 'Low Temperature Sterilization'\n",
    "     else 'High Temperature Sterilization' end}})\n",
    "     '''\n",
    "session.run(query).single()"
   ]
  },
  {
   "cell_type": "code",
   "execution_count": 39,
   "metadata": {},
   "outputs": [],
   "source": [
    "query = f'''Match (s:SterilizationMachine)\n",
    "MATCH (e:Event) \n",
    "where e.Activity = \"Composición de cargas\" or e.Activity = \"Carga de esterilizador liberada\"\n",
    "with SPLIT(e.additionalInfo1, ' - ') as sm, s, e\n",
    "where rtrim(sm[1]) = s.machine\n",
    "create (e) -[:STERILIZED_IN {{timestamp: e.timestamp}}] -> (s)\n",
    "'''\n",
    "session.run(query).single()"
   ]
  },
  {
   "cell_type": "markdown",
   "metadata": {},
   "source": [
    "## Create directly follows for activities related to a case"
   ]
  },
  {
   "cell_type": "code",
   "execution_count": 40,
   "metadata": {},
   "outputs": [],
   "source": [
    "query = f'''match ( e1 : Event ) -[df:DF]-> ( e2 : Event )\n",
    "WHERE e1.CaseID = e2.CaseID\n",
    "MERGE ( e1 ) -[rel:DF_CASE {{CaseID: e1.CaseID}}]-> ( e2 )'''\n",
    "session.run(query).single()"
   ]
  },
  {
   "cell_type": "markdown",
   "metadata": {},
   "source": [
    "## Create directly follows between cases"
   ]
  },
  {
   "cell_type": "code",
   "execution_count": 41,
   "metadata": {},
   "outputs": [],
   "source": [
    "query = f'''match ( e1 : Event ) -[df:DF]-> ( e2 : Event )\n",
    "WHERE e1.CaseID <> e2.CaseID\n",
    "MERGE (e1) -[rel:DF_CYCLE {{PreviousCaseID: e1.CaseID, EndActivity: e1.Activity, endTimestamp: e1.timestamp,\n",
    " NextCaseID: e2.CaseID, StartActivity: e2.Activity, startTimestamp: e2.timestamp, \n",
    "  DurationBetweenSterilizations: Duration.between(e1.timestamp, e2.timestamp).minutes, KitID: e1.KitID}}]-> (e2)'''\n",
    "session.run(query).single()"
   ]
  },
  {
   "cell_type": "markdown",
   "metadata": {},
   "source": [
    "## Batch activities"
   ]
  },
  {
   "cell_type": "code",
   "execution_count": 42,
   "metadata": {},
   "outputs": [],
   "source": [
    "#TODO check batches timestamp and the entry time for entrada\n",
    "#TODO make separate batching relation for washing machines and sterilization machines\n",
    "#TODO Question, should I batch activities with employee included or batch them as activity no matter the employee doing the job?\n",
    "\n",
    "#query=f'''\n",
    "#MATCH (e: Event)\n",
    "#WITH e AS nodes ORDER BY e.timestamp, ID(e)\n",
    "#WITH collect(nodes) AS event_node_list\n",
    "#UNWIND range(0, size(event_node_list)-2) AS i\n",
    "#WITH event_node_list[i] AS e1, event_node_list[i+1] AS e2\n",
    "#WITH e1, e2, duration.between(e1.timestamp , e2.timestamp).minutes AS time_diff\n",
    "#SET e1.batchID = CASE \n",
    "#    WHEN time_diff < 2 AND e1.Usuario = e2.Usuario AND e1.batchID IS NULL THEN \"b\" + ID(e1)\n",
    "#    ELSE e1.batchID END,\n",
    "#    e2.batchID = CASE \n",
    "#    WHEN time_diff < 2 AND e1.Usuario = e2.Usuario AND e1.batchID IS NOT NULL THEN e1.batchID\n",
    "#    ELSE e2.batchID END\n",
    "#'''\n",
    "#session.run(query).single()"
   ]
  },
  {
   "cell_type": "code",
   "execution_count": 43,
   "metadata": {},
   "outputs": [
    {
     "data": {
      "text/plain": [
       "<neo4j._sync.work.result.Result at 0x136c9e730>"
      ]
     },
     "execution_count": 43,
     "metadata": {},
     "output_type": "execute_result"
    }
   ],
   "source": [
    "query=f'''MATCH (e: Event)\n",
    "where e.Activity in ['Carga L+D iniciada', 'Carga L+D liberada', 'Composición de cargas', 'Carga de esterilizador liberada', 'Cargado en carro L+D']\n",
    "WITH e AS nodes ORDER BY e.timestamp, ID(e)\n",
    "WITH collect(nodes) AS event_node_list\n",
    "UNWIND range(0, size(event_node_list)-2) AS i\n",
    "WITH event_node_list[i] AS e1, event_node_list[i+1] AS e2\n",
    "WITH e1, e2, duration.between(e1.timestamp , e2.timestamp).minutes AS time_diff\n",
    "SET e1.batchID = \n",
    "CASE \n",
    "    WHEN e1.batchID IS not NULL \n",
    "        THEN e1.batchID \n",
    "    ELSE \n",
    "        \"b\" + ID(e1)\n",
    "            END,\n",
    "    e2.batchID = \n",
    "CASE \n",
    "    WHEN time_diff < 3 AND (e1) - [:DF_EMP] -> (e2) \n",
    "        THEN e1.batchID\n",
    "    WHEN time_diff >= 3 AND (e1) - [:DF_EMP] -> (e2) and e2.batchID is null\n",
    "        THEN \"b\" + ID(e2)\n",
    "    else \n",
    "        e2.batchID\n",
    "            END'''\n",
    "session.run(query)"
   ]
  },
  {
   "cell_type": "code",
   "execution_count": 44,
   "metadata": {},
   "outputs": [
    {
     "data": {
      "text/plain": [
       "<neo4j._sync.work.result.Result at 0x1055770d0>"
      ]
     },
     "execution_count": 44,
     "metadata": {},
     "output_type": "execute_result"
    }
   ],
   "source": [
    "query=f'''MATCH (e: Event)\n",
    "where e.Activity in ['Carga L+D iniciada', 'Carga L+D liberada', 'Composición de cargas', 'Carga de esterilizador liberada', 'Cargado en carro L+D']\n",
    "SET e.batchID = \"b\" + ID(e)\n",
    "'''\n",
    "session.run(query)"
   ]
  },
  {
   "cell_type": "code",
   "execution_count": 45,
   "metadata": {},
   "outputs": [
    {
     "data": {
      "text/plain": [
       "<neo4j._sync.work.result.Result at 0x127c7e970>"
      ]
     },
     "execution_count": 45,
     "metadata": {},
     "output_type": "execute_result"
    }
   ],
   "source": [
    "query=f'''MATCH (e: Event)\n",
    "where e.Activity in ['Carga L+D iniciada', 'Carga L+D liberada', 'Composición de cargas', 'Carga de esterilizador liberada', 'Cargado en carro L+D']\n",
    "WITH e AS nodes ORDER BY e.timestamp, ID(e)\n",
    "WITH collect(nodes) AS event_node_list\n",
    "UNWIND range(0, size(event_node_list)-2) AS i\n",
    "WITH event_node_list[i] AS e1, event_node_list[i+1] AS e2\n",
    "SET e2.batchID = \n",
    "CASE \n",
    "    WHEN duration.between(e1.timestamp , e2.timestamp).minutes < 3 AND (e1) - [:DF_EMP] -> (e2) \n",
    "        THEN e1.batchID\n",
    "    else \n",
    "        e2.batchID\n",
    "            END'''\n",
    "session.run(query)"
   ]
  },
  {
   "cell_type": "code",
   "execution_count": 46,
   "metadata": {},
   "outputs": [
    {
     "data": {
      "text/plain": [
       "<neo4j._sync.work.result.Result at 0x127c92c10>"
      ]
     },
     "execution_count": 46,
     "metadata": {},
     "output_type": "execute_result"
    }
   ],
   "source": [
    "query=f'''MATCH (e: Event)\n",
    "where e.Activity in ['Comisionado', 'Producción montada', 'Entrada Material Sucio', 'Montaje']\n",
    "SET e.batchID = \"b\" + ID(e)\n",
    "'''\n",
    "session.run(query)"
   ]
  },
  {
   "cell_type": "code",
   "execution_count": 47,
   "metadata": {},
   "outputs": [
    {
     "data": {
      "text/plain": [
       "<neo4j._sync.work.result.Result at 0x136c9e4c0>"
      ]
     },
     "execution_count": 47,
     "metadata": {},
     "output_type": "execute_result"
    }
   ],
   "source": [
    "query=f'''MATCH (e: Event)\n",
    "where e.Activity in ['Comisionado', 'Producción montada', 'Entrada Material Sucio', 'Montaje']\n",
    "WITH e AS nodes ORDER BY e.timestamp, ID(e)\n",
    "WITH collect(nodes) AS event_node_list\n",
    "UNWIND range(0, size(event_node_list)-2) AS i\n",
    "WITH event_node_list[i] AS e1, event_node_list[i+1] AS e2\n",
    "SET e2.batchID = \n",
    "CASE \n",
    "    WHEN duration.between(e1.timestamp , e2.timestamp).minutes < 3 AND (e1) - [:DF_EMP] - (e2) \n",
    "        THEN e1.batchID\n",
    "    else \n",
    "        e2.batchID\n",
    "            END'''\n",
    "session.run(query)"
   ]
  },
  {
   "cell_type": "code",
   "execution_count": 48,
   "metadata": {},
   "outputs": [
    {
     "data": {
      "text/plain": [
       "<neo4j._sync.work.result.Result at 0x1055704c0>"
      ]
     },
     "execution_count": 48,
     "metadata": {},
     "output_type": "execute_result"
    }
   ],
   "source": [
    "query=f'''MATCH (e:Event) UNWIND e.batchID AS id_val\n",
    "WITH DISTINCT id_val\n",
    "MERGE (:Batch {{ID:id_val}})'''\n",
    "session.run(query)"
   ]
  },
  {
   "cell_type": "code",
   "execution_count": 49,
   "metadata": {},
   "outputs": [
    {
     "data": {
      "text/plain": [
       "<neo4j._sync.work.result.Result at 0x1055706d0>"
      ]
     },
     "execution_count": 49,
     "metadata": {},
     "output_type": "execute_result"
    }
   ],
   "source": [
    "query=f'''MATCH (e:Event) \n",
    "MATCH (b:Batch) \n",
    "WHERE e.batchID = b.ID\n",
    "merge (e)-[:BATCHED]->(b)'''\n",
    "session.run(query)"
   ]
  },
  {
   "cell_type": "code",
   "execution_count": 50,
   "metadata": {},
   "outputs": [
    {
     "data": {
      "text/plain": [
       "<neo4j._sync.work.result.Result at 0x1202bc100>"
      ]
     },
     "execution_count": 50,
     "metadata": {},
     "output_type": "execute_result"
    }
   ],
   "source": [
    "query = f'''MATCH (e:Event)-[:BATCHED]->(b:Batch)\n",
    "WITH e.timestamp AS timestamp, b\n",
    "with MIN(timestamp) AS minTimestamp, MAX(timestamp) AS maxTimestamp, b\n",
    "set b.startTimestamp = minTimestamp, b.endTimestamp = maxTimestamp'''\n",
    "session.run(query)"
   ]
  },
  {
   "cell_type": "code",
   "execution_count": 51,
   "metadata": {},
   "outputs": [],
   "source": [
    "query=f'''MATCH (e: Event)\n",
    "where e.Activity in ['Composición de cargas', 'Carga de esterilizador liberada']\n",
    "WITH e AS nodes ORDER BY e.timestamp, ID(e)\n",
    "WITH collect(nodes) AS event_node_list\n",
    "UNWIND range(0, size(event_node_list)-2) AS i\n",
    "WITH event_node_list[i] AS e1, event_node_list[i+1] AS e2\n",
    "where e1.batchID = e2.batchID and e1.additionalInfo1 is null and e2.additionalInfo1 is not null\n",
    "set e1.additionalInfo1 = e2.additionalInfo1'''\n",
    "session.run(query).single()"
   ]
  },
  {
   "cell_type": "markdown",
   "metadata": {},
   "source": [
    "## Create Containers"
   ]
  },
  {
   "cell_type": "code",
   "execution_count": 52,
   "metadata": {},
   "outputs": [],
   "source": [
    "query = f'''match (k:Kit) - [:HAS_UNIT] -> (e:Entity)\n",
    "where e.ID contains 'CONT'\n",
    "set k.isWashingMachineContainer = True\n",
    "'''\n",
    "session.run(query).single()"
   ]
  },
  {
   "cell_type": "code",
   "execution_count": 53,
   "metadata": {},
   "outputs": [],
   "source": [
    "query = f'''match (k:Kit {{isWashingMachineContainer: True}}) - [:HAS_UNIT] -> (e:Entity) <- [:HAS_RUN] - (r:Run)\n",
    "where (r.activities contains \"Composición de cargas\" or r.activities contains \"Carga de esterilizador liberada\" or r.activities contains \"Comisionado\")\n",
    "set k.isWashingMachineContainer = False'''\n",
    "session.run(query).single()"
   ]
  },
  {
   "cell_type": "code",
   "execution_count": 54,
   "metadata": {},
   "outputs": [],
   "source": [
    "query = f'''match (k:Kit {{isWashingMachineContainer: True}}) - [:HAS_UNIT] -> (e:Entity) <- [:CORR] - (ev:Event)\n",
    "where (ev.Activity = \"Composición de cargas\" or ev.Activity = \"Carga de esterilizador liberada\" or ev.Activity = \"Comisionado\")\n",
    "set k.isWashingMachineContainer = False'''\n",
    "session.run(query).single()"
   ]
  },
  {
   "cell_type": "markdown",
   "metadata": {},
   "source": [
    "## Create Contained Kits"
   ]
  },
  {
   "cell_type": "code",
   "execution_count": 55,
   "metadata": {},
   "outputs": [],
   "source": [
    "query = f'''match (e:NewKitEvent {{Activity: \"Montaje\"}})\n",
    "WITH collect(distinct e.KitID) as kids \n",
    "UNWIND range(0, size(kids)-1) AS i\n",
    "with kids[i] as kid\n",
    "match (k:Kit) - [:HAS_UNIT] -> (e:Entity {{ID: kid}})\n",
    "set k.isContainedKit = True'''\n",
    "session.run(query).single()"
   ]
  },
  {
   "cell_type": "code",
   "execution_count": 56,
   "metadata": {},
   "outputs": [],
   "source": [
    "query = f'''match (k:Kit {{isContainedKit: True}}) - [:HAS_UNIT] -> (e:Entity) - [:HAS_RUN] -> (r:Run)\n",
    "where (r.activities contains 'Entrada Material Sucio' \n",
    "or r.activities contains 'Cargado en carro L+D' \n",
    "or r.activities contains 'Carga L+D iniciada' \n",
    "or r.activities contains 'Carga L+D liberada')\n",
    "set k.isContainedKit = False'''\n",
    "session.run(query).single()"
   ]
  },
  {
   "cell_type": "code",
   "execution_count": 57,
   "metadata": {},
   "outputs": [],
   "source": [
    "query = f'''match (k:Kit {{isContainedKit: True}}) - [:HAS_UNIT] -> (e:Entity) <- [:CORR] - (ev:Event)\n",
    "where (ev.Activity = 'Entrada Material Sucio' \n",
    "or ev.Activity = 'Cargado en carro L+D' \n",
    "or ev.Activity = 'Carga L+D iniciada'\n",
    "or ev.Activity = 'Carga L+D liberada')\n",
    "set k.isContainedKit = False'''\n",
    "session.run(query).single()"
   ]
  }
 ],
 "metadata": {
  "kernelspec": {
   "display_name": "Python 3",
   "language": "python",
   "name": "python3"
  },
  "language_info": {
   "codemirror_mode": {
    "name": "ipython",
    "version": 3
   },
   "file_extension": ".py",
   "mimetype": "text/x-python",
   "name": "python",
   "nbconvert_exporter": "python",
   "pygments_lexer": "ipython3",
   "version": "3.9.18"
  }
 },
 "nbformat": 4,
 "nbformat_minor": 2
}
