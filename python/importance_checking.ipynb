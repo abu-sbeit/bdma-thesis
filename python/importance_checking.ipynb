{
 "cells": [
  {
   "cell_type": "markdown",
   "metadata": {},
   "source": [
    "## Libraries"
   ]
  },
  {
   "cell_type": "code",
   "execution_count": null,
   "metadata": {},
   "outputs": [],
   "source": [
    "import pandas as pd \n",
    "import matplotlib.pyplot as plt \n",
    "import warnings\n",
    "warnings.filterwarnings('ignore')\n",
    "from neo4j import GraphDatabase"
   ]
  },
  {
   "cell_type": "markdown",
   "metadata": {},
   "source": [
    "## Connect to Neo4J database"
   ]
  },
  {
   "cell_type": "code",
   "execution_count": null,
   "metadata": {},
   "outputs": [],
   "source": [
    "driver = GraphDatabase.driver(\"bolt://localhost:7687\", auth=(\"neo4j\", \"Neo4J1234\"))\n",
    "session = driver.session()"
   ]
  },
  {
   "cell_type": "markdown",
   "metadata": {},
   "source": [
    "## Retrieve data from database"
   ]
  },
  {
   "cell_type": "code",
   "execution_count": null,
   "metadata": {},
   "outputs": [],
   "source": [
    "query = '''match (e:Event {Activity: \"Entrada Material Sucio\"})\n",
    "            return e.KitID, e.Código, e.Activity, e.timestamp, e.Usuario'''\n",
    "result = session.run(query)\n",
    "records = [record.values() for record in result]\n",
    "columns = result.keys()\n",
    "df = pd.DataFrame(records, columns=columns)\n",
    "df['e.timestamp'] = pd.to_datetime(df['e.timestamp'], format='%Y-%m-%dT%H:%M:%S.%f%z')\n",
    "df.head()"
   ]
  },
  {
   "cell_type": "code",
   "execution_count": null,
   "metadata": {},
   "outputs": [],
   "source": [
    "df_time = df.copy()\n",
    "df_time.drop(columns=['e.KitID', 'e.Código'], inplace=True)\n",
    "df_time.drop_duplicates(inplace=True)\n",
    "df_time.sort_values(by='e.timestamp', inplace=True)\n",
    "df_time.head()"
   ]
  },
  {
   "cell_type": "code",
   "execution_count": null,
   "metadata": {},
   "outputs": [],
   "source": [
    "\n",
    "time_diff = df_time['e.timestamp'].diff()\n",
    "average_time_diff = time_diff.describe()\n",
    "average_time_diff"
   ]
  },
  {
   "cell_type": "code",
   "execution_count": null,
   "metadata": {},
   "outputs": [],
   "source": [
    "df.sort_values(by='e.timestamp', inplace=True)\n",
    "time_diff = df['e.timestamp'].diff()\n",
    "average_time_diff = time_diff.describe()\n",
    "average_time_diff"
   ]
  },
  {
   "cell_type": "code",
   "execution_count": null,
   "metadata": {},
   "outputs": [],
   "source": [
    "df.sort_values(by=['e.Usuario', 'e.timestamp'], inplace=True)\n",
    "\n",
    "time_diff = df.groupby('e.Usuario')['e.timestamp'].diff()\n",
    "\n",
    "incremental_value = 0\n",
    "for index, row in df.iterrows():\n",
    "    if time_diff[index] <= pd.Timedelta(minutes=1):\n",
    "        incremental_value = 0\n",
    "    else:\n",
    "        incremental_value += 1\n",
    "    df.at[index, 'incremental_value'] = incremental_value\n",
    "\n",
    "df.head()"
   ]
  },
  {
   "cell_type": "code",
   "execution_count": null,
   "metadata": {},
   "outputs": [],
   "source": [
    "query = '''MATCH p=()-[r:DF_CYCLE]->() \n",
    " return r.KitID, r.DurationBetweenSterilizations, r.CycleNumber'''\n",
    "result = session.run(query)\n",
    "records = [record.values() for record in result]\n",
    "columns = result.keys()\n",
    "df = pd.DataFrame(records, columns=columns)\n",
    "df.head()"
   ]
  },
  {
   "cell_type": "code",
   "execution_count": null,
   "metadata": {},
   "outputs": [],
   "source": [
    "csv_file_path = \"/Users/abdalrhman/Documents/bdma-thesis/python/data/duration_between_cycles.csv\"\n",
    "df.to_csv(csv_file_path, index=False)"
   ]
  },
  {
   "cell_type": "code",
   "execution_count": null,
   "metadata": {},
   "outputs": [],
   "source": [
    "df['DurationDifference'] = df.groupby('r.KitID')['r.DurationBetweenSterilizations'].diff()\n",
    "\n",
    "fig, ax = plt.subplots(figsize=(10, 6))\n",
    "\n",
    "for kit_id, group in df.groupby('r.KitID'):\n",
    "    ax.bar(group['r.CycleNumber'], group['DurationDifference'], label=kit_id)\n",
    "\n",
    "ax.set_xlabel('Cycle Number')\n",
    "ax.set_ylabel('Difference in Duration Between Sterilizations')\n",
    "ax.set_title('Difference in Duration Between Sterilizations by Cycle Number')\n",
    "ax.legend()\n",
    "plt.grid(True)\n",
    "plt.tight_layout()\n",
    "plt.show()"
   ]
  },
  {
   "cell_type": "markdown",
   "metadata": {},
   "source": [
    "## Sandbox"
   ]
  },
  {
   "cell_type": "code",
   "execution_count": null,
   "metadata": {},
   "outputs": [],
   "source": [
    "'''MATCH (e: Event {Activity: \"Carga L+D iniciada\"})\n",
    "WITH e AS nodes ORDER BY e.timestamp, ID(e)\n",
    "WITH collect(nodes) AS event_node_list\n",
    "UNWIND range(0, size(event_node_list)-2) AS i\n",
    "WITH event_node_list[i] AS e1, event_node_list[i+1] AS e2\n",
    "where e1.batchID <> e2.batchID and e1.additionalInfo1 is not null\n",
    "return apoc.agg.statistics(duration.between(e1.timestamp, e2.timestamp).minutes)\n",
    "'''\n",
    "\n",
    "\n",
    "'''MATCH ()-[r:DF_CYCLE]->()\n",
    "where r.KitID = 'CONT-HOS.CV-1'\n",
    "WITH collect(r.PreviousCaseID) as cids\n",
    "match (r:Run)\n",
    "where r.CaseID in cids \n",
    "return r.duration, r.activities\n",
    "limit 100'''\n",
    "\n",
    "\n",
    "'''MATCH ()-[r:DF_CYCLE]->()\n",
    "where r.EndActivity in (\"Carga L+D liberada\", \"Carga L+D iniciada\", \"Entrada Material Sucio\", \"Cargado en carro L+D\")\n",
    "WITH collect(r.KitID) as kids\n",
    "MATCH ()-[r:DF_CYCLE]->()\n",
    "where r.KitID in kids and r.EndActivity <> \"Carga L+D liberada\"\n",
    "WITH collect(r.PreviousCaseID) as cids\n",
    "match (r:Run)\n",
    "where r.CaseID in cids and not (r.activities contains \"Montaje\" or r.activities contains \"Producción montada\" or r.activities contains \"Composición de cargas\" or r.activities contains \"Carga de esterilizador liberada\" or r.activities contains \"Comisionado\")\n",
    "return r.ID, r.CaseID, r.duration, r.activities\n",
    "limit 100'''\n",
    "\n",
    "\n",
    "'''MATCH ()-[r:DF_CYCLE]->()\n",
    "where r.EndActivity in [\"Montaje\", \"Producción montada\"]\n",
    "WITH collect(r.KitID) as kids\n",
    "MATCH ()-[r:DF_CYCLE]->()\n",
    "where r.KitID in kids and not r.EndActivity in [\"Entrada Material Sucio\",  \"Cargado en carro L+D\", \"Carga L+D iniciada\", \"Carga L+D liberada\"]\n",
    "WITH collect(r.PreviousCaseID) as pcids, collect(r.NextCaseID) as ncids\n",
    "match (r:Run) <- [:CORR] - (e:LastKitEvent) - [:DF_CYCLE] -> (ev:Event)\n",
    "where r.CaseID in pcids and not (r.activities contains \"Composición de cargas\" or r.activities contains \"Carga de esterilizador liberada\" or r.activities contains \"Comisionado\")\n",
    "//return r.ID, r.CaseID, ev.CaseID, r.start_timestamp, r.end_timestamp, r.duration, r.activities\n",
    "//order by r.ID, r.start_timestamp\n",
    "with collect (ev.CaseID) as ecids\n",
    "match (r:Run) \n",
    "where r.CaseID in ecids\n",
    "return r.ID, r.CaseID, r.start_timestamp, r.end_timestamp, r.duration, r.activities\n",
    "limit 100'''\n",
    "\n",
    "'''MATCH ()-[r:DF_CYCLE]->()\n",
    "where r.EndActivity in [\"Carga L+D liberada\", \"Carga L+D iniciada\", \"Cargado en carro L+D\"]\n",
    "WITH collect(distinct r.KitID) as kids \n",
    "UNWIND range(0, size(kids)-1) AS i\n",
    "with kids[i] as kid\n",
    "match (k:Kit) - [:HAS_UNIT] -> (e:Entity {{ID: kid}})\n",
    "set k.isWashingMachineContainer = True'''"
   ]
  }
 ],
 "metadata": {
  "kernelspec": {
   "display_name": "Python 3",
   "language": "python",
   "name": "python3"
  },
  "language_info": {
   "codemirror_mode": {
    "name": "ipython",
    "version": 3
   },
   "file_extension": ".py",
   "mimetype": "text/x-python",
   "name": "python",
   "nbconvert_exporter": "python",
   "pygments_lexer": "ipython3",
   "version": "3.9.18"
  }
 },
 "nbformat": 4,
 "nbformat_minor": 2
}
