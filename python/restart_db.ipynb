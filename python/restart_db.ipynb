{
 "cells": [
  {
   "cell_type": "markdown",
   "metadata": {},
   "source": [
    "## Libraries"
   ]
  },
  {
   "cell_type": "code",
   "execution_count": 36,
   "metadata": {},
   "outputs": [],
   "source": [
    "from neo4j import GraphDatabase"
   ]
  },
  {
   "cell_type": "markdown",
   "metadata": {},
   "source": [
    "## Connect to Neo4J database"
   ]
  },
  {
   "cell_type": "code",
   "execution_count": 37,
   "metadata": {},
   "outputs": [
    {
     "name": "stderr",
     "output_type": "stream",
     "text": [
      "Failed to write data to connection IPv4Address(('localhost', 7687)) (IPv4Address(('127.0.0.1', 7687)))\n"
     ]
    }
   ],
   "source": [
    "# connection to Neo4J database\n",
    "#driver = GraphDatabase.driver(\"bolt://localhost:7687\", auth=(\"neo4j\", \"Croma2023\"), database= 'usecase')\n",
    "driver = GraphDatabase.driver(\"bolt://localhost:7687\", auth=(\"neo4j\", \"Neo4J1234\"))\n",
    "session = driver.session()"
   ]
  },
  {
   "cell_type": "markdown",
   "metadata": {},
   "source": [
    "## Define function to dalete nodes and relationships "
   ]
  },
  {
   "cell_type": "code",
   "execution_count": 38,
   "metadata": {},
   "outputs": [],
   "source": [
    "# Function to Delete Neo4j node\n",
    "def delete_node_query(node_list  = None, activity_list = None):\n",
    "    if activity_list:\n",
    "        for i in activity_list:\n",
    "            session.run(\n",
    "                f'''MATCH (n:Event {{Activity:\"{i}\"}})\n",
    "                DETACH DELETE n'''\n",
    "            ).single()\n",
    "    else:\n",
    "        for i in node_list:\n",
    "            session.run(\n",
    "                f'''MATCH (n:{i})\n",
    "                DETACH DELETE n'''\n",
    "            ).single()"
   ]
  },
  {
   "cell_type": "markdown",
   "metadata": {},
   "source": [
    "## Start the cleaning procedure"
   ]
  },
  {
   "cell_type": "code",
   "execution_count": 39,
   "metadata": {},
   "outputs": [],
   "source": [
    "node_list = [\"Case\", \"Entity\", \"Class\", \"Employee\", \"Run\"]\n",
    "activity_list = ['Entrada Material Sucio', 'Cargado en carro L+D', 'Carga L+D iniciada',\n",
    "                  'Carga L+D liberada', 'Montaje', 'Producción montada', 'Composición de cargas',\n",
    "                    'Carga de esterilizador liberada', 'Comisionado']\n",
    "delete_node_query(node_list)\n",
    "delete_node_query(activity_list= activity_list)"
   ]
  },
  {
   "cell_type": "code",
   "execution_count": 40,
   "metadata": {},
   "outputs": [],
   "source": [
    "session.run(f'''MATCH (n:Event)\n",
    "                REMOVE n.CaseID''').single()"
   ]
  }
 ],
 "metadata": {
  "kernelspec": {
   "display_name": "Python 3",
   "language": "python",
   "name": "python3"
  },
  "language_info": {
   "codemirror_mode": {
    "name": "ipython",
    "version": 3
   },
   "file_extension": ".py",
   "mimetype": "text/x-python",
   "name": "python",
   "nbconvert_exporter": "python",
   "pygments_lexer": "ipython3",
   "version": "3.9.18"
  }
 },
 "nbformat": 4,
 "nbformat_minor": 2
}
