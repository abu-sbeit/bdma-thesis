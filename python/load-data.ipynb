{
 "cells": [
  {
   "cell_type": "markdown",
   "metadata": {},
   "source": [
    "## Libraries"
   ]
  },
  {
   "cell_type": "code",
   "execution_count": 24,
   "metadata": {},
   "outputs": [],
   "source": [
    "import warnings\n",
    "warnings.filterwarnings('ignore')\n",
    "from neo4j import GraphDatabase\n"
   ]
  },
  {
   "cell_type": "markdown",
   "metadata": {},
   "source": [
    "## Connect to Neo4J database"
   ]
  },
  {
   "cell_type": "code",
   "execution_count": 25,
   "metadata": {},
   "outputs": [],
   "source": [
    "driver = GraphDatabase.driver(\"bolt://localhost:7687\", auth=(\"neo4j\", \"Croma2023\"))\n",
    "#\"Neo4J1234\"\n",
    "session = driver.session()"
   ]
  },
  {
   "cell_type": "markdown",
   "metadata": {},
   "source": [
    "## Define loading functions"
   ]
  },
  {
   "cell_type": "code",
   "execution_count": 26,
   "metadata": {},
   "outputs": [],
   "source": [
    "session = driver.session()\n",
    "def load_original_csv_file(file, NombrePuntoDeControl, activity):\n",
    "    query = f'''LOAD CSV WITH HEADERS FROM \"file:{file}\" AS ems\n",
    "    WITH ems, apoc.date.convertFormat(ems.`Fecha de seguimiento` + ' ' + ems.`Hora de seguimiento` + ':00', 'dd/MM/yyyy H:mm:ss', 'iso_date_time') as converted\n",
    "    CREATE (e:Event {{\n",
    "    NombrePuntoDeControl: \"{NombrePuntoDeControl}\",\n",
    "    KitID: ems.Código + '-' + COALESCE(toInteger(ems.`N/S`), 0),\n",
    "    Código: ems.Código,\n",
    "    NS: COALESCE(toInteger(ems.`N/S`), 0),\n",
    "    Nombre: ems.`Nombre / Descripción`,\n",
    "    Cant: toInteger(ems.`Cant.`),\n",
    "    Activity: \"{activity}\",\n",
    "    timestamp: datetime(converted),\n",
    "    Usuario: ems.Usuario,\n",
    "    TipeDeObjecto: ems.`Tipo de objeto`,\n",
    "    EsPreliminar: ems.`Es preliminar`,\n",
    "    EsFísico: ems.`Es físico`,\n",
    "    EsDenegado:\tems.`Es denegado`,\n",
    "    TipoDeProducción: ems.`Tipo de producción`,\n",
    "    NombreProducción: ems.`Nombre producción`,\n",
    "    InformaciónAdicional: ems.`Información adicional`\n",
    "    }});'''\n",
    "    session.run(query).single()"
   ]
  },
  {
   "cell_type": "code",
   "execution_count": 27,
   "metadata": {},
   "outputs": [],
   "source": [
    "session = driver.session()\n",
    "def load_mod5_csv_file(file, NombrePuntoDeControl, activity):\n",
    "    query = f'''LOAD CSV WITH HEADERS FROM \"file:{file}\" AS ems\n",
    "    WITH ems, apoc.date.convertFormat(ems.`Fecha de seguimiento` + ' ' + ems.`Hora de seguimiento` + ':00', 'dd/MM/yyyy H:mm:ss', 'iso_date_time') as converted\n",
    "    CREATE (e:Event {{\n",
    "    NombrePuntoDeControl: \"{NombrePuntoDeControl}\",\n",
    "    KitID: ems.Código + '-' + COALESCE(toInteger(ems.`N/S`), 0),\n",
    "    Código: ems.Código,\n",
    "    NS: COALESCE(toInteger(ems.`N/S`), 0),\n",
    "    Nombre: ems.`Nombre / Descripción`,\n",
    "    Cant: toInteger(ems.`Cant.`),\n",
    "    Activity: \"{activity}\",\n",
    "    timestamp: datetime(converted),\n",
    "    Usuario: ems.Usuario,\n",
    "    TipeDeObjecto: ems.`Tipo de objeto`,\n",
    "    EsPreliminar: ems.`Es preliminar`,\n",
    "    EsFísico: ems.`Es físico`,\n",
    "    EsDenegado:\tems.`Es denegado`,\n",
    "    TipoDeProducción: ems.`Tipo de producción`,\n",
    "    NombreProducción: ems.`Nombre producción`,\n",
    "    InformaciónAdicional: ems.`Información adicional`,\n",
    "    additionalInfoDate: ems.`additionalInfoDate`,\n",
    "    additionalInfo1: ems.`additionalInfo1`,\n",
    "    additionalInfo2: ems.`additionalInfo2`,\n",
    "    additionalInfo3: ems.`additionalInfo3`,\n",
    "\tadditionalInfo4: ems.`additionalInfo4`,\n",
    "\tadditionalInfo5: ems.`additionalInfo5`\n",
    "    }});'''\n",
    "    session.run(query).single()"
   ]
  },
  {
   "cell_type": "code",
   "execution_count": 28,
   "metadata": {},
   "outputs": [],
   "source": [
    "session = driver.session()\n",
    "def load_mod4_csv_file(file, NombrePuntoDeControl, activity):\n",
    "    query = f'''LOAD CSV WITH HEADERS FROM \"file:{file}\" AS ems\n",
    "    WITH ems, apoc.date.convertFormat(ems.`Fecha de seguimiento` + ' ' + ems.`Hora de seguimiento` + ':00', 'dd/MM/yyyy H:mm:ss', 'iso_date_time') as converted\n",
    "    CREATE (e:Event {{\n",
    "    NombrePuntoDeControl: \"{NombrePuntoDeControl}\",\n",
    "    KitID: ems.Código + '-' + COALESCE(toInteger(ems.`N/S`), 0),\n",
    "    Código: ems.Código,\n",
    "    NS: COALESCE(toInteger(ems.`N/S`), 0),\n",
    "    Nombre: ems.`Nombre / Descripción`,\n",
    "    Cant: toInteger(ems.`Cant.`),\n",
    "    Activity: \"{activity}\",\n",
    "    timestamp: datetime(converted),\n",
    "    Usuario: ems.Usuario,\n",
    "    TipeDeObjecto: ems.`Tipo de objeto`,\n",
    "    EsPreliminar: ems.`Es preliminar`,\n",
    "    EsFísico: ems.`Es físico`,\n",
    "    EsDenegado:\tems.`Es denegado`,\n",
    "    TipoDeProducción: ems.`Tipo de producción`,\n",
    "    NombreProducción: ems.`Nombre producción`,\n",
    "    InformaciónAdicional: ems.`Información adicional`,\n",
    "    additionalInfoDate: ems.`additionalInfoDate`,\n",
    "    additionalInfo1: ems.`additionalInfo1`,\n",
    "    additionalInfo2: ems.`additionalInfo2`,\n",
    "    additionalInfo3: ems.`additionalInfo3`,\n",
    "\tadditionalInfo4: ems.`additionalInfo4`\n",
    "    }});'''\n",
    "    session.run(query).single()"
   ]
  },
  {
   "cell_type": "code",
   "execution_count": 29,
   "metadata": {},
   "outputs": [],
   "source": [
    "session = driver.session()\n",
    "def load_mod1_csv_file(file, NombrePuntoDeControl, activity):\n",
    "    query = f'''LOAD CSV WITH HEADERS FROM \"file:{file}\" AS ems\n",
    "    WITH ems, apoc.date.convertFormat(ems.`Fecha de seguimiento` + ' ' + ems.`Hora de seguimiento` + ':00', 'dd/MM/yyyy H:mm:ss', 'iso_date_time') as converted\n",
    "    CREATE (e:Event {{\n",
    "    NombrePuntoDeControl: \"{NombrePuntoDeControl}\",\n",
    "    KitID: ems.Código + '-' + COALESCE(toInteger(ems.`N/S`), 0),\n",
    "    Código: ems.Código,\n",
    "    NS: COALESCE(toInteger(ems.`N/S`), 0),\n",
    "    Nombre: ems.`Nombre / Descripción`,\n",
    "    Cant: toInteger(ems.`Cant.`),\n",
    "    Activity: \"{activity}\",\n",
    "    timestamp: datetime(converted),\n",
    "    Usuario: ems.Usuario,\n",
    "    TipeDeObjecto: ems.`Tipo de objeto`,\n",
    "    EsPreliminar: ems.`Es preliminar`,\n",
    "    EsFísico: ems.`Es físico`,\n",
    "    EsDenegado:\tems.`Es denegado`,\n",
    "    TipoDeProducción: ems.`Tipo de producción`,\n",
    "    NombreProducción: ems.`Nombre producción`,\n",
    "    InformaciónAdicional: ems.`Información adicional`,\n",
    "\tadditionalInfo5: ems.`additionalInfo5`\n",
    "    }});'''\n",
    "    session.run(query).single()"
   ]
  },
  {
   "cell_type": "markdown",
   "metadata": {},
   "source": [
    "## Load CSV files"
   ]
  },
  {
   "cell_type": "code",
   "execution_count": 30,
   "metadata": {},
   "outputs": [],
   "source": [
    "P10_file_path = \"/P10_Entrada_de_material.csv\"\n",
    "load_original_csv_file(P10_file_path, 'Entrada_Material_Sucio', 'Entrada Material Sucio')\n",
    "P22_file_path = \"/P22_Asignacion_de_Rack_Lavadora.csv\"\n",
    "load_mod1_csv_file(P22_file_path, 'Cargado_en_carro_L+D', 'Cargado en carro L+D')\n",
    "P31_file_path = \"/P31_Carga_de_Lavadora.csv\"\n",
    "load_mod5_csv_file(P31_file_path, 'Carga_L+D_iniciada', 'Carga L+D iniciada')\n",
    "P32_file_path = \"/P32_Carga_de_Lavadora_Liberada.csv\"\n",
    "load_mod5_csv_file(P32_file_path, 'Carga_L+D_liberada', 'Carga L+D liberada')\n",
    "P41_file_path = \"/P41_Inicio_de_Montaje.csv\"\n",
    "load_original_csv_file(P41_file_path, 'Montaje', 'Montaje')\n",
    "P42_file_path = \"/P42_Produccion_montada.csv\"\n",
    "load_original_csv_file(P42_file_path, 'Producción_montada', 'Producción montada')\n",
    "P51_file_path = \"/P51_Carga_de_Esterilizador.csv\"\n",
    "load_mod4_csv_file(P51_file_path, 'Composición_de_cargas', 'Composición de cargas')\n",
    "P52_file_path = \"/P52_Carga_de_esterilizador_liberada.csv\"\n",
    "load_mod4_csv_file(P52_file_path, 'Carga_de_esterilizador_liberada', 'Carga de esterilizador liberada')\n",
    "P60_file_path = \"/P60_Comisionado.csv\"\n",
    "load_original_csv_file(P60_file_path, 'Comisionado', 'Comisionado')"
   ]
  },
  {
   "cell_type": "markdown",
   "metadata": {},
   "source": [
    "## Identify solo activity kits"
   ]
  },
  {
   "cell_type": "code",
   "execution_count": 31,
   "metadata": {},
   "outputs": [
    {
     "name": "stdout",
     "output_type": "stream",
     "text": [
      "['CONT-HOS.NEUMO-3', 'CONT-QUI.CG-1', 'TRAN-QUI.TRA.ZIMMER-7', 'CONT-QUI.CG-5', 'TRAN-QUI.TRA.MBA-10', 'TRAN-QUI.TRA.ZIMMER-4', 'TRAN-QUI.TRA.SYNTHES-1', 'CONT-CCEE.CP-2', 'CONT-HOS.UCIA-3', 'TRAN-QUI.TRA.ZIMMER-3', 'TRAN-QUI.TRA.ZIMMER-5', 'TRAN-QUI.TRA.ACUMED-3', 'HGY-CONTENEDOR-0', 'CONT-HOS.UCIC-3', 'CONT-CCEE.GINE-5', 'TRAN-QUI.NEUR.PRIM-4', 'CONT-HOS.CG-3', 'TRAN-QUI.TRA.LINK-4', 'HGY-QUI.NF.CAJA-0']\n"
     ]
    }
   ],
   "source": [
    "#Only Entrada\n",
    "query = f'''MATCH (e:Event)\n",
    "WITH e.KitID as code, collect(e) as events\n",
    "WHERE none(event in events where event.Activity = \"Cargado en carro L+D\")\n",
    "and none(event in events where event.Activity = \"Carga L+D iniciada\") \n",
    "and none(event in events where event.Activity = \"Carga L+D liberada\")\n",
    "and none(event in events where event.Activity = \"Montaje\")\n",
    "and none(event in events where event.Activity = \"Producción montada\")\n",
    "and none(event in events where event.Activity = \"Composición de cargas\")\n",
    "and none(event in events where event.Activity = \"Carga de esterilizador liberada\")\n",
    "and none(event in events where event.Activity = \"Comisionado\")\n",
    "return code'''\n",
    "result = session.run(query).value()\n",
    "print(result)"
   ]
  },
  {
   "cell_type": "code",
   "execution_count": 32,
   "metadata": {},
   "outputs": [
    {
     "name": "stdout",
     "output_type": "stream",
     "text": [
      "['EXT-QUI.OFT.001-3', 'TRAN-QUI.TRA.LINK-6', 'CONT-CCEE.URO-2', 'EQP-DAVINCI.007-2', 'EQP-DAVINCI.007-3']\n"
     ]
    }
   ],
   "source": [
    "#Only Cargado en carro L+D\n",
    "query = f'''MATCH (e:Event)\n",
    "WITH e.KitID as code, collect(e) as events\n",
    "WHERE none(event in events where event.Activity = \"Entrada Material Sucio\")\n",
    "and none(event in events where event.Activity = \"Carga L+D iniciada\") \n",
    "and none(event in events where event.Activity = \"Carga L+D liberada\")\n",
    "and none(event in events where event.Activity = \"Montaje\")\n",
    "and none(event in events where event.Activity = \"Producción montada\")\n",
    "and none(event in events where event.Activity = \"Composición de cargas\")\n",
    "and none(event in events where event.Activity = \"Carga de esterilizador liberada\")\n",
    "and none(event in events where event.Activity = \"Comisionado\")\n",
    "return code'''\n",
    "result = session.run(query).value()\n",
    "print(result)"
   ]
  },
  {
   "cell_type": "code",
   "execution_count": 33,
   "metadata": {},
   "outputs": [
    {
     "name": "stdout",
     "output_type": "stream",
     "text": [
      "['HUBU-HOS.PCP.BN054R-0', 'HUBU-CCEE.ORL.014-1', 'HUBU-QUI.TR.LX558R-0', 'TRAN-QUI.NEUR.MEDTRO-2', 'HUBU-HOS.ORL.BD220R-0', 'EQP-QUI.CG.002-1', 'TRAN-QUI.GIN.HOLOGIC-1', 'HUBU-HOS.NEUC.AN381R-0', 'DEP-QUI.TRA.STRYK-35', 'HUBU-QUI.URO.004-1', 'EQP-QUI.URO.008-3', 'HUBU-HOS.URO.BH110R-0', 'HNB-CPL.003-20', 'HUBU-ANAT.BD027R-0', 'HUBU-QUI.TR.GA031201-0', 'EXT-QUI.GIN.001-0', 'HNB-CV.001-4', 'HUBU-HOS.CARD.AN381R-0', 'HUBU-HOS.OBST.BB073R-0', 'DEP-QUI.TRA.ZIMMER-22', 'HNB-CG.011-1', 'HNB-OFT.013-9', 'DEP-QUI.TRA-15', 'HUBU-QUI.CG.OP913-0', 'HUBU-HOS.CGA.AN381R-0', 'Prueba_01-1', 'HUBU.QUI.ARTR.010680-0', 'HUBU-CCEE.ORL.OF768R-0', 'HUBU-QUI.TRA.LX152R-0', 'EXT-INVESTIGACION-0', 'HNB-GIN.014-19', 'Prueba_03-3', 'HNB-CPL.003-19', 'Prueba_01-0', 'TRAN-QUI.NEUR.MEDTRO-1']\n"
     ]
    }
   ],
   "source": [
    "#Only Montaje\n",
    "query = f'''MATCH (e:Event)\n",
    "WITH e.KitID as code, collect(e) as events\n",
    "WHERE none(event in events where event.Activity = \"Entrada Material Sucio\")\n",
    "and none(event in events where event.Activity = \"Cargado en carro L+D\")\n",
    "and none(event in events where event.Activity = \"Carga L+D iniciada\") \n",
    "and none(event in events where event.Activity = \"Carga L+D liberada\")\n",
    "and none(event in events where event.Activity = \"Producción montada\")\n",
    "and none(event in events where event.Activity = \"Composición de cargas\")\n",
    "and none(event in events where event.Activity = \"Carga de esterilizador liberada\")\n",
    "and none(event in events where event.Activity = \"Comisionado\")\n",
    "return code'''\n",
    "result = session.run(query).value()\n",
    "print(result)"
   ]
  },
  {
   "cell_type": "code",
   "execution_count": 34,
   "metadata": {},
   "outputs": [
    {
     "name": "stdout",
     "output_type": "stream",
     "text": [
      "['HUBU-GIN.026-2', 'HNB-CG.002-1', 'HNB-GIN.006-1']\n"
     ]
    }
   ],
   "source": [
    "#Only Comisionado\n",
    "query = f'''MATCH (e:Event)\n",
    "WITH e.KitID as code, collect(e) as events\n",
    "WHERE none(event in events where event.Activity = \"Entrada Material Sucio\")\n",
    "and none(event in events where event.Activity = \"Cargado en carro L+D\")\n",
    "and none(event in events where event.Activity = \"Carga L+D iniciada\") \n",
    "and none(event in events where event.Activity = \"Carga L+D liberada\")\n",
    "and none(event in events where event.Activity = \"Montaje\")\n",
    "and none(event in events where event.Activity = \"Producción montada\")\n",
    "and none(event in events where event.Activity = \"Composición de cargas\")\n",
    "and none(event in events where event.Activity = \"Carga de esterilizador liberada\")\n",
    "return code'''\n",
    "result = session.run(query).value()\n",
    "print(result)"
   ]
  },
  {
   "cell_type": "markdown",
   "metadata": {},
   "source": [
    "## Remove solo activity kits"
   ]
  },
  {
   "cell_type": "code",
   "execution_count": 35,
   "metadata": {},
   "outputs": [
    {
     "data": {
      "text/plain": [
       "<neo4j._sync.work.result.Result at 0x11f44cd60>"
      ]
     },
     "execution_count": 35,
     "metadata": {},
     "output_type": "execute_result"
    }
   ],
   "source": [
    "query = f'''MATCH (e:Event)\n",
    "WITH e.KitID as code, collect(e) as events\n",
    "WHERE none(event in events where event.Activity = \"Cargado en carro L+D\")\n",
    "and none(event in events where event.Activity = \"Carga L+D iniciada\") \n",
    "and none(event in events where event.Activity = \"Carga L+D liberada\")\n",
    "and none(event in events where event.Activity = \"Montaje\")\n",
    "and none(event in events where event.Activity = \"Producción montada\")\n",
    "and none(event in events where event.Activity = \"Composición de cargas\")\n",
    "and none(event in events where event.Activity = \"Carga de esterilizador liberada\")\n",
    "and none(event in events where event.Activity = \"Comisionado\")\n",
    "unwind events as event\n",
    "delete event'''\n",
    "session.run(query)"
   ]
  },
  {
   "cell_type": "code",
   "execution_count": 36,
   "metadata": {},
   "outputs": [
    {
     "data": {
      "text/plain": [
       "<neo4j._sync.work.result.Result at 0x11f44caf0>"
      ]
     },
     "execution_count": 36,
     "metadata": {},
     "output_type": "execute_result"
    }
   ],
   "source": [
    "query = f'''MATCH (e:Event)\n",
    "WITH e.KitID as code, collect(e) as events\n",
    "WHERE none(event in events where event.Activity = \"Entrada Material Sucio\")\n",
    "and none(event in events where event.Activity = \"Carga L+D iniciada\") \n",
    "and none(event in events where event.Activity = \"Carga L+D liberada\")\n",
    "and none(event in events where event.Activity = \"Montaje\")\n",
    "and none(event in events where event.Activity = \"Producción montada\")\n",
    "and none(event in events where event.Activity = \"Composición de cargas\")\n",
    "and none(event in events where event.Activity = \"Carga de esterilizador liberada\")\n",
    "and none(event in events where event.Activity = \"Comisionado\")\n",
    "unwind events as event\n",
    "delete event'''\n",
    "session.run(query)"
   ]
  },
  {
   "cell_type": "code",
   "execution_count": 37,
   "metadata": {},
   "outputs": [
    {
     "data": {
      "text/plain": [
       "<neo4j._sync.work.result.Result at 0x11ccad4c0>"
      ]
     },
     "execution_count": 37,
     "metadata": {},
     "output_type": "execute_result"
    }
   ],
   "source": [
    "query = f'''MATCH (e:Event)\n",
    "WITH e.KitID as code, collect(e) as events\n",
    "WHERE none(event in events where event.Activity = \"Entrada Material Sucio\")\n",
    "and none(event in events where event.Activity = \"Cargado en carro L+D\")\n",
    "and none(event in events where event.Activity = \"Carga L+D iniciada\") \n",
    "and none(event in events where event.Activity = \"Carga L+D liberada\")\n",
    "and none(event in events where event.Activity = \"Producción montada\")\n",
    "and none(event in events where event.Activity = \"Composición de cargas\")\n",
    "and none(event in events where event.Activity = \"Carga de esterilizador liberada\")\n",
    "and none(event in events where event.Activity = \"Comisionado\")\n",
    "unwind events as event\n",
    "delete event'''\n",
    "session.run(query)"
   ]
  },
  {
   "cell_type": "code",
   "execution_count": 38,
   "metadata": {},
   "outputs": [
    {
     "data": {
      "text/plain": [
       "<neo4j._sync.work.result.Result at 0x11f345e50>"
      ]
     },
     "execution_count": 38,
     "metadata": {},
     "output_type": "execute_result"
    }
   ],
   "source": [
    "query = f'''MATCH (e:Event)\n",
    "WITH e.KitID as code, collect(e) as events\n",
    "WHERE none(event in events where event.Activity = \"Entrada Material Sucio\")\n",
    "and none(event in events where event.Activity = \"Cargado en carro L+D\")\n",
    "and none(event in events where event.Activity = \"Carga L+D iniciada\") \n",
    "and none(event in events where event.Activity = \"Carga L+D liberada\")\n",
    "and none(event in events where event.Activity = \"Montaje\")\n",
    "and none(event in events where event.Activity = \"Producción montada\")\n",
    "and none(event in events where event.Activity = \"Composición de cargas\")\n",
    "and none(event in events where event.Activity = \"Carga de esterilizador liberada\")\n",
    "unwind events as event\n",
    "delete event'''\n",
    "session.run(query)"
   ]
  }
 ],
 "metadata": {
  "kernelspec": {
   "display_name": "Python 3",
   "language": "python",
   "name": "python3"
  },
  "language_info": {
   "codemirror_mode": {
    "name": "ipython",
    "version": 3
   },
   "file_extension": ".py",
   "mimetype": "text/x-python",
   "name": "python",
   "nbconvert_exporter": "python",
   "pygments_lexer": "ipython3",
   "version": "3.9.18"
  }
 },
 "nbformat": 4,
 "nbformat_minor": 2
}
