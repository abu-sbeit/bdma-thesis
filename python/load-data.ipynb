{
 "cells": [
  {
   "cell_type": "markdown",
   "metadata": {},
   "source": [
    "## Libraries"
   ]
  },
  {
   "cell_type": "code",
   "execution_count": null,
   "metadata": {},
   "outputs": [],
   "source": [
    "import warnings\n",
    "warnings.filterwarnings('ignore')\n",
    "from neo4j import GraphDatabase\n"
   ]
  },
  {
   "cell_type": "markdown",
   "metadata": {},
   "source": [
    "## Connect to Neo4J database"
   ]
  },
  {
   "cell_type": "code",
   "execution_count": null,
   "metadata": {},
   "outputs": [],
   "source": [
    "driver = GraphDatabase.driver(\"bolt://localhost:7687\", auth=(\"neo4j\", \"Neo4J1234\"))\n",
    "session = driver.session()"
   ]
  },
  {
   "cell_type": "markdown",
   "metadata": {},
   "source": [
    "## Define loading functions"
   ]
  },
  {
   "cell_type": "code",
   "execution_count": null,
   "metadata": {},
   "outputs": [],
   "source": [
    "session = driver.session()\n",
    "def load_original_csv_file(file, NombrePuntoDeControl, activity):\n",
    "    query = f'''LOAD CSV WITH HEADERS FROM \"file:{file}\" AS ems\n",
    "    WITH ems, apoc.date.convertFormat(ems.`Fecha de seguimiento` + ' ' + ems.`Hora de seguimiento` + ':00', 'dd/MM/yyyy H:mm:ss', 'iso_date_time') as converted\n",
    "    CREATE (e:Event {{\n",
    "    NombrePuntoDeControl: \"{NombrePuntoDeControl}\",\n",
    "    KitID: ems.Código + '-' + COALESCE(toInteger(ems.`N/S`), 0),\n",
    "    Código: ems.Código,\n",
    "    NS: COALESCE(toInteger(ems.`N/S`), 0),\n",
    "    Nombre: ems.`Nombre / Descripción`,\n",
    "    Cant: toInteger(ems.`Cant.`),\n",
    "    Activity: \"{activity}\",\n",
    "    timestamp: datetime(converted),\n",
    "    Usuario: ems.Usuario,\n",
    "    TipeDeObjecto: ems.`Tipo de objeto`,\n",
    "    EsPreliminar: ems.`Es preliminar`,\n",
    "    EsFísico: ems.`Es físico`,\n",
    "    EsDenegado:\tems.`Es denegado`,\n",
    "    TipoDeProducción: ems.`Tipo de producción`,\n",
    "    NombreProducción: ems.`Nombre producción`,\n",
    "    InformaciónAdicional: ems.`Información adicional`\n",
    "    }});'''\n",
    "    session.run(query).single()"
   ]
  },
  {
   "cell_type": "code",
   "execution_count": null,
   "metadata": {},
   "outputs": [],
   "source": [
    "session = driver.session()\n",
    "def load_mod5_csv_file(file, NombrePuntoDeControl, activity):\n",
    "    query = f'''LOAD CSV WITH HEADERS FROM \"file:{file}\" AS ems\n",
    "    WITH ems, apoc.date.convertFormat(ems.`Fecha de seguimiento` + ' ' + ems.`Hora de seguimiento` + ':00', 'dd/MM/yyyy H:mm:ss', 'iso_date_time') as converted\n",
    "    CREATE (e:Event {{\n",
    "    NombrePuntoDeControl: \"{NombrePuntoDeControl}\",\n",
    "    KitID: ems.Código + '-' + COALESCE(toInteger(ems.`N/S`), 0),\n",
    "    Código: ems.Código,\n",
    "    NS: COALESCE(toInteger(ems.`N/S`), 0),\n",
    "    Nombre: ems.`Nombre / Descripción`,\n",
    "    Cant: toInteger(ems.`Cant.`),\n",
    "    Activity: \"{activity}\",\n",
    "    timestamp: datetime(converted),\n",
    "    Usuario: ems.Usuario,\n",
    "    TipeDeObjecto: ems.`Tipo de objeto`,\n",
    "    EsPreliminar: ems.`Es preliminar`,\n",
    "    EsFísico: ems.`Es físico`,\n",
    "    EsDenegado:\tems.`Es denegado`,\n",
    "    TipoDeProducción: ems.`Tipo de producción`,\n",
    "    NombreProducción: ems.`Nombre producción`,\n",
    "    InformaciónAdicional: ems.`Información adicional`,\n",
    "    additionalInfoDate: ems.`additionalInfoDate`,\n",
    "    additionalInfo1: ems.`additionalInfo1`,\n",
    "    additionalInfo2: ems.`additionalInfo2`,\n",
    "    additionalInfo3: ems.`additionalInfo3`,\n",
    "\tadditionalInfo4: ems.`additionalInfo4`,\n",
    "\tadditionalInfo5: ems.`additionalInfo5`\n",
    "    }});'''\n",
    "    session.run(query).single()"
   ]
  },
  {
   "cell_type": "code",
   "execution_count": null,
   "metadata": {},
   "outputs": [],
   "source": [
    "session = driver.session()\n",
    "def load_mod4_csv_file(file, NombrePuntoDeControl, activity):\n",
    "    query = f'''LOAD CSV WITH HEADERS FROM \"file:{file}\" AS ems\n",
    "    WITH ems, apoc.date.convertFormat(ems.`Fecha de seguimiento` + ' ' + ems.`Hora de seguimiento` + ':00', 'dd/MM/yyyy H:mm:ss', 'iso_date_time') as converted\n",
    "    CREATE (e:Event {{\n",
    "    NombrePuntoDeControl: \"{NombrePuntoDeControl}\",\n",
    "    KitID: ems.Código + '-' + COALESCE(toInteger(ems.`N/S`), 0),\n",
    "    Código: ems.Código,\n",
    "    NS: COALESCE(toInteger(ems.`N/S`), 0),\n",
    "    Nombre: ems.`Nombre / Descripción`,\n",
    "    Cant: toInteger(ems.`Cant.`),\n",
    "    Activity: \"{activity}\",\n",
    "    timestamp: datetime(converted),\n",
    "    Usuario: ems.Usuario,\n",
    "    TipeDeObjecto: ems.`Tipo de objeto`,\n",
    "    EsPreliminar: ems.`Es preliminar`,\n",
    "    EsFísico: ems.`Es físico`,\n",
    "    EsDenegado:\tems.`Es denegado`,\n",
    "    TipoDeProducción: ems.`Tipo de producción`,\n",
    "    NombreProducción: ems.`Nombre producción`,\n",
    "    InformaciónAdicional: ems.`Información adicional`,\n",
    "    additionalInfoDate: ems.`additionalInfoDate`,\n",
    "    additionalInfo1: ems.`additionalInfo1`,\n",
    "    additionalInfo2: ems.`additionalInfo2`,\n",
    "    additionalInfo3: ems.`additionalInfo3`,\n",
    "\tadditionalInfo4: ems.`additionalInfo4`\n",
    "    }});'''\n",
    "    session.run(query).single()"
   ]
  },
  {
   "cell_type": "markdown",
   "metadata": {},
   "source": [
    "## Load CSV files"
   ]
  },
  {
   "cell_type": "code",
   "execution_count": null,
   "metadata": {},
   "outputs": [],
   "source": [
    "P10_file_path = \"/P10_Entrada_de_material.csv\"\n",
    "load_original_csv_file(P10_file_path, 'Entrada_Material_Sucio', 'Entrada Material Sucio')\n",
    "P22_file_path = \"/P22_Asignacion_de_Rack_Lavadora.csv\"\n",
    "load_original_csv_file(P22_file_path, 'Cargado_en_carro_L+D', 'Cargado en carro L+D')\n",
    "P31_file_path = \"/P31_Carga_de_Lavadora.csv\"\n",
    "load_mod5_csv_file(P31_file_path, 'Carga_L+D_iniciada', 'Carga L+D iniciada')\n",
    "P32_file_path = \"/P32_Carga_de_Lavadora_Liberada.csv\"\n",
    "load_mod5_csv_file(P32_file_path, 'Carga_L+D_liberada', 'Carga L+D liberada')\n",
    "P41_file_path = \"/P41_Inicio_de_Montaje.csv\"\n",
    "load_original_csv_file(P41_file_path, 'Montaje', 'Montaje')\n",
    "P42_file_path = \"/P42_Produccion_montada.csv\"\n",
    "load_original_csv_file(P42_file_path, 'Producción_montada', 'Producción montada')\n",
    "P51_file_path = \"/P51_Carga_de_Esterilizador.csv\"\n",
    "load_mod4_csv_file(P51_file_path, 'Composición_de_cargas', 'Composición de cargas')\n",
    "P52_file_path = \"/P52_Carga_de_esterilizador_liberada.csv\"\n",
    "load_mod4_csv_file(P52_file_path, 'Carga_de_esterilizador_liberada', 'Carga de esterilizador liberada')\n",
    "P60_file_path = \"/P60_Comisionado.csv\"\n",
    "load_original_csv_file(P60_file_path, 'Comisionado', 'Comisionado')"
   ]
  },
  {
   "cell_type": "markdown",
   "metadata": {},
   "source": [
    "## Identify solo activity kits"
   ]
  },
  {
   "cell_type": "code",
   "execution_count": null,
   "metadata": {},
   "outputs": [],
   "source": [
    "query = f'''MATCH (e:Event)\n",
    "WITH e.KitID as code, collect(e) as events\n",
    "WHERE none(event in events where event.Activity = \"Cargado en carro L+D\")\n",
    "and none(event in events where event.Activity = \"Carga L+D iniciada\") \n",
    "and none(event in events where event.Activity = \"Carga L+D liberada\")\n",
    "and none(event in events where event.Activity = \"Montaje\")\n",
    "and none(event in events where event.Activity = \"Producción montada\")\n",
    "and none(event in events where event.Activity = \"Composición de cargas\")\n",
    "and none(event in events where event.Activity = \"Carga de esterilizador liberada\")\n",
    "and none(event in events where event.Activity = \"Comisionado\")\n",
    "return code'''\n",
    "result = session.run(query).value()\n",
    "print(result)"
   ]
  },
  {
   "cell_type": "code",
   "execution_count": null,
   "metadata": {},
   "outputs": [],
   "source": [
    "query = f'''MATCH (e:Event)\n",
    "WITH e.KitID as code, collect(e) as events\n",
    "WHERE none(event in events where event.Activity = \"Entrada Material Sucio\")\n",
    "and none(event in events where event.Activity = \"Carga L+D iniciada\") \n",
    "and none(event in events where event.Activity = \"Carga L+D liberada\")\n",
    "and none(event in events where event.Activity = \"Montaje\")\n",
    "and none(event in events where event.Activity = \"Producción montada\")\n",
    "and none(event in events where event.Activity = \"Composición de cargas\")\n",
    "and none(event in events where event.Activity = \"Carga de esterilizador liberada\")\n",
    "and none(event in events where event.Activity = \"Comisionado\")\n",
    "return code'''\n",
    "result = session.run(query).value()\n",
    "print(result)"
   ]
  },
  {
   "cell_type": "code",
   "execution_count": null,
   "metadata": {},
   "outputs": [],
   "source": [
    "query = f'''MATCH (e:Event)\n",
    "WITH e.KitID as code, collect(e) as events\n",
    "WHERE none(event in events where event.Activity = \"Entrada Material Sucio\")\n",
    "and none(event in events where event.Activity = \"Cargado en carro L+D\")\n",
    "and none(event in events where event.Activity = \"Carga L+D iniciada\") \n",
    "and none(event in events where event.Activity = \"Carga L+D liberada\")\n",
    "and none(event in events where event.Activity = \"Producción montada\")\n",
    "and none(event in events where event.Activity = \"Composición de cargas\")\n",
    "and none(event in events where event.Activity = \"Carga de esterilizador liberada\")\n",
    "and none(event in events where event.Activity = \"Comisionado\")\n",
    "return code'''\n",
    "result = session.run(query).value()\n",
    "print(result)"
   ]
  },
  {
   "cell_type": "code",
   "execution_count": null,
   "metadata": {},
   "outputs": [],
   "source": [
    "query = f'''MATCH (e:Event)\n",
    "WITH e.KitID as code, collect(e) as events\n",
    "WHERE none(event in events where event.Activity = \"Entrada Material Sucio\")\n",
    "and none(event in events where event.Activity = \"Cargado en carro L+D\")\n",
    "and none(event in events where event.Activity = \"Carga L+D iniciada\") \n",
    "and none(event in events where event.Activity = \"Carga L+D liberada\")\n",
    "and none(event in events where event.Activity = \"Montaje\")\n",
    "and none(event in events where event.Activity = \"Producción montada\")\n",
    "and none(event in events where event.Activity = \"Composición de cargas\")\n",
    "and none(event in events where event.Activity = \"Carga de esterilizador liberada\")\n",
    "return code'''\n",
    "result = session.run(query).value()\n",
    "print(result)"
   ]
  },
  {
   "cell_type": "markdown",
   "metadata": {},
   "source": [
    "## Remove solo activity kits"
   ]
  },
  {
   "cell_type": "code",
   "execution_count": null,
   "metadata": {},
   "outputs": [],
   "source": [
    "query = f'''MATCH (e:Event)\n",
    "WITH e.KitID as code, collect(e) as events\n",
    "WHERE none(event in events where event.Activity = \"Cargado en carro L+D\")\n",
    "and none(event in events where event.Activity = \"Carga L+D iniciada\") \n",
    "and none(event in events where event.Activity = \"Carga L+D liberada\")\n",
    "and none(event in events where event.Activity = \"Montaje\")\n",
    "and none(event in events where event.Activity = \"Producción montada\")\n",
    "and none(event in events where event.Activity = \"Composición de cargas\")\n",
    "and none(event in events where event.Activity = \"Carga de esterilizador liberada\")\n",
    "and none(event in events where event.Activity = \"Comisionado\")\n",
    "unwind events as event\n",
    "delete event'''\n",
    "session.run(query)"
   ]
  },
  {
   "cell_type": "code",
   "execution_count": null,
   "metadata": {},
   "outputs": [],
   "source": [
    "query = f'''MATCH (e:Event)\n",
    "WITH e.KitID as code, collect(e) as events\n",
    "WHERE none(event in events where event.Activity = \"Entrada Material Sucio\")\n",
    "and none(event in events where event.Activity = \"Carga L+D iniciada\") \n",
    "and none(event in events where event.Activity = \"Carga L+D liberada\")\n",
    "and none(event in events where event.Activity = \"Montaje\")\n",
    "and none(event in events where event.Activity = \"Producción montada\")\n",
    "and none(event in events where event.Activity = \"Composición de cargas\")\n",
    "and none(event in events where event.Activity = \"Carga de esterilizador liberada\")\n",
    "and none(event in events where event.Activity = \"Comisionado\")\n",
    "unwind events as event\n",
    "delete event'''\n",
    "session.run(query)"
   ]
  },
  {
   "cell_type": "code",
   "execution_count": null,
   "metadata": {},
   "outputs": [],
   "source": [
    "query = f'''MATCH (e:Event)\n",
    "WITH e.KitID as code, collect(e) as events\n",
    "WHERE none(event in events where event.Activity = \"Entrada Material Sucio\")\n",
    "and none(event in events where event.Activity = \"Cargado en carro L+D\")\n",
    "and none(event in events where event.Activity = \"Carga L+D iniciada\") \n",
    "and none(event in events where event.Activity = \"Carga L+D liberada\")\n",
    "and none(event in events where event.Activity = \"Producción montada\")\n",
    "and none(event in events where event.Activity = \"Composición de cargas\")\n",
    "and none(event in events where event.Activity = \"Carga de esterilizador liberada\")\n",
    "and none(event in events where event.Activity = \"Comisionado\")\n",
    "unwind events as event\n",
    "delete event'''\n",
    "session.run(query)"
   ]
  },
  {
   "cell_type": "code",
   "execution_count": null,
   "metadata": {},
   "outputs": [],
   "source": [
    "query = f'''MATCH (e:Event)\n",
    "WITH e.KitID as code, collect(e) as events\n",
    "WHERE none(event in events where event.Activity = \"Entrada Material Sucio\")\n",
    "and none(event in events where event.Activity = \"Cargado en carro L+D\")\n",
    "and none(event in events where event.Activity = \"Carga L+D iniciada\") \n",
    "and none(event in events where event.Activity = \"Carga L+D liberada\")\n",
    "and none(event in events where event.Activity = \"Montaje\")\n",
    "and none(event in events where event.Activity = \"Producción montada\")\n",
    "and none(event in events where event.Activity = \"Composición de cargas\")\n",
    "and none(event in events where event.Activity = \"Carga de esterilizador liberada\")\n",
    "unwind events as event\n",
    "delete event'''\n",
    "session.run(query)"
   ]
  }
 ],
 "metadata": {
  "language_info": {
   "name": "python"
  }
 },
 "nbformat": 4,
 "nbformat_minor": 2
}
