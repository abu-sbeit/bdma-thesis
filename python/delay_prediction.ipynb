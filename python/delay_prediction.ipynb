{
 "cells": [
  {
   "cell_type": "markdown",
   "metadata": {},
   "source": [
    "## Libraries"
   ]
  },
  {
   "cell_type": "code",
   "execution_count": 111,
   "metadata": {},
   "outputs": [],
   "source": [
    "from sklearn.metrics import accuracy_score\n",
    "from sklearn.metrics import precision_score\n",
    "from sklearn.metrics import recall_score\n",
    "from sklearn.metrics import jaccard_score\n",
    "from sklearn.metrics import confusion_matrix\n",
    "from sklearn.metrics import f1_score\n",
    "import plotly.express as px\n",
    "from sklearn import metrics\n",
    "from sklearn.ensemble import RandomForestClassifier\n",
    "import pandas as pd \n",
    "import matplotlib.pyplot as plt \n",
    "import warnings\n",
    "warnings.filterwarnings('ignore')\n",
    "from neo4j import GraphDatabase\n",
    "from pm4py.objects.log.obj import EventLog, Trace\n",
    "import pm4py\n",
    "import numpy as np\n",
    "import pickle\n",
    "from sklearn.tree import DecisionTreeClassifier\n",
    "from sklearn import tree\n",
    "from sklearn.linear_model import LogisticRegression\n",
    "from sklearn.model_selection import GridSearchCV, cross_validate\n",
    "from sklearn.model_selection import train_test_split\n",
    "from sklearn.preprocessing import LabelEncoder"
   ]
  },
  {
   "cell_type": "markdown",
   "metadata": {},
   "source": [
    "## Connect to Neo4J database"
   ]
  },
  {
   "cell_type": "code",
   "execution_count": 112,
   "metadata": {},
   "outputs": [],
   "source": [
    "driver = GraphDatabase.driver(\"bolt://localhost:7687\", auth=(\"Username\", \"Password\"))\n",
    "session = driver.session()"
   ]
  },
  {
   "cell_type": "markdown",
   "metadata": {},
   "source": [
    "## Retrieve data "
   ]
  },
  {
   "cell_type": "code",
   "execution_count": 113,
   "metadata": {},
   "outputs": [
    {
     "data": {
      "text/html": [
       "<div>\n",
       "<style scoped>\n",
       "    .dataframe tbody tr th:only-of-type {\n",
       "        vertical-align: middle;\n",
       "    }\n",
       "\n",
       "    .dataframe tbody tr th {\n",
       "        vertical-align: top;\n",
       "    }\n",
       "\n",
       "    .dataframe thead th {\n",
       "        text-align: right;\n",
       "    }\n",
       "</style>\n",
       "<table border=\"1\" class=\"dataframe\">\n",
       "  <thead>\n",
       "    <tr style=\"text-align: right;\">\n",
       "      <th></th>\n",
       "      <th>e.CaseID</th>\n",
       "      <th>e.KitID</th>\n",
       "      <th>n.startTimestamp</th>\n",
       "      <th>n.endTimestamp</th>\n",
       "      <th>e.Activity</th>\n",
       "      <th>e.Usuario</th>\n",
       "      <th>e.timestamp</th>\n",
       "      <th>w.machine</th>\n",
       "      <th>r.name</th>\n",
       "      <th>s.machine</th>\n",
       "      <th>s.type</th>\n",
       "      <th>e.batchID</th>\n",
       "    </tr>\n",
       "  </thead>\n",
       "  <tbody>\n",
       "    <tr>\n",
       "      <th>0</th>\n",
       "      <td>EQP-QUI.ORL.OPT-14-CN35128</td>\n",
       "      <td>EQP-QUI.ORL.OPT-14</td>\n",
       "      <td>2022-03-31T10:50:00.000000000+00:00</td>\n",
       "      <td>2022-03-31T14:26:00.000000000+00:00</td>\n",
       "      <td>Carga L+D liberada</td>\n",
       "      <td>MCE</td>\n",
       "      <td>2022-03-31 12:04:00+00:00</td>\n",
       "      <td>None</td>\n",
       "      <td>None</td>\n",
       "      <td>None</td>\n",
       "      <td>None</td>\n",
       "      <td>b60282</td>\n",
       "    </tr>\n",
       "    <tr>\n",
       "      <th>1</th>\n",
       "      <td>EQP-QUI.ORL.OPT-14-CN35128</td>\n",
       "      <td>EQP-QUI.ORL.OPT-14</td>\n",
       "      <td>2022-03-31T10:50:00.000000000+00:00</td>\n",
       "      <td>2022-03-31T14:26:00.000000000+00:00</td>\n",
       "      <td>Carga L+D iniciada</td>\n",
       "      <td>BM</td>\n",
       "      <td>2022-03-31 11:02:00+00:00</td>\n",
       "      <td>None</td>\n",
       "      <td>None</td>\n",
       "      <td>None</td>\n",
       "      <td>None</td>\n",
       "      <td>b44646</td>\n",
       "    </tr>\n",
       "    <tr>\n",
       "      <th>2</th>\n",
       "      <td>EQP-QUI.ORL.OPT-14-CN35128</td>\n",
       "      <td>EQP-QUI.ORL.OPT-14</td>\n",
       "      <td>2022-03-31T10:50:00.000000000+00:00</td>\n",
       "      <td>2022-03-31T14:26:00.000000000+00:00</td>\n",
       "      <td>Composición de cargas</td>\n",
       "      <td>EH</td>\n",
       "      <td>2022-03-31 12:41:00+00:00</td>\n",
       "      <td>None</td>\n",
       "      <td>None</td>\n",
       "      <td>Autoclave 1</td>\n",
       "      <td>High Temperature Sterilization</td>\n",
       "      <td>b137103</td>\n",
       "    </tr>\n",
       "    <tr>\n",
       "      <th>3</th>\n",
       "      <td>EQP-QUI.ORL.OPT-14-CN35128</td>\n",
       "      <td>EQP-QUI.ORL.OPT-14</td>\n",
       "      <td>2022-03-31T10:50:00.000000000+00:00</td>\n",
       "      <td>2022-03-31T14:26:00.000000000+00:00</td>\n",
       "      <td>Montaje</td>\n",
       "      <td>PN</td>\n",
       "      <td>2022-03-31 12:19:00+00:00</td>\n",
       "      <td>None</td>\n",
       "      <td>None</td>\n",
       "      <td>None</td>\n",
       "      <td>None</td>\n",
       "      <td>b99106</td>\n",
       "    </tr>\n",
       "    <tr>\n",
       "      <th>4</th>\n",
       "      <td>EQP-QUI.ORL.OPT-14-CN35128</td>\n",
       "      <td>EQP-QUI.ORL.OPT-14</td>\n",
       "      <td>2022-03-31T10:50:00.000000000+00:00</td>\n",
       "      <td>2022-03-31T14:26:00.000000000+00:00</td>\n",
       "      <td>Producción montada</td>\n",
       "      <td>PN</td>\n",
       "      <td>2022-03-31 12:20:00+00:00</td>\n",
       "      <td>None</td>\n",
       "      <td>None</td>\n",
       "      <td>None</td>\n",
       "      <td>None</td>\n",
       "      <td>b99105</td>\n",
       "    </tr>\n",
       "  </tbody>\n",
       "</table>\n",
       "</div>"
      ],
      "text/plain": [
       "                     e.CaseID             e.KitID  \\\n",
       "0  EQP-QUI.ORL.OPT-14-CN35128  EQP-QUI.ORL.OPT-14   \n",
       "1  EQP-QUI.ORL.OPT-14-CN35128  EQP-QUI.ORL.OPT-14   \n",
       "2  EQP-QUI.ORL.OPT-14-CN35128  EQP-QUI.ORL.OPT-14   \n",
       "3  EQP-QUI.ORL.OPT-14-CN35128  EQP-QUI.ORL.OPT-14   \n",
       "4  EQP-QUI.ORL.OPT-14-CN35128  EQP-QUI.ORL.OPT-14   \n",
       "\n",
       "                      n.startTimestamp                       n.endTimestamp  \\\n",
       "0  2022-03-31T10:50:00.000000000+00:00  2022-03-31T14:26:00.000000000+00:00   \n",
       "1  2022-03-31T10:50:00.000000000+00:00  2022-03-31T14:26:00.000000000+00:00   \n",
       "2  2022-03-31T10:50:00.000000000+00:00  2022-03-31T14:26:00.000000000+00:00   \n",
       "3  2022-03-31T10:50:00.000000000+00:00  2022-03-31T14:26:00.000000000+00:00   \n",
       "4  2022-03-31T10:50:00.000000000+00:00  2022-03-31T14:26:00.000000000+00:00   \n",
       "\n",
       "              e.Activity e.Usuario               e.timestamp w.machine r.name  \\\n",
       "0     Carga L+D liberada       MCE 2022-03-31 12:04:00+00:00      None   None   \n",
       "1     Carga L+D iniciada        BM 2022-03-31 11:02:00+00:00      None   None   \n",
       "2  Composición de cargas        EH 2022-03-31 12:41:00+00:00      None   None   \n",
       "3                Montaje        PN 2022-03-31 12:19:00+00:00      None   None   \n",
       "4     Producción montada        PN 2022-03-31 12:20:00+00:00      None   None   \n",
       "\n",
       "     s.machine                          s.type e.batchID  \n",
       "0         None                            None    b60282  \n",
       "1         None                            None    b44646  \n",
       "2  Autoclave 1  High Temperature Sterilization   b137103  \n",
       "3         None                            None    b99106  \n",
       "4         None                            None    b99105  "
      ]
     },
     "execution_count": 113,
     "metadata": {},
     "output_type": "execute_result"
    }
   ],
   "source": [
    "query = f'''MATCH (e:Event) - [:CORR] -> (n:Run {{EntityType: \"Kit\"}})\n",
    "where n.durationInMinutes > 0\n",
    "Optional match (e) - [:WASHED_IN] -> (w:WashingMachine)\n",
    "Optional match (e) - [:WASHED_ON] -> (r:Rack)\n",
    "Optional match (e) - [:STERILIZED_IN] -> (s:SterilizationMachine)\n",
    "RETURN e.CaseID, e.KitID, n.startTimestamp, n.endTimestamp, e.Activity, e.Usuario, e.timestamp, w.machine, r.name, s.machine, s.type, e.batchID'''\n",
    "result = session.run(query)\n",
    "records = [record.values() for record in result]\n",
    "columns = result.keys()\n",
    "df = pd.DataFrame(records, columns=columns)\n",
    "df['e.timestamp'] = pd.to_datetime(df['e.timestamp'], format='%Y-%m-%dT%H:%M:%S.%f%z')\n",
    "df.head()"
   ]
  },
  {
   "cell_type": "code",
   "execution_count": 114,
   "metadata": {},
   "outputs": [
    {
     "data": {
      "text/html": [
       "<div>\n",
       "<style scoped>\n",
       "    .dataframe tbody tr th:only-of-type {\n",
       "        vertical-align: middle;\n",
       "    }\n",
       "\n",
       "    .dataframe tbody tr th {\n",
       "        vertical-align: top;\n",
       "    }\n",
       "\n",
       "    .dataframe thead th {\n",
       "        text-align: right;\n",
       "    }\n",
       "</style>\n",
       "<table border=\"1\" class=\"dataframe\">\n",
       "  <thead>\n",
       "    <tr style=\"text-align: right;\">\n",
       "      <th></th>\n",
       "      <th>e.CaseID</th>\n",
       "      <th>e.KitID</th>\n",
       "      <th>n.startTimestamp</th>\n",
       "      <th>n.endTimestamp</th>\n",
       "      <th>e.Activity</th>\n",
       "      <th>e.Usuario</th>\n",
       "      <th>e.timestamp</th>\n",
       "      <th>w.machine</th>\n",
       "      <th>r.name</th>\n",
       "      <th>s.machine</th>\n",
       "      <th>s.type</th>\n",
       "      <th>e.batchID</th>\n",
       "    </tr>\n",
       "  </thead>\n",
       "  <tbody>\n",
       "    <tr>\n",
       "      <th>count</th>\n",
       "      <td>214153</td>\n",
       "      <td>214153</td>\n",
       "      <td>214153</td>\n",
       "      <td>214153</td>\n",
       "      <td>214153</td>\n",
       "      <td>214153</td>\n",
       "      <td>214153</td>\n",
       "      <td>14780</td>\n",
       "      <td>17213</td>\n",
       "      <td>14263</td>\n",
       "      <td>14263</td>\n",
       "      <td>214153</td>\n",
       "    </tr>\n",
       "    <tr>\n",
       "      <th>unique</th>\n",
       "      <td>20502</td>\n",
       "      <td>2039</td>\n",
       "      <td>5501</td>\n",
       "      <td>2415</td>\n",
       "      <td>9</td>\n",
       "      <td>20</td>\n",
       "      <td>29006</td>\n",
       "      <td>8</td>\n",
       "      <td>15</td>\n",
       "      <td>6</td>\n",
       "      <td>2</td>\n",
       "      <td>39997</td>\n",
       "    </tr>\n",
       "    <tr>\n",
       "      <th>top</th>\n",
       "      <td>EXT-HOS.008-0-CN13125</td>\n",
       "      <td>EXT-HOS.007-0</td>\n",
       "      <td>2022-01-19T07:43:00.000000000+00:00</td>\n",
       "      <td>2022-02-16T18:08:00.000000000+00:00</td>\n",
       "      <td>Producción montada</td>\n",
       "      <td>ER</td>\n",
       "      <td>2022-03-04 17:03:00+00:00</td>\n",
       "      <td>Lavadora 2</td>\n",
       "      <td>Rack-Lav. 06</td>\n",
       "      <td>Autoclave 2</td>\n",
       "      <td>High Temperature Sterilization</td>\n",
       "      <td>b186942</td>\n",
       "    </tr>\n",
       "    <tr>\n",
       "      <th>freq</th>\n",
       "      <td>285</td>\n",
       "      <td>7773</td>\n",
       "      <td>450</td>\n",
       "      <td>949</td>\n",
       "      <td>37874</td>\n",
       "      <td>19077</td>\n",
       "      <td>215</td>\n",
       "      <td>4068</td>\n",
       "      <td>1977</td>\n",
       "      <td>4060</td>\n",
       "      <td>13768</td>\n",
       "      <td>237</td>\n",
       "    </tr>\n",
       "    <tr>\n",
       "      <th>first</th>\n",
       "      <td>NaN</td>\n",
       "      <td>NaN</td>\n",
       "      <td>NaN</td>\n",
       "      <td>NaN</td>\n",
       "      <td>NaN</td>\n",
       "      <td>NaN</td>\n",
       "      <td>2022-01-01 07:09:00+00:00</td>\n",
       "      <td>NaN</td>\n",
       "      <td>NaN</td>\n",
       "      <td>NaN</td>\n",
       "      <td>NaN</td>\n",
       "      <td>NaN</td>\n",
       "    </tr>\n",
       "    <tr>\n",
       "      <th>last</th>\n",
       "      <td>NaN</td>\n",
       "      <td>NaN</td>\n",
       "      <td>NaN</td>\n",
       "      <td>NaN</td>\n",
       "      <td>NaN</td>\n",
       "      <td>NaN</td>\n",
       "      <td>2022-03-31 21:54:00+00:00</td>\n",
       "      <td>NaN</td>\n",
       "      <td>NaN</td>\n",
       "      <td>NaN</td>\n",
       "      <td>NaN</td>\n",
       "      <td>NaN</td>\n",
       "    </tr>\n",
       "  </tbody>\n",
       "</table>\n",
       "</div>"
      ],
      "text/plain": [
       "                     e.CaseID        e.KitID  \\\n",
       "count                  214153         214153   \n",
       "unique                  20502           2039   \n",
       "top     EXT-HOS.008-0-CN13125  EXT-HOS.007-0   \n",
       "freq                      285           7773   \n",
       "first                     NaN            NaN   \n",
       "last                      NaN            NaN   \n",
       "\n",
       "                           n.startTimestamp  \\\n",
       "count                                214153   \n",
       "unique                                 5501   \n",
       "top     2022-01-19T07:43:00.000000000+00:00   \n",
       "freq                                    450   \n",
       "first                                   NaN   \n",
       "last                                    NaN   \n",
       "\n",
       "                             n.endTimestamp          e.Activity e.Usuario  \\\n",
       "count                                214153              214153    214153   \n",
       "unique                                 2415                   9        20   \n",
       "top     2022-02-16T18:08:00.000000000+00:00  Producción montada        ER   \n",
       "freq                                    949               37874     19077   \n",
       "first                                   NaN                 NaN       NaN   \n",
       "last                                    NaN                 NaN       NaN   \n",
       "\n",
       "                      e.timestamp   w.machine        r.name    s.machine  \\\n",
       "count                      214153       14780         17213        14263   \n",
       "unique                      29006           8            15            6   \n",
       "top     2022-03-04 17:03:00+00:00  Lavadora 2  Rack-Lav. 06  Autoclave 2   \n",
       "freq                          215        4068          1977         4060   \n",
       "first   2022-01-01 07:09:00+00:00         NaN           NaN          NaN   \n",
       "last    2022-03-31 21:54:00+00:00         NaN           NaN          NaN   \n",
       "\n",
       "                                s.type e.batchID  \n",
       "count                            14263    214153  \n",
       "unique                               2     39997  \n",
       "top     High Temperature Sterilization   b186942  \n",
       "freq                             13768       237  \n",
       "first                              NaN       NaN  \n",
       "last                               NaN       NaN  "
      ]
     },
     "execution_count": 114,
     "metadata": {},
     "output_type": "execute_result"
    }
   ],
   "source": [
    "df.describe()"
   ]
  },
  {
   "cell_type": "code",
   "execution_count": 115,
   "metadata": {},
   "outputs": [
    {
     "data": {
      "text/html": [
       "<div>\n",
       "<style scoped>\n",
       "    .dataframe tbody tr th:only-of-type {\n",
       "        vertical-align: middle;\n",
       "    }\n",
       "\n",
       "    .dataframe tbody tr th {\n",
       "        vertical-align: top;\n",
       "    }\n",
       "\n",
       "    .dataframe thead th {\n",
       "        text-align: right;\n",
       "    }\n",
       "</style>\n",
       "<table border=\"1\" class=\"dataframe\">\n",
       "  <thead>\n",
       "    <tr style=\"text-align: right;\">\n",
       "      <th></th>\n",
       "      <th>case:concept:name</th>\n",
       "      <th>e.KitID</th>\n",
       "      <th>n.startTimestamp</th>\n",
       "      <th>n.endTimestamp</th>\n",
       "      <th>concept:name</th>\n",
       "      <th>e.Usuario</th>\n",
       "      <th>time:timestamp</th>\n",
       "      <th>w.machine</th>\n",
       "      <th>r.name</th>\n",
       "      <th>s.machine</th>\n",
       "      <th>s.type</th>\n",
       "      <th>e.batchID</th>\n",
       "      <th>@@index</th>\n",
       "    </tr>\n",
       "  </thead>\n",
       "  <tbody>\n",
       "    <tr>\n",
       "      <th>170521</th>\n",
       "      <td>012047 L2901-0-CN10738</td>\n",
       "      <td>012047 L2901-0</td>\n",
       "      <td>2022-01-26T17:31:00.000000000+00:00</td>\n",
       "      <td>2022-01-28T08:16:00.000000000+00:00</td>\n",
       "      <td>Montaje</td>\n",
       "      <td>CM</td>\n",
       "      <td>2022-01-26 17:31:00+00:00</td>\n",
       "      <td>None</td>\n",
       "      <td>None</td>\n",
       "      <td>None</td>\n",
       "      <td>None</td>\n",
       "      <td>b92692</td>\n",
       "      <td>170521</td>\n",
       "    </tr>\n",
       "    <tr>\n",
       "      <th>170520</th>\n",
       "      <td>012047 L2901-0-CN10738</td>\n",
       "      <td>012047 L2901-0</td>\n",
       "      <td>2022-01-26T17:31:00.000000000+00:00</td>\n",
       "      <td>2022-01-28T08:16:00.000000000+00:00</td>\n",
       "      <td>Montaje</td>\n",
       "      <td>SM</td>\n",
       "      <td>2022-01-28 08:16:00+00:00</td>\n",
       "      <td>None</td>\n",
       "      <td>None</td>\n",
       "      <td>None</td>\n",
       "      <td>None</td>\n",
       "      <td>b92289</td>\n",
       "      <td>170520</td>\n",
       "    </tr>\n",
       "    <tr>\n",
       "      <th>195895</th>\n",
       "      <td>012047 L2901-0-CN1080</td>\n",
       "      <td>012047 L2901-0</td>\n",
       "      <td>2022-01-04T16:00:00.000000000+00:00</td>\n",
       "      <td>2022-01-07T13:06:00.000000000+00:00</td>\n",
       "      <td>Montaje</td>\n",
       "      <td>CM</td>\n",
       "      <td>2022-01-04 16:00:00+00:00</td>\n",
       "      <td>None</td>\n",
       "      <td>None</td>\n",
       "      <td>None</td>\n",
       "      <td>None</td>\n",
       "      <td>b97843</td>\n",
       "      <td>195895</td>\n",
       "    </tr>\n",
       "    <tr>\n",
       "      <th>195894</th>\n",
       "      <td>012047 L2901-0-CN1080</td>\n",
       "      <td>012047 L2901-0</td>\n",
       "      <td>2022-01-04T16:00:00.000000000+00:00</td>\n",
       "      <td>2022-01-07T13:06:00.000000000+00:00</td>\n",
       "      <td>Montaje</td>\n",
       "      <td>CM</td>\n",
       "      <td>2022-01-05 14:04:00+00:00</td>\n",
       "      <td>None</td>\n",
       "      <td>None</td>\n",
       "      <td>None</td>\n",
       "      <td>None</td>\n",
       "      <td>b97713</td>\n",
       "      <td>195894</td>\n",
       "    </tr>\n",
       "    <tr>\n",
       "      <th>195896</th>\n",
       "      <td>012047 L2901-0-CN1080</td>\n",
       "      <td>012047 L2901-0</td>\n",
       "      <td>2022-01-04T16:00:00.000000000+00:00</td>\n",
       "      <td>2022-01-07T13:06:00.000000000+00:00</td>\n",
       "      <td>Producción montada</td>\n",
       "      <td>CM</td>\n",
       "      <td>2022-01-05 14:04:00+00:00</td>\n",
       "      <td>None</td>\n",
       "      <td>None</td>\n",
       "      <td>None</td>\n",
       "      <td>None</td>\n",
       "      <td>b97713</td>\n",
       "      <td>195896</td>\n",
       "    </tr>\n",
       "    <tr>\n",
       "      <th>...</th>\n",
       "      <td>...</td>\n",
       "      <td>...</td>\n",
       "      <td>...</td>\n",
       "      <td>...</td>\n",
       "      <td>...</td>\n",
       "      <td>...</td>\n",
       "      <td>...</td>\n",
       "      <td>...</td>\n",
       "      <td>...</td>\n",
       "      <td>...</td>\n",
       "      <td>...</td>\n",
       "      <td>...</td>\n",
       "      <td>...</td>\n",
       "    </tr>\n",
       "    <tr>\n",
       "      <th>186011</th>\n",
       "      <td>TRAN-QUI.TRA.ZIMMER-2-CN5129</td>\n",
       "      <td>TRAN-QUI.TRA.ZIMMER-2</td>\n",
       "      <td>2022-01-14T13:04:00.000000000+00:00</td>\n",
       "      <td>2022-01-14T21:12:00.000000000+00:00</td>\n",
       "      <td>Comisionado</td>\n",
       "      <td>MMF</td>\n",
       "      <td>2022-01-14 21:12:00+00:00</td>\n",
       "      <td>None</td>\n",
       "      <td>None</td>\n",
       "      <td>None</td>\n",
       "      <td>None</td>\n",
       "      <td>b229711</td>\n",
       "      <td>186011</td>\n",
       "    </tr>\n",
       "    <tr>\n",
       "      <th>14007</th>\n",
       "      <td>TRAN-QUI.TRA.ZIMMER-6-CN28683</td>\n",
       "      <td>TRAN-QUI.TRA.ZIMMER-6</td>\n",
       "      <td>2022-03-07T13:53:00.000000000+00:00</td>\n",
       "      <td>2022-03-08T17:55:00.000000000+00:00</td>\n",
       "      <td>Montaje</td>\n",
       "      <td>BM</td>\n",
       "      <td>2022-03-08 14:30:00+00:00</td>\n",
       "      <td>None</td>\n",
       "      <td>None</td>\n",
       "      <td>None</td>\n",
       "      <td>None</td>\n",
       "      <td>b82260</td>\n",
       "      <td>14007</td>\n",
       "    </tr>\n",
       "    <tr>\n",
       "      <th>14010</th>\n",
       "      <td>TRAN-QUI.TRA.ZIMMER-6-CN28683</td>\n",
       "      <td>TRAN-QUI.TRA.ZIMMER-6</td>\n",
       "      <td>2022-03-07T13:53:00.000000000+00:00</td>\n",
       "      <td>2022-03-08T17:55:00.000000000+00:00</td>\n",
       "      <td>Producción montada</td>\n",
       "      <td>BM</td>\n",
       "      <td>2022-03-08 14:30:00+00:00</td>\n",
       "      <td>None</td>\n",
       "      <td>None</td>\n",
       "      <td>None</td>\n",
       "      <td>None</td>\n",
       "      <td>b110167</td>\n",
       "      <td>14010</td>\n",
       "    </tr>\n",
       "    <tr>\n",
       "      <th>14008</th>\n",
       "      <td>TRAN-QUI.TRA.ZIMMER-6-CN28683</td>\n",
       "      <td>TRAN-QUI.TRA.ZIMMER-6</td>\n",
       "      <td>2022-03-07T13:53:00.000000000+00:00</td>\n",
       "      <td>2022-03-08T17:55:00.000000000+00:00</td>\n",
       "      <td>Composición de cargas</td>\n",
       "      <td>PN</td>\n",
       "      <td>2022-03-08 16:09:00+00:00</td>\n",
       "      <td>None</td>\n",
       "      <td>None</td>\n",
       "      <td>None</td>\n",
       "      <td>None</td>\n",
       "      <td>b147920</td>\n",
       "      <td>14008</td>\n",
       "    </tr>\n",
       "    <tr>\n",
       "      <th>14009</th>\n",
       "      <td>TRAN-QUI.TRA.ZIMMER-6-CN28683</td>\n",
       "      <td>TRAN-QUI.TRA.ZIMMER-6</td>\n",
       "      <td>2022-03-07T13:53:00.000000000+00:00</td>\n",
       "      <td>2022-03-08T17:55:00.000000000+00:00</td>\n",
       "      <td>Carga de esterilizador liberada</td>\n",
       "      <td>SP</td>\n",
       "      <td>2022-03-08 17:55:00+00:00</td>\n",
       "      <td>None</td>\n",
       "      <td>None</td>\n",
       "      <td>None</td>\n",
       "      <td>None</td>\n",
       "      <td>b185546</td>\n",
       "      <td>14009</td>\n",
       "    </tr>\n",
       "  </tbody>\n",
       "</table>\n",
       "<p>214153 rows × 13 columns</p>\n",
       "</div>"
      ],
      "text/plain": [
       "                    case:concept:name                e.KitID  \\\n",
       "170521         012047 L2901-0-CN10738         012047 L2901-0   \n",
       "170520         012047 L2901-0-CN10738         012047 L2901-0   \n",
       "195895          012047 L2901-0-CN1080         012047 L2901-0   \n",
       "195894          012047 L2901-0-CN1080         012047 L2901-0   \n",
       "195896          012047 L2901-0-CN1080         012047 L2901-0   \n",
       "...                               ...                    ...   \n",
       "186011   TRAN-QUI.TRA.ZIMMER-2-CN5129  TRAN-QUI.TRA.ZIMMER-2   \n",
       "14007   TRAN-QUI.TRA.ZIMMER-6-CN28683  TRAN-QUI.TRA.ZIMMER-6   \n",
       "14010   TRAN-QUI.TRA.ZIMMER-6-CN28683  TRAN-QUI.TRA.ZIMMER-6   \n",
       "14008   TRAN-QUI.TRA.ZIMMER-6-CN28683  TRAN-QUI.TRA.ZIMMER-6   \n",
       "14009   TRAN-QUI.TRA.ZIMMER-6-CN28683  TRAN-QUI.TRA.ZIMMER-6   \n",
       "\n",
       "                           n.startTimestamp  \\\n",
       "170521  2022-01-26T17:31:00.000000000+00:00   \n",
       "170520  2022-01-26T17:31:00.000000000+00:00   \n",
       "195895  2022-01-04T16:00:00.000000000+00:00   \n",
       "195894  2022-01-04T16:00:00.000000000+00:00   \n",
       "195896  2022-01-04T16:00:00.000000000+00:00   \n",
       "...                                     ...   \n",
       "186011  2022-01-14T13:04:00.000000000+00:00   \n",
       "14007   2022-03-07T13:53:00.000000000+00:00   \n",
       "14010   2022-03-07T13:53:00.000000000+00:00   \n",
       "14008   2022-03-07T13:53:00.000000000+00:00   \n",
       "14009   2022-03-07T13:53:00.000000000+00:00   \n",
       "\n",
       "                             n.endTimestamp                     concept:name  \\\n",
       "170521  2022-01-28T08:16:00.000000000+00:00                          Montaje   \n",
       "170520  2022-01-28T08:16:00.000000000+00:00                          Montaje   \n",
       "195895  2022-01-07T13:06:00.000000000+00:00                          Montaje   \n",
       "195894  2022-01-07T13:06:00.000000000+00:00                          Montaje   \n",
       "195896  2022-01-07T13:06:00.000000000+00:00               Producción montada   \n",
       "...                                     ...                              ...   \n",
       "186011  2022-01-14T21:12:00.000000000+00:00                      Comisionado   \n",
       "14007   2022-03-08T17:55:00.000000000+00:00                          Montaje   \n",
       "14010   2022-03-08T17:55:00.000000000+00:00               Producción montada   \n",
       "14008   2022-03-08T17:55:00.000000000+00:00            Composición de cargas   \n",
       "14009   2022-03-08T17:55:00.000000000+00:00  Carga de esterilizador liberada   \n",
       "\n",
       "       e.Usuario            time:timestamp w.machine r.name s.machine s.type  \\\n",
       "170521        CM 2022-01-26 17:31:00+00:00      None   None      None   None   \n",
       "170520        SM 2022-01-28 08:16:00+00:00      None   None      None   None   \n",
       "195895        CM 2022-01-04 16:00:00+00:00      None   None      None   None   \n",
       "195894        CM 2022-01-05 14:04:00+00:00      None   None      None   None   \n",
       "195896        CM 2022-01-05 14:04:00+00:00      None   None      None   None   \n",
       "...          ...                       ...       ...    ...       ...    ...   \n",
       "186011       MMF 2022-01-14 21:12:00+00:00      None   None      None   None   \n",
       "14007         BM 2022-03-08 14:30:00+00:00      None   None      None   None   \n",
       "14010         BM 2022-03-08 14:30:00+00:00      None   None      None   None   \n",
       "14008         PN 2022-03-08 16:09:00+00:00      None   None      None   None   \n",
       "14009         SP 2022-03-08 17:55:00+00:00      None   None      None   None   \n",
       "\n",
       "       e.batchID  @@index  \n",
       "170521    b92692   170521  \n",
       "170520    b92289   170520  \n",
       "195895    b97843   195895  \n",
       "195894    b97713   195894  \n",
       "195896    b97713   195896  \n",
       "...          ...      ...  \n",
       "186011   b229711   186011  \n",
       "14007     b82260    14007  \n",
       "14010    b110167    14010  \n",
       "14008    b147920    14008  \n",
       "14009    b185546    14009  \n",
       "\n",
       "[214153 rows x 13 columns]"
      ]
     },
     "execution_count": 115,
     "metadata": {},
     "output_type": "execute_result"
    }
   ],
   "source": [
    "event_log = pm4py.format_dataframe(df, case_id='e.CaseID', activity_key='e.Activity', timestamp_key='e.timestamp')\n",
    "#event_log = pm4py.convert_to_event_log(event_log)\n",
    "event_log"
   ]
  },
  {
   "cell_type": "code",
   "execution_count": 116,
   "metadata": {},
   "outputs": [],
   "source": [
    "original_df = event_log.copy()\n",
    "original_df.fillna('NaN', inplace=True)"
   ]
  },
  {
   "cell_type": "code",
   "execution_count": 117,
   "metadata": {},
   "outputs": [],
   "source": [
    "event_log = pm4py.convert_to_event_log(event_log)"
   ]
  },
  {
   "cell_type": "markdown",
   "metadata": {},
   "source": [
    "## Split train test\n"
   ]
  },
  {
   "cell_type": "code",
   "execution_count": 118,
   "metadata": {},
   "outputs": [],
   "source": [
    "prefix_traces = []\n",
    "for trace in event_log:\n",
    "    trace_end_flag = False\n",
    "    for i,event in enumerate(trace):\n",
    "        if \"Comisionado\" in event['concept:name']:\n",
    "            trace_end_flag = True\n",
    "            i+=1\n",
    "            break\n",
    "        if \"Carga de esterilizador liberada\" in event['concept:name']:\n",
    "            trace_end_flag = True\n",
    "    if trace_end_flag:\n",
    "        prefix_traces.append(Trace(trace[:i], attributes = trace.attributes))\n",
    "prefix_traces = EventLog(prefix_traces)"
   ]
  },
  {
   "cell_type": "code",
   "execution_count": 119,
   "metadata": {},
   "outputs": [
    {
     "data": {
      "text/html": [
       "<div>\n",
       "<style scoped>\n",
       "    .dataframe tbody tr th:only-of-type {\n",
       "        vertical-align: middle;\n",
       "    }\n",
       "\n",
       "    .dataframe tbody tr th {\n",
       "        vertical-align: top;\n",
       "    }\n",
       "\n",
       "    .dataframe thead th {\n",
       "        text-align: right;\n",
       "    }\n",
       "</style>\n",
       "<table border=\"1\" class=\"dataframe\">\n",
       "  <thead>\n",
       "    <tr style=\"text-align: right;\">\n",
       "      <th></th>\n",
       "      <th>e.KitID</th>\n",
       "      <th>n.startTimestamp</th>\n",
       "      <th>n.endTimestamp</th>\n",
       "      <th>concept:name</th>\n",
       "      <th>e.Usuario</th>\n",
       "      <th>time:timestamp</th>\n",
       "      <th>w.machine</th>\n",
       "      <th>r.name</th>\n",
       "      <th>s.machine</th>\n",
       "      <th>s.type</th>\n",
       "      <th>e.batchID</th>\n",
       "      <th>@@index</th>\n",
       "      <th>case:concept:name</th>\n",
       "    </tr>\n",
       "  </thead>\n",
       "  <tbody>\n",
       "    <tr>\n",
       "      <th>0</th>\n",
       "      <td>012047 L2901-0</td>\n",
       "      <td>2022-01-13T20:35:00.000000000+00:00</td>\n",
       "      <td>2022-01-14T17:47:00.000000000+00:00</td>\n",
       "      <td>Montaje</td>\n",
       "      <td>CM</td>\n",
       "      <td>2022-01-13 20:35:00+00:00</td>\n",
       "      <td>None</td>\n",
       "      <td>None</td>\n",
       "      <td>None</td>\n",
       "      <td>None</td>\n",
       "      <td>b95841</td>\n",
       "      <td>186149</td>\n",
       "      <td>012047 L2901-0-CN4835</td>\n",
       "    </tr>\n",
       "    <tr>\n",
       "      <th>1</th>\n",
       "      <td>012047 L2901-0</td>\n",
       "      <td>2022-01-13T20:35:00.000000000+00:00</td>\n",
       "      <td>2022-01-14T17:47:00.000000000+00:00</td>\n",
       "      <td>Producción montada</td>\n",
       "      <td>CM</td>\n",
       "      <td>2022-01-13 20:35:00+00:00</td>\n",
       "      <td>None</td>\n",
       "      <td>None</td>\n",
       "      <td>None</td>\n",
       "      <td>None</td>\n",
       "      <td>b95841</td>\n",
       "      <td>186150</td>\n",
       "      <td>012047 L2901-0-CN4835</td>\n",
       "    </tr>\n",
       "    <tr>\n",
       "      <th>2</th>\n",
       "      <td>012047 L2901-0</td>\n",
       "      <td>2022-01-13T20:35:00.000000000+00:00</td>\n",
       "      <td>2022-01-14T17:47:00.000000000+00:00</td>\n",
       "      <td>Composición de cargas</td>\n",
       "      <td>ML</td>\n",
       "      <td>2022-01-14 14:57:00+00:00</td>\n",
       "      <td>None</td>\n",
       "      <td>None</td>\n",
       "      <td>None</td>\n",
       "      <td>None</td>\n",
       "      <td>b169827</td>\n",
       "      <td>186148</td>\n",
       "      <td>012047 L2901-0-CN4835</td>\n",
       "    </tr>\n",
       "    <tr>\n",
       "      <th>3</th>\n",
       "      <td>012047 L2901-0</td>\n",
       "      <td>2022-01-13T20:35:00.000000000+00:00</td>\n",
       "      <td>2022-01-14T17:47:00.000000000+00:00</td>\n",
       "      <td>Carga de esterilizador liberada</td>\n",
       "      <td>ML</td>\n",
       "      <td>2022-01-14 16:23:00+00:00</td>\n",
       "      <td>None</td>\n",
       "      <td>None</td>\n",
       "      <td>None</td>\n",
       "      <td>None</td>\n",
       "      <td>b207122</td>\n",
       "      <td>186146</td>\n",
       "      <td>012047 L2901-0-CN4835</td>\n",
       "    </tr>\n",
       "    <tr>\n",
       "      <th>4</th>\n",
       "      <td>DEP-QUI.BTF-1</td>\n",
       "      <td>2022-01-12T09:04:00.000000000+00:00</td>\n",
       "      <td>2022-01-12T21:42:00.000000000+00:00</td>\n",
       "      <td>Entrada Material Sucio</td>\n",
       "      <td>EH</td>\n",
       "      <td>2022-01-12 09:04:00+00:00</td>\n",
       "      <td>None</td>\n",
       "      <td>None</td>\n",
       "      <td>None</td>\n",
       "      <td>None</td>\n",
       "      <td>b27460</td>\n",
       "      <td>71023</td>\n",
       "      <td>DEP-QUI.BTF-1-CN3765</td>\n",
       "    </tr>\n",
       "  </tbody>\n",
       "</table>\n",
       "</div>"
      ],
      "text/plain": [
       "          e.KitID                     n.startTimestamp  \\\n",
       "0  012047 L2901-0  2022-01-13T20:35:00.000000000+00:00   \n",
       "1  012047 L2901-0  2022-01-13T20:35:00.000000000+00:00   \n",
       "2  012047 L2901-0  2022-01-13T20:35:00.000000000+00:00   \n",
       "3  012047 L2901-0  2022-01-13T20:35:00.000000000+00:00   \n",
       "4   DEP-QUI.BTF-1  2022-01-12T09:04:00.000000000+00:00   \n",
       "\n",
       "                        n.endTimestamp                     concept:name  \\\n",
       "0  2022-01-14T17:47:00.000000000+00:00                          Montaje   \n",
       "1  2022-01-14T17:47:00.000000000+00:00               Producción montada   \n",
       "2  2022-01-14T17:47:00.000000000+00:00            Composición de cargas   \n",
       "3  2022-01-14T17:47:00.000000000+00:00  Carga de esterilizador liberada   \n",
       "4  2022-01-12T21:42:00.000000000+00:00           Entrada Material Sucio   \n",
       "\n",
       "  e.Usuario            time:timestamp w.machine r.name s.machine s.type  \\\n",
       "0        CM 2022-01-13 20:35:00+00:00      None   None      None   None   \n",
       "1        CM 2022-01-13 20:35:00+00:00      None   None      None   None   \n",
       "2        ML 2022-01-14 14:57:00+00:00      None   None      None   None   \n",
       "3        ML 2022-01-14 16:23:00+00:00      None   None      None   None   \n",
       "4        EH 2022-01-12 09:04:00+00:00      None   None      None   None   \n",
       "\n",
       "  e.batchID  @@index      case:concept:name  \n",
       "0    b95841   186149  012047 L2901-0-CN4835  \n",
       "1    b95841   186150  012047 L2901-0-CN4835  \n",
       "2   b169827   186148  012047 L2901-0-CN4835  \n",
       "3   b207122   186146  012047 L2901-0-CN4835  \n",
       "4    b27460    71023   DEP-QUI.BTF-1-CN3765  "
      ]
     },
     "execution_count": 119,
     "metadata": {},
     "output_type": "execute_result"
    }
   ],
   "source": [
    "trace = pm4py.convert_to_dataframe(prefix_traces)\n",
    "trace.head()\n"
   ]
  },
  {
   "cell_type": "code",
   "execution_count": 120,
   "metadata": {},
   "outputs": [],
   "source": [
    "# get completion time and sort\n",
    "completion_time_ls = list(trace.groupby(['case:concept:name'])['time:timestamp'].max())\n",
    "completion_time_ls = sorted(completion_time_ls)"
   ]
  },
  {
   "cell_type": "code",
   "execution_count": 121,
   "metadata": {},
   "outputs": [
    {
     "data": {
      "text/plain": [
       "(Timestamp('2022-03-07 21:42:00+0000', tz='UTC'),\n",
       " Timestamp('2022-03-20 19:35:00+0000', tz='UTC'))"
      ]
     },
     "execution_count": 121,
     "metadata": {},
     "output_type": "execute_result"
    }
   ],
   "source": [
    "# split on 70% max time \n",
    "train_split_portion = 0.70\n",
    "val_split_seperation = 0.85\n",
    "total_data = len(completion_time_ls)\n",
    "train_len = int(train_split_portion*total_data)\n",
    "val_len = int(val_split_seperation*total_data)\n",
    "last_train_completion_time = completion_time_ls[train_len]\n",
    "last_val_completion_time = completion_time_ls[val_len]\n",
    "val_start_time = last_train_completion_time\n",
    "last_train_completion_time,last_val_completion_time"
   ]
  },
  {
   "cell_type": "code",
   "execution_count": 122,
   "metadata": {},
   "outputs": [
    {
     "name": "stdout",
     "output_type": "stream",
     "text": [
      "train, val and test count\n",
      "12754 2728 2732\n"
     ]
    }
   ],
   "source": [
    "# take all traces where start dates are after the last_train_completion_time\n",
    "dtype_list = list(trace.dtypes) # get original types of the columns\n",
    "train_df = pd.DataFrame(columns = trace.columns)\n",
    "test_df = pd.DataFrame(columns = trace.columns)\n",
    "val_df = pd.DataFrame(columns = trace.columns)\n",
    "train_count,test_count,val_count = 0,0,0\n",
    "intersecting_traces = []\n",
    "for name, group in trace.groupby(['case:concept:name'],as_index=False):\n",
    "    if group['time:timestamp'].iloc[-1] <= last_train_completion_time:\n",
    "        train_df = train_df.append(group)\n",
    "        train_count+=1\n",
    "    # elif (group['startTime'].iloc[0] >= last_train_completion_time) and (group['completeTime'].iloc[-1] <= last_val_completion_time):\n",
    "    elif group['time:timestamp'].iloc[-1] <= last_val_completion_time:\n",
    "        val_df = val_df.append(group)\n",
    "        val_count+=1        \n",
    "    # elif group['startTime'].iloc[0] >= last_val_completion_time:\n",
    "    #     test_df = test_df.append(group)\n",
    "    #     test_count+=1\n",
    "    else:\n",
    "        test_df = test_df.append(group)\n",
    "        test_count+=1\n",
    "        # intersecting_traces.append(group)\n",
    "\n",
    "\n",
    "# converting train and test to their original data types\n",
    "for i,col in enumerate(train_df.columns):\n",
    "    train_df[col] = train_df[col].astype(dtype_list[i])\n",
    "\n",
    "for i,col in enumerate(test_df.columns):\n",
    "    test_df[col] = test_df[col].astype(dtype_list[i])\n",
    "\n",
    "for i,col in enumerate(val_df.columns):\n",
    "    val_df[col] = val_df[col].astype(dtype_list[i])\n",
    "\n",
    "\n",
    "print(\"train, val and test count\")\n",
    "print(train_count,val_count,test_count)"
   ]
  },
  {
   "cell_type": "markdown",
   "metadata": {},
   "source": [
    "## Data encoding"
   ]
  },
  {
   "cell_type": "code",
   "execution_count": 123,
   "metadata": {},
   "outputs": [],
   "source": [
    "def get_ohe_dict(categorical_vars, df):\n",
    "    ohe_dict = {}\n",
    "    for var in categorical_vars:\n",
    "        var_dict = {}\n",
    "        print(df[var].unique())\n",
    "        var_data = sorted(df[var].unique())\n",
    "        var_len = len(var_data)\n",
    "        for i,cat in enumerate(var_data):\n",
    "            var_dict[cat] = [0]*var_len\n",
    "            var_dict[cat][i] = 1\n",
    "\n",
    "        ohe_dict[var] = var_dict\n",
    "\n",
    "    return ohe_dict"
   ]
  },
  {
   "cell_type": "code",
   "execution_count": 124,
   "metadata": {},
   "outputs": [],
   "source": [
    "# function to save the data\n",
    "def save_data(X,y,feature_names, save_path):\n",
    "    data_dict = {}\n",
    "    data_dict['X'] = X\n",
    "    data_dict['y'] = y\n",
    "    data_dict['feature_names'] = feature_names\n",
    "\n",
    "    # save pickle\n",
    "    with open(save_path, 'wb') as handle:\n",
    "        pickle.dump(data_dict, handle)"
   ]
  },
  {
   "cell_type": "code",
   "execution_count": 125,
   "metadata": {},
   "outputs": [],
   "source": [
    "def load_data(load_path):\n",
    "    with open(load_path, 'rb') as handle:\n",
    "        data = pickle.load(handle)\n",
    "    return data"
   ]
  },
  {
   "cell_type": "markdown",
   "metadata": {},
   "source": [
    "### Train data"
   ]
  },
  {
   "cell_type": "code",
   "execution_count": 126,
   "metadata": {},
   "outputs": [],
   "source": [
    "t_length = 10\n",
    "save_path_base = '/Users/abdalrhman/Documents/bdma-thesis/python/data/'\n",
    "df_type = 'train'\n",
    "permits = train_df"
   ]
  },
  {
   "cell_type": "code",
   "execution_count": 127,
   "metadata": {},
   "outputs": [],
   "source": [
    "trace_log = pm4py.format_dataframe(permits, case_id='case:concept:name', activity_key='concept:name', timestamp_key='time:timestamp')\n",
    "trace_log = pm4py.convert_to_event_log(trace_log)"
   ]
  },
  {
   "cell_type": "code",
   "execution_count": 128,
   "metadata": {},
   "outputs": [],
   "source": [
    "is_delayed = []\n",
    "for trace in trace_log:\n",
    "    flag = False\n",
    "    for i,event in enumerate(trace):\n",
    "        if (not event['n.startTimestamp'] and not event['n.endTimestamp']):\n",
    "            continue\n",
    "        startTimestamp = pd.to_datetime(event['n.startTimestamp'], format='%Y-%m-%dT%H:%M:%S.%f%z')\n",
    "        finishTimestamp = pd.to_datetime(event['n.endTimestamp'], format='%Y-%m-%dT%H:%M:%S.%f%z')\n",
    "\n",
    "        duration_minutes = (finishTimestamp - startTimestamp).total_seconds() / 60\n",
    "\n",
    "        if duration_minutes > 370:\n",
    "            flag = True\n",
    "            break\n",
    "    \n",
    "    if flag:\n",
    "        is_delayed.append(1)\n",
    "    else:\n",
    "        is_delayed.append(0)"
   ]
  },
  {
   "cell_type": "code",
   "execution_count": 129,
   "metadata": {},
   "outputs": [],
   "source": [
    "prefix_traces = []\n",
    "for trace in trace_log:\n",
    "    for i,event in enumerate(trace):\n",
    "        if (\"Comisionado\" not in event['concept:name']) or (\"Carga de esterilizador liberada\" not in event['concept:name']):\n",
    "            break\n",
    "    prefix_traces.append(Trace(trace[:i], attributes = trace.attributes))\n",
    "prefix_traces = EventLog(prefix_traces)"
   ]
  },
  {
   "cell_type": "code",
   "execution_count": 130,
   "metadata": {},
   "outputs": [],
   "source": [
    "trace_prefixes = EventLog([Trace(trace[0:t_length], attributes = trace.attributes) for trace in prefix_traces])"
   ]
  },
  {
   "cell_type": "code",
   "execution_count": 131,
   "metadata": {},
   "outputs": [
    {
     "data": {
      "text/html": [
       "<div>\n",
       "<style scoped>\n",
       "    .dataframe tbody tr th:only-of-type {\n",
       "        vertical-align: middle;\n",
       "    }\n",
       "\n",
       "    .dataframe tbody tr th {\n",
       "        vertical-align: top;\n",
       "    }\n",
       "\n",
       "    .dataframe thead th {\n",
       "        text-align: right;\n",
       "    }\n",
       "</style>\n",
       "<table border=\"1\" class=\"dataframe\">\n",
       "  <thead>\n",
       "    <tr style=\"text-align: right;\">\n",
       "      <th></th>\n",
       "      <th>e.KitID</th>\n",
       "      <th>n.startTimestamp</th>\n",
       "      <th>n.endTimestamp</th>\n",
       "      <th>concept:name</th>\n",
       "      <th>e.Usuario</th>\n",
       "      <th>time:timestamp</th>\n",
       "      <th>w.machine</th>\n",
       "      <th>r.name</th>\n",
       "      <th>s.machine</th>\n",
       "      <th>s.type</th>\n",
       "      <th>e.batchID</th>\n",
       "      <th>@@index</th>\n",
       "      <th>case:concept:name</th>\n",
       "    </tr>\n",
       "  </thead>\n",
       "  <tbody>\n",
       "    <tr>\n",
       "      <th>0</th>\n",
       "      <td>012047 L2901-0</td>\n",
       "      <td>2022-01-13T20:35:00.000000000+00:00</td>\n",
       "      <td>2022-01-14T17:47:00.000000000+00:00</td>\n",
       "      <td>Montaje</td>\n",
       "      <td>CM</td>\n",
       "      <td>2022-01-13 20:35:00+00:00</td>\n",
       "      <td>None</td>\n",
       "      <td>None</td>\n",
       "      <td>None</td>\n",
       "      <td>None</td>\n",
       "      <td>b95841</td>\n",
       "      <td>0</td>\n",
       "      <td>012047 L2901-0-CN4835</td>\n",
       "    </tr>\n",
       "    <tr>\n",
       "      <th>1</th>\n",
       "      <td>012047 L2901-0</td>\n",
       "      <td>2022-01-13T20:35:00.000000000+00:00</td>\n",
       "      <td>2022-01-14T17:47:00.000000000+00:00</td>\n",
       "      <td>Producción montada</td>\n",
       "      <td>CM</td>\n",
       "      <td>2022-01-13 20:35:00+00:00</td>\n",
       "      <td>None</td>\n",
       "      <td>None</td>\n",
       "      <td>None</td>\n",
       "      <td>None</td>\n",
       "      <td>b95841</td>\n",
       "      <td>1</td>\n",
       "      <td>012047 L2901-0-CN4835</td>\n",
       "    </tr>\n",
       "    <tr>\n",
       "      <th>2</th>\n",
       "      <td>012047 L2901-0</td>\n",
       "      <td>2022-01-13T20:35:00.000000000+00:00</td>\n",
       "      <td>2022-01-14T17:47:00.000000000+00:00</td>\n",
       "      <td>Composición de cargas</td>\n",
       "      <td>ML</td>\n",
       "      <td>2022-01-14 14:57:00+00:00</td>\n",
       "      <td>None</td>\n",
       "      <td>None</td>\n",
       "      <td>None</td>\n",
       "      <td>None</td>\n",
       "      <td>b169827</td>\n",
       "      <td>2</td>\n",
       "      <td>012047 L2901-0-CN4835</td>\n",
       "    </tr>\n",
       "    <tr>\n",
       "      <th>3</th>\n",
       "      <td>012047 L2901-0</td>\n",
       "      <td>2022-01-13T20:35:00.000000000+00:00</td>\n",
       "      <td>2022-01-14T17:47:00.000000000+00:00</td>\n",
       "      <td>Carga de esterilizador liberada</td>\n",
       "      <td>ML</td>\n",
       "      <td>2022-01-14 16:23:00+00:00</td>\n",
       "      <td>None</td>\n",
       "      <td>None</td>\n",
       "      <td>None</td>\n",
       "      <td>None</td>\n",
       "      <td>b207122</td>\n",
       "      <td>3</td>\n",
       "      <td>012047 L2901-0-CN4835</td>\n",
       "    </tr>\n",
       "    <tr>\n",
       "      <th>4</th>\n",
       "      <td>DEP-QUI.BTF-1</td>\n",
       "      <td>2022-01-12T09:04:00.000000000+00:00</td>\n",
       "      <td>2022-01-12T21:42:00.000000000+00:00</td>\n",
       "      <td>Entrada Material Sucio</td>\n",
       "      <td>EH</td>\n",
       "      <td>2022-01-12 09:04:00+00:00</td>\n",
       "      <td>None</td>\n",
       "      <td>None</td>\n",
       "      <td>None</td>\n",
       "      <td>None</td>\n",
       "      <td>b27460</td>\n",
       "      <td>4</td>\n",
       "      <td>DEP-QUI.BTF-1-CN3765</td>\n",
       "    </tr>\n",
       "  </tbody>\n",
       "</table>\n",
       "</div>"
      ],
      "text/plain": [
       "          e.KitID                     n.startTimestamp  \\\n",
       "0  012047 L2901-0  2022-01-13T20:35:00.000000000+00:00   \n",
       "1  012047 L2901-0  2022-01-13T20:35:00.000000000+00:00   \n",
       "2  012047 L2901-0  2022-01-13T20:35:00.000000000+00:00   \n",
       "3  012047 L2901-0  2022-01-13T20:35:00.000000000+00:00   \n",
       "4   DEP-QUI.BTF-1  2022-01-12T09:04:00.000000000+00:00   \n",
       "\n",
       "                        n.endTimestamp                     concept:name  \\\n",
       "0  2022-01-14T17:47:00.000000000+00:00                          Montaje   \n",
       "1  2022-01-14T17:47:00.000000000+00:00               Producción montada   \n",
       "2  2022-01-14T17:47:00.000000000+00:00            Composición de cargas   \n",
       "3  2022-01-14T17:47:00.000000000+00:00  Carga de esterilizador liberada   \n",
       "4  2022-01-12T21:42:00.000000000+00:00           Entrada Material Sucio   \n",
       "\n",
       "  e.Usuario            time:timestamp w.machine r.name s.machine s.type  \\\n",
       "0        CM 2022-01-13 20:35:00+00:00      None   None      None   None   \n",
       "1        CM 2022-01-13 20:35:00+00:00      None   None      None   None   \n",
       "2        ML 2022-01-14 14:57:00+00:00      None   None      None   None   \n",
       "3        ML 2022-01-14 16:23:00+00:00      None   None      None   None   \n",
       "4        EH 2022-01-12 09:04:00+00:00      None   None      None   None   \n",
       "\n",
       "  e.batchID  @@index      case:concept:name  \n",
       "0    b95841        0  012047 L2901-0-CN4835  \n",
       "1    b95841        1  012047 L2901-0-CN4835  \n",
       "2   b169827        2  012047 L2901-0-CN4835  \n",
       "3   b207122        3  012047 L2901-0-CN4835  \n",
       "4    b27460        4   DEP-QUI.BTF-1-CN3765  "
      ]
     },
     "execution_count": 131,
     "metadata": {},
     "output_type": "execute_result"
    }
   ],
   "source": [
    "df = pm4py.convert_to_dataframe(trace_log)\n",
    "df.head(5)"
   ]
  },
  {
   "cell_type": "code",
   "execution_count": 132,
   "metadata": {},
   "outputs": [
    {
     "data": {
      "text/html": [
       "<div>\n",
       "<style scoped>\n",
       "    .dataframe tbody tr th:only-of-type {\n",
       "        vertical-align: middle;\n",
       "    }\n",
       "\n",
       "    .dataframe tbody tr th {\n",
       "        vertical-align: top;\n",
       "    }\n",
       "\n",
       "    .dataframe thead th {\n",
       "        text-align: right;\n",
       "    }\n",
       "</style>\n",
       "<table border=\"1\" class=\"dataframe\">\n",
       "  <thead>\n",
       "    <tr style=\"text-align: right;\">\n",
       "      <th></th>\n",
       "      <th>e.KitID</th>\n",
       "      <th>concept:name</th>\n",
       "      <th>e.Usuario</th>\n",
       "      <th>w.machine</th>\n",
       "      <th>r.name</th>\n",
       "      <th>s.machine</th>\n",
       "      <th>s.type</th>\n",
       "      <th>e.batchID</th>\n",
       "      <th>case:concept:name</th>\n",
       "      <th>is_delayed</th>\n",
       "    </tr>\n",
       "  </thead>\n",
       "  <tbody>\n",
       "    <tr>\n",
       "      <th>0</th>\n",
       "      <td>012047 L2901-0</td>\n",
       "      <td>Montaje</td>\n",
       "      <td>CM</td>\n",
       "      <td>None</td>\n",
       "      <td>None</td>\n",
       "      <td>None</td>\n",
       "      <td>None</td>\n",
       "      <td>b95841</td>\n",
       "      <td>012047 L2901-0-CN4835</td>\n",
       "      <td>1</td>\n",
       "    </tr>\n",
       "    <tr>\n",
       "      <th>1</th>\n",
       "      <td>012047 L2901-0</td>\n",
       "      <td>Producción montada</td>\n",
       "      <td>CM</td>\n",
       "      <td>None</td>\n",
       "      <td>None</td>\n",
       "      <td>None</td>\n",
       "      <td>None</td>\n",
       "      <td>b95841</td>\n",
       "      <td>012047 L2901-0-CN4835</td>\n",
       "      <td>1</td>\n",
       "    </tr>\n",
       "    <tr>\n",
       "      <th>2</th>\n",
       "      <td>012047 L2901-0</td>\n",
       "      <td>Composición de cargas</td>\n",
       "      <td>ML</td>\n",
       "      <td>None</td>\n",
       "      <td>None</td>\n",
       "      <td>None</td>\n",
       "      <td>None</td>\n",
       "      <td>b169827</td>\n",
       "      <td>012047 L2901-0-CN4835</td>\n",
       "      <td>1</td>\n",
       "    </tr>\n",
       "    <tr>\n",
       "      <th>3</th>\n",
       "      <td>012047 L2901-0</td>\n",
       "      <td>Carga de esterilizador liberada</td>\n",
       "      <td>ML</td>\n",
       "      <td>None</td>\n",
       "      <td>None</td>\n",
       "      <td>None</td>\n",
       "      <td>None</td>\n",
       "      <td>b207122</td>\n",
       "      <td>012047 L2901-0-CN4835</td>\n",
       "      <td>1</td>\n",
       "    </tr>\n",
       "    <tr>\n",
       "      <th>4</th>\n",
       "      <td>DEP-QUI.BTF-1</td>\n",
       "      <td>Entrada Material Sucio</td>\n",
       "      <td>EH</td>\n",
       "      <td>None</td>\n",
       "      <td>None</td>\n",
       "      <td>None</td>\n",
       "      <td>None</td>\n",
       "      <td>b27460</td>\n",
       "      <td>DEP-QUI.BTF-1-CN3765</td>\n",
       "      <td>1</td>\n",
       "    </tr>\n",
       "  </tbody>\n",
       "</table>\n",
       "</div>"
      ],
      "text/plain": [
       "          e.KitID                     concept:name e.Usuario w.machine r.name  \\\n",
       "0  012047 L2901-0                          Montaje        CM      None   None   \n",
       "1  012047 L2901-0               Producción montada        CM      None   None   \n",
       "2  012047 L2901-0            Composición de cargas        ML      None   None   \n",
       "3  012047 L2901-0  Carga de esterilizador liberada        ML      None   None   \n",
       "4   DEP-QUI.BTF-1           Entrada Material Sucio        EH      None   None   \n",
       "\n",
       "  s.machine s.type e.batchID      case:concept:name  is_delayed  \n",
       "0      None   None    b95841  012047 L2901-0-CN4835           1  \n",
       "1      None   None    b95841  012047 L2901-0-CN4835           1  \n",
       "2      None   None   b169827  012047 L2901-0-CN4835           1  \n",
       "3      None   None   b207122  012047 L2901-0-CN4835           1  \n",
       "4      None   None    b27460   DEP-QUI.BTF-1-CN3765           1  "
      ]
     },
     "execution_count": 132,
     "metadata": {},
     "output_type": "execute_result"
    }
   ],
   "source": [
    "cases = list(df.groupby(['case:concept:name'],sort=False)['e.KitID'].first().keys())\n",
    "df_dict = dict()\n",
    "df_dict['case:concept:name'] = cases\n",
    "df_dict['is_delayed'] = is_delayed\n",
    "temp_df = pd.DataFrame(df_dict)\n",
    "\n",
    "# merge target variable with permits\n",
    "df = df.merge(temp_df,on=['case:concept:name'])\n",
    "df.drop(columns=['n.endTimestamp', 'time:timestamp', '@@index', 'n.startTimestamp'], inplace=True)\n",
    "df.head()"
   ]
  },
  {
   "cell_type": "code",
   "execution_count": 133,
   "metadata": {},
   "outputs": [],
   "source": [
    "save_path = save_path_base + df_type +'_trace_len_'+str(t_length)+ '.csv'\n",
    "df.to_csv(save_path,index=False)"
   ]
  },
  {
   "cell_type": "code",
   "execution_count": 134,
   "metadata": {},
   "outputs": [
    {
     "name": "stdout",
     "output_type": "stream",
     "text": [
      "['Montaje' 'Producción montada' 'Carga L+D iniciada' 'Carga L+D liberada'\n",
      " 'Composición de cargas' 'Carga de esterilizador liberada'\n",
      " 'Entrada Material Sucio' 'Cargado en carro L+D' 'Comisionado']\n",
      "['CM' 'SM' 'BM' 'ML' 'AV' 'MCE' 'LI' 'ER' 'PN' 'EH' 'MR' 'PG' 'CLE' 'VA'\n",
      " 'SP' 'VS' 'MMF' 'MAA' 'DF' 'MGP']\n",
      "['NaN' 'Lavadora 3' 'Lavadora 1' 'Lavadora 2' 'Lavadora 4' 'Jupiter'\n",
      " 'Esclusa Lavado' 'Esclusa Reposicion' 'Esclusa Caducado']\n",
      "['NaN' 'Rack-Lav. 03' 'Rack-Lav. 05' 'Rack-Lav. 04' 'Rack-Lav. 01'\n",
      " 'Rack-Lav. 10' 'Rack-Lav. 06' 'Rack-Lav. 09' 'Rack-Lav. 02'\n",
      " 'Rack-Lav. 07' 'Rack-Lav. 08' 'Esclusa 01' 'Rack-Jupiter 02'\n",
      " 'Rack-Jupiter 01' 'Esclusa 02' 'Esclusa 03']\n",
      "['NaN' 'Autoclave 1' 'Autoclave 4' 'Autoclave 2' 'Autoclave 3'\n",
      " 'Amsco Vpro' 'Amsco Eagle']\n",
      "['NaN' 'High Temperature Sterilization' 'Low Temperature Sterilization']\n",
      "['012047 L2901-0' 'CONT-CCEE.ALE-1' 'CONT-CCEE.CG-1' ...\n",
      " 'TRAN-QUI.TRA.ZIMMER-1' 'TRAN-QUI.TRA.ZIMMER-2' 'TRAN-QUI.TRA.ZIMMER-6']\n"
     ]
    },
    {
     "data": {
      "text/plain": [
       "['concept:name',\n",
       " 'e.Usuario',\n",
       " 'w.machine',\n",
       " 'r.name',\n",
       " 's.machine',\n",
       " 's.type',\n",
       " 'e.KitID']"
      ]
     },
     "execution_count": 134,
     "metadata": {},
     "output_type": "execute_result"
    }
   ],
   "source": [
    "str_ev_attr = ['concept:name', 'e.Usuario', 'w.machine', 'r.name', 's.machine',\t's.type']\n",
    "str_tr_attr = ['e.KitID']\n",
    "categorical_vars = str_ev_attr + str_tr_attr\n",
    "ohe_dict = get_ohe_dict(categorical_vars, original_df)\n",
    "categorical_vars"
   ]
  },
  {
   "cell_type": "code",
   "execution_count": 135,
   "metadata": {},
   "outputs": [],
   "source": [
    "data = []\n",
    "\n",
    "for id, group in df.groupby(['case:concept:name']):\n",
    "    feature_vec = []\n",
    "\n",
    "    # add categorical and numerical event attributes\n",
    "    for cat_atr in str_ev_attr[:1]:\n",
    "        attr_length = len(list(ohe_dict[cat_atr].values())[0])\n",
    "        str_ev_vec = np.array([0]*attr_length)\n",
    "\n",
    "        for ca in group[cat_atr]:\n",
    "            str_ev_vec  = str_ev_vec + np.array(ohe_dict[cat_atr][ca])\n",
    "\n",
    "        feature_vec.extend(list(str_ev_vec))\n",
    "\n",
    "    data.append(feature_vec)"
   ]
  },
  {
   "cell_type": "code",
   "execution_count": 136,
   "metadata": {},
   "outputs": [],
   "source": [
    "encode_name = 'frequency_encode_'\n",
    "save_path = save_path_base + encode_name + df_type +'_trace_len_'+str(t_length)+ '.pickle'\n",
    "save_data(data, is_delayed, ohe_dict ,save_path)"
   ]
  },
  {
   "cell_type": "markdown",
   "metadata": {},
   "source": [
    "### Test data"
   ]
  },
  {
   "cell_type": "code",
   "execution_count": 137,
   "metadata": {},
   "outputs": [],
   "source": [
    "df_type = 'test'\n",
    "permits = test_df"
   ]
  },
  {
   "cell_type": "code",
   "execution_count": 138,
   "metadata": {},
   "outputs": [
    {
     "data": {
      "text/html": [
       "<div>\n",
       "<style scoped>\n",
       "    .dataframe tbody tr th:only-of-type {\n",
       "        vertical-align: middle;\n",
       "    }\n",
       "\n",
       "    .dataframe tbody tr th {\n",
       "        vertical-align: top;\n",
       "    }\n",
       "\n",
       "    .dataframe thead th {\n",
       "        text-align: right;\n",
       "    }\n",
       "</style>\n",
       "<table border=\"1\" class=\"dataframe\">\n",
       "  <thead>\n",
       "    <tr style=\"text-align: right;\">\n",
       "      <th></th>\n",
       "      <th>e.KitID</th>\n",
       "      <th>n.startTimestamp</th>\n",
       "      <th>n.endTimestamp</th>\n",
       "      <th>concept:name</th>\n",
       "      <th>e.Usuario</th>\n",
       "      <th>time:timestamp</th>\n",
       "      <th>w.machine</th>\n",
       "      <th>r.name</th>\n",
       "      <th>s.machine</th>\n",
       "      <th>s.type</th>\n",
       "      <th>e.batchID</th>\n",
       "      <th>@@index</th>\n",
       "      <th>case:concept:name</th>\n",
       "    </tr>\n",
       "  </thead>\n",
       "  <tbody>\n",
       "    <tr>\n",
       "      <th>77</th>\n",
       "      <td>DEP-QUI.CPL.SYNTHES-1</td>\n",
       "      <td>2022-03-30T15:41:00.000000000+00:00</td>\n",
       "      <td>2022-03-30T20:37:00.000000000+00:00</td>\n",
       "      <td>Entrada Material Sucio</td>\n",
       "      <td>MMF</td>\n",
       "      <td>2022-03-30 15:41:00+00:00</td>\n",
       "      <td>None</td>\n",
       "      <td>None</td>\n",
       "      <td>None</td>\n",
       "      <td>None</td>\n",
       "      <td>b18095</td>\n",
       "      <td>2992</td>\n",
       "      <td>DEP-QUI.CPL.SYNTHES-1-CN34976</td>\n",
       "    </tr>\n",
       "    <tr>\n",
       "      <th>78</th>\n",
       "      <td>DEP-QUI.CPL.SYNTHES-1</td>\n",
       "      <td>2022-03-30T15:41:00.000000000+00:00</td>\n",
       "      <td>2022-03-30T20:37:00.000000000+00:00</td>\n",
       "      <td>Cargado en carro L+D</td>\n",
       "      <td>MMF</td>\n",
       "      <td>2022-03-30 16:02:00+00:00</td>\n",
       "      <td>None</td>\n",
       "      <td>None</td>\n",
       "      <td>None</td>\n",
       "      <td>None</td>\n",
       "      <td>b28772</td>\n",
       "      <td>2995</td>\n",
       "      <td>DEP-QUI.CPL.SYNTHES-1-CN34976</td>\n",
       "    </tr>\n",
       "    <tr>\n",
       "      <th>79</th>\n",
       "      <td>DEP-QUI.CPL.SYNTHES-1</td>\n",
       "      <td>2022-03-30T15:41:00.000000000+00:00</td>\n",
       "      <td>2022-03-30T20:37:00.000000000+00:00</td>\n",
       "      <td>Carga L+D iniciada</td>\n",
       "      <td>PG</td>\n",
       "      <td>2022-03-30 16:37:00+00:00</td>\n",
       "      <td>None</td>\n",
       "      <td>Rack-Lav. 06</td>\n",
       "      <td>None</td>\n",
       "      <td>None</td>\n",
       "      <td>b44745</td>\n",
       "      <td>2991</td>\n",
       "      <td>DEP-QUI.CPL.SYNTHES-1-CN34976</td>\n",
       "    </tr>\n",
       "    <tr>\n",
       "      <th>80</th>\n",
       "      <td>DEP-QUI.CPL.SYNTHES-1</td>\n",
       "      <td>2022-03-30T15:41:00.000000000+00:00</td>\n",
       "      <td>2022-03-30T20:37:00.000000000+00:00</td>\n",
       "      <td>Carga L+D liberada</td>\n",
       "      <td>SP</td>\n",
       "      <td>2022-03-30 17:50:00+00:00</td>\n",
       "      <td>None</td>\n",
       "      <td>None</td>\n",
       "      <td>None</td>\n",
       "      <td>None</td>\n",
       "      <td>b60371</td>\n",
       "      <td>2994</td>\n",
       "      <td>DEP-QUI.CPL.SYNTHES-1-CN34976</td>\n",
       "    </tr>\n",
       "    <tr>\n",
       "      <th>81</th>\n",
       "      <td>DEP-QUI.CPL.SYNTHES-1</td>\n",
       "      <td>2022-03-30T15:41:00.000000000+00:00</td>\n",
       "      <td>2022-03-30T20:37:00.000000000+00:00</td>\n",
       "      <td>Montaje</td>\n",
       "      <td>EH</td>\n",
       "      <td>2022-03-30 17:55:00+00:00</td>\n",
       "      <td>None</td>\n",
       "      <td>None</td>\n",
       "      <td>None</td>\n",
       "      <td>None</td>\n",
       "      <td>b75401</td>\n",
       "      <td>2990</td>\n",
       "      <td>DEP-QUI.CPL.SYNTHES-1-CN34976</td>\n",
       "    </tr>\n",
       "  </tbody>\n",
       "</table>\n",
       "</div>"
      ],
      "text/plain": [
       "                  e.KitID                     n.startTimestamp  \\\n",
       "77  DEP-QUI.CPL.SYNTHES-1  2022-03-30T15:41:00.000000000+00:00   \n",
       "78  DEP-QUI.CPL.SYNTHES-1  2022-03-30T15:41:00.000000000+00:00   \n",
       "79  DEP-QUI.CPL.SYNTHES-1  2022-03-30T15:41:00.000000000+00:00   \n",
       "80  DEP-QUI.CPL.SYNTHES-1  2022-03-30T15:41:00.000000000+00:00   \n",
       "81  DEP-QUI.CPL.SYNTHES-1  2022-03-30T15:41:00.000000000+00:00   \n",
       "\n",
       "                         n.endTimestamp            concept:name e.Usuario  \\\n",
       "77  2022-03-30T20:37:00.000000000+00:00  Entrada Material Sucio       MMF   \n",
       "78  2022-03-30T20:37:00.000000000+00:00    Cargado en carro L+D       MMF   \n",
       "79  2022-03-30T20:37:00.000000000+00:00      Carga L+D iniciada        PG   \n",
       "80  2022-03-30T20:37:00.000000000+00:00      Carga L+D liberada        SP   \n",
       "81  2022-03-30T20:37:00.000000000+00:00                 Montaje        EH   \n",
       "\n",
       "              time:timestamp w.machine        r.name s.machine s.type  \\\n",
       "77 2022-03-30 15:41:00+00:00      None          None      None   None   \n",
       "78 2022-03-30 16:02:00+00:00      None          None      None   None   \n",
       "79 2022-03-30 16:37:00+00:00      None  Rack-Lav. 06      None   None   \n",
       "80 2022-03-30 17:50:00+00:00      None          None      None   None   \n",
       "81 2022-03-30 17:55:00+00:00      None          None      None   None   \n",
       "\n",
       "   e.batchID  @@index              case:concept:name  \n",
       "77    b18095     2992  DEP-QUI.CPL.SYNTHES-1-CN34976  \n",
       "78    b28772     2995  DEP-QUI.CPL.SYNTHES-1-CN34976  \n",
       "79    b44745     2991  DEP-QUI.CPL.SYNTHES-1-CN34976  \n",
       "80    b60371     2994  DEP-QUI.CPL.SYNTHES-1-CN34976  \n",
       "81    b75401     2990  DEP-QUI.CPL.SYNTHES-1-CN34976  "
      ]
     },
     "execution_count": 138,
     "metadata": {},
     "output_type": "execute_result"
    }
   ],
   "source": [
    "test_df.head()"
   ]
  },
  {
   "cell_type": "code",
   "execution_count": 139,
   "metadata": {},
   "outputs": [
    {
     "data": {
      "text/plain": [
       "[{'attributes': {'concept:name': 'DEP-QUI.CPL.SYNTHES-1-CN34976'}, 'events': [{'e.KitID': 'DEP-QUI.CPL.SYNTHES-1', 'n.startTimestamp': neo4j.time.DateTime(2022, 3, 30, 15, 41, 0, 0, tzinfo=<UTC>), 'n.endTimestamp': neo4j.time.DateTime(2022, 3, 30, 20, 37, 0, 0, tzinfo=<UTC>), 'concept:name': 'Entrada Material Sucio', 'e.Usuario': 'MMF', 'time:timestamp': Timestamp('2022-03-30 15:41:00+0000', tz='UTC'), 'w.machine': None, 'r.name': None, 's.machine': None, 's.type': None, 'e.batchID': 'b18095', '@@index': 77}, '..', {'e.KitID': 'DEP-QUI.CPL.SYNTHES-1', 'n.startTimestamp': neo4j.time.DateTime(2022, 3, 30, 15, 41, 0, 0, tzinfo=<UTC>), 'n.endTimestamp': neo4j.time.DateTime(2022, 3, 30, 20, 37, 0, 0, tzinfo=<UTC>), 'concept:name': 'Composición de cargas', 'e.Usuario': 'PN', 'time:timestamp': Timestamp('2022-03-30 18:11:00+0000', tz='UTC'), 'w.machine': None, 'r.name': None, 's.machine': None, 's.type': None, 'e.batchID': 'b137352', '@@index': 83}]}, '....', {'attributes': {'concept:name': 'TRAN-QUI.TRA.ZIMMER-1-CN33485'}, 'events': [{'e.KitID': 'TRAN-QUI.TRA.ZIMMER-1', 'n.startTimestamp': neo4j.time.DateTime(2022, 3, 25, 8, 30, 0, 0, tzinfo=<UTC>), 'n.endTimestamp': neo4j.time.DateTime(2022, 3, 25, 11, 21, 0, 0, tzinfo=<UTC>), 'concept:name': 'Cargado en carro L+D', 'e.Usuario': 'MR', 'time:timestamp': Timestamp('2022-03-25 08:30:00+0000', tz='UTC'), 'w.machine': None, 'r.name': None, 's.machine': None, 's.type': None, 'e.batchID': 'b29837', '@@index': 183022}, '..', {'e.KitID': 'TRAN-QUI.TRA.ZIMMER-1', 'n.startTimestamp': neo4j.time.DateTime(2022, 3, 25, 8, 30, 0, 0, tzinfo=<UTC>), 'n.endTimestamp': neo4j.time.DateTime(2022, 3, 25, 11, 21, 0, 0, tzinfo=<UTC>), 'concept:name': 'Producción montada', 'e.Usuario': 'VS', 'time:timestamp': Timestamp('2022-03-25 09:42:00+0000', tz='UTC'), 'w.machine': None, 'r.name': None, 's.machine': None, 's.type': None, 'e.batchID': 'b76932', '@@index': 183027}]}]"
      ]
     },
     "execution_count": 139,
     "metadata": {},
     "output_type": "execute_result"
    }
   ],
   "source": [
    "event_log = pm4py.format_dataframe(permits, case_id='case:concept:name', activity_key='concept:name', timestamp_key='time:timestamp')\n",
    "event_log = pm4py.convert_to_event_log(event_log)\n",
    "event_log"
   ]
  },
  {
   "cell_type": "code",
   "execution_count": 140,
   "metadata": {},
   "outputs": [],
   "source": [
    "is_delayed = []\n",
    "for trace in event_log:\n",
    "    flag = False\n",
    "    for i,event in enumerate(trace):\n",
    "        if (not event['n.startTimestamp'] and not event['n.endTimestamp']):\n",
    "            continue\n",
    "        startTimestamp = pd.to_datetime(event['n.startTimestamp'], format='%Y-%m-%dT%H:%M:%S.%f%z')\n",
    "        finishTimestamp = pd.to_datetime(event['n.endTimestamp'], format='%Y-%m-%dT%H:%M:%S.%f%z')\n",
    "\n",
    "        duration_minutes = (finishTimestamp - startTimestamp).total_seconds() / 60\n",
    "\n",
    "        if duration_minutes > 370:\n",
    "            flag = True\n",
    "            break\n",
    "    \n",
    "    if flag:\n",
    "        is_delayed.append(1)\n",
    "    else:\n",
    "        is_delayed.append(0)"
   ]
  },
  {
   "cell_type": "code",
   "execution_count": 141,
   "metadata": {},
   "outputs": [],
   "source": [
    "prefix_traces = []\n",
    "for trace in event_log:\n",
    "    for i,event in enumerate(trace):\n",
    "        if (\"Comisionado\" not in event['concept:name']) or (\"Carga de esterilizador liberada\" not in event['concept:name']):\n",
    "            break\n",
    "    prefix_traces.append(Trace(trace[:i], attributes = trace.attributes))\n",
    "prefix_traces = EventLog(prefix_traces)"
   ]
  },
  {
   "cell_type": "code",
   "execution_count": 142,
   "metadata": {},
   "outputs": [],
   "source": [
    "trace_prefixes = EventLog([Trace(trace[0:t_length], attributes = trace.attributes) for trace in prefix_traces])"
   ]
  },
  {
   "cell_type": "code",
   "execution_count": 143,
   "metadata": {},
   "outputs": [
    {
     "data": {
      "text/html": [
       "<div>\n",
       "<style scoped>\n",
       "    .dataframe tbody tr th:only-of-type {\n",
       "        vertical-align: middle;\n",
       "    }\n",
       "\n",
       "    .dataframe tbody tr th {\n",
       "        vertical-align: top;\n",
       "    }\n",
       "\n",
       "    .dataframe thead th {\n",
       "        text-align: right;\n",
       "    }\n",
       "</style>\n",
       "<table border=\"1\" class=\"dataframe\">\n",
       "  <thead>\n",
       "    <tr style=\"text-align: right;\">\n",
       "      <th></th>\n",
       "      <th>e.KitID</th>\n",
       "      <th>n.startTimestamp</th>\n",
       "      <th>n.endTimestamp</th>\n",
       "      <th>concept:name</th>\n",
       "      <th>e.Usuario</th>\n",
       "      <th>time:timestamp</th>\n",
       "      <th>w.machine</th>\n",
       "      <th>r.name</th>\n",
       "      <th>s.machine</th>\n",
       "      <th>s.type</th>\n",
       "      <th>e.batchID</th>\n",
       "      <th>@@index</th>\n",
       "      <th>case:concept:name</th>\n",
       "    </tr>\n",
       "  </thead>\n",
       "  <tbody>\n",
       "    <tr>\n",
       "      <th>0</th>\n",
       "      <td>DEP-QUI.CPL.SYNTHES-1</td>\n",
       "      <td>2022-03-30T15:41:00.000000000+00:00</td>\n",
       "      <td>2022-03-30T20:37:00.000000000+00:00</td>\n",
       "      <td>Entrada Material Sucio</td>\n",
       "      <td>MMF</td>\n",
       "      <td>2022-03-30 15:41:00+00:00</td>\n",
       "      <td>None</td>\n",
       "      <td>None</td>\n",
       "      <td>None</td>\n",
       "      <td>None</td>\n",
       "      <td>b18095</td>\n",
       "      <td>77</td>\n",
       "      <td>DEP-QUI.CPL.SYNTHES-1-CN34976</td>\n",
       "    </tr>\n",
       "    <tr>\n",
       "      <th>1</th>\n",
       "      <td>DEP-QUI.CPL.SYNTHES-1</td>\n",
       "      <td>2022-03-30T15:41:00.000000000+00:00</td>\n",
       "      <td>2022-03-30T20:37:00.000000000+00:00</td>\n",
       "      <td>Cargado en carro L+D</td>\n",
       "      <td>MMF</td>\n",
       "      <td>2022-03-30 16:02:00+00:00</td>\n",
       "      <td>None</td>\n",
       "      <td>None</td>\n",
       "      <td>None</td>\n",
       "      <td>None</td>\n",
       "      <td>b28772</td>\n",
       "      <td>78</td>\n",
       "      <td>DEP-QUI.CPL.SYNTHES-1-CN34976</td>\n",
       "    </tr>\n",
       "    <tr>\n",
       "      <th>2</th>\n",
       "      <td>DEP-QUI.CPL.SYNTHES-1</td>\n",
       "      <td>2022-03-30T15:41:00.000000000+00:00</td>\n",
       "      <td>2022-03-30T20:37:00.000000000+00:00</td>\n",
       "      <td>Carga L+D iniciada</td>\n",
       "      <td>PG</td>\n",
       "      <td>2022-03-30 16:37:00+00:00</td>\n",
       "      <td>None</td>\n",
       "      <td>Rack-Lav. 06</td>\n",
       "      <td>None</td>\n",
       "      <td>None</td>\n",
       "      <td>b44745</td>\n",
       "      <td>79</td>\n",
       "      <td>DEP-QUI.CPL.SYNTHES-1-CN34976</td>\n",
       "    </tr>\n",
       "    <tr>\n",
       "      <th>3</th>\n",
       "      <td>DEP-QUI.CPL.SYNTHES-1</td>\n",
       "      <td>2022-03-30T15:41:00.000000000+00:00</td>\n",
       "      <td>2022-03-30T20:37:00.000000000+00:00</td>\n",
       "      <td>Carga L+D liberada</td>\n",
       "      <td>SP</td>\n",
       "      <td>2022-03-30 17:50:00+00:00</td>\n",
       "      <td>None</td>\n",
       "      <td>None</td>\n",
       "      <td>None</td>\n",
       "      <td>None</td>\n",
       "      <td>b60371</td>\n",
       "      <td>80</td>\n",
       "      <td>DEP-QUI.CPL.SYNTHES-1-CN34976</td>\n",
       "    </tr>\n",
       "    <tr>\n",
       "      <th>4</th>\n",
       "      <td>DEP-QUI.CPL.SYNTHES-1</td>\n",
       "      <td>2022-03-30T15:41:00.000000000+00:00</td>\n",
       "      <td>2022-03-30T20:37:00.000000000+00:00</td>\n",
       "      <td>Montaje</td>\n",
       "      <td>EH</td>\n",
       "      <td>2022-03-30 17:55:00+00:00</td>\n",
       "      <td>None</td>\n",
       "      <td>None</td>\n",
       "      <td>None</td>\n",
       "      <td>None</td>\n",
       "      <td>b75401</td>\n",
       "      <td>81</td>\n",
       "      <td>DEP-QUI.CPL.SYNTHES-1-CN34976</td>\n",
       "    </tr>\n",
       "  </tbody>\n",
       "</table>\n",
       "</div>"
      ],
      "text/plain": [
       "                 e.KitID                     n.startTimestamp  \\\n",
       "0  DEP-QUI.CPL.SYNTHES-1  2022-03-30T15:41:00.000000000+00:00   \n",
       "1  DEP-QUI.CPL.SYNTHES-1  2022-03-30T15:41:00.000000000+00:00   \n",
       "2  DEP-QUI.CPL.SYNTHES-1  2022-03-30T15:41:00.000000000+00:00   \n",
       "3  DEP-QUI.CPL.SYNTHES-1  2022-03-30T15:41:00.000000000+00:00   \n",
       "4  DEP-QUI.CPL.SYNTHES-1  2022-03-30T15:41:00.000000000+00:00   \n",
       "\n",
       "                        n.endTimestamp            concept:name e.Usuario  \\\n",
       "0  2022-03-30T20:37:00.000000000+00:00  Entrada Material Sucio       MMF   \n",
       "1  2022-03-30T20:37:00.000000000+00:00    Cargado en carro L+D       MMF   \n",
       "2  2022-03-30T20:37:00.000000000+00:00      Carga L+D iniciada        PG   \n",
       "3  2022-03-30T20:37:00.000000000+00:00      Carga L+D liberada        SP   \n",
       "4  2022-03-30T20:37:00.000000000+00:00                 Montaje        EH   \n",
       "\n",
       "             time:timestamp w.machine        r.name s.machine s.type  \\\n",
       "0 2022-03-30 15:41:00+00:00      None          None      None   None   \n",
       "1 2022-03-30 16:02:00+00:00      None          None      None   None   \n",
       "2 2022-03-30 16:37:00+00:00      None  Rack-Lav. 06      None   None   \n",
       "3 2022-03-30 17:50:00+00:00      None          None      None   None   \n",
       "4 2022-03-30 17:55:00+00:00      None          None      None   None   \n",
       "\n",
       "  e.batchID  @@index              case:concept:name  \n",
       "0    b18095       77  DEP-QUI.CPL.SYNTHES-1-CN34976  \n",
       "1    b28772       78  DEP-QUI.CPL.SYNTHES-1-CN34976  \n",
       "2    b44745       79  DEP-QUI.CPL.SYNTHES-1-CN34976  \n",
       "3    b60371       80  DEP-QUI.CPL.SYNTHES-1-CN34976  \n",
       "4    b75401       81  DEP-QUI.CPL.SYNTHES-1-CN34976  "
      ]
     },
     "execution_count": 143,
     "metadata": {},
     "output_type": "execute_result"
    }
   ],
   "source": [
    "df = pm4py.convert_to_dataframe(event_log)\n",
    "df.head(5)"
   ]
  },
  {
   "cell_type": "code",
   "execution_count": 144,
   "metadata": {},
   "outputs": [
    {
     "data": {
      "text/html": [
       "<div>\n",
       "<style scoped>\n",
       "    .dataframe tbody tr th:only-of-type {\n",
       "        vertical-align: middle;\n",
       "    }\n",
       "\n",
       "    .dataframe tbody tr th {\n",
       "        vertical-align: top;\n",
       "    }\n",
       "\n",
       "    .dataframe thead th {\n",
       "        text-align: right;\n",
       "    }\n",
       "</style>\n",
       "<table border=\"1\" class=\"dataframe\">\n",
       "  <thead>\n",
       "    <tr style=\"text-align: right;\">\n",
       "      <th></th>\n",
       "      <th>e.KitID</th>\n",
       "      <th>concept:name</th>\n",
       "      <th>e.Usuario</th>\n",
       "      <th>w.machine</th>\n",
       "      <th>r.name</th>\n",
       "      <th>s.machine</th>\n",
       "      <th>s.type</th>\n",
       "      <th>e.batchID</th>\n",
       "      <th>case:concept:name</th>\n",
       "      <th>is_delayed</th>\n",
       "    </tr>\n",
       "  </thead>\n",
       "  <tbody>\n",
       "    <tr>\n",
       "      <th>0</th>\n",
       "      <td>DEP-QUI.CPL.SYNTHES-1</td>\n",
       "      <td>Entrada Material Sucio</td>\n",
       "      <td>MMF</td>\n",
       "      <td>None</td>\n",
       "      <td>None</td>\n",
       "      <td>None</td>\n",
       "      <td>None</td>\n",
       "      <td>b18095</td>\n",
       "      <td>DEP-QUI.CPL.SYNTHES-1-CN34976</td>\n",
       "      <td>0</td>\n",
       "    </tr>\n",
       "    <tr>\n",
       "      <th>1</th>\n",
       "      <td>DEP-QUI.CPL.SYNTHES-1</td>\n",
       "      <td>Cargado en carro L+D</td>\n",
       "      <td>MMF</td>\n",
       "      <td>None</td>\n",
       "      <td>None</td>\n",
       "      <td>None</td>\n",
       "      <td>None</td>\n",
       "      <td>b28772</td>\n",
       "      <td>DEP-QUI.CPL.SYNTHES-1-CN34976</td>\n",
       "      <td>0</td>\n",
       "    </tr>\n",
       "    <tr>\n",
       "      <th>2</th>\n",
       "      <td>DEP-QUI.CPL.SYNTHES-1</td>\n",
       "      <td>Carga L+D iniciada</td>\n",
       "      <td>PG</td>\n",
       "      <td>None</td>\n",
       "      <td>Rack-Lav. 06</td>\n",
       "      <td>None</td>\n",
       "      <td>None</td>\n",
       "      <td>b44745</td>\n",
       "      <td>DEP-QUI.CPL.SYNTHES-1-CN34976</td>\n",
       "      <td>0</td>\n",
       "    </tr>\n",
       "    <tr>\n",
       "      <th>3</th>\n",
       "      <td>DEP-QUI.CPL.SYNTHES-1</td>\n",
       "      <td>Carga L+D liberada</td>\n",
       "      <td>SP</td>\n",
       "      <td>None</td>\n",
       "      <td>None</td>\n",
       "      <td>None</td>\n",
       "      <td>None</td>\n",
       "      <td>b60371</td>\n",
       "      <td>DEP-QUI.CPL.SYNTHES-1-CN34976</td>\n",
       "      <td>0</td>\n",
       "    </tr>\n",
       "    <tr>\n",
       "      <th>4</th>\n",
       "      <td>DEP-QUI.CPL.SYNTHES-1</td>\n",
       "      <td>Montaje</td>\n",
       "      <td>EH</td>\n",
       "      <td>None</td>\n",
       "      <td>None</td>\n",
       "      <td>None</td>\n",
       "      <td>None</td>\n",
       "      <td>b75401</td>\n",
       "      <td>DEP-QUI.CPL.SYNTHES-1-CN34976</td>\n",
       "      <td>0</td>\n",
       "    </tr>\n",
       "  </tbody>\n",
       "</table>\n",
       "</div>"
      ],
      "text/plain": [
       "                 e.KitID            concept:name e.Usuario w.machine  \\\n",
       "0  DEP-QUI.CPL.SYNTHES-1  Entrada Material Sucio       MMF      None   \n",
       "1  DEP-QUI.CPL.SYNTHES-1    Cargado en carro L+D       MMF      None   \n",
       "2  DEP-QUI.CPL.SYNTHES-1      Carga L+D iniciada        PG      None   \n",
       "3  DEP-QUI.CPL.SYNTHES-1      Carga L+D liberada        SP      None   \n",
       "4  DEP-QUI.CPL.SYNTHES-1                 Montaje        EH      None   \n",
       "\n",
       "         r.name s.machine s.type e.batchID              case:concept:name  \\\n",
       "0          None      None   None    b18095  DEP-QUI.CPL.SYNTHES-1-CN34976   \n",
       "1          None      None   None    b28772  DEP-QUI.CPL.SYNTHES-1-CN34976   \n",
       "2  Rack-Lav. 06      None   None    b44745  DEP-QUI.CPL.SYNTHES-1-CN34976   \n",
       "3          None      None   None    b60371  DEP-QUI.CPL.SYNTHES-1-CN34976   \n",
       "4          None      None   None    b75401  DEP-QUI.CPL.SYNTHES-1-CN34976   \n",
       "\n",
       "   is_delayed  \n",
       "0           0  \n",
       "1           0  \n",
       "2           0  \n",
       "3           0  \n",
       "4           0  "
      ]
     },
     "execution_count": 144,
     "metadata": {},
     "output_type": "execute_result"
    }
   ],
   "source": [
    "cases = list(df.groupby(['case:concept:name'],sort=False)['e.KitID'].first().keys())\n",
    "df_dict = dict()\n",
    "df_dict['case:concept:name'] = cases\n",
    "df_dict['is_delayed'] = is_delayed\n",
    "temp_df = pd.DataFrame(df_dict)\n",
    "df.drop(columns=['n.endTimestamp', 'time:timestamp', '@@index', 'n.startTimestamp'], inplace=True)\n",
    "\n",
    "# merge target variable with permits\n",
    "df = df.merge(temp_df,on=['case:concept:name'])\n",
    "df.head()"
   ]
  },
  {
   "cell_type": "code",
   "execution_count": 145,
   "metadata": {},
   "outputs": [],
   "source": [
    "save_path = save_path_base + df_type +'_trace_len_'+str(t_length)+ '.csv'\n",
    "df.to_csv(save_path,index=False)"
   ]
  },
  {
   "cell_type": "code",
   "execution_count": 146,
   "metadata": {},
   "outputs": [],
   "source": [
    "encode_name = 'frequency_encode_'\n",
    "save_path = save_path_base + encode_name + 'train' +'_trace_len_'+str(t_length)+ '.pickle'\n",
    "loaded_data = load_data(save_path)\n",
    "ohe_dict = loaded_data['feature_names']"
   ]
  },
  {
   "cell_type": "code",
   "execution_count": 147,
   "metadata": {},
   "outputs": [],
   "source": [
    "data = []\n",
    "\n",
    "for id, group in df.groupby(['case:concept:name']):\n",
    "    feature_vec = []\n",
    "\n",
    "    # add categorical and numerical event attributes\n",
    "    for cat_atr in str_ev_attr[:1]:\n",
    "        attr_length = len(list(ohe_dict[cat_atr].values())[0])\n",
    "        str_ev_vec = np.array([0]*attr_length)\n",
    "\n",
    "        for ca in group[cat_atr]:\n",
    "            str_ev_vec  = str_ev_vec + np.array(ohe_dict[cat_atr][ca])\n",
    "\n",
    "        feature_vec.extend(list(str_ev_vec))\n",
    "\n",
    "    data.append(feature_vec)"
   ]
  },
  {
   "cell_type": "code",
   "execution_count": 148,
   "metadata": {},
   "outputs": [],
   "source": [
    "encode_name = 'frequency_encode_'\n",
    "save_path = save_path_base + encode_name + df_type +'_trace_len_'+str(t_length)+ '.pickle'\n",
    "save_data(data, is_delayed, ohe_dict ,save_path)"
   ]
  },
  {
   "cell_type": "markdown",
   "metadata": {},
   "source": [
    "## Modeling"
   ]
  },
  {
   "cell_type": "code",
   "execution_count": 149,
   "metadata": {},
   "outputs": [],
   "source": [
    "data_test = load_data(save_path_base + \"frequency_encode_test_trace_len_10.pickle\")\n",
    "data_train = load_data(save_path_base + \"frequency_encode_train_trace_len_10.pickle\")"
   ]
  },
  {
   "cell_type": "code",
   "execution_count": 150,
   "metadata": {},
   "outputs": [],
   "source": [
    "X_train = np.array(data_train['X'])\n",
    "X_test = np.array(data_test['X'])\n",
    "y_train = np.array(data_train['y'])\n",
    "y_test = np.array(data_test['y'])"
   ]
  },
  {
   "cell_type": "code",
   "execution_count": 151,
   "metadata": {},
   "outputs": [],
   "source": [
    "results_df = pd.DataFrame(index=['Decision Tree (Default)'],\n",
    "                          columns=['F-score', 'Precision','Recall', 'Accuracy'])"
   ]
  },
  {
   "cell_type": "code",
   "execution_count": 152,
   "metadata": {},
   "outputs": [
    {
     "data": {
      "text/plain": [
       "2732"
      ]
     },
     "execution_count": 152,
     "metadata": {},
     "output_type": "execute_result"
    }
   ],
   "source": [
    "len(y_test)"
   ]
  },
  {
   "cell_type": "code",
   "execution_count": 153,
   "metadata": {},
   "outputs": [
    {
     "data": {
      "text/html": [
       "<div>\n",
       "<style scoped>\n",
       "    .dataframe tbody tr th:only-of-type {\n",
       "        vertical-align: middle;\n",
       "    }\n",
       "\n",
       "    .dataframe tbody tr th {\n",
       "        vertical-align: top;\n",
       "    }\n",
       "\n",
       "    .dataframe thead th {\n",
       "        text-align: right;\n",
       "    }\n",
       "</style>\n",
       "<table border=\"1\" class=\"dataframe\">\n",
       "  <thead>\n",
       "    <tr style=\"text-align: right;\">\n",
       "      <th></th>\n",
       "      <th>F-score</th>\n",
       "      <th>Precision</th>\n",
       "      <th>Recall</th>\n",
       "      <th>Accuracy</th>\n",
       "    </tr>\n",
       "  </thead>\n",
       "  <tbody>\n",
       "    <tr>\n",
       "      <th>Decision Tree (Default)</th>\n",
       "      <td>0.578521</td>\n",
       "      <td>0.635294</td>\n",
       "      <td>0.209845</td>\n",
       "      <td>0.742679</td>\n",
       "    </tr>\n",
       "  </tbody>\n",
       "</table>\n",
       "</div>"
      ],
      "text/plain": [
       "                          F-score Precision    Recall  Accuracy\n",
       "Decision Tree (Default)  0.578521  0.635294  0.209845  0.742679"
      ]
     },
     "execution_count": 153,
     "metadata": {},
     "output_type": "execute_result"
    }
   ],
   "source": [
    "# Create Decision Tree classifier object\n",
    "dt = DecisionTreeClassifier()\n",
    "\n",
    "# Train Decision Tree Classifier\n",
    "dt_fit = dt.fit(X_train,y_train)\n",
    "\n",
    "#Predict the response for test dataset\n",
    "dt_predict = dt_fit.predict(X_test)\n",
    "\n",
    "results_df.loc['Decision Tree (Default)',:] = [f1_score(y_test,dt_predict, average='macro'), precision_score(y_test,dt_predict), recall_score(y_test,dt_predict),accuracy_score(y_test,dt_predict)]\n",
    "\n",
    "results_df.sort_values(by='F-score', ascending=False)"
   ]
  },
  {
   "cell_type": "code",
   "execution_count": 154,
   "metadata": {},
   "outputs": [
    {
     "data": {
      "text/plain": [
       "[Text(0.5464320847341075, 0.9761904761904762, 'x[3] <= 0.5\\ngini = 0.5\\nsamples = 12754\\nvalue = [6516, 6238]'),\n",
       " Text(0.28639545767114916, 0.9285714285714286, 'x[7] <= 1.5\\ngini = 0.407\\nsamples = 5706\\nvalue = [4085, 1621]'),\n",
       " Text(0.1837799893031785, 0.8809523809523809, 'x[6] <= 0.5\\ngini = 0.339\\nsamples = 4573\\nvalue = [3585, 988]'),\n",
       " Text(0.14751107885085574, 0.8333333333333334, 'x[5] <= 9.5\\ngini = 0.334\\nsamples = 4516\\nvalue = [3560, 956]'),\n",
       " Text(0.11042558068459658, 0.7857142857142857, 'x[8] <= 1.5\\ngini = 0.33\\nsamples = 4449\\nvalue = [3520, 929]'),\n",
       " Text(0.06525061124694377, 0.7380952380952381, 'x[5] <= 1.5\\ngini = 0.349\\nsamples = 3126\\nvalue = [2423, 703]'),\n",
       " Text(0.03942542787286064, 0.6904761904761905, 'x[5] <= 0.5\\ngini = 0.342\\nsamples = 3068\\nvalue = [2396, 672]'),\n",
       " Text(0.017726161369193152, 0.6428571428571429, 'x[0] <= 0.5\\ngini = 0.203\\nsamples = 227\\nvalue = [201, 26]'),\n",
       " Text(0.004889975550122249, 0.5952380952380952, 'x[4] <= 0.5\\ngini = 0.048\\nsamples = 121\\nvalue = [118, 3]'),\n",
       " Text(0.0024449877750611247, 0.5476190476190477, 'gini = 0.0\\nsamples = 1\\nvalue = [0, 1]'),\n",
       " Text(0.007334963325183374, 0.5476190476190477, 'x[2] <= 1.5\\ngini = 0.033\\nsamples = 120\\nvalue = [118, 2]'),\n",
       " Text(0.004889975550122249, 0.5, 'gini = 0.0\\nsamples = 74\\nvalue = [74, 0]'),\n",
       " Text(0.009779951100244499, 0.5, 'x[2] <= 2.5\\ngini = 0.083\\nsamples = 46\\nvalue = [44, 2]'),\n",
       " Text(0.007334963325183374, 0.4523809523809524, 'gini = 0.159\\nsamples = 23\\nvalue = [21, 2]'),\n",
       " Text(0.012224938875305624, 0.4523809523809524, 'gini = 0.0\\nsamples = 23\\nvalue = [23, 0]'),\n",
       " Text(0.030562347188264057, 0.5952380952380952, 'x[1] <= 1.5\\ngini = 0.34\\nsamples = 106\\nvalue = [83, 23]'),\n",
       " Text(0.02444987775061125, 0.5476190476190477, 'x[0] <= 1.5\\ngini = 0.304\\nsamples = 91\\nvalue = [74, 17]'),\n",
       " Text(0.019559902200488997, 0.5, 'x[1] <= 0.5\\ngini = 0.327\\nsamples = 68\\nvalue = [54, 14]'),\n",
       " Text(0.017114914425427872, 0.4523809523809524, 'gini = 0.0\\nsamples = 1\\nvalue = [1, 0]'),\n",
       " Text(0.022004889975550123, 0.4523809523809524, 'gini = 0.331\\nsamples = 67\\nvalue = [53, 14]'),\n",
       " Text(0.029339853300733496, 0.5, 'x[1] <= 0.5\\ngini = 0.227\\nsamples = 23\\nvalue = [20, 3]'),\n",
       " Text(0.02689486552567237, 0.4523809523809524, 'gini = 0.0\\nsamples = 1\\nvalue = [1, 0]'),\n",
       " Text(0.03178484107579462, 0.4523809523809524, 'gini = 0.236\\nsamples = 22\\nvalue = [19, 3]'),\n",
       " Text(0.03667481662591687, 0.5476190476190477, 'x[0] <= 1.5\\ngini = 0.48\\nsamples = 15\\nvalue = [9, 6]'),\n",
       " Text(0.034229828850855744, 0.5, 'gini = 0.375\\nsamples = 8\\nvalue = [6, 2]'),\n",
       " Text(0.039119804400977995, 0.5, 'x[1] <= 2.5\\ngini = 0.49\\nsamples = 7\\nvalue = [3, 4]'),\n",
       " Text(0.03667481662591687, 0.4523809523809524, 'x[0] <= 2.5\\ngini = 0.444\\nsamples = 6\\nvalue = [2, 4]'),\n",
       " Text(0.034229828850855744, 0.40476190476190477, 'gini = 0.32\\nsamples = 5\\nvalue = [1, 4]'),\n",
       " Text(0.039119804400977995, 0.40476190476190477, 'gini = 0.0\\nsamples = 1\\nvalue = [1, 0]'),\n",
       " Text(0.04156479217603912, 0.4523809523809524, 'gini = 0.0\\nsamples = 1\\nvalue = [1, 0]'),\n",
       " Text(0.061124694376528114, 0.6428571428571429, 'x[7] <= 0.5\\ngini = 0.351\\nsamples = 2841\\nvalue = [2195, 646]'),\n",
       " Text(0.05134474327628362, 0.5952380952380952, 'x[2] <= 0.5\\ngini = 0.397\\nsamples = 33\\nvalue = [9, 24]'),\n",
       " Text(0.04645476772616137, 0.5476190476190477, 'x[4] <= 0.5\\ngini = 0.444\\nsamples = 3\\nvalue = [2, 1]'),\n",
       " Text(0.044009779951100246, 0.5, 'gini = 0.5\\nsamples = 2\\nvalue = [1, 1]'),\n",
       " Text(0.0488997555012225, 0.5, 'gini = 0.0\\nsamples = 1\\nvalue = [1, 0]'),\n",
       " Text(0.05623471882640587, 0.5476190476190477, 'x[2] <= 1.5\\ngini = 0.358\\nsamples = 30\\nvalue = [7, 23]'),\n",
       " Text(0.05378973105134474, 0.5, 'gini = 0.366\\nsamples = 29\\nvalue = [7, 22]'),\n",
       " Text(0.05867970660146699, 0.5, 'gini = 0.0\\nsamples = 1\\nvalue = [0, 1]'),\n",
       " Text(0.07090464547677261, 0.5952380952380952, 'x[2] <= 0.5\\ngini = 0.345\\nsamples = 2808\\nvalue = [2186, 622]'),\n",
       " Text(0.06601466992665037, 0.5476190476190477, 'x[4] <= 0.5\\ngini = 0.271\\nsamples = 285\\nvalue = [239, 46]'),\n",
       " Text(0.06356968215158924, 0.5, 'gini = 0.27\\nsamples = 280\\nvalue = [235, 45]'),\n",
       " Text(0.06845965770171149, 0.5, 'gini = 0.32\\nsamples = 5\\nvalue = [4, 1]'),\n",
       " Text(0.07579462102689487, 0.5476190476190477, 'x[1] <= 0.5\\ngini = 0.352\\nsamples = 2523\\nvalue = [1947, 576]'),\n",
       " Text(0.07334963325183375, 0.5, 'x[4] <= 0.5\\ngini = 0.352\\nsamples = 2522\\nvalue = [1947, 575]'),\n",
       " Text(0.07090464547677261, 0.4523809523809524, 'gini = 0.0\\nsamples = 1\\nvalue = [0, 1]'),\n",
       " Text(0.07579462102689487, 0.4523809523809524, 'x[0] <= 0.5\\ngini = 0.352\\nsamples = 2521\\nvalue = [1947, 574]'),\n",
       " Text(0.07334963325183375, 0.40476190476190477, 'gini = 0.351\\nsamples = 2520\\nvalue = [1947, 573]'),\n",
       " Text(0.07823960880195599, 0.40476190476190477, 'gini = 0.0\\nsamples = 1\\nvalue = [0, 1]'),\n",
       " Text(0.07823960880195599, 0.5, 'gini = 0.0\\nsamples = 1\\nvalue = [0, 1]'),\n",
       " Text(0.0910757946210269, 0.6904761904761905, 'x[2] <= 1.5\\ngini = 0.498\\nsamples = 58\\nvalue = [27, 31]'),\n",
       " Text(0.08068459657701711, 0.6428571428571429, 'x[8] <= 0.5\\ngini = 0.463\\nsamples = 22\\nvalue = [14, 8]'),\n",
       " Text(0.07823960880195599, 0.5952380952380952, 'gini = 0.0\\nsamples = 3\\nvalue = [3, 0]'),\n",
       " Text(0.08312958435207823, 0.5952380952380952, 'x[4] <= 0.5\\ngini = 0.488\\nsamples = 19\\nvalue = [11, 8]'),\n",
       " Text(0.08068459657701711, 0.5476190476190477, 'gini = 0.444\\nsamples = 3\\nvalue = [2, 1]'),\n",
       " Text(0.08557457212713937, 0.5476190476190477, 'gini = 0.492\\nsamples = 16\\nvalue = [9, 7]'),\n",
       " Text(0.10146699266503667, 0.6428571428571429, 'x[2] <= 5.5\\ngini = 0.461\\nsamples = 36\\nvalue = [13, 23]'),\n",
       " Text(0.09535452322738386, 0.5952380952380952, 'x[2] <= 2.5\\ngini = 0.412\\nsamples = 31\\nvalue = [9, 22]'),\n",
       " Text(0.09046454767726161, 0.5476190476190477, 'x[5] <= 2.5\\ngini = 0.444\\nsamples = 21\\nvalue = [7, 14]'),\n",
       " Text(0.08801955990220049, 0.5, 'x[7] <= 0.5\\ngini = 0.42\\nsamples = 20\\nvalue = [6, 14]'),\n",
       " Text(0.08557457212713937, 0.4523809523809524, 'gini = 0.43\\nsamples = 16\\nvalue = [5, 11]'),\n",
       " Text(0.09046454767726161, 0.4523809523809524, 'gini = 0.375\\nsamples = 4\\nvalue = [1, 3]'),\n",
       " Text(0.09290953545232274, 0.5, 'gini = 0.0\\nsamples = 1\\nvalue = [1, 0]'),\n",
       " Text(0.10024449877750612, 0.5476190476190477, 'x[8] <= 0.5\\ngini = 0.32\\nsamples = 10\\nvalue = [2, 8]'),\n",
       " Text(0.097799511002445, 0.5, 'x[2] <= 4.5\\ngini = 0.198\\nsamples = 9\\nvalue = [1, 8]'),\n",
       " Text(0.09535452322738386, 0.4523809523809524, 'gini = 0.0\\nsamples = 7\\nvalue = [0, 7]'),\n",
       " Text(0.10024449877750612, 0.4523809523809524, 'x[4] <= 0.5\\ngini = 0.5\\nsamples = 2\\nvalue = [1, 1]'),\n",
       " Text(0.097799511002445, 0.40476190476190477, 'gini = 0.0\\nsamples = 1\\nvalue = [0, 1]'),\n",
       " Text(0.10268948655256724, 0.40476190476190477, 'gini = 0.0\\nsamples = 1\\nvalue = [1, 0]'),\n",
       " Text(0.10268948655256724, 0.5, 'gini = 0.0\\nsamples = 1\\nvalue = [1, 0]'),\n",
       " Text(0.10757946210268948, 0.5952380952380952, 'x[8] <= 0.5\\ngini = 0.32\\nsamples = 5\\nvalue = [4, 1]'),\n",
       " Text(0.10513447432762836, 0.5476190476190477, 'gini = 0.5\\nsamples = 2\\nvalue = [1, 1]'),\n",
       " Text(0.1100244498777506, 0.5476190476190477, 'gini = 0.0\\nsamples = 3\\nvalue = [3, 0]'),\n",
       " Text(0.15560055012224938, 0.7380952380952381, 'x[0] <= 0.5\\ngini = 0.283\\nsamples = 1323\\nvalue = [1097, 226]'),\n",
       " Text(0.1420385085574572, 0.6904761904761905, 'x[4] <= 0.5\\ngini = 0.277\\nsamples = 1313\\nvalue = [1095, 218]'),\n",
       " Text(0.12224938875305623, 0.6428571428571429, 'x[2] <= 1.5\\ngini = 0.155\\nsamples = 130\\nvalue = [119, 11]'),\n",
       " Text(0.11735941320293398, 0.5952380952380952, 'x[5] <= 3.0\\ngini = 0.216\\nsamples = 73\\nvalue = [64, 9]'),\n",
       " Text(0.11491442542787286, 0.5476190476190477, 'x[2] <= 0.5\\ngini = 0.198\\nsamples = 72\\nvalue = [64, 8]'),\n",
       " Text(0.11246943765281174, 0.5, 'gini = 0.0\\nsamples = 1\\nvalue = [1, 0]'),\n",
       " Text(0.11735941320293398, 0.5, 'gini = 0.2\\nsamples = 71\\nvalue = [63, 8]'),\n",
       " Text(0.1198044009779951, 0.5476190476190477, 'gini = 0.0\\nsamples = 1\\nvalue = [0, 1]'),\n",
       " Text(0.1271393643031785, 0.5952380952380952, 'x[8] <= 4.5\\ngini = 0.068\\nsamples = 57\\nvalue = [55, 2]'),\n",
       " Text(0.12469437652811736, 0.5476190476190477, 'gini = 0.0\\nsamples = 31\\nvalue = [31, 0]'),\n",
       " Text(0.1295843520782396, 0.5476190476190477, 'x[5] <= 6.5\\ngini = 0.142\\nsamples = 26\\nvalue = [24, 2]'),\n",
       " Text(0.1271393643031785, 0.5, 'x[2] <= 4.5\\ngini = 0.26\\nsamples = 13\\nvalue = [11, 2]'),\n",
       " Text(0.12469437652811736, 0.4523809523809524, 'gini = 0.219\\nsamples = 8\\nvalue = [7, 1]'),\n",
       " Text(0.1295843520782396, 0.4523809523809524, 'gini = 0.32\\nsamples = 5\\nvalue = [4, 1]'),\n",
       " Text(0.13202933985330073, 0.5, 'gini = 0.0\\nsamples = 13\\nvalue = [13, 0]'),\n",
       " Text(0.16182762836185818, 0.6428571428571429, 'x[5] <= 1.5\\ngini = 0.289\\nsamples = 1183\\nvalue = [976, 207]'),\n",
       " Text(0.15938264058679708, 0.5952380952380952, 'gini = 0.5\\nsamples = 6\\nvalue = [3, 3]'),\n",
       " Text(0.16427261613691932, 0.5952380952380952, 'x[2] <= 6.5\\ngini = 0.287\\nsamples = 1177\\nvalue = [973, 204]'),\n",
       " Text(0.15250611246943765, 0.5476190476190477, 'x[2] <= 4.5\\ngini = 0.281\\nsamples = 1117\\nvalue = [928, 189]'),\n",
       " Text(0.14119804400977995, 0.5, 'x[5] <= 2.5\\ngini = 0.294\\nsamples = 990\\nvalue = [813, 177]'),\n",
       " Text(0.13447432762836187, 0.4523809523809524, 'x[8] <= 2.5\\ngini = 0.283\\nsamples = 644\\nvalue = [534, 110]'),\n",
       " Text(0.13202933985330073, 0.40476190476190477, 'x[2] <= 1.5\\ngini = 0.284\\nsamples = 641\\nvalue = [531, 110]'),\n",
       " Text(0.1295843520782396, 0.35714285714285715, 'gini = 0.0\\nsamples = 1\\nvalue = [1, 0]'),\n",
       " Text(0.13447432762836187, 0.35714285714285715, 'gini = 0.285\\nsamples = 640\\nvalue = [530, 110]'),\n",
       " Text(0.13691931540342298, 0.40476190476190477, 'gini = 0.0\\nsamples = 3\\nvalue = [3, 0]'),\n",
       " Text(0.14792176039119803, 0.4523809523809524, 'x[8] <= 2.5\\ngini = 0.312\\nsamples = 346\\nvalue = [279, 67]'),\n",
       " Text(0.14180929095354522, 0.40476190476190477, 'x[5] <= 5.0\\ngini = 0.463\\nsamples = 11\\nvalue = [7, 4]'),\n",
       " Text(0.1393643031784841, 0.35714285714285715, 'x[2] <= 2.5\\ngini = 0.48\\nsamples = 10\\nvalue = [6, 4]'),\n",
       " Text(0.13691931540342298, 0.30952380952380953, 'gini = 0.444\\nsamples = 6\\nvalue = [4, 2]'),\n",
       " Text(0.14180929095354522, 0.30952380952380953, 'gini = 0.5\\nsamples = 4\\nvalue = [2, 2]'),\n",
       " Text(0.14425427872860636, 0.35714285714285715, 'gini = 0.0\\nsamples = 1\\nvalue = [1, 0]'),\n",
       " Text(0.15403422982885084, 0.40476190476190477, 'x[5] <= 4.5\\ngini = 0.305\\nsamples = 335\\nvalue = [272, 63]'),\n",
       " Text(0.1491442542787286, 0.35714285714285715, 'x[2] <= 2.5\\ngini = 0.303\\nsamples = 333\\nvalue = [271, 62]'),\n",
       " Text(0.1466992665036675, 0.30952380952380953, 'gini = 0.0\\nsamples = 3\\nvalue = [3, 0]'),\n",
       " Text(0.15158924205378974, 0.30952380952380953, 'x[8] <= 4.5\\ngini = 0.305\\nsamples = 330\\nvalue = [268, 62]'),\n",
       " Text(0.1491442542787286, 0.2619047619047619, 'x[2] <= 3.5\\ngini = 0.307\\nsamples = 328\\nvalue = [266, 62]'),\n",
       " Text(0.1466992665036675, 0.21428571428571427, 'gini = 0.315\\nsamples = 204\\nvalue = [164, 40]'),\n",
       " Text(0.15158924205378974, 0.21428571428571427, 'gini = 0.292\\nsamples = 124\\nvalue = [102, 22]'),\n",
       " Text(0.15403422982885084, 0.2619047619047619, 'gini = 0.0\\nsamples = 2\\nvalue = [2, 0]'),\n",
       " Text(0.15892420537897312, 0.35714285714285715, 'x[5] <= 5.5\\ngini = 0.5\\nsamples = 2\\nvalue = [1, 1]'),\n",
       " Text(0.15647921760391198, 0.30952380952380953, 'gini = 0.0\\nsamples = 1\\nvalue = [0, 1]'),\n",
       " Text(0.16136919315403422, 0.30952380952380953, 'gini = 0.0\\nsamples = 1\\nvalue = [1, 0]'),\n",
       " Text(0.16381418092909536, 0.5, 'x[2] <= 5.5\\ngini = 0.171\\nsamples = 127\\nvalue = [115, 12]'),\n",
       " Text(0.16136919315403422, 0.4523809523809524, 'x[8] <= 5.5\\ngini = 0.108\\nsamples = 70\\nvalue = [66, 4]'),\n",
       " Text(0.15892420537897312, 0.40476190476190477, 'gini = 0.109\\nsamples = 69\\nvalue = [65, 4]'),\n",
       " Text(0.16381418092909536, 0.40476190476190477, 'gini = 0.0\\nsamples = 1\\nvalue = [1, 0]'),\n",
       " Text(0.16625916870415647, 0.4523809523809524, 'gini = 0.241\\nsamples = 57\\nvalue = [49, 8]'),\n",
       " Text(0.17603911980440098, 0.5476190476190477, 'x[5] <= 8.5\\ngini = 0.375\\nsamples = 60\\nvalue = [45, 15]'),\n",
       " Text(0.17359413202933985, 0.5, 'x[2] <= 7.5\\ngini = 0.415\\nsamples = 51\\nvalue = [36, 15]'),\n",
       " Text(0.17114914425427874, 0.4523809523809524, 'gini = 0.408\\nsamples = 35\\nvalue = [25, 10]'),\n",
       " Text(0.17603911980440098, 0.4523809523809524, 'gini = 0.43\\nsamples = 16\\nvalue = [11, 5]'),\n",
       " Text(0.1784841075794621, 0.5, 'gini = 0.0\\nsamples = 9\\nvalue = [9, 0]'),\n",
       " Text(0.16916259168704156, 0.6904761904761905, 'x[4] <= 0.5\\ngini = 0.32\\nsamples = 10\\nvalue = [2, 8]'),\n",
       " Text(0.16671760391198043, 0.6428571428571429, 'gini = 0.0\\nsamples = 1\\nvalue = [1, 0]'),\n",
       " Text(0.1716075794621027, 0.6428571428571429, 'x[5] <= 2.5\\ngini = 0.198\\nsamples = 9\\nvalue = [1, 8]'),\n",
       " Text(0.16916259168704156, 0.5952380952380952, 'gini = 0.375\\nsamples = 4\\nvalue = [1, 3]'),\n",
       " Text(0.1740525672371638, 0.5952380952380952, 'gini = 0.0\\nsamples = 5\\nvalue = [0, 5]'),\n",
       " Text(0.1845965770171149, 0.7857142857142857, 'x[4] <= 0.5\\ngini = 0.481\\nsamples = 67\\nvalue = [40, 27]'),\n",
       " Text(0.17726161369193155, 0.7380952380952381, 'x[8] <= 17.5\\ngini = 0.278\\nsamples = 6\\nvalue = [5, 1]'),\n",
       " Text(0.17481662591687042, 0.6904761904761905, 'gini = 0.0\\nsamples = 4\\nvalue = [4, 0]'),\n",
       " Text(0.17970660146699266, 0.6904761904761905, 'x[2] <= 19.5\\ngini = 0.5\\nsamples = 2\\nvalue = [1, 1]'),\n",
       " Text(0.17726161369193155, 0.6428571428571429, 'gini = 0.0\\nsamples = 1\\nvalue = [0, 1]'),\n",
       " Text(0.1821515892420538, 0.6428571428571429, 'gini = 0.0\\nsamples = 1\\nvalue = [1, 0]'),\n",
       " Text(0.19193154034229828, 0.7380952380952381, 'x[0] <= 0.5\\ngini = 0.489\\nsamples = 61\\nvalue = [35, 26]'),\n",
       " Text(0.18948655256723718, 0.6904761904761905, 'x[8] <= 7.5\\ngini = 0.486\\nsamples = 60\\nvalue = [35, 25]'),\n",
       " Text(0.18704156479217604, 0.6428571428571429, 'gini = 0.0\\nsamples = 1\\nvalue = [1, 0]'),\n",
       " Text(0.19193154034229828, 0.6428571428571429, 'x[5] <= 10.5\\ngini = 0.488\\nsamples = 59\\nvalue = [34, 25]'),\n",
       " Text(0.18948655256723718, 0.5952380952380952, 'gini = 0.5\\nsamples = 24\\nvalue = [12, 12]'),\n",
       " Text(0.19437652811735942, 0.5952380952380952, 'x[5] <= 14.5\\ngini = 0.467\\nsamples = 35\\nvalue = [22, 13]'),\n",
       " Text(0.1882640586797066, 0.5476190476190477, 'x[5] <= 12.5\\ngini = 0.388\\nsamples = 19\\nvalue = [14, 5]'),\n",
       " Text(0.18337408312958436, 0.5, 'x[5] <= 11.5\\ngini = 0.469\\nsamples = 8\\nvalue = [5, 3]'),\n",
       " Text(0.18092909535452323, 0.4523809523809524, 'gini = 0.0\\nsamples = 1\\nvalue = [1, 0]'),\n",
       " Text(0.18581907090464547, 0.4523809523809524, 'gini = 0.49\\nsamples = 7\\nvalue = [4, 3]'),\n",
       " Text(0.19315403422982885, 0.5, 'x[8] <= 14.5\\ngini = 0.298\\nsamples = 11\\nvalue = [9, 2]'),\n",
       " Text(0.19070904645476772, 0.4523809523809524, 'x[8] <= 13.5\\ngini = 0.32\\nsamples = 10\\nvalue = [8, 2]'),\n",
       " Text(0.1882640586797066, 0.40476190476190477, 'gini = 0.278\\nsamples = 6\\nvalue = [5, 1]'),\n",
       " Text(0.19315403422982885, 0.40476190476190477, 'gini = 0.375\\nsamples = 4\\nvalue = [3, 1]'),\n",
       " Text(0.19559902200489, 0.4523809523809524, 'gini = 0.0\\nsamples = 1\\nvalue = [1, 0]'),\n",
       " Text(0.20048899755501223, 0.5476190476190477, 'x[5] <= 16.5\\ngini = 0.5\\nsamples = 16\\nvalue = [8, 8]'),\n",
       " Text(0.1980440097799511, 0.5, 'gini = 0.0\\nsamples = 2\\nvalue = [0, 2]'),\n",
       " Text(0.20293398533007334, 0.5, 'x[5] <= 18.5\\ngini = 0.49\\nsamples = 14\\nvalue = [8, 6]'),\n",
       " Text(0.20048899755501223, 0.4523809523809524, 'gini = 0.0\\nsamples = 2\\nvalue = [2, 0]'),\n",
       " Text(0.20537897310513448, 0.4523809523809524, 'x[5] <= 20.5\\ngini = 0.5\\nsamples = 12\\nvalue = [6, 6]'),\n",
       " Text(0.20293398533007334, 0.40476190476190477, 'gini = 0.32\\nsamples = 5\\nvalue = [1, 4]'),\n",
       " Text(0.2078239608801956, 0.40476190476190477, 'x[2] <= 32.5\\ngini = 0.408\\nsamples = 7\\nvalue = [5, 2]'),\n",
       " Text(0.20537897310513448, 0.35714285714285715, 'x[5] <= 21.5\\ngini = 0.444\\nsamples = 6\\nvalue = [4, 2]'),\n",
       " Text(0.20293398533007334, 0.30952380952380953, 'gini = 0.375\\nsamples = 4\\nvalue = [3, 1]'),\n",
       " Text(0.2078239608801956, 0.30952380952380953, 'gini = 0.5\\nsamples = 2\\nvalue = [1, 1]'),\n",
       " Text(0.21026894865525672, 0.35714285714285715, 'gini = 0.0\\nsamples = 1\\nvalue = [1, 0]'),\n",
       " Text(0.19437652811735942, 0.6904761904761905, 'gini = 0.0\\nsamples = 1\\nvalue = [0, 1]'),\n",
       " Text(0.2200488997555012, 0.8333333333333334, 'x[4] <= 0.5\\ngini = 0.492\\nsamples = 57\\nvalue = [25, 32]'),\n",
       " Text(0.2176039119804401, 0.7857142857142857, 'gini = 0.0\\nsamples = 7\\nvalue = [7, 0]'),\n",
       " Text(0.22249388753056235, 0.7857142857142857, 'x[1] <= 0.5\\ngini = 0.461\\nsamples = 50\\nvalue = [18, 32]'),\n",
       " Text(0.2176039119804401, 0.7380952380952381, 'x[5] <= 3.0\\ngini = 0.498\\nsamples = 34\\nvalue = [16, 18]'),\n",
       " Text(0.21515892420537897, 0.6904761904761905, 'x[2] <= 1.5\\ngini = 0.499\\nsamples = 31\\nvalue = [16, 15]'),\n",
       " Text(0.21271393643031786, 0.6428571428571429, 'x[5] <= 0.5\\ngini = 0.499\\nsamples = 29\\nvalue = [14, 15]'),\n",
       " Text(0.2078239608801956, 0.5952380952380952, 'x[2] <= 0.5\\ngini = 0.444\\nsamples = 6\\nvalue = [4, 2]'),\n",
       " Text(0.20537897310513448, 0.5476190476190477, 'gini = 0.444\\nsamples = 3\\nvalue = [1, 2]'),\n",
       " Text(0.21026894865525672, 0.5476190476190477, 'gini = 0.0\\nsamples = 3\\nvalue = [3, 0]'),\n",
       " Text(0.2176039119804401, 0.5952380952380952, 'x[5] <= 1.5\\ngini = 0.491\\nsamples = 23\\nvalue = [10, 13]'),\n",
       " Text(0.21515892420537897, 0.5476190476190477, 'gini = 0.496\\nsamples = 22\\nvalue = [10, 12]'),\n",
       " Text(0.2200488997555012, 0.5476190476190477, 'gini = 0.0\\nsamples = 1\\nvalue = [0, 1]'),\n",
       " Text(0.2176039119804401, 0.6428571428571429, 'gini = 0.0\\nsamples = 2\\nvalue = [2, 0]'),\n",
       " Text(0.2200488997555012, 0.6904761904761905, 'gini = 0.0\\nsamples = 3\\nvalue = [0, 3]'),\n",
       " Text(0.2273838630806846, 0.7380952380952381, 'x[1] <= 1.5\\ngini = 0.219\\nsamples = 16\\nvalue = [2, 14]'),\n",
       " Text(0.22493887530562348, 0.6904761904761905, 'x[0] <= 0.5\\ngini = 0.231\\nsamples = 15\\nvalue = [2, 13]'),\n",
       " Text(0.22249388753056235, 0.6428571428571429, 'gini = 0.245\\nsamples = 7\\nvalue = [1, 6]'),\n",
       " Text(0.2273838630806846, 0.6428571428571429, 'gini = 0.219\\nsamples = 8\\nvalue = [1, 7]'),\n",
       " Text(0.22982885085574573, 0.6904761904761905, 'gini = 0.0\\nsamples = 1\\nvalue = [0, 1]'),\n",
       " Text(0.3890109260391198, 0.8809523809523809, 'x[7] <= 2.5\\ngini = 0.493\\nsamples = 1133\\nvalue = [500, 633]'),\n",
       " Text(0.2746026894865526, 0.8333333333333334, 'x[2] <= 1.5\\ngini = 0.5\\nsamples = 690\\nvalue = [342, 348]'),\n",
       " Text(0.25244498777506114, 0.7857142857142857, 'x[5] <= 1.5\\ngini = 0.461\\nsamples = 153\\nvalue = [55, 98]'),\n",
       " Text(0.24327628361858192, 0.7380952380952381, 'x[8] <= 2.5\\ngini = 0.499\\nsamples = 62\\nvalue = [30, 32]'),\n",
       " Text(0.2371638141809291, 0.6904761904761905, 'x[8] <= 1.5\\ngini = 0.494\\nsamples = 56\\nvalue = [25, 31]'),\n",
       " Text(0.23227383863080683, 0.6428571428571429, 'x[4] <= 0.5\\ngini = 0.5\\nsamples = 26\\nvalue = [13, 13]'),\n",
       " Text(0.22982885085574573, 0.5952380952380952, 'gini = 0.5\\nsamples = 2\\nvalue = [1, 1]'),\n",
       " Text(0.23471882640586797, 0.5952380952380952, 'gini = 0.5\\nsamples = 24\\nvalue = [12, 12]'),\n",
       " Text(0.24205378973105135, 0.6428571428571429, 'x[2] <= 0.5\\ngini = 0.48\\nsamples = 30\\nvalue = [12, 18]'),\n",
       " Text(0.2396088019559902, 0.5952380952380952, 'gini = 0.5\\nsamples = 4\\nvalue = [2, 2]'),\n",
       " Text(0.24449877750611246, 0.5952380952380952, 'gini = 0.473\\nsamples = 26\\nvalue = [10, 16]'),\n",
       " Text(0.24938875305623473, 0.6904761904761905, 'x[8] <= 3.5\\ngini = 0.278\\nsamples = 6\\nvalue = [5, 1]'),\n",
       " Text(0.2469437652811736, 0.6428571428571429, 'gini = 0.0\\nsamples = 5\\nvalue = [5, 0]'),\n",
       " Text(0.25183374083129584, 0.6428571428571429, 'gini = 0.0\\nsamples = 1\\nvalue = [0, 1]'),\n",
       " Text(0.2616136919315403, 0.7380952380952381, 'x[1] <= 0.5\\ngini = 0.399\\nsamples = 91\\nvalue = [25, 66]'),\n",
       " Text(0.2591687041564792, 0.6904761904761905, 'x[5] <= 3.5\\ngini = 0.391\\nsamples = 90\\nvalue = [24, 66]'),\n",
       " Text(0.2567237163814181, 0.6428571428571429, 'x[5] <= 2.5\\ngini = 0.402\\nsamples = 86\\nvalue = [24, 62]'),\n",
       " Text(0.25183374083129584, 0.5952380952380952, 'x[8] <= 2.5\\ngini = 0.387\\nsamples = 80\\nvalue = [21, 59]'),\n",
       " Text(0.24938875305623473, 0.5476190476190477, 'x[4] <= 0.5\\ngini = 0.381\\nsamples = 78\\nvalue = [20, 58]'),\n",
       " Text(0.2469437652811736, 0.5, 'gini = 0.375\\nsamples = 44\\nvalue = [11, 33]'),\n",
       " Text(0.25183374083129584, 0.5, 'gini = 0.389\\nsamples = 34\\nvalue = [9, 25]'),\n",
       " Text(0.254278728606357, 0.5476190476190477, 'gini = 0.5\\nsamples = 2\\nvalue = [1, 1]'),\n",
       " Text(0.2616136919315403, 0.5952380952380952, 'x[8] <= 2.5\\ngini = 0.5\\nsamples = 6\\nvalue = [3, 3]'),\n",
       " Text(0.2591687041564792, 0.5476190476190477, 'gini = 0.5\\nsamples = 2\\nvalue = [1, 1]'),\n",
       " Text(0.26405867970660146, 0.5476190476190477, 'gini = 0.5\\nsamples = 4\\nvalue = [2, 2]'),\n",
       " Text(0.2616136919315403, 0.6428571428571429, 'gini = 0.0\\nsamples = 4\\nvalue = [0, 4]'),\n",
       " Text(0.26405867970660146, 0.6904761904761905, 'gini = 0.0\\nsamples = 1\\nvalue = [1, 0]'),\n",
       " Text(0.296760391198044, 0.7857142857142857, 'x[8] <= 3.5\\ngini = 0.498\\nsamples = 537\\nvalue = [287, 250]'),\n",
       " Text(0.2762836185819071, 0.7380952380952381, 'x[5] <= 1.0\\ngini = 0.5\\nsamples = 280\\nvalue = [140, 140]'),\n",
       " Text(0.27383863080684595, 0.6904761904761905, 'gini = 0.0\\nsamples = 1\\nvalue = [1, 0]'),\n",
       " Text(0.2787286063569682, 0.6904761904761905, 'x[1] <= 0.5\\ngini = 0.5\\nsamples = 279\\nvalue = [139, 140]'),\n",
       " Text(0.2762836185819071, 0.6428571428571429, 'x[5] <= 4.5\\ngini = 0.5\\nsamples = 278\\nvalue = [138, 140]'),\n",
       " Text(0.27383863080684595, 0.5952380952380952, 'x[6] <= 0.5\\ngini = 0.5\\nsamples = 277\\nvalue = [138, 139]'),\n",
       " Text(0.26894865525672373, 0.5476190476190477, 'x[0] <= 0.5\\ngini = 0.5\\nsamples = 273\\nvalue = [137, 136]'),\n",
       " Text(0.2665036674816626, 0.5, 'x[4] <= 0.5\\ngini = 0.5\\nsamples = 272\\nvalue = [137, 135]'),\n",
       " Text(0.26405867970660146, 0.4523809523809524, 'gini = 0.475\\nsamples = 18\\nvalue = [7, 11]'),\n",
       " Text(0.26894865525672373, 0.4523809523809524, 'x[8] <= 2.5\\ngini = 0.5\\nsamples = 254\\nvalue = [130, 124]'),\n",
       " Text(0.2616136919315403, 0.40476190476190477, 'x[2] <= 3.5\\ngini = 0.499\\nsamples = 149\\nvalue = [72, 77]'),\n",
       " Text(0.2591687041564792, 0.35714285714285715, 'x[5] <= 2.5\\ngini = 0.499\\nsamples = 148\\nvalue = [71, 77]'),\n",
       " Text(0.2567237163814181, 0.30952380952380953, 'gini = 0.5\\nsamples = 143\\nvalue = [70, 73]'),\n",
       " Text(0.2616136919315403, 0.30952380952380953, 'x[2] <= 2.5\\ngini = 0.32\\nsamples = 5\\nvalue = [1, 4]'),\n",
       " Text(0.2591687041564792, 0.2619047619047619, 'gini = 0.375\\nsamples = 4\\nvalue = [1, 3]'),\n",
       " Text(0.26405867970660146, 0.2619047619047619, 'gini = 0.0\\nsamples = 1\\nvalue = [0, 1]'),\n",
       " Text(0.26405867970660146, 0.35714285714285715, 'gini = 0.0\\nsamples = 1\\nvalue = [1, 0]'),\n",
       " Text(0.2762836185819071, 0.40476190476190477, 'x[2] <= 3.5\\ngini = 0.495\\nsamples = 105\\nvalue = [58, 47]'),\n",
       " Text(0.27383863080684595, 0.35714285714285715, 'x[2] <= 2.5\\ngini = 0.493\\nsamples = 104\\nvalue = [58, 46]'),\n",
       " Text(0.2713936430317848, 0.30952380952380953, 'x[5] <= 2.5\\ngini = 0.444\\nsamples = 9\\nvalue = [6, 3]'),\n",
       " Text(0.26894865525672373, 0.2619047619047619, 'gini = 0.5\\nsamples = 6\\nvalue = [3, 3]'),\n",
       " Text(0.27383863080684595, 0.2619047619047619, 'gini = 0.0\\nsamples = 3\\nvalue = [3, 0]'),\n",
       " Text(0.2762836185819071, 0.30952380952380953, 'gini = 0.496\\nsamples = 95\\nvalue = [52, 43]'),\n",
       " Text(0.2787286063569682, 0.35714285714285715, 'gini = 0.0\\nsamples = 1\\nvalue = [0, 1]'),\n",
       " Text(0.2713936430317848, 0.5, 'gini = 0.0\\nsamples = 1\\nvalue = [0, 1]'),\n",
       " Text(0.2787286063569682, 0.5476190476190477, 'x[4] <= 0.5\\ngini = 0.375\\nsamples = 4\\nvalue = [1, 3]'),\n",
       " Text(0.2762836185819071, 0.5, 'gini = 0.0\\nsamples = 1\\nvalue = [1, 0]'),\n",
       " Text(0.28117359413202936, 0.5, 'gini = 0.0\\nsamples = 3\\nvalue = [0, 3]'),\n",
       " Text(0.2787286063569682, 0.5952380952380952, 'gini = 0.0\\nsamples = 1\\nvalue = [0, 1]'),\n",
       " Text(0.28117359413202936, 0.6428571428571429, 'gini = 0.0\\nsamples = 1\\nvalue = [1, 0]'),\n",
       " Text(0.31723716381418093, 0.7380952380952381, 'x[1] <= 0.5\\ngini = 0.49\\nsamples = 257\\nvalue = [147, 110]'),\n",
       " Text(0.3147921760391198, 0.6904761904761905, 'x[5] <= 4.5\\ngini = 0.488\\nsamples = 255\\nvalue = [147, 108]'),\n",
       " Text(0.2995110024449878, 0.6428571428571429, 'x[2] <= 3.5\\ngini = 0.458\\nsamples = 79\\nvalue = [51, 28]'),\n",
       " Text(0.293398533007335, 0.5952380952380952, 'x[2] <= 2.5\\ngini = 0.494\\nsamples = 18\\nvalue = [10, 8]'),\n",
       " Text(0.2885085574572127, 0.5476190476190477, 'x[5] <= 3.0\\ngini = 0.5\\nsamples = 4\\nvalue = [2, 2]'),\n",
       " Text(0.2860635696821516, 0.5, 'gini = 0.5\\nsamples = 2\\nvalue = [1, 1]'),\n",
       " Text(0.29095354523227385, 0.5, 'gini = 0.5\\nsamples = 2\\nvalue = [1, 1]'),\n",
       " Text(0.2982885085574572, 0.5476190476190477, 'x[5] <= 3.5\\ngini = 0.49\\nsamples = 14\\nvalue = [8, 6]'),\n",
       " Text(0.29584352078239606, 0.5, 'gini = 0.444\\nsamples = 3\\nvalue = [2, 1]'),\n",
       " Text(0.30073349633251834, 0.5, 'gini = 0.496\\nsamples = 11\\nvalue = [6, 5]'),\n",
       " Text(0.3056234718826406, 0.5952380952380952, 'x[6] <= 0.5\\ngini = 0.441\\nsamples = 61\\nvalue = [41, 20]'),\n",
       " Text(0.30317848410757947, 0.5476190476190477, 'gini = 0.444\\nsamples = 60\\nvalue = [40, 20]'),\n",
       " Text(0.3080684596577017, 0.5476190476190477, 'gini = 0.0\\nsamples = 1\\nvalue = [1, 0]'),\n",
       " Text(0.33007334963325186, 0.6428571428571429, 'x[2] <= 5.5\\ngini = 0.496\\nsamples = 176\\nvalue = [96, 80]'),\n",
       " Text(0.31784841075794623, 0.5952380952380952, 'x[5] <= 5.5\\ngini = 0.478\\nsamples = 43\\nvalue = [17, 26]'),\n",
       " Text(0.31295843520782396, 0.5476190476190477, 'x[2] <= 3.5\\ngini = 0.5\\nsamples = 30\\nvalue = [15, 15]'),\n",
       " Text(0.3105134474327628, 0.5, 'gini = 0.0\\nsamples = 2\\nvalue = [2, 0]'),\n",
       " Text(0.3154034229828851, 0.5, 'x[8] <= 7.0\\ngini = 0.497\\nsamples = 28\\nvalue = [13, 15]'),\n",
       " Text(0.31295843520782396, 0.4523809523809524, 'x[2] <= 4.5\\ngini = 0.494\\nsamples = 27\\nvalue = [12, 15]'),\n",
       " Text(0.3105134474327628, 0.40476190476190477, 'gini = 0.32\\nsamples = 5\\nvalue = [1, 4]'),\n",
       " Text(0.3154034229828851, 0.40476190476190477, 'gini = 0.5\\nsamples = 22\\nvalue = [11, 11]'),\n",
       " Text(0.31784841075794623, 0.4523809523809524, 'gini = 0.0\\nsamples = 1\\nvalue = [1, 0]'),\n",
       " Text(0.32273838630806845, 0.5476190476190477, 'x[2] <= 2.5\\ngini = 0.26\\nsamples = 13\\nvalue = [2, 11]'),\n",
       " Text(0.3202933985330073, 0.5, 'gini = 0.0\\nsamples = 1\\nvalue = [1, 0]'),\n",
       " Text(0.3251833740831296, 0.5, 'x[4] <= 0.5\\ngini = 0.153\\nsamples = 12\\nvalue = [1, 11]'),\n",
       " Text(0.32273838630806845, 0.4523809523809524, 'gini = 0.375\\nsamples = 4\\nvalue = [1, 3]'),\n",
       " Text(0.3276283618581907, 0.4523809523809524, 'gini = 0.0\\nsamples = 8\\nvalue = [0, 8]'),\n",
       " Text(0.3422982885085575, 0.5952380952380952, 'x[4] <= 0.5\\ngini = 0.482\\nsamples = 133\\nvalue = [79, 54]'),\n",
       " Text(0.33251833740831294, 0.5476190476190477, 'x[2] <= 8.5\\ngini = 0.142\\nsamples = 13\\nvalue = [12, 1]'),\n",
       " Text(0.33007334963325186, 0.5, 'gini = 0.0\\nsamples = 7\\nvalue = [7, 0]'),\n",
       " Text(0.33496332518337407, 0.5, 'x[8] <= 11.5\\ngini = 0.278\\nsamples = 6\\nvalue = [5, 1]'),\n",
       " Text(0.33251833740831294, 0.4523809523809524, 'gini = 0.5\\nsamples = 2\\nvalue = [1, 1]'),\n",
       " Text(0.3374083129584352, 0.4523809523809524, 'gini = 0.0\\nsamples = 4\\nvalue = [4, 0]'),\n",
       " Text(0.35207823960880197, 0.5476190476190477, 'x[8] <= 28.5\\ngini = 0.493\\nsamples = 120\\nvalue = [67, 53]'),\n",
       " Text(0.34963325183374083, 0.5, 'x[2] <= 21.5\\ngini = 0.494\\nsamples = 119\\nvalue = [66, 53]'),\n",
       " Text(0.3422982885085575, 0.4523809523809524, 'x[5] <= 19.5\\ngini = 0.491\\nsamples = 111\\nvalue = [63, 48]'),\n",
       " Text(0.33985330073349634, 0.40476190476190477, 'x[8] <= 12.5\\ngini = 0.494\\nsamples = 108\\nvalue = [60, 48]'),\n",
       " Text(0.33007334963325186, 0.35714285714285715, 'x[8] <= 10.5\\ngini = 0.499\\nsamples = 80\\nvalue = [42, 38]'),\n",
       " Text(0.3251833740831296, 0.30952380952380953, 'x[5] <= 12.0\\ngini = 0.495\\nsamples = 69\\nvalue = [38, 31]'),\n",
       " Text(0.32273838630806845, 0.2619047619047619, 'x[5] <= 6.5\\ngini = 0.496\\nsamples = 68\\nvalue = [37, 31]'),\n",
       " Text(0.31662591687041564, 0.21428571428571427, 'x[8] <= 7.0\\ngini = 0.472\\nsamples = 21\\nvalue = [13, 8]'),\n",
       " Text(0.3141809290953545, 0.16666666666666666, 'gini = 0.48\\nsamples = 20\\nvalue = [12, 8]'),\n",
       " Text(0.31907090464547677, 0.16666666666666666, 'gini = 0.0\\nsamples = 1\\nvalue = [1, 0]'),\n",
       " Text(0.32885085574572126, 0.21428571428571427, 'x[8] <= 7.5\\ngini = 0.5\\nsamples = 47\\nvalue = [24, 23]'),\n",
       " Text(0.32396088019559904, 0.16666666666666666, 'x[2] <= 6.5\\ngini = 0.475\\nsamples = 18\\nvalue = [7, 11]'),\n",
       " Text(0.3215158924205379, 0.11904761904761904, 'gini = 0.0\\nsamples = 1\\nvalue = [0, 1]'),\n",
       " Text(0.3264058679706601, 0.11904761904761904, 'gini = 0.484\\nsamples = 17\\nvalue = [7, 10]'),\n",
       " Text(0.33374083129584353, 0.16666666666666666, 'x[2] <= 7.0\\ngini = 0.485\\nsamples = 29\\nvalue = [17, 12]'),\n",
       " Text(0.3312958435207824, 0.11904761904761904, 'gini = 0.0\\nsamples = 1\\nvalue = [1, 0]'),\n",
       " Text(0.33618581907090467, 0.11904761904761904, 'x[8] <= 8.5\\ngini = 0.49\\nsamples = 28\\nvalue = [16, 12]'),\n",
       " Text(0.33374083129584353, 0.07142857142857142, 'gini = 0.473\\nsamples = 13\\nvalue = [8, 5]'),\n",
       " Text(0.33863080684596575, 0.07142857142857142, 'x[2] <= 9.5\\ngini = 0.498\\nsamples = 15\\nvalue = [8, 7]'),\n",
       " Text(0.33618581907090467, 0.023809523809523808, 'gini = 0.5\\nsamples = 8\\nvalue = [4, 4]'),\n",
       " Text(0.3410757946210269, 0.023809523809523808, 'gini = 0.49\\nsamples = 7\\nvalue = [4, 3]'),\n",
       " Text(0.3276283618581907, 0.2619047619047619, 'gini = 0.0\\nsamples = 1\\nvalue = [1, 0]'),\n",
       " Text(0.33496332518337407, 0.30952380952380953, 'x[2] <= 8.5\\ngini = 0.463\\nsamples = 11\\nvalue = [4, 7]'),\n",
       " Text(0.33251833740831294, 0.2619047619047619, 'gini = 0.0\\nsamples = 1\\nvalue = [0, 1]'),\n",
       " Text(0.3374083129584352, 0.2619047619047619, 'x[5] <= 11.5\\ngini = 0.48\\nsamples = 10\\nvalue = [4, 6]'),\n",
       " Text(0.33496332518337407, 0.21428571428571427, 'gini = 0.444\\nsamples = 6\\nvalue = [2, 4]'),\n",
       " Text(0.33985330073349634, 0.21428571428571427, 'gini = 0.5\\nsamples = 4\\nvalue = [2, 2]'),\n",
       " Text(0.34963325183374083, 0.35714285714285715, 'x[5] <= 13.5\\ngini = 0.459\\nsamples = 28\\nvalue = [18, 10]'),\n",
       " Text(0.34474327628361856, 0.30952380952380953, 'x[2] <= 11.5\\ngini = 0.32\\nsamples = 10\\nvalue = [8, 2]'),\n",
       " Text(0.3422982885085575, 0.2619047619047619, 'gini = 0.0\\nsamples = 3\\nvalue = [3, 0]'),\n",
       " Text(0.3471882640586797, 0.2619047619047619, 'gini = 0.408\\nsamples = 7\\nvalue = [5, 2]'),\n",
       " Text(0.3545232273838631, 0.30952380952380953, 'x[2] <= 10.0\\ngini = 0.494\\nsamples = 18\\nvalue = [10, 8]'),\n",
       " Text(0.35207823960880197, 0.2619047619047619, 'gini = 0.0\\nsamples = 1\\nvalue = [0, 1]'),\n",
       " Text(0.3569682151589242, 0.2619047619047619, 'x[2] <= 13.0\\ngini = 0.484\\nsamples = 17\\nvalue = [10, 7]'),\n",
       " Text(0.3545232273838631, 0.21428571428571427, 'gini = 0.0\\nsamples = 1\\nvalue = [1, 0]'),\n",
       " Text(0.3594132029339853, 0.21428571428571427, 'x[5] <= 14.5\\ngini = 0.492\\nsamples = 16\\nvalue = [9, 7]'),\n",
       " Text(0.3545232273838631, 0.16666666666666666, 'x[8] <= 15.0\\ngini = 0.49\\nsamples = 7\\nvalue = [3, 4]'),\n",
       " Text(0.35207823960880197, 0.11904761904761904, 'gini = 0.5\\nsamples = 6\\nvalue = [3, 3]'),\n",
       " Text(0.3569682151589242, 0.11904761904761904, 'gini = 0.0\\nsamples = 1\\nvalue = [0, 1]'),\n",
       " Text(0.3643031784841076, 0.16666666666666666, 'x[8] <= 15.5\\ngini = 0.444\\nsamples = 9\\nvalue = [6, 3]'),\n",
       " Text(0.36185819070904646, 0.11904761904761904, 'gini = 0.375\\nsamples = 4\\nvalue = [3, 1]'),\n",
       " Text(0.36674816625916873, 0.11904761904761904, 'x[5] <= 16.5\\ngini = 0.48\\nsamples = 5\\nvalue = [3, 2]'),\n",
       " Text(0.3643031784841076, 0.07142857142857142, 'gini = 0.0\\nsamples = 1\\nvalue = [0, 1]'),\n",
       " Text(0.3691931540342298, 0.07142857142857142, 'x[8] <= 18.0\\ngini = 0.375\\nsamples = 4\\nvalue = [3, 1]'),\n",
       " Text(0.36674816625916873, 0.023809523809523808, 'gini = 0.0\\nsamples = 1\\nvalue = [1, 0]'),\n",
       " Text(0.37163814180929094, 0.023809523809523808, 'gini = 0.444\\nsamples = 3\\nvalue = [2, 1]'),\n",
       " Text(0.34474327628361856, 0.40476190476190477, 'gini = 0.0\\nsamples = 3\\nvalue = [3, 0]'),\n",
       " Text(0.3569682151589242, 0.4523809523809524, 'x[5] <= 24.0\\ngini = 0.469\\nsamples = 8\\nvalue = [3, 5]'),\n",
       " Text(0.3545232273838631, 0.40476190476190477, 'gini = 0.0\\nsamples = 3\\nvalue = [0, 3]'),\n",
       " Text(0.3594132029339853, 0.40476190476190477, 'x[2] <= 23.5\\ngini = 0.48\\nsamples = 5\\nvalue = [3, 2]'),\n",
       " Text(0.3569682151589242, 0.35714285714285715, 'gini = 0.0\\nsamples = 1\\nvalue = [1, 0]'),\n",
       " Text(0.36185819070904646, 0.35714285714285715, 'x[2] <= 25.5\\ngini = 0.5\\nsamples = 4\\nvalue = [2, 2]'),\n",
       " Text(0.3594132029339853, 0.30952380952380953, 'gini = 0.5\\nsamples = 2\\nvalue = [1, 1]'),\n",
       " Text(0.3643031784841076, 0.30952380952380953, 'gini = 0.5\\nsamples = 2\\nvalue = [1, 1]'),\n",
       " Text(0.3545232273838631, 0.5, 'gini = 0.0\\nsamples = 1\\nvalue = [1, 0]'),\n",
       " Text(0.31968215158924207, 0.6904761904761905, 'gini = 0.0\\nsamples = 2\\nvalue = [0, 2]'),\n",
       " Text(0.5034191625916871, 0.8333333333333334, 'x[5] <= 14.5\\ngini = 0.459\\nsamples = 443\\nvalue = [158, 285]'),\n",
       " Text(0.4300122249388753, 0.7857142857142857, 'x[7] <= 3.5\\ngini = 0.381\\nsamples = 305\\nvalue = [78, 227]'),\n",
       " Text(0.4057151589242054, 0.7380952380952381, 'x[8] <= 7.5\\ngini = 0.465\\nsamples = 144\\nvalue = [53, 91]'),\n",
       " Text(0.3908924205378973, 0.6904761904761905, 'x[4] <= 0.5\\ngini = 0.437\\nsamples = 121\\nvalue = [39, 82]'),\n",
       " Text(0.38233496332518335, 0.6428571428571429, 'x[8] <= 5.5\\ngini = 0.255\\nsamples = 20\\nvalue = [3, 17]'),\n",
       " Text(0.37988997555012227, 0.5952380952380952, 'gini = 0.0\\nsamples = 15\\nvalue = [0, 15]'),\n",
       " Text(0.3847799511002445, 0.5952380952380952, 'x[5] <= 6.5\\ngini = 0.48\\nsamples = 5\\nvalue = [3, 2]'),\n",
       " Text(0.38233496332518335, 0.5476190476190477, 'gini = 0.444\\nsamples = 3\\nvalue = [2, 1]'),\n",
       " Text(0.3872249388753056, 0.5476190476190477, 'gini = 0.5\\nsamples = 2\\nvalue = [1, 1]'),\n",
       " Text(0.39944987775061125, 0.6428571428571429, 'x[2] <= 1.5\\ngini = 0.459\\nsamples = 101\\nvalue = [36, 65]'),\n",
       " Text(0.394559902200489, 0.5952380952380952, 'x[5] <= 2.0\\ngini = 0.375\\nsamples = 4\\nvalue = [3, 1]'),\n",
       " Text(0.3921149144254279, 0.5476190476190477, 'gini = 0.0\\nsamples = 1\\nvalue = [0, 1]'),\n",
       " Text(0.3970048899755501, 0.5476190476190477, 'gini = 0.0\\nsamples = 3\\nvalue = [3, 0]'),\n",
       " Text(0.4043398533007335, 0.5952380952380952, 'x[5] <= 7.5\\ngini = 0.449\\nsamples = 97\\nvalue = [33, 64]'),\n",
       " Text(0.4018948655256724, 0.5476190476190477, 'x[2] <= 5.5\\ngini = 0.444\\nsamples = 96\\nvalue = [32, 64]'),\n",
       " Text(0.3905867970660147, 0.5, 'x[2] <= 3.5\\ngini = 0.463\\nsamples = 77\\nvalue = [28, 49]'),\n",
       " Text(0.3801955990220049, 0.4523809523809524, 'x[5] <= 2.5\\ngini = 0.4\\nsamples = 47\\nvalue = [13, 34]'),\n",
       " Text(0.3740831295843521, 0.40476190476190477, 'x[8] <= 5.5\\ngini = 0.48\\nsamples = 5\\nvalue = [2, 3]'),\n",
       " Text(0.37163814180929094, 0.35714285714285715, 'x[8] <= 3.0\\ngini = 0.5\\nsamples = 4\\nvalue = [2, 2]'),\n",
       " Text(0.3691931540342298, 0.30952380952380953, 'gini = 0.444\\nsamples = 3\\nvalue = [1, 2]'),\n",
       " Text(0.3740831295843521, 0.30952380952380953, 'gini = 0.0\\nsamples = 1\\nvalue = [1, 0]'),\n",
       " Text(0.3765281173594132, 0.35714285714285715, 'gini = 0.0\\nsamples = 1\\nvalue = [0, 1]'),\n",
       " Text(0.3863080684596577, 0.40476190476190477, 'x[8] <= 4.5\\ngini = 0.387\\nsamples = 42\\nvalue = [11, 31]'),\n",
       " Text(0.38141809290953543, 0.35714285714285715, 'x[8] <= 3.5\\ngini = 0.375\\nsamples = 40\\nvalue = [10, 30]'),\n",
       " Text(0.37897310513447435, 0.30952380952380953, 'x[2] <= 2.5\\ngini = 0.394\\nsamples = 37\\nvalue = [10, 27]'),\n",
       " Text(0.3765281173594132, 0.2619047619047619, 'gini = 0.444\\nsamples = 3\\nvalue = [1, 2]'),\n",
       " Text(0.38141809290953543, 0.2619047619047619, 'gini = 0.389\\nsamples = 34\\nvalue = [9, 25]'),\n",
       " Text(0.38386308068459657, 0.30952380952380953, 'gini = 0.0\\nsamples = 3\\nvalue = [0, 3]'),\n",
       " Text(0.39119804400978, 0.35714285714285715, 'x[2] <= 2.5\\ngini = 0.5\\nsamples = 2\\nvalue = [1, 1]'),\n",
       " Text(0.38875305623471884, 0.30952380952380953, 'gini = 0.0\\nsamples = 1\\nvalue = [0, 1]'),\n",
       " Text(0.39364303178484106, 0.30952380952380953, 'gini = 0.0\\nsamples = 1\\nvalue = [1, 0]'),\n",
       " Text(0.40097799511002447, 0.4523809523809524, 'x[8] <= 5.5\\ngini = 0.5\\nsamples = 30\\nvalue = [15, 15]'),\n",
       " Text(0.39853300733496333, 0.40476190476190477, 'x[2] <= 4.5\\ngini = 0.497\\nsamples = 28\\nvalue = [13, 15]'),\n",
       " Text(0.3960880195599022, 0.35714285714285715, 'gini = 0.498\\nsamples = 15\\nvalue = [8, 7]'),\n",
       " Text(0.40097799511002447, 0.35714285714285715, 'gini = 0.473\\nsamples = 13\\nvalue = [5, 8]'),\n",
       " Text(0.4034229828850856, 0.40476190476190477, 'gini = 0.0\\nsamples = 2\\nvalue = [2, 0]'),\n",
       " Text(0.4132029339853301, 0.5, 'x[0] <= 0.5\\ngini = 0.332\\nsamples = 19\\nvalue = [4, 15]'),\n",
       " Text(0.41075794621026895, 0.4523809523809524, 'x[8] <= 6.5\\ngini = 0.346\\nsamples = 18\\nvalue = [4, 14]'),\n",
       " Text(0.4083129584352078, 0.40476190476190477, 'gini = 0.32\\nsamples = 10\\nvalue = [2, 8]'),\n",
       " Text(0.4132029339853301, 0.40476190476190477, 'gini = 0.375\\nsamples = 8\\nvalue = [2, 6]'),\n",
       " Text(0.4156479217603912, 0.4523809523809524, 'gini = 0.0\\nsamples = 1\\nvalue = [0, 1]'),\n",
       " Text(0.4067848410757946, 0.5476190476190477, 'gini = 0.0\\nsamples = 1\\nvalue = [1, 0]'),\n",
       " Text(0.42053789731051344, 0.6904761904761905, 'x[8] <= 13.5\\ngini = 0.476\\nsamples = 23\\nvalue = [14, 9]'),\n",
       " Text(0.4180929095354523, 0.6428571428571429, 'x[4] <= 0.5\\ngini = 0.42\\nsamples = 20\\nvalue = [14, 6]'),\n",
       " Text(0.4156479217603912, 0.5952380952380952, 'gini = 0.0\\nsamples = 1\\nvalue = [0, 1]'),\n",
       " Text(0.42053789731051344, 0.5952380952380952, 'x[5] <= 7.0\\ngini = 0.388\\nsamples = 19\\nvalue = [14, 5]'),\n",
       " Text(0.4180929095354523, 0.5476190476190477, 'gini = 0.0\\nsamples = 4\\nvalue = [4, 0]'),\n",
       " Text(0.4229828850855746, 0.5476190476190477, 'x[5] <= 8.5\\ngini = 0.444\\nsamples = 15\\nvalue = [10, 5]'),\n",
       " Text(0.42053789731051344, 0.5, 'gini = 0.444\\nsamples = 3\\nvalue = [1, 2]'),\n",
       " Text(0.4254278728606357, 0.5, 'x[2] <= 11.5\\ngini = 0.375\\nsamples = 12\\nvalue = [9, 3]'),\n",
       " Text(0.42053789731051344, 0.4523809523809524, 'x[5] <= 9.5\\ngini = 0.245\\nsamples = 7\\nvalue = [6, 1]'),\n",
       " Text(0.4180929095354523, 0.40476190476190477, 'gini = 0.444\\nsamples = 3\\nvalue = [2, 1]'),\n",
       " Text(0.4229828850855746, 0.40476190476190477, 'gini = 0.0\\nsamples = 4\\nvalue = [4, 0]'),\n",
       " Text(0.43031784841075793, 0.4523809523809524, 'x[8] <= 12.5\\ngini = 0.48\\nsamples = 5\\nvalue = [3, 2]'),\n",
       " Text(0.4278728606356968, 0.40476190476190477, 'gini = 0.444\\nsamples = 3\\nvalue = [2, 1]'),\n",
       " Text(0.43276283618581907, 0.40476190476190477, 'gini = 0.5\\nsamples = 2\\nvalue = [1, 1]'),\n",
       " Text(0.4229828850855746, 0.6428571428571429, 'gini = 0.0\\nsamples = 3\\nvalue = [0, 3]'),\n",
       " Text(0.4543092909535452, 0.7380952380952381, 'x[2] <= 3.5\\ngini = 0.262\\nsamples = 161\\nvalue = [25, 136]'),\n",
       " Text(0.43643031784841074, 0.6904761904761905, 'x[5] <= 3.5\\ngini = 0.48\\nsamples = 10\\nvalue = [6, 4]'),\n",
       " Text(0.4315403422982885, 0.6428571428571429, 'x[8] <= 4.5\\ngini = 0.375\\nsamples = 4\\nvalue = [1, 3]'),\n",
       " Text(0.4290953545232274, 0.5952380952380952, 'gini = 0.0\\nsamples = 2\\nvalue = [0, 2]'),\n",
       " Text(0.4339853300733496, 0.5952380952380952, 'x[7] <= 4.5\\ngini = 0.5\\nsamples = 2\\nvalue = [1, 1]'),\n",
       " Text(0.4315403422982885, 0.5476190476190477, 'gini = 0.0\\nsamples = 1\\nvalue = [1, 0]'),\n",
       " Text(0.43643031784841074, 0.5476190476190477, 'gini = 0.0\\nsamples = 1\\nvalue = [0, 1]'),\n",
       " Text(0.441320293398533, 0.6428571428571429, 'x[5] <= 4.5\\ngini = 0.278\\nsamples = 6\\nvalue = [5, 1]'),\n",
       " Text(0.4388753056234719, 0.5952380952380952, 'gini = 0.0\\nsamples = 3\\nvalue = [3, 0]'),\n",
       " Text(0.44376528117359415, 0.5952380952380952, 'x[5] <= 6.0\\ngini = 0.444\\nsamples = 3\\nvalue = [2, 1]'),\n",
       " Text(0.441320293398533, 0.5476190476190477, 'gini = 0.0\\nsamples = 1\\nvalue = [0, 1]'),\n",
       " Text(0.44621026894865523, 0.5476190476190477, 'gini = 0.0\\nsamples = 2\\nvalue = [2, 0]'),\n",
       " Text(0.4721882640586797, 0.6904761904761905, 'x[8] <= 9.5\\ngini = 0.22\\nsamples = 151\\nvalue = [19, 132]'),\n",
       " Text(0.4559902200488998, 0.6428571428571429, 'x[7] <= 7.5\\ngini = 0.127\\nsamples = 88\\nvalue = [6, 82]'),\n",
       " Text(0.45354523227383864, 0.5952380952380952, 'x[7] <= 4.5\\ngini = 0.108\\nsamples = 87\\nvalue = [5, 82]'),\n",
       " Text(0.4511002444987775, 0.5476190476190477, 'x[8] <= 6.5\\ngini = 0.21\\nsamples = 42\\nvalue = [5, 37]'),\n",
       " Text(0.4449877750611247, 0.5, 'x[2] <= 6.5\\ngini = 0.133\\nsamples = 28\\nvalue = [2, 26]'),\n",
       " Text(0.4400977995110024, 0.4523809523809524, 'x[8] <= 4.5\\ngini = 0.077\\nsamples = 25\\nvalue = [1, 24]'),\n",
       " Text(0.43765281173594134, 0.40476190476190477, 'gini = 0.165\\nsamples = 11\\nvalue = [1, 10]'),\n",
       " Text(0.44254278728606355, 0.40476190476190477, 'gini = 0.0\\nsamples = 14\\nvalue = [0, 14]'),\n",
       " Text(0.44987775061124696, 0.4523809523809524, 'x[8] <= 4.5\\ngini = 0.444\\nsamples = 3\\nvalue = [1, 2]'),\n",
       " Text(0.4474327628361858, 0.40476190476190477, 'gini = 0.0\\nsamples = 1\\nvalue = [1, 0]'),\n",
       " Text(0.45232273838630804, 0.40476190476190477, 'gini = 0.0\\nsamples = 2\\nvalue = [0, 2]'),\n",
       " Text(0.4572127139364303, 0.5, 'x[2] <= 4.5\\ngini = 0.337\\nsamples = 14\\nvalue = [3, 11]'),\n",
       " Text(0.4547677261613692, 0.4523809523809524, 'gini = 0.0\\nsamples = 2\\nvalue = [2, 0]'),\n",
       " Text(0.45965770171149145, 0.4523809523809524, 'x[5] <= 7.5\\ngini = 0.153\\nsamples = 12\\nvalue = [1, 11]'),\n",
       " Text(0.4572127139364303, 0.40476190476190477, 'x[2] <= 6.0\\ngini = 0.278\\nsamples = 6\\nvalue = [1, 5]'),\n",
       " Text(0.4547677261613692, 0.35714285714285715, 'gini = 0.0\\nsamples = 1\\nvalue = [0, 1]'),\n",
       " Text(0.45965770171149145, 0.35714285714285715, 'gini = 0.32\\nsamples = 5\\nvalue = [1, 4]'),\n",
       " Text(0.4621026894865526, 0.40476190476190477, 'gini = 0.0\\nsamples = 6\\nvalue = [0, 6]'),\n",
       " Text(0.4559902200488998, 0.5476190476190477, 'gini = 0.0\\nsamples = 45\\nvalue = [0, 45]'),\n",
       " Text(0.45843520782396086, 0.5952380952380952, 'gini = 0.0\\nsamples = 1\\nvalue = [1, 0]'),\n",
       " Text(0.4883863080684597, 0.6428571428571429, 'x[2] <= 7.0\\ngini = 0.328\\nsamples = 63\\nvalue = [13, 50]'),\n",
       " Text(0.48594132029339854, 0.5952380952380952, 'gini = 0.0\\nsamples = 3\\nvalue = [3, 0]'),\n",
       " Text(0.4908312958435208, 0.5952380952380952, 'x[7] <= 5.5\\ngini = 0.278\\nsamples = 60\\nvalue = [10, 50]'),\n",
       " Text(0.4767726161369193, 0.5476190476190477, 'x[8] <= 12.5\\ngini = 0.486\\nsamples = 12\\nvalue = [5, 7]'),\n",
       " Text(0.4718826405867971, 0.5, 'x[5] <= 11.5\\ngini = 0.375\\nsamples = 8\\nvalue = [2, 6]'),\n",
       " Text(0.46943765281173594, 0.4523809523809524, 'x[2] <= 10.5\\ngini = 0.48\\nsamples = 5\\nvalue = [2, 3]'),\n",
       " Text(0.4669926650366748, 0.40476190476190477, 'gini = 0.0\\nsamples = 2\\nvalue = [0, 2]'),\n",
       " Text(0.4718826405867971, 0.40476190476190477, 'gini = 0.444\\nsamples = 3\\nvalue = [2, 1]'),\n",
       " Text(0.4743276283618582, 0.4523809523809524, 'gini = 0.0\\nsamples = 3\\nvalue = [0, 3]'),\n",
       " Text(0.48166259168704156, 0.5, 'x[2] <= 13.5\\ngini = 0.375\\nsamples = 4\\nvalue = [3, 1]'),\n",
       " Text(0.4792176039119804, 0.4523809523809524, 'gini = 0.0\\nsamples = 2\\nvalue = [2, 0]'),\n",
       " Text(0.4841075794621027, 0.4523809523809524, 'x[7] <= 4.5\\ngini = 0.5\\nsamples = 2\\nvalue = [1, 1]'),\n",
       " Text(0.48166259168704156, 0.40476190476190477, 'gini = 0.0\\nsamples = 1\\nvalue = [0, 1]'),\n",
       " Text(0.48655256723716384, 0.40476190476190477, 'gini = 0.0\\nsamples = 1\\nvalue = [1, 0]'),\n",
       " Text(0.5048899755501223, 0.5476190476190477, 'x[2] <= 11.5\\ngini = 0.187\\nsamples = 48\\nvalue = [5, 43]'),\n",
       " Text(0.49877750611246946, 0.5, 'x[5] <= 13.5\\ngini = 0.26\\nsamples = 26\\nvalue = [4, 22]'),\n",
       " Text(0.4963325183374083, 0.4523809523809524, 'x[7] <= 6.5\\ngini = 0.211\\nsamples = 25\\nvalue = [3, 22]'),\n",
       " Text(0.49144254278728605, 0.40476190476190477, 'x[8] <= 11.5\\ngini = 0.5\\nsamples = 2\\nvalue = [1, 1]'),\n",
       " Text(0.4889975550122249, 0.35714285714285715, 'gini = 0.0\\nsamples = 1\\nvalue = [1, 0]'),\n",
       " Text(0.4938875305623472, 0.35714285714285715, 'gini = 0.0\\nsamples = 1\\nvalue = [0, 1]'),\n",
       " Text(0.5012224938875306, 0.40476190476190477, 'x[2] <= 10.5\\ngini = 0.159\\nsamples = 23\\nvalue = [2, 21]'),\n",
       " Text(0.49877750611246946, 0.35714285714285715, 'gini = 0.0\\nsamples = 12\\nvalue = [0, 12]'),\n",
       " Text(0.5036674816625917, 0.35714285714285715, 'x[8] <= 10.5\\ngini = 0.298\\nsamples = 11\\nvalue = [2, 9]'),\n",
       " Text(0.5012224938875306, 0.30952380952380953, 'gini = 0.0\\nsamples = 1\\nvalue = [1, 0]'),\n",
       " Text(0.5061124694376528, 0.30952380952380953, 'x[7] <= 9.5\\ngini = 0.18\\nsamples = 10\\nvalue = [1, 9]'),\n",
       " Text(0.5036674816625917, 0.2619047619047619, 'gini = 0.0\\nsamples = 7\\nvalue = [0, 7]'),\n",
       " Text(0.508557457212714, 0.2619047619047619, 'x[5] <= 12.0\\ngini = 0.444\\nsamples = 3\\nvalue = [1, 2]'),\n",
       " Text(0.5061124694376528, 0.21428571428571427, 'gini = 0.0\\nsamples = 1\\nvalue = [1, 0]'),\n",
       " Text(0.511002444987775, 0.21428571428571427, 'gini = 0.0\\nsamples = 2\\nvalue = [0, 2]'),\n",
       " Text(0.5012224938875306, 0.4523809523809524, 'gini = 0.0\\nsamples = 1\\nvalue = [1, 0]'),\n",
       " Text(0.511002444987775, 0.5, 'x[4] <= 0.5\\ngini = 0.087\\nsamples = 22\\nvalue = [1, 21]'),\n",
       " Text(0.508557457212714, 0.4523809523809524, 'x[5] <= 13.5\\ngini = 0.444\\nsamples = 3\\nvalue = [1, 2]'),\n",
       " Text(0.5061124694376528, 0.40476190476190477, 'gini = 0.5\\nsamples = 2\\nvalue = [1, 1]'),\n",
       " Text(0.511002444987775, 0.40476190476190477, 'gini = 0.0\\nsamples = 1\\nvalue = [0, 1]'),\n",
       " Text(0.5134474327628362, 0.4523809523809524, 'gini = 0.0\\nsamples = 19\\nvalue = [0, 19]'),\n",
       " Text(0.5768261002444988, 0.7857142857142857, 'x[7] <= 9.5\\ngini = 0.487\\nsamples = 138\\nvalue = [80, 58]'),\n",
       " Text(0.5488233496332519, 0.7380952380952381, 'x[1] <= 0.5\\ngini = 0.472\\nsamples = 126\\nvalue = [78, 48]'),\n",
       " Text(0.5463783618581907, 0.6904761904761905, 'x[5] <= 15.5\\ngini = 0.467\\nsamples = 124\\nvalue = [78, 46]'),\n",
       " Text(0.5268948655256723, 0.6428571428571429, 'x[2] <= 11.0\\ngini = 0.198\\nsamples = 9\\nvalue = [8, 1]'),\n",
       " Text(0.5244498777506112, 0.5952380952380952, 'gini = 0.0\\nsamples = 1\\nvalue = [0, 1]'),\n",
       " Text(0.5293398533007335, 0.5952380952380952, 'gini = 0.0\\nsamples = 8\\nvalue = [8, 0]'),\n",
       " Text(0.565861858190709, 0.6428571428571429, 'x[5] <= 18.5\\ngini = 0.476\\nsamples = 115\\nvalue = [70, 45]'),\n",
       " Text(0.5342298288508558, 0.5952380952380952, 'x[8] <= 21.5\\ngini = 0.472\\nsamples = 21\\nvalue = [8, 13]'),\n",
       " Text(0.5317848410757946, 0.5476190476190477, 'x[8] <= 17.5\\ngini = 0.455\\nsamples = 20\\nvalue = [7, 13]'),\n",
       " Text(0.5232273838630807, 0.5, 'x[5] <= 16.5\\ngini = 0.497\\nsamples = 13\\nvalue = [6, 7]'),\n",
       " Text(0.5183374083129584, 0.4523809523809524, 'x[7] <= 5.5\\ngini = 0.408\\nsamples = 7\\nvalue = [2, 5]'),\n",
       " Text(0.5158924205378973, 0.40476190476190477, 'x[2] <= 15.5\\ngini = 0.48\\nsamples = 5\\nvalue = [2, 3]'),\n",
       " Text(0.5134474327628362, 0.35714285714285715, 'gini = 0.0\\nsamples = 1\\nvalue = [0, 1]'),\n",
       " Text(0.5183374083129584, 0.35714285714285715, 'x[7] <= 4.5\\ngini = 0.5\\nsamples = 4\\nvalue = [2, 2]'),\n",
       " Text(0.5158924205378973, 0.30952380952380953, 'x[7] <= 3.5\\ngini = 0.444\\nsamples = 3\\nvalue = [1, 2]'),\n",
       " Text(0.5134474327628362, 0.2619047619047619, 'gini = 0.5\\nsamples = 2\\nvalue = [1, 1]'),\n",
       " Text(0.5183374083129584, 0.2619047619047619, 'gini = 0.0\\nsamples = 1\\nvalue = [0, 1]'),\n",
       " Text(0.5207823960880196, 0.30952380952380953, 'gini = 0.0\\nsamples = 1\\nvalue = [1, 0]'),\n",
       " Text(0.5207823960880196, 0.40476190476190477, 'gini = 0.0\\nsamples = 2\\nvalue = [0, 2]'),\n",
       " Text(0.5281173594132029, 0.4523809523809524, 'x[2] <= 16.0\\ngini = 0.444\\nsamples = 6\\nvalue = [4, 2]'),\n",
       " Text(0.5256723716381418, 0.40476190476190477, 'gini = 0.0\\nsamples = 2\\nvalue = [2, 0]'),\n",
       " Text(0.530562347188264, 0.40476190476190477, 'x[7] <= 6.5\\ngini = 0.5\\nsamples = 4\\nvalue = [2, 2]'),\n",
       " Text(0.5281173594132029, 0.35714285714285715, 'x[7] <= 4.5\\ngini = 0.444\\nsamples = 3\\nvalue = [2, 1]'),\n",
       " Text(0.5256723716381418, 0.30952380952380953, 'gini = 0.5\\nsamples = 2\\nvalue = [1, 1]'),\n",
       " Text(0.530562347188264, 0.30952380952380953, 'gini = 0.0\\nsamples = 1\\nvalue = [1, 0]'),\n",
       " Text(0.5330073349633252, 0.35714285714285715, 'gini = 0.0\\nsamples = 1\\nvalue = [0, 1]'),\n",
       " Text(0.5403422982885085, 0.5, 'x[7] <= 5.0\\ngini = 0.245\\nsamples = 7\\nvalue = [1, 6]'),\n",
       " Text(0.5378973105134475, 0.4523809523809524, 'x[7] <= 3.5\\ngini = 0.444\\nsamples = 3\\nvalue = [1, 2]'),\n",
       " Text(0.5354523227383863, 0.40476190476190477, 'gini = 0.0\\nsamples = 1\\nvalue = [0, 1]'),\n",
       " Text(0.5403422982885085, 0.40476190476190477, 'gini = 0.5\\nsamples = 2\\nvalue = [1, 1]'),\n",
       " Text(0.5427872860635696, 0.4523809523809524, 'gini = 0.0\\nsamples = 4\\nvalue = [0, 4]'),\n",
       " Text(0.5366748166259169, 0.5476190476190477, 'gini = 0.0\\nsamples = 1\\nvalue = [1, 0]'),\n",
       " Text(0.5974938875305623, 0.5952380952380952, 'x[2] <= 39.0\\ngini = 0.449\\nsamples = 94\\nvalue = [62, 32]'),\n",
       " Text(0.5788508557457213, 0.5476190476190477, 'x[5] <= 31.5\\ngini = 0.42\\nsamples = 80\\nvalue = [56, 24]'),\n",
       " Text(0.5684596577017115, 0.5, 'x[5] <= 28.5\\ngini = 0.451\\nsamples = 61\\nvalue = [40, 21]'),\n",
       " Text(0.5550122249388753, 0.4523809523809524, 'x[2] <= 11.5\\ngini = 0.398\\nsamples = 51\\nvalue = [37, 14]'),\n",
       " Text(0.5525672371638142, 0.40476190476190477, 'gini = 0.0\\nsamples = 1\\nvalue = [0, 1]'),\n",
       " Text(0.5574572127139364, 0.40476190476190477, 'x[8] <= 25.5\\ngini = 0.385\\nsamples = 50\\nvalue = [37, 13]'),\n",
       " Text(0.5476772616136919, 0.35714285714285715, 'x[7] <= 3.5\\ngini = 0.42\\nsamples = 40\\nvalue = [28, 12]'),\n",
       " Text(0.5354523227383863, 0.30952380952380953, 'x[2] <= 22.5\\ngini = 0.497\\nsamples = 13\\nvalue = [7, 6]'),\n",
       " Text(0.530562347188264, 0.2619047619047619, 'x[2] <= 19.5\\ngini = 0.32\\nsamples = 5\\nvalue = [1, 4]'),\n",
       " Text(0.5281173594132029, 0.21428571428571427, 'gini = 0.5\\nsamples = 2\\nvalue = [1, 1]'),\n",
       " Text(0.5330073349633252, 0.21428571428571427, 'gini = 0.0\\nsamples = 3\\nvalue = [0, 3]'),\n",
       " Text(0.5403422982885085, 0.2619047619047619, 'x[8] <= 23.5\\ngini = 0.375\\nsamples = 8\\nvalue = [6, 2]'),\n",
       " Text(0.5378973105134475, 0.21428571428571427, 'gini = 0.0\\nsamples = 3\\nvalue = [3, 0]'),\n",
       " Text(0.5427872860635696, 0.21428571428571427, 'x[5] <= 24.5\\ngini = 0.48\\nsamples = 5\\nvalue = [3, 2]'),\n",
       " Text(0.5403422982885085, 0.16666666666666666, 'x[8] <= 24.5\\ngini = 0.444\\nsamples = 3\\nvalue = [2, 1]'),\n",
       " Text(0.5378973105134475, 0.11904761904761904, 'gini = 0.5\\nsamples = 2\\nvalue = [1, 1]'),\n",
       " Text(0.5427872860635696, 0.11904761904761904, 'gini = 0.0\\nsamples = 1\\nvalue = [1, 0]'),\n",
       " Text(0.5452322738386308, 0.16666666666666666, 'gini = 0.5\\nsamples = 2\\nvalue = [1, 1]'),\n",
       " Text(0.5599022004889975, 0.30952380952380953, 'x[8] <= 22.5\\ngini = 0.346\\nsamples = 27\\nvalue = [21, 6]'),\n",
       " Text(0.5550122249388753, 0.2619047619047619, 'x[8] <= 19.5\\ngini = 0.208\\nsamples = 17\\nvalue = [15, 2]'),\n",
       " Text(0.5525672371638142, 0.21428571428571427, 'x[7] <= 7.5\\ngini = 0.408\\nsamples = 7\\nvalue = [5, 2]'),\n",
       " Text(0.5501222493887531, 0.16666666666666666, 'x[7] <= 6.5\\ngini = 0.444\\nsamples = 6\\nvalue = [4, 2]'),\n",
       " Text(0.5476772616136919, 0.11904761904761904, 'x[2] <= 18.5\\ngini = 0.375\\nsamples = 4\\nvalue = [3, 1]'),\n",
       " Text(0.5452322738386308, 0.07142857142857142, 'gini = 0.5\\nsamples = 2\\nvalue = [1, 1]'),\n",
       " Text(0.5501222493887531, 0.07142857142857142, 'gini = 0.0\\nsamples = 2\\nvalue = [2, 0]'),\n",
       " Text(0.5525672371638142, 0.11904761904761904, 'gini = 0.5\\nsamples = 2\\nvalue = [1, 1]'),\n",
       " Text(0.5550122249388753, 0.16666666666666666, 'gini = 0.0\\nsamples = 1\\nvalue = [1, 0]'),\n",
       " Text(0.5574572127139364, 0.21428571428571427, 'gini = 0.0\\nsamples = 10\\nvalue = [10, 0]'),\n",
       " Text(0.5647921760391198, 0.2619047619047619, 'x[7] <= 5.5\\ngini = 0.48\\nsamples = 10\\nvalue = [6, 4]'),\n",
       " Text(0.5623471882640587, 0.21428571428571427, 'x[7] <= 4.5\\ngini = 0.49\\nsamples = 7\\nvalue = [3, 4]'),\n",
       " Text(0.5599022004889975, 0.16666666666666666, 'x[8] <= 23.5\\ngini = 0.48\\nsamples = 5\\nvalue = [3, 2]'),\n",
       " Text(0.5574572127139364, 0.11904761904761904, 'x[2] <= 20.5\\ngini = 0.444\\nsamples = 3\\nvalue = [1, 2]'),\n",
       " Text(0.5550122249388753, 0.07142857142857142, 'gini = 0.0\\nsamples = 1\\nvalue = [0, 1]'),\n",
       " Text(0.5599022004889975, 0.07142857142857142, 'gini = 0.5\\nsamples = 2\\nvalue = [1, 1]'),\n",
       " Text(0.5623471882640587, 0.11904761904761904, 'gini = 0.0\\nsamples = 2\\nvalue = [2, 0]'),\n",
       " Text(0.5647921760391198, 0.16666666666666666, 'gini = 0.0\\nsamples = 2\\nvalue = [0, 2]'),\n",
       " Text(0.5672371638141809, 0.21428571428571427, 'gini = 0.0\\nsamples = 3\\nvalue = [3, 0]'),\n",
       " Text(0.5672371638141809, 0.35714285714285715, 'x[7] <= 8.5\\ngini = 0.18\\nsamples = 10\\nvalue = [9, 1]'),\n",
       " Text(0.5647921760391198, 0.30952380952380953, 'gini = 0.0\\nsamples = 9\\nvalue = [9, 0]'),\n",
       " Text(0.5696821515892421, 0.30952380952380953, 'gini = 0.0\\nsamples = 1\\nvalue = [0, 1]'),\n",
       " Text(0.5819070904645477, 0.4523809523809524, 'x[8] <= 34.0\\ngini = 0.42\\nsamples = 10\\nvalue = [3, 7]'),\n",
       " Text(0.5794621026894865, 0.40476190476190477, 'x[7] <= 4.5\\ngini = 0.346\\nsamples = 9\\nvalue = [2, 7]'),\n",
       " Text(0.5770171149144254, 0.35714285714285715, 'x[7] <= 3.5\\ngini = 0.5\\nsamples = 4\\nvalue = [2, 2]'),\n",
       " Text(0.5745721271393643, 0.30952380952380953, 'gini = 0.0\\nsamples = 2\\nvalue = [0, 2]'),\n",
       " Text(0.5794621026894865, 0.30952380952380953, 'gini = 0.0\\nsamples = 2\\nvalue = [2, 0]'),\n",
       " Text(0.5819070904645477, 0.35714285714285715, 'gini = 0.0\\nsamples = 5\\nvalue = [0, 5]'),\n",
       " Text(0.5843520782396088, 0.40476190476190477, 'gini = 0.0\\nsamples = 1\\nvalue = [1, 0]'),\n",
       " Text(0.589242053789731, 0.5, 'x[5] <= 35.5\\ngini = 0.266\\nsamples = 19\\nvalue = [16, 3]'),\n",
       " Text(0.58679706601467, 0.4523809523809524, 'gini = 0.0\\nsamples = 11\\nvalue = [11, 0]'),\n",
       " Text(0.5916870415647921, 0.4523809523809524, 'x[5] <= 37.5\\ngini = 0.469\\nsamples = 8\\nvalue = [5, 3]'),\n",
       " Text(0.589242053789731, 0.40476190476190477, 'x[7] <= 3.5\\ngini = 0.5\\nsamples = 6\\nvalue = [3, 3]'),\n",
       " Text(0.58679706601467, 0.35714285714285715, 'gini = 0.0\\nsamples = 1\\nvalue = [1, 0]'),\n",
       " Text(0.5916870415647921, 0.35714285714285715, 'x[2] <= 36.5\\ngini = 0.48\\nsamples = 5\\nvalue = [2, 3]'),\n",
       " Text(0.58679706601467, 0.30952380952380953, 'x[8] <= 36.5\\ngini = 0.444\\nsamples = 3\\nvalue = [1, 2]'),\n",
       " Text(0.5843520782396088, 0.2619047619047619, 'gini = 0.5\\nsamples = 2\\nvalue = [1, 1]'),\n",
       " Text(0.589242053789731, 0.2619047619047619, 'gini = 0.0\\nsamples = 1\\nvalue = [0, 1]'),\n",
       " Text(0.5965770171149144, 0.30952380952380953, 'x[7] <= 4.5\\ngini = 0.5\\nsamples = 2\\nvalue = [1, 1]'),\n",
       " Text(0.5941320293398533, 0.2619047619047619, 'gini = 0.0\\nsamples = 1\\nvalue = [0, 1]'),\n",
       " Text(0.5990220048899756, 0.2619047619047619, 'gini = 0.0\\nsamples = 1\\nvalue = [1, 0]'),\n",
       " Text(0.5941320293398533, 0.40476190476190477, 'gini = 0.0\\nsamples = 2\\nvalue = [2, 0]'),\n",
       " Text(0.6161369193154034, 0.5476190476190477, 'x[7] <= 6.5\\ngini = 0.49\\nsamples = 14\\nvalue = [6, 8]'),\n",
       " Text(0.6136919315403423, 0.5, 'x[7] <= 4.5\\ngini = 0.444\\nsamples = 12\\nvalue = [4, 8]'),\n",
       " Text(0.60880195599022, 0.4523809523809524, 'x[7] <= 3.5\\ngini = 0.375\\nsamples = 8\\nvalue = [2, 6]'),\n",
       " Text(0.6063569682151589, 0.40476190476190477, 'x[5] <= 56.0\\ngini = 0.48\\nsamples = 5\\nvalue = [2, 3]'),\n",
       " Text(0.6039119804400978, 0.35714285714285715, 'x[5] <= 41.0\\ngini = 0.375\\nsamples = 4\\nvalue = [1, 3]'),\n",
       " Text(0.6014669926650367, 0.30952380952380953, 'gini = 0.5\\nsamples = 2\\nvalue = [1, 1]'),\n",
       " Text(0.6063569682151589, 0.30952380952380953, 'gini = 0.0\\nsamples = 2\\nvalue = [0, 2]'),\n",
       " Text(0.60880195599022, 0.35714285714285715, 'gini = 0.0\\nsamples = 1\\nvalue = [1, 0]'),\n",
       " Text(0.6112469437652812, 0.40476190476190477, 'gini = 0.0\\nsamples = 3\\nvalue = [0, 3]'),\n",
       " Text(0.6185819070904646, 0.4523809523809524, 'x[2] <= 48.5\\ngini = 0.5\\nsamples = 4\\nvalue = [2, 2]'),\n",
       " Text(0.6161369193154034, 0.40476190476190477, 'gini = 0.0\\nsamples = 1\\nvalue = [1, 0]'),\n",
       " Text(0.6210268948655256, 0.40476190476190477, 'x[7] <= 5.5\\ngini = 0.444\\nsamples = 3\\nvalue = [1, 2]'),\n",
       " Text(0.6185819070904646, 0.35714285714285715, 'x[2] <= 50.5\\ngini = 0.5\\nsamples = 2\\nvalue = [1, 1]'),\n",
       " Text(0.6161369193154034, 0.30952380952380953, 'gini = 0.0\\nsamples = 1\\nvalue = [0, 1]'),\n",
       " Text(0.6210268948655256, 0.30952380952380953, 'gini = 0.0\\nsamples = 1\\nvalue = [1, 0]'),\n",
       " Text(0.6234718826405868, 0.35714285714285715, 'gini = 0.0\\nsamples = 1\\nvalue = [0, 1]'),\n",
       " Text(0.6185819070904646, 0.5, 'gini = 0.0\\nsamples = 2\\nvalue = [2, 0]'),\n",
       " Text(0.5512683374083129, 0.6904761904761905, 'gini = 0.0\\nsamples = 2\\nvalue = [0, 2]'),\n",
       " Text(0.6048288508557457, 0.7380952380952381, 'x[8] <= 60.5\\ngini = 0.278\\nsamples = 12\\nvalue = [2, 10]'),\n",
       " Text(0.6023838630806846, 0.6904761904761905, 'x[8] <= 24.5\\ngini = 0.165\\nsamples = 11\\nvalue = [1, 10]'),\n",
       " Text(0.5999388753056235, 0.6428571428571429, 'gini = 0.0\\nsamples = 8\\nvalue = [0, 8]'),\n",
       " Text(0.6048288508557457, 0.6428571428571429, 'x[2] <= 22.5\\ngini = 0.444\\nsamples = 3\\nvalue = [1, 2]'),\n",
       " Text(0.6023838630806846, 0.5952380952380952, 'gini = 0.0\\nsamples = 1\\nvalue = [1, 0]'),\n",
       " Text(0.6072738386308069, 0.5952380952380952, 'gini = 0.0\\nsamples = 2\\nvalue = [0, 2]'),\n",
       " Text(0.6072738386308069, 0.6904761904761905, 'gini = 0.0\\nsamples = 1\\nvalue = [1, 0]'),\n",
       " Text(0.806468711797066, 0.9285714285714286, 'x[2] <= 0.5\\ngini = 0.452\\nsamples = 7048\\nvalue = [2431, 4617]'),\n",
       " Text(0.7139746332518337, 0.8809523809523809, 'x[8] <= 1.5\\ngini = 0.418\\nsamples = 1631\\nvalue = [1146, 485]'),\n",
       " Text(0.6895629584352079, 0.8333333333333334, 'x[0] <= 1.5\\ngini = 0.403\\nsamples = 1584\\nvalue = [1141, 443]'),\n",
       " Text(0.663661369193154, 0.7857142857142857, 'x[1] <= 1.5\\ngini = 0.395\\nsamples = 1431\\nvalue = [1043, 388]'),\n",
       " Text(0.6451711491442543, 0.7380952380952381, 'x[1] <= 0.5\\ngini = 0.398\\nsamples = 1412\\nvalue = [1025, 387]'),\n",
       " Text(0.6332518337408313, 0.6904761904761905, 'x[6] <= 0.5\\ngini = 0.268\\nsamples = 69\\nvalue = [58, 11]'),\n",
       " Text(0.6308068459657702, 0.6428571428571429, 'x[7] <= 0.5\\ngini = 0.177\\nsamples = 51\\nvalue = [46, 5]'),\n",
       " Text(0.6234718826405868, 0.5952380952380952, 'x[0] <= 0.5\\ngini = 0.5\\nsamples = 4\\nvalue = [2, 2]'),\n",
       " Text(0.6210268948655256, 0.5476190476190477, 'gini = 0.0\\nsamples = 1\\nvalue = [1, 0]'),\n",
       " Text(0.6259168704156479, 0.5476190476190477, 'x[3] <= 3.5\\ngini = 0.444\\nsamples = 3\\nvalue = [1, 2]'),\n",
       " Text(0.6234718826405868, 0.5, 'gini = 0.0\\nsamples = 2\\nvalue = [0, 2]'),\n",
       " Text(0.628361858190709, 0.5, 'gini = 0.0\\nsamples = 1\\nvalue = [1, 0]'),\n",
       " Text(0.6381418092909535, 0.5952380952380952, 'x[3] <= 1.5\\ngini = 0.12\\nsamples = 47\\nvalue = [44, 3]'),\n",
       " Text(0.6356968215158925, 0.5476190476190477, 'x[7] <= 1.5\\ngini = 0.13\\nsamples = 43\\nvalue = [40, 3]'),\n",
       " Text(0.6332518337408313, 0.5, 'gini = 0.133\\nsamples = 42\\nvalue = [39, 3]'),\n",
       " Text(0.6381418092909535, 0.5, 'gini = 0.0\\nsamples = 1\\nvalue = [1, 0]'),\n",
       " Text(0.6405867970660146, 0.5476190476190477, 'gini = 0.0\\nsamples = 4\\nvalue = [4, 0]'),\n",
       " Text(0.6356968215158925, 0.6428571428571429, 'gini = 0.444\\nsamples = 18\\nvalue = [12, 6]'),\n",
       " Text(0.6570904645476773, 0.6904761904761905, 'x[7] <= 0.5\\ngini = 0.403\\nsamples = 1343\\nvalue = [967, 376]'),\n",
       " Text(0.6454767726161369, 0.6428571428571429, 'x[3] <= 1.5\\ngini = 0.45\\nsamples = 82\\nvalue = [54, 28]'),\n",
       " Text(0.6430317848410758, 0.5952380952380952, 'gini = 0.493\\nsamples = 34\\nvalue = [19, 15]'),\n",
       " Text(0.6479217603911981, 0.5952380952380952, 'x[3] <= 4.5\\ngini = 0.395\\nsamples = 48\\nvalue = [35, 13]'),\n",
       " Text(0.6454767726161369, 0.5476190476190477, 'x[0] <= 0.5\\ngini = 0.416\\nsamples = 44\\nvalue = [31, 13]'),\n",
       " Text(0.6430317848410758, 0.5, 'gini = 0.0\\nsamples = 1\\nvalue = [1, 0]'),\n",
       " Text(0.6479217603911981, 0.5, 'x[3] <= 2.5\\ngini = 0.422\\nsamples = 43\\nvalue = [30, 13]'),\n",
       " Text(0.6454767726161369, 0.4523809523809524, 'gini = 0.408\\nsamples = 21\\nvalue = [15, 6]'),\n",
       " Text(0.6503667481662592, 0.4523809523809524, 'x[3] <= 3.5\\ngini = 0.434\\nsamples = 22\\nvalue = [15, 7]'),\n",
       " Text(0.6479217603911981, 0.40476190476190477, 'gini = 0.43\\nsamples = 16\\nvalue = [11, 5]'),\n",
       " Text(0.6528117359413202, 0.40476190476190477, 'gini = 0.444\\nsamples = 6\\nvalue = [4, 2]'),\n",
       " Text(0.6503667481662592, 0.5476190476190477, 'gini = 0.0\\nsamples = 4\\nvalue = [4, 0]'),\n",
       " Text(0.6687041564792175, 0.6428571428571429, 'x[6] <= 0.5\\ngini = 0.4\\nsamples = 1261\\nvalue = [913, 348]'),\n",
       " Text(0.6625916870415648, 0.5952380952380952, 'x[3] <= 1.5\\ngini = 0.305\\nsamples = 64\\nvalue = [52, 12]'),\n",
       " Text(0.6601466992665037, 0.5476190476190477, 'x[7] <= 1.5\\ngini = 0.312\\nsamples = 62\\nvalue = [50, 12]'),\n",
       " Text(0.6577017114914425, 0.5, 'x[5] <= 1.5\\ngini = 0.316\\nsamples = 61\\nvalue = [49, 12]'),\n",
       " Text(0.6552567237163814, 0.4523809523809524, 'gini = 0.32\\nsamples = 60\\nvalue = [48, 12]'),\n",
       " Text(0.6601466992665037, 0.4523809523809524, 'gini = 0.0\\nsamples = 1\\nvalue = [1, 0]'),\n",
       " Text(0.6625916870415648, 0.5, 'gini = 0.0\\nsamples = 1\\nvalue = [1, 0]'),\n",
       " Text(0.6650366748166259, 0.5476190476190477, 'gini = 0.0\\nsamples = 2\\nvalue = [2, 0]'),\n",
       " Text(0.6748166259168704, 0.5952380952380952, 'x[4] <= 0.5\\ngini = 0.404\\nsamples = 1197\\nvalue = [861, 336]'),\n",
       " Text(0.6723716381418093, 0.5476190476190477, 'x[5] <= 1.5\\ngini = 0.405\\nsamples = 1191\\nvalue = [855, 336]'),\n",
       " Text(0.6699266503667481, 0.5, 'x[7] <= 1.5\\ngini = 0.403\\nsamples = 1172\\nvalue = [844, 328]'),\n",
       " Text(0.6650366748166259, 0.4523809523809524, 'x[3] <= 1.5\\ngini = 0.4\\nsamples = 1134\\nvalue = [820, 314]'),\n",
       " Text(0.6625916870415648, 0.40476190476190477, 'gini = 0.401\\nsamples = 1098\\nvalue = [793, 305]'),\n",
       " Text(0.6674816625916871, 0.40476190476190477, 'x[3] <= 2.5\\ngini = 0.375\\nsamples = 36\\nvalue = [27, 9]'),\n",
       " Text(0.6650366748166259, 0.35714285714285715, 'gini = 0.367\\nsamples = 33\\nvalue = [25, 8]'),\n",
       " Text(0.6699266503667481, 0.35714285714285715, 'gini = 0.444\\nsamples = 3\\nvalue = [2, 1]'),\n",
       " Text(0.6748166259168704, 0.4523809523809524, 'x[7] <= 2.5\\ngini = 0.465\\nsamples = 38\\nvalue = [24, 14]'),\n",
       " Text(0.6723716381418093, 0.40476190476190477, 'gini = 0.467\\nsamples = 35\\nvalue = [22, 13]'),\n",
       " Text(0.6772616136919315, 0.40476190476190477, 'gini = 0.444\\nsamples = 3\\nvalue = [2, 1]'),\n",
       " Text(0.6748166259168704, 0.5, 'gini = 0.488\\nsamples = 19\\nvalue = [11, 8]'),\n",
       " Text(0.6772616136919315, 0.5476190476190477, 'gini = 0.0\\nsamples = 6\\nvalue = [6, 0]'),\n",
       " Text(0.6821515892420538, 0.7380952380952381, 'x[3] <= 1.5\\ngini = 0.1\\nsamples = 19\\nvalue = [18, 1]'),\n",
       " Text(0.6797066014669927, 0.6904761904761905, 'gini = 0.0\\nsamples = 8\\nvalue = [8, 0]'),\n",
       " Text(0.684596577017115, 0.6904761904761905, 'x[3] <= 2.5\\ngini = 0.165\\nsamples = 11\\nvalue = [10, 1]'),\n",
       " Text(0.6821515892420538, 0.6428571428571429, 'x[4] <= 0.5\\ngini = 0.219\\nsamples = 8\\nvalue = [7, 1]'),\n",
       " Text(0.6797066014669927, 0.5952380952380952, 'gini = 0.0\\nsamples = 1\\nvalue = [1, 0]'),\n",
       " Text(0.684596577017115, 0.5952380952380952, 'gini = 0.245\\nsamples = 7\\nvalue = [6, 1]'),\n",
       " Text(0.687041564792176, 0.6428571428571429, 'gini = 0.0\\nsamples = 3\\nvalue = [3, 0]'),\n",
       " Text(0.7154645476772616, 0.7857142857142857, 'x[8] <= 0.5\\ngini = 0.461\\nsamples = 153\\nvalue = [98, 55]'),\n",
       " Text(0.7072127139364304, 0.7380952380952381, 'x[3] <= 4.5\\ngini = 0.271\\nsamples = 31\\nvalue = [26, 5]'),\n",
       " Text(0.7004889975550123, 0.6904761904761905, 'x[1] <= 2.5\\ngini = 0.238\\nsamples = 29\\nvalue = [25, 4]'),\n",
       " Text(0.6943765281173594, 0.6428571428571429, 'x[0] <= 2.5\\ngini = 0.198\\nsamples = 27\\nvalue = [24, 3]'),\n",
       " Text(0.6894865525672371, 0.5952380952380952, 'x[3] <= 1.5\\ngini = 0.153\\nsamples = 24\\nvalue = [22, 2]'),\n",
       " Text(0.687041564792176, 0.5476190476190477, 'gini = 0.0\\nsamples = 8\\nvalue = [8, 0]'),\n",
       " Text(0.6919315403422983, 0.5476190476190477, 'x[3] <= 3.5\\ngini = 0.219\\nsamples = 16\\nvalue = [14, 2]'),\n",
       " Text(0.6894865525672371, 0.5, 'x[1] <= 1.5\\ngini = 0.26\\nsamples = 13\\nvalue = [11, 2]'),\n",
       " Text(0.687041564792176, 0.4523809523809524, 'x[3] <= 2.5\\ngini = 0.278\\nsamples = 12\\nvalue = [10, 2]'),\n",
       " Text(0.684596577017115, 0.40476190476190477, 'gini = 0.278\\nsamples = 6\\nvalue = [5, 1]'),\n",
       " Text(0.6894865525672371, 0.40476190476190477, 'gini = 0.278\\nsamples = 6\\nvalue = [5, 1]'),\n",
       " Text(0.6919315403422983, 0.4523809523809524, 'gini = 0.0\\nsamples = 1\\nvalue = [1, 0]'),\n",
       " Text(0.6943765281173594, 0.5, 'gini = 0.0\\nsamples = 3\\nvalue = [3, 0]'),\n",
       " Text(0.6992665036674817, 0.5952380952380952, 'x[3] <= 1.5\\ngini = 0.444\\nsamples = 3\\nvalue = [2, 1]'),\n",
       " Text(0.6968215158924206, 0.5476190476190477, 'gini = 0.5\\nsamples = 2\\nvalue = [1, 1]'),\n",
       " Text(0.7017114914425427, 0.5476190476190477, 'gini = 0.0\\nsamples = 1\\nvalue = [1, 0]'),\n",
       " Text(0.706601466992665, 0.6428571428571429, 'x[0] <= 2.5\\ngini = 0.5\\nsamples = 2\\nvalue = [1, 1]'),\n",
       " Text(0.7041564792176039, 0.5952380952380952, 'gini = 0.0\\nsamples = 1\\nvalue = [0, 1]'),\n",
       " Text(0.7090464547677262, 0.5952380952380952, 'gini = 0.0\\nsamples = 1\\nvalue = [1, 0]'),\n",
       " Text(0.7139364303178484, 0.6904761904761905, 'x[3] <= 5.5\\ngini = 0.5\\nsamples = 2\\nvalue = [1, 1]'),\n",
       " Text(0.7114914425427873, 0.6428571428571429, 'gini = 0.0\\nsamples = 1\\nvalue = [0, 1]'),\n",
       " Text(0.7163814180929096, 0.6428571428571429, 'gini = 0.0\\nsamples = 1\\nvalue = [1, 0]'),\n",
       " Text(0.7237163814180929, 0.7380952380952381, 'x[1] <= 0.5\\ngini = 0.484\\nsamples = 122\\nvalue = [72, 50]'),\n",
       " Text(0.7212713936430318, 0.6904761904761905, 'gini = 0.0\\nsamples = 2\\nvalue = [0, 2]'),\n",
       " Text(0.726161369193154, 0.6904761904761905, 'x[6] <= 0.5\\ngini = 0.48\\nsamples = 120\\nvalue = [72, 48]'),\n",
       " Text(0.7212713936430318, 0.6428571428571429, 'x[3] <= 1.5\\ngini = 0.444\\nsamples = 9\\nvalue = [3, 6]'),\n",
       " Text(0.7188264058679706, 0.5952380952380952, 'gini = 0.0\\nsamples = 2\\nvalue = [0, 2]'),\n",
       " Text(0.7237163814180929, 0.5952380952380952, 'x[1] <= 1.5\\ngini = 0.49\\nsamples = 7\\nvalue = [3, 4]'),\n",
       " Text(0.7212713936430318, 0.5476190476190477, 'gini = 0.0\\nsamples = 1\\nvalue = [1, 0]'),\n",
       " Text(0.726161369193154, 0.5476190476190477, 'gini = 0.444\\nsamples = 6\\nvalue = [2, 4]'),\n",
       " Text(0.7310513447432763, 0.6428571428571429, 'x[5] <= 0.5\\ngini = 0.47\\nsamples = 111\\nvalue = [69, 42]'),\n",
       " Text(0.7286063569682152, 0.5952380952380952, 'gini = 0.0\\nsamples = 1\\nvalue = [0, 1]'),\n",
       " Text(0.7334963325183375, 0.5952380952380952, 'x[7] <= 1.5\\ngini = 0.468\\nsamples = 110\\nvalue = [69, 41]'),\n",
       " Text(0.7310513447432763, 0.5476190476190477, 'x[1] <= 2.5\\ngini = 0.465\\nsamples = 109\\nvalue = [69, 40]'),\n",
       " Text(0.7286063569682152, 0.5, 'x[1] <= 1.5\\ngini = 0.468\\nsamples = 107\\nvalue = [67, 40]'),\n",
       " Text(0.7237163814180929, 0.4523809523809524, 'x[3] <= 1.5\\ngini = 0.476\\nsamples = 41\\nvalue = [25, 16]'),\n",
       " Text(0.7212713936430318, 0.40476190476190477, 'gini = 0.477\\nsamples = 28\\nvalue = [17, 11]'),\n",
       " Text(0.726161369193154, 0.40476190476190477, 'gini = 0.473\\nsamples = 13\\nvalue = [8, 5]'),\n",
       " Text(0.7334963325183375, 0.4523809523809524, 'x[3] <= 1.5\\ngini = 0.463\\nsamples = 66\\nvalue = [42, 24]'),\n",
       " Text(0.7310513447432763, 0.40476190476190477, 'gini = 0.0\\nsamples = 1\\nvalue = [1, 0]'),\n",
       " Text(0.7359413202933985, 0.40476190476190477, 'x[3] <= 2.5\\ngini = 0.466\\nsamples = 65\\nvalue = [41, 24]'),\n",
       " Text(0.7334963325183375, 0.35714285714285715, 'x[0] <= 2.5\\ngini = 0.464\\nsamples = 60\\nvalue = [38, 22]'),\n",
       " Text(0.7310513447432763, 0.30952380952380953, 'gini = 0.465\\nsamples = 57\\nvalue = [36, 21]'),\n",
       " Text(0.7359413202933985, 0.30952380952380953, 'gini = 0.444\\nsamples = 3\\nvalue = [2, 1]'),\n",
       " Text(0.7383863080684596, 0.35714285714285715, 'gini = 0.48\\nsamples = 5\\nvalue = [3, 2]'),\n",
       " Text(0.7334963325183375, 0.5, 'gini = 0.0\\nsamples = 2\\nvalue = [2, 0]'),\n",
       " Text(0.7359413202933985, 0.5476190476190477, 'gini = 0.0\\nsamples = 1\\nvalue = [0, 1]'),\n",
       " Text(0.7383863080684596, 0.8333333333333334, 'x[5] <= 1.5\\ngini = 0.19\\nsamples = 47\\nvalue = [5, 42]'),\n",
       " Text(0.7310513447432763, 0.7857142857142857, 'x[6] <= 0.5\\ngini = 0.469\\nsamples = 8\\nvalue = [3, 5]'),\n",
       " Text(0.7286063569682152, 0.7380952380952381, 'gini = 0.0\\nsamples = 1\\nvalue = [0, 1]'),\n",
       " Text(0.7334963325183375, 0.7380952380952381, 'x[3] <= 1.5\\ngini = 0.49\\nsamples = 7\\nvalue = [3, 4]'),\n",
       " Text(0.7310513447432763, 0.6904761904761905, 'gini = 0.5\\nsamples = 6\\nvalue = [3, 3]'),\n",
       " Text(0.7359413202933985, 0.6904761904761905, 'gini = 0.0\\nsamples = 1\\nvalue = [0, 1]'),\n",
       " Text(0.7457212713936431, 0.7857142857142857, 'x[1] <= 0.5\\ngini = 0.097\\nsamples = 39\\nvalue = [2, 37]'),\n",
       " Text(0.7432762836185819, 0.7380952380952381, 'x[6] <= 0.5\\ngini = 0.444\\nsamples = 3\\nvalue = [2, 1]'),\n",
       " Text(0.7408312958435208, 0.6904761904761905, 'gini = 0.5\\nsamples = 2\\nvalue = [1, 1]'),\n",
       " Text(0.7457212713936431, 0.6904761904761905, 'gini = 0.0\\nsamples = 1\\nvalue = [1, 0]'),\n",
       " Text(0.7481662591687042, 0.7380952380952381, 'gini = 0.0\\nsamples = 36\\nvalue = [0, 36]'),\n",
       " Text(0.8989627903422983, 0.8809523809523809, 'x[0] <= 1.5\\ngini = 0.362\\nsamples = 5417\\nvalue = [1285, 4132]'),\n",
       " Text(0.8346003973105135, 0.8333333333333334, 'x[7] <= 1.5\\ngini = 0.381\\nsamples = 4571\\nvalue = [1170, 3401]'),\n",
       " Text(0.7834657701711492, 0.7857142857142857, 'x[6] <= 0.5\\ngini = 0.388\\nsamples = 4218\\nvalue = [1112, 3106]'),\n",
       " Text(0.7631418092909535, 0.7380952380952381, 'x[4] <= 0.5\\ngini = 0.472\\nsamples = 412\\nvalue = [157, 255]'),\n",
       " Text(0.7542787286063569, 0.6904761904761905, 'x[2] <= 1.5\\ngini = 0.298\\nsamples = 11\\nvalue = [9, 2]'),\n",
       " Text(0.7518337408312958, 0.6428571428571429, 'gini = 0.408\\nsamples = 7\\nvalue = [5, 2]'),\n",
       " Text(0.7567237163814181, 0.6428571428571429, 'gini = 0.0\\nsamples = 4\\nvalue = [4, 0]'),\n",
       " Text(0.7720048899755502, 0.6904761904761905, 'x[8] <= 7.5\\ngini = 0.466\\nsamples = 401\\nvalue = [148, 253]'),\n",
       " Text(0.7616136919315404, 0.6428571428571429, 'x[8] <= 2.5\\ngini = 0.462\\nsamples = 395\\nvalue = [143, 252]'),\n",
       " Text(0.7481662591687042, 0.5952380952380952, 'x[5] <= 1.5\\ngini = 0.457\\nsamples = 363\\nvalue = [128, 235]'),\n",
       " Text(0.7432762836185819, 0.5476190476190477, 'x[0] <= 0.5\\ngini = 0.464\\nsamples = 331\\nvalue = [121, 210]'),\n",
       " Text(0.7408312958435208, 0.5, 'gini = 0.0\\nsamples = 1\\nvalue = [1, 0]'),\n",
       " Text(0.7457212713936431, 0.5, 'x[1] <= 1.5\\ngini = 0.463\\nsamples = 330\\nvalue = [120, 210]'),\n",
       " Text(0.7432762836185819, 0.4523809523809524, 'x[7] <= 0.5\\ngini = 0.464\\nsamples = 328\\nvalue = [120, 208]'),\n",
       " Text(0.7408312958435208, 0.40476190476190477, 'gini = 0.0\\nsamples = 1\\nvalue = [0, 1]'),\n",
       " Text(0.7457212713936431, 0.40476190476190477, 'x[3] <= 2.5\\ngini = 0.465\\nsamples = 327\\nvalue = [120, 207]'),\n",
       " Text(0.7432762836185819, 0.35714285714285715, 'x[3] <= 1.5\\ngini = 0.465\\nsamples = 326\\nvalue = [120, 206]'),\n",
       " Text(0.7408312958435208, 0.30952380952380953, 'x[1] <= 0.5\\ngini = 0.465\\nsamples = 313\\nvalue = [115, 198]'),\n",
       " Text(0.7383863080684596, 0.2619047619047619, 'gini = 0.467\\nsamples = 70\\nvalue = [26, 44]'),\n",
       " Text(0.7432762836185819, 0.2619047619047619, 'gini = 0.464\\nsamples = 243\\nvalue = [89, 154]'),\n",
       " Text(0.7457212713936431, 0.30952380952380953, 'gini = 0.473\\nsamples = 13\\nvalue = [5, 8]'),\n",
       " Text(0.7481662591687042, 0.35714285714285715, 'gini = 0.0\\nsamples = 1\\nvalue = [0, 1]'),\n",
       " Text(0.7481662591687042, 0.4523809523809524, 'gini = 0.0\\nsamples = 2\\nvalue = [0, 2]'),\n",
       " Text(0.7530562347188264, 0.5476190476190477, 'x[8] <= 1.5\\ngini = 0.342\\nsamples = 32\\nvalue = [7, 25]'),\n",
       " Text(0.7506112469437652, 0.5, 'gini = 0.0\\nsamples = 4\\nvalue = [0, 4]'),\n",
       " Text(0.7555012224938875, 0.5, 'x[2] <= 2.5\\ngini = 0.375\\nsamples = 28\\nvalue = [7, 21]'),\n",
       " Text(0.7530562347188264, 0.4523809523809524, 'x[3] <= 1.5\\ngini = 0.384\\nsamples = 27\\nvalue = [7, 20]'),\n",
       " Text(0.7506112469437652, 0.40476190476190477, 'gini = 0.393\\nsamples = 26\\nvalue = [7, 19]'),\n",
       " Text(0.7555012224938875, 0.40476190476190477, 'gini = 0.0\\nsamples = 1\\nvalue = [0, 1]'),\n",
       " Text(0.7579462102689487, 0.4523809523809524, 'gini = 0.0\\nsamples = 1\\nvalue = [0, 1]'),\n",
       " Text(0.7750611246943765, 0.5952380952380952, 'x[5] <= 6.5\\ngini = 0.498\\nsamples = 32\\nvalue = [15, 17]'),\n",
       " Text(0.7701711491442543, 0.5476190476190477, 'x[3] <= 1.5\\ngini = 0.497\\nsamples = 26\\nvalue = [14, 12]'),\n",
       " Text(0.7677261613691931, 0.5, 'x[2] <= 4.5\\ngini = 0.486\\nsamples = 24\\nvalue = [14, 10]'),\n",
       " Text(0.7628361858190709, 0.4523809523809524, 'x[5] <= 3.5\\ngini = 0.495\\nsamples = 20\\nvalue = [11, 9]'),\n",
       " Text(0.7603911980440098, 0.40476190476190477, 'gini = 0.473\\nsamples = 13\\nvalue = [8, 5]'),\n",
       " Text(0.7652811735941321, 0.40476190476190477, 'gini = 0.49\\nsamples = 7\\nvalue = [3, 4]'),\n",
       " Text(0.7726161369193154, 0.4523809523809524, 'x[5] <= 5.5\\ngini = 0.375\\nsamples = 4\\nvalue = [3, 1]'),\n",
       " Text(0.7701711491442543, 0.40476190476190477, 'gini = 0.0\\nsamples = 1\\nvalue = [1, 0]'),\n",
       " Text(0.7750611246943765, 0.40476190476190477, 'gini = 0.444\\nsamples = 3\\nvalue = [2, 1]'),\n",
       " Text(0.7726161369193154, 0.5, 'gini = 0.0\\nsamples = 2\\nvalue = [0, 2]'),\n",
       " Text(0.7799511002444988, 0.5476190476190477, 'x[1] <= 0.5\\ngini = 0.278\\nsamples = 6\\nvalue = [1, 5]'),\n",
       " Text(0.7775061124694377, 0.5, 'gini = 0.0\\nsamples = 1\\nvalue = [0, 1]'),\n",
       " Text(0.78239608801956, 0.5, 'gini = 0.32\\nsamples = 5\\nvalue = [1, 4]'),\n",
       " Text(0.78239608801956, 0.6428571428571429, 'x[2] <= 10.5\\ngini = 0.278\\nsamples = 6\\nvalue = [5, 1]'),\n",
       " Text(0.7799511002444988, 0.5952380952380952, 'gini = 0.375\\nsamples = 4\\nvalue = [3, 1]'),\n",
       " Text(0.784841075794621, 0.5952380952380952, 'gini = 0.0\\nsamples = 2\\nvalue = [2, 0]'),\n",
       " Text(0.8037897310513448, 0.7380952380952381, 'x[5] <= 0.5\\ngini = 0.376\\nsamples = 3806\\nvalue = [955, 2851]'),\n",
       " Text(0.8013447432762836, 0.6904761904761905, 'gini = 0.0\\nsamples = 2\\nvalue = [2, 0]'),\n",
       " Text(0.8062347188264058, 0.6904761904761905, 'x[5] <= 5.5\\ngini = 0.376\\nsamples = 3804\\nvalue = [953, 2851]'),\n",
       " Text(0.8037897310513448, 0.6428571428571429, 'x[8] <= 1.5\\ngini = 0.375\\nsamples = 3803\\nvalue = [952, 2851]'),\n",
       " Text(0.8013447432762836, 0.5952380952380952, 'x[1] <= 1.5\\ngini = 0.376\\nsamples = 3797\\nvalue = [952, 2845]'),\n",
       " Text(0.793398533007335, 0.5476190476190477, 'x[4] <= 0.5\\ngini = 0.376\\nsamples = 3775\\nvalue = [949, 2826]'),\n",
       " Text(0.7872860635696821, 0.5, 'x[5] <= 1.5\\ngini = 0.5\\nsamples = 4\\nvalue = [2, 2]'),\n",
       " Text(0.784841075794621, 0.4523809523809524, 'x[3] <= 1.5\\ngini = 0.444\\nsamples = 3\\nvalue = [1, 2]'),\n",
       " Text(0.78239608801956, 0.40476190476190477, 'gini = 0.0\\nsamples = 2\\nvalue = [0, 2]'),\n",
       " Text(0.7872860635696821, 0.40476190476190477, 'gini = 0.0\\nsamples = 1\\nvalue = [1, 0]'),\n",
       " Text(0.7897310513447433, 0.4523809523809524, 'gini = 0.0\\nsamples = 1\\nvalue = [1, 0]'),\n",
       " Text(0.7995110024449877, 0.5, 'x[2] <= 1.5\\ngini = 0.376\\nsamples = 3771\\nvalue = [947, 2824]'),\n",
       " Text(0.7946210268948656, 0.4523809523809524, 'x[5] <= 2.5\\ngini = 0.376\\nsamples = 3769\\nvalue = [946, 2823]'),\n",
       " Text(0.7921760391198044, 0.40476190476190477, 'x[5] <= 1.5\\ngini = 0.376\\nsamples = 3768\\nvalue = [945, 2823]'),\n",
       " Text(0.7872860635696821, 0.35714285714285715, 'x[3] <= 2.5\\ngini = 0.377\\nsamples = 3732\\nvalue = [939, 2793]'),\n",
       " Text(0.784841075794621, 0.30952380952380953, 'x[3] <= 1.5\\ngini = 0.376\\nsamples = 3727\\nvalue = [937, 2790]'),\n",
       " Text(0.7799511002444988, 0.2619047619047619, 'x[1] <= 0.5\\ngini = 0.377\\nsamples = 3584\\nvalue = [904, 2680]'),\n",
       " Text(0.7775061124694377, 0.21428571428571427, 'gini = 0.404\\nsamples = 82\\nvalue = [23, 59]'),\n",
       " Text(0.78239608801956, 0.21428571428571427, 'gini = 0.377\\nsamples = 3502\\nvalue = [881, 2621]'),\n",
       " Text(0.7897310513447433, 0.2619047619047619, 'x[1] <= 0.5\\ngini = 0.355\\nsamples = 143\\nvalue = [33, 110]'),\n",
       " Text(0.7872860635696821, 0.21428571428571427, 'gini = 0.0\\nsamples = 2\\nvalue = [0, 2]'),\n",
       " Text(0.7921760391198044, 0.21428571428571427, 'gini = 0.359\\nsamples = 141\\nvalue = [33, 108]'),\n",
       " Text(0.7897310513447433, 0.30952380952380953, 'gini = 0.48\\nsamples = 5\\nvalue = [2, 3]'),\n",
       " Text(0.7970660146699267, 0.35714285714285715, 'x[1] <= 0.5\\ngini = 0.278\\nsamples = 36\\nvalue = [6, 30]'),\n",
       " Text(0.7946210268948656, 0.30952380952380953, 'gini = 0.0\\nsamples = 4\\nvalue = [0, 4]'),\n",
       " Text(0.7995110024449877, 0.30952380952380953, 'x[3] <= 1.5\\ngini = 0.305\\nsamples = 32\\nvalue = [6, 26]'),\n",
       " Text(0.7970660146699267, 0.2619047619047619, 'gini = 0.312\\nsamples = 31\\nvalue = [6, 25]'),\n",
       " Text(0.8019559902200489, 0.2619047619047619, 'gini = 0.0\\nsamples = 1\\nvalue = [0, 1]'),\n",
       " Text(0.7970660146699267, 0.40476190476190477, 'gini = 0.0\\nsamples = 1\\nvalue = [1, 0]'),\n",
       " Text(0.80440097799511, 0.4523809523809524, 'x[5] <= 2.5\\ngini = 0.5\\nsamples = 2\\nvalue = [1, 1]'),\n",
       " Text(0.8019559902200489, 0.40476190476190477, 'gini = 0.0\\nsamples = 1\\nvalue = [1, 0]'),\n",
       " Text(0.8068459657701712, 0.40476190476190477, 'gini = 0.0\\nsamples = 1\\nvalue = [0, 1]'),\n",
       " Text(0.8092909535452323, 0.5476190476190477, 'x[3] <= 1.5\\ngini = 0.236\\nsamples = 22\\nvalue = [3, 19]'),\n",
       " Text(0.8068459657701712, 0.5, 'gini = 0.5\\nsamples = 4\\nvalue = [2, 2]'),\n",
       " Text(0.8117359413202934, 0.5, 'x[3] <= 2.5\\ngini = 0.105\\nsamples = 18\\nvalue = [1, 17]'),\n",
       " Text(0.8092909535452323, 0.4523809523809524, 'gini = 0.133\\nsamples = 14\\nvalue = [1, 13]'),\n",
       " Text(0.8141809290953546, 0.4523809523809524, 'gini = 0.0\\nsamples = 4\\nvalue = [0, 4]'),\n",
       " Text(0.8062347188264058, 0.5952380952380952, 'gini = 0.0\\nsamples = 6\\nvalue = [0, 6]'),\n",
       " Text(0.808679706601467, 0.6428571428571429, 'gini = 0.0\\nsamples = 1\\nvalue = [1, 0]'),\n",
       " Text(0.8857350244498777, 0.7857142857142857, 'x[5] <= 21.5\\ngini = 0.275\\nsamples = 353\\nvalue = [58, 295]'),\n",
       " Text(0.8607121026894865, 0.7380952380952381, 'x[7] <= 2.5\\ngini = 0.262\\nsamples = 342\\nvalue = [53, 289]'),\n",
       " Text(0.8338936430317848, 0.6904761904761905, 'x[5] <= 14.0\\ngini = 0.299\\nsamples = 257\\nvalue = [47, 210]'),\n",
       " Text(0.8314486552567237, 0.6428571428571429, 'x[4] <= 0.5\\ngini = 0.291\\nsamples = 255\\nvalue = [45, 210]'),\n",
       " Text(0.8215158924205379, 0.5952380952380952, 'x[6] <= 0.5\\ngini = 0.444\\nsamples = 9\\nvalue = [3, 6]'),\n",
       " Text(0.8190709046454768, 0.5476190476190477, 'x[5] <= 2.5\\ngini = 0.375\\nsamples = 8\\nvalue = [2, 6]'),\n",
       " Text(0.8166259168704156, 0.5, 'gini = 0.5\\nsamples = 4\\nvalue = [2, 2]'),\n",
       " Text(0.8215158924205379, 0.5, 'gini = 0.0\\nsamples = 4\\nvalue = [0, 4]'),\n",
       " Text(0.823960880195599, 0.5476190476190477, 'gini = 0.0\\nsamples = 1\\nvalue = [1, 0]'),\n",
       " Text(0.8413814180929096, 0.5952380952380952, 'x[5] <= 1.5\\ngini = 0.283\\nsamples = 246\\nvalue = [42, 204]'),\n",
       " Text(0.8288508557457213, 0.5476190476190477, 'x[8] <= 2.5\\ngini = 0.32\\nsamples = 155\\nvalue = [31, 124]'),\n",
       " Text(0.8264058679706602, 0.5, 'x[8] <= 1.5\\ngini = 0.314\\nsamples = 154\\nvalue = [30, 124]'),\n",
       " Text(0.8202933985330073, 0.4523809523809524, 'x[1] <= 0.5\\ngini = 0.298\\nsamples = 126\\nvalue = [23, 103]'),\n",
       " Text(0.8178484107579462, 0.40476190476190477, 'gini = 0.444\\nsamples = 3\\nvalue = [1, 2]'),\n",
       " Text(0.8227383863080685, 0.40476190476190477, 'x[1] <= 1.5\\ngini = 0.294\\nsamples = 123\\nvalue = [22, 101]'),\n",
       " Text(0.8202933985330073, 0.35714285714285715, 'x[3] <= 1.5\\ngini = 0.296\\nsamples = 122\\nvalue = [22, 100]'),\n",
       " Text(0.815403422982885, 0.30952380952380953, 'x[6] <= 0.5\\ngini = 0.293\\nsamples = 112\\nvalue = [20, 92]'),\n",
       " Text(0.812958435207824, 0.2619047619047619, 'gini = 0.32\\nsamples = 5\\nvalue = [1, 4]'),\n",
       " Text(0.8178484107579462, 0.2619047619047619, 'gini = 0.292\\nsamples = 107\\nvalue = [19, 88]'),\n",
       " Text(0.8251833740831296, 0.30952380952380953, 'x[6] <= 0.5\\ngini = 0.32\\nsamples = 10\\nvalue = [2, 8]'),\n",
       " Text(0.8227383863080685, 0.2619047619047619, 'gini = 0.0\\nsamples = 1\\nvalue = [0, 1]'),\n",
       " Text(0.8276283618581907, 0.2619047619047619, 'gini = 0.346\\nsamples = 9\\nvalue = [2, 7]'),\n",
       " Text(0.8251833740831296, 0.35714285714285715, 'gini = 0.0\\nsamples = 1\\nvalue = [0, 1]'),\n",
       " Text(0.8325183374083129, 0.4523809523809524, 'x[1] <= 0.5\\ngini = 0.375\\nsamples = 28\\nvalue = [7, 21]'),\n",
       " Text(0.8300733496332519, 0.40476190476190477, 'gini = 0.0\\nsamples = 2\\nvalue = [0, 2]'),\n",
       " Text(0.8349633251833741, 0.40476190476190477, 'x[3] <= 1.5\\ngini = 0.393\\nsamples = 26\\nvalue = [7, 19]'),\n",
       " Text(0.8325183374083129, 0.35714285714285715, 'x[6] <= 0.5\\ngini = 0.413\\nsamples = 24\\nvalue = [7, 17]'),\n",
       " Text(0.8300733496332519, 0.30952380952380953, 'gini = 0.32\\nsamples = 5\\nvalue = [1, 4]'),\n",
       " Text(0.8349633251833741, 0.30952380952380953, 'gini = 0.432\\nsamples = 19\\nvalue = [6, 13]'),\n",
       " Text(0.8374083129584352, 0.35714285714285715, 'gini = 0.0\\nsamples = 2\\nvalue = [0, 2]'),\n",
       " Text(0.8312958435207825, 0.5, 'gini = 0.0\\nsamples = 1\\nvalue = [1, 0]'),\n",
       " Text(0.8539119804400978, 0.5476190476190477, 'x[2] <= 1.5\\ngini = 0.213\\nsamples = 91\\nvalue = [11, 80]'),\n",
       " Text(0.8447432762836186, 0.5, 'x[6] <= 0.5\\ngini = 0.054\\nsamples = 36\\nvalue = [1, 35]'),\n",
       " Text(0.8422982885085575, 0.4523809523809524, 'x[8] <= 2.5\\ngini = 0.245\\nsamples = 7\\nvalue = [1, 6]'),\n",
       " Text(0.8398533007334963, 0.40476190476190477, 'gini = 0.444\\nsamples = 3\\nvalue = [1, 2]'),\n",
       " Text(0.8447432762836186, 0.40476190476190477, 'gini = 0.0\\nsamples = 4\\nvalue = [0, 4]'),\n",
       " Text(0.8471882640586798, 0.4523809523809524, 'gini = 0.0\\nsamples = 29\\nvalue = [0, 29]'),\n",
       " Text(0.863080684596577, 0.5, 'x[2] <= 2.5\\ngini = 0.298\\nsamples = 55\\nvalue = [10, 45]'),\n",
       " Text(0.8520782396088019, 0.4523809523809524, 'x[5] <= 2.5\\ngini = 0.403\\nsamples = 25\\nvalue = [7, 18]'),\n",
       " Text(0.8496332518337408, 0.40476190476190477, 'x[6] <= 0.5\\ngini = 0.34\\nsamples = 23\\nvalue = [5, 18]'),\n",
       " Text(0.8447432762836186, 0.35714285714285715, 'x[8] <= 2.5\\ngini = 0.391\\nsamples = 15\\nvalue = [4, 11]'),\n",
       " Text(0.8422982885085575, 0.30952380952380953, 'gini = 0.408\\nsamples = 14\\nvalue = [4, 10]'),\n",
       " Text(0.8471882640586798, 0.30952380952380953, 'gini = 0.0\\nsamples = 1\\nvalue = [0, 1]'),\n",
       " Text(0.8545232273838631, 0.35714285714285715, 'x[1] <= 1.5\\ngini = 0.219\\nsamples = 8\\nvalue = [1, 7]'),\n",
       " Text(0.8520782396088019, 0.30952380952380953, 'x[1] <= 0.5\\ngini = 0.278\\nsamples = 6\\nvalue = [1, 5]'),\n",
       " Text(0.8496332518337408, 0.2619047619047619, 'gini = 0.0\\nsamples = 1\\nvalue = [0, 1]'),\n",
       " Text(0.8545232273838631, 0.2619047619047619, 'x[3] <= 1.5\\ngini = 0.32\\nsamples = 5\\nvalue = [1, 4]'),\n",
       " Text(0.8520782396088019, 0.21428571428571427, 'gini = 0.375\\nsamples = 4\\nvalue = [1, 3]'),\n",
       " Text(0.8569682151589242, 0.21428571428571427, 'gini = 0.0\\nsamples = 1\\nvalue = [0, 1]'),\n",
       " Text(0.8569682151589242, 0.30952380952380953, 'gini = 0.0\\nsamples = 2\\nvalue = [0, 2]'),\n",
       " Text(0.8545232273838631, 0.40476190476190477, 'gini = 0.0\\nsamples = 2\\nvalue = [2, 0]'),\n",
       " Text(0.8740831295843521, 0.4523809523809524, 'x[1] <= 1.5\\ngini = 0.18\\nsamples = 30\\nvalue = [3, 27]'),\n",
       " Text(0.871638141809291, 0.40476190476190477, 'x[2] <= 4.5\\ngini = 0.128\\nsamples = 29\\nvalue = [2, 27]'),\n",
       " Text(0.8691931540342298, 0.35714285714285715, 'x[2] <= 3.5\\ngini = 0.188\\nsamples = 19\\nvalue = [2, 17]'),\n",
       " Text(0.8667481662591687, 0.30952380952380953, 'x[8] <= 3.5\\ngini = 0.117\\nsamples = 16\\nvalue = [1, 15]'),\n",
       " Text(0.8643031784841075, 0.2619047619047619, 'x[6] <= 0.5\\ngini = 0.133\\nsamples = 14\\nvalue = [1, 13]'),\n",
       " Text(0.8618581907090465, 0.21428571428571427, 'x[1] <= 0.5\\ngini = 0.153\\nsamples = 12\\nvalue = [1, 11]'),\n",
       " Text(0.8594132029339854, 0.16666666666666666, 'gini = 0.0\\nsamples = 1\\nvalue = [0, 1]'),\n",
       " Text(0.8643031784841075, 0.16666666666666666, 'gini = 0.165\\nsamples = 11\\nvalue = [1, 10]'),\n",
       " Text(0.8667481662591687, 0.21428571428571427, 'gini = 0.0\\nsamples = 2\\nvalue = [0, 2]'),\n",
       " Text(0.8691931540342298, 0.2619047619047619, 'gini = 0.0\\nsamples = 2\\nvalue = [0, 2]'),\n",
       " Text(0.871638141809291, 0.30952380952380953, 'gini = 0.444\\nsamples = 3\\nvalue = [1, 2]'),\n",
       " Text(0.8740831295843521, 0.35714285714285715, 'gini = 0.0\\nsamples = 10\\nvalue = [0, 10]'),\n",
       " Text(0.8765281173594132, 0.40476190476190477, 'gini = 0.0\\nsamples = 1\\nvalue = [1, 0]'),\n",
       " Text(0.836338630806846, 0.6428571428571429, 'gini = 0.0\\nsamples = 2\\nvalue = [2, 0]'),\n",
       " Text(0.8875305623471883, 0.6904761904761905, 'x[5] <= 4.5\\ngini = 0.131\\nsamples = 85\\nvalue = [6, 79]'),\n",
       " Text(0.8814180929095354, 0.6428571428571429, 'x[7] <= 3.5\\ngini = 0.287\\nsamples = 23\\nvalue = [4, 19]'),\n",
       " Text(0.8765281173594132, 0.5952380952380952, 'x[2] <= 3.5\\ngini = 0.105\\nsamples = 18\\nvalue = [1, 17]'),\n",
       " Text(0.8740831295843521, 0.5476190476190477, 'gini = 0.0\\nsamples = 11\\nvalue = [0, 11]'),\n",
       " Text(0.8789731051344744, 0.5476190476190477, 'gini = 0.245\\nsamples = 7\\nvalue = [1, 6]'),\n",
       " Text(0.8863080684596577, 0.5952380952380952, 'x[2] <= 3.5\\ngini = 0.48\\nsamples = 5\\nvalue = [3, 2]'),\n",
       " Text(0.8838630806845966, 0.5476190476190477, 'x[5] <= 2.5\\ngini = 0.375\\nsamples = 4\\nvalue = [3, 1]'),\n",
       " Text(0.8814180929095354, 0.5, 'x[7] <= 5.0\\ngini = 0.5\\nsamples = 2\\nvalue = [1, 1]'),\n",
       " Text(0.8789731051344744, 0.4523809523809524, 'gini = 0.0\\nsamples = 1\\nvalue = [0, 1]'),\n",
       " Text(0.8838630806845966, 0.4523809523809524, 'gini = 0.0\\nsamples = 1\\nvalue = [1, 0]'),\n",
       " Text(0.8863080684596577, 0.5, 'gini = 0.0\\nsamples = 2\\nvalue = [2, 0]'),\n",
       " Text(0.8887530562347188, 0.5476190476190477, 'gini = 0.0\\nsamples = 1\\nvalue = [0, 1]'),\n",
       " Text(0.8936430317848411, 0.6428571428571429, 'x[2] <= 12.5\\ngini = 0.062\\nsamples = 62\\nvalue = [2, 60]'),\n",
       " Text(0.89119804400978, 0.5952380952380952, 'gini = 0.0\\nsamples = 44\\nvalue = [0, 44]'),\n",
       " Text(0.8960880195599022, 0.5952380952380952, 'x[7] <= 4.5\\ngini = 0.198\\nsamples = 18\\nvalue = [2, 16]'),\n",
       " Text(0.8936430317848411, 0.5476190476190477, 'x[2] <= 15.5\\ngini = 0.408\\nsamples = 7\\nvalue = [2, 5]'),\n",
       " Text(0.89119804400978, 0.5, 'x[5] <= 14.5\\ngini = 0.5\\nsamples = 4\\nvalue = [2, 2]'),\n",
       " Text(0.8887530562347188, 0.4523809523809524, 'x[2] <= 13.5\\ngini = 0.444\\nsamples = 3\\nvalue = [1, 2]'),\n",
       " Text(0.8863080684596577, 0.40476190476190477, 'x[3] <= 1.5\\ngini = 0.5\\nsamples = 2\\nvalue = [1, 1]'),\n",
       " Text(0.8838630806845966, 0.35714285714285715, 'gini = 0.0\\nsamples = 1\\nvalue = [1, 0]'),\n",
       " Text(0.8887530562347188, 0.35714285714285715, 'gini = 0.0\\nsamples = 1\\nvalue = [0, 1]'),\n",
       " Text(0.89119804400978, 0.40476190476190477, 'gini = 0.0\\nsamples = 1\\nvalue = [0, 1]'),\n",
       " Text(0.8936430317848411, 0.4523809523809524, 'gini = 0.0\\nsamples = 1\\nvalue = [1, 0]'),\n",
       " Text(0.8960880195599022, 0.5, 'gini = 0.0\\nsamples = 3\\nvalue = [0, 3]'),\n",
       " Text(0.8985330073349633, 0.5476190476190477, 'gini = 0.0\\nsamples = 11\\nvalue = [0, 11]'),\n",
       " Text(0.910757946210269, 0.7380952380952381, 'x[2] <= 28.0\\ngini = 0.496\\nsamples = 11\\nvalue = [5, 6]'),\n",
       " Text(0.9058679706601467, 0.6904761904761905, 'x[5] <= 24.5\\ngini = 0.32\\nsamples = 5\\nvalue = [4, 1]'),\n",
       " Text(0.9034229828850856, 0.6428571428571429, 'x[2] <= 21.5\\ngini = 0.5\\nsamples = 2\\nvalue = [1, 1]'),\n",
       " Text(0.9009779951100244, 0.5952380952380952, 'gini = 0.0\\nsamples = 1\\nvalue = [1, 0]'),\n",
       " Text(0.9058679706601467, 0.5952380952380952, 'gini = 0.0\\nsamples = 1\\nvalue = [0, 1]'),\n",
       " Text(0.9083129584352079, 0.6428571428571429, 'gini = 0.0\\nsamples = 3\\nvalue = [3, 0]'),\n",
       " Text(0.9156479217603912, 0.6904761904761905, 'x[2] <= 46.5\\ngini = 0.278\\nsamples = 6\\nvalue = [1, 5]'),\n",
       " Text(0.91320293398533, 0.6428571428571429, 'gini = 0.0\\nsamples = 5\\nvalue = [0, 5]'),\n",
       " Text(0.9180929095354523, 0.6428571428571429, 'gini = 0.0\\nsamples = 1\\nvalue = [1, 0]'),\n",
       " Text(0.9633251833740831, 0.8333333333333334, 'x[8] <= 1.5\\ngini = 0.235\\nsamples = 846\\nvalue = [115, 731]'),\n",
       " Text(0.9364303178484108, 0.7857142857142857, 'x[3] <= 1.5\\ngini = 0.256\\nsamples = 702\\nvalue = [106, 596]'),\n",
       " Text(0.9278728606356969, 0.7380952380952381, 'x[1] <= 1.5\\ngini = 0.298\\nsamples = 137\\nvalue = [25, 112]'),\n",
       " Text(0.9254278728606357, 0.6904761904761905, 'x[7] <= 1.5\\ngini = 0.281\\nsamples = 130\\nvalue = [22, 108]'),\n",
       " Text(0.9229828850855746, 0.6428571428571429, 'x[0] <= 2.5\\ngini = 0.271\\nsamples = 124\\nvalue = [20, 104]'),\n",
       " Text(0.9205378973105135, 0.5952380952380952, 'x[6] <= 0.5\\ngini = 0.272\\nsamples = 123\\nvalue = [20, 103]'),\n",
       " Text(0.9180929095354523, 0.5476190476190477, 'gini = 0.219\\nsamples = 8\\nvalue = [1, 7]'),\n",
       " Text(0.9229828850855746, 0.5476190476190477, 'gini = 0.276\\nsamples = 115\\nvalue = [19, 96]'),\n",
       " Text(0.9254278728606357, 0.5952380952380952, 'gini = 0.0\\nsamples = 1\\nvalue = [0, 1]'),\n",
       " Text(0.9278728606356969, 0.6428571428571429, 'gini = 0.444\\nsamples = 6\\nvalue = [2, 4]'),\n",
       " Text(0.9303178484107579, 0.6904761904761905, 'gini = 0.49\\nsamples = 7\\nvalue = [3, 4]'),\n",
       " Text(0.9449877750611247, 0.7380952380952381, 'x[1] <= 1.5\\ngini = 0.246\\nsamples = 565\\nvalue = [81, 484]'),\n",
       " Text(0.9352078239608802, 0.6904761904761905, 'x[3] <= 2.5\\ngini = 0.173\\nsamples = 73\\nvalue = [7, 66]'),\n",
       " Text(0.9327628361858191, 0.6428571428571429, 'x[7] <= 1.5\\ngini = 0.2\\nsamples = 62\\nvalue = [7, 55]'),\n",
       " Text(0.9303178484107579, 0.5952380952380952, 'x[1] <= 0.5\\ngini = 0.206\\nsamples = 60\\nvalue = [7, 53]'),\n",
       " Text(0.9278728606356969, 0.5476190476190477, 'gini = 0.278\\nsamples = 6\\nvalue = [1, 5]'),\n",
       " Text(0.9327628361858191, 0.5476190476190477, 'x[5] <= 1.5\\ngini = 0.198\\nsamples = 54\\nvalue = [6, 48]'),\n",
       " Text(0.9303178484107579, 0.5, 'x[6] <= 0.5\\ngini = 0.201\\nsamples = 53\\nvalue = [6, 47]'),\n",
       " Text(0.9278728606356969, 0.4523809523809524, 'gini = 0.0\\nsamples = 1\\nvalue = [0, 1]'),\n",
       " Text(0.9327628361858191, 0.4523809523809524, 'gini = 0.204\\nsamples = 52\\nvalue = [6, 46]'),\n",
       " Text(0.9352078239608802, 0.5, 'gini = 0.0\\nsamples = 1\\nvalue = [0, 1]'),\n",
       " Text(0.9352078239608802, 0.5952380952380952, 'gini = 0.0\\nsamples = 2\\nvalue = [0, 2]'),\n",
       " Text(0.9376528117359413, 0.6428571428571429, 'gini = 0.0\\nsamples = 11\\nvalue = [0, 11]'),\n",
       " Text(0.9547677261613692, 0.6904761904761905, 'x[6] <= 0.5\\ngini = 0.256\\nsamples = 492\\nvalue = [74, 418]'),\n",
       " Text(0.9474327628361858, 0.6428571428571429, 'x[3] <= 3.5\\ngini = 0.325\\nsamples = 49\\nvalue = [10, 39]'),\n",
       " Text(0.9449877750611247, 0.5952380952380952, 'x[1] <= 2.5\\ngini = 0.335\\nsamples = 47\\nvalue = [10, 37]'),\n",
       " Text(0.9425427872860636, 0.5476190476190477, 'x[7] <= 1.5\\ngini = 0.32\\nsamples = 45\\nvalue = [9, 36]'),\n",
       " Text(0.9400977995110025, 0.5, 'x[0] <= 2.5\\ngini = 0.325\\nsamples = 44\\nvalue = [9, 35]'),\n",
       " Text(0.9376528117359413, 0.4523809523809524, 'x[3] <= 2.5\\ngini = 0.331\\nsamples = 43\\nvalue = [9, 34]'),\n",
       " Text(0.9352078239608802, 0.40476190476190477, 'gini = 0.326\\nsamples = 39\\nvalue = [8, 31]'),\n",
       " Text(0.9400977995110025, 0.40476190476190477, 'gini = 0.375\\nsamples = 4\\nvalue = [1, 3]'),\n",
       " Text(0.9425427872860636, 0.4523809523809524, 'gini = 0.0\\nsamples = 1\\nvalue = [0, 1]'),\n",
       " Text(0.9449877750611247, 0.5, 'gini = 0.0\\nsamples = 1\\nvalue = [0, 1]'),\n",
       " Text(0.9474327628361858, 0.5476190476190477, 'gini = 0.5\\nsamples = 2\\nvalue = [1, 1]'),\n",
       " Text(0.9498777506112469, 0.5952380952380952, 'gini = 0.0\\nsamples = 2\\nvalue = [0, 2]'),\n",
       " Text(0.9621026894865525, 0.6428571428571429, 'x[0] <= 2.5\\ngini = 0.247\\nsamples = 443\\nvalue = [64, 379]'),\n",
       " Text(0.9572127139364304, 0.5952380952380952, 'x[3] <= 3.5\\ngini = 0.242\\nsamples = 419\\nvalue = [59, 360]'),\n",
       " Text(0.9547677261613692, 0.5476190476190477, 'x[7] <= 2.5\\ngini = 0.243\\nsamples = 416\\nvalue = [59, 357]'),\n",
       " Text(0.9523227383863081, 0.5, 'x[3] <= 2.5\\ngini = 0.244\\nsamples = 414\\nvalue = [59, 355]'),\n",
       " Text(0.9474327628361858, 0.4523809523809524, 'x[7] <= 1.5\\ngini = 0.248\\nsamples = 380\\nvalue = [55, 325]'),\n",
       " Text(0.9449877750611247, 0.40476190476190477, 'x[5] <= 1.5\\ngini = 0.251\\nsamples = 360\\nvalue = [53, 307]'),\n",
       " Text(0.9425427872860636, 0.35714285714285715, 'gini = 0.252\\nsamples = 359\\nvalue = [53, 306]'),\n",
       " Text(0.9474327628361858, 0.35714285714285715, 'gini = 0.0\\nsamples = 1\\nvalue = [0, 1]'),\n",
       " Text(0.9498777506112469, 0.40476190476190477, 'gini = 0.18\\nsamples = 20\\nvalue = [2, 18]'),\n",
       " Text(0.9572127139364304, 0.4523809523809524, 'x[7] <= 1.5\\ngini = 0.208\\nsamples = 34\\nvalue = [4, 30]'),\n",
       " Text(0.9547677261613692, 0.40476190476190477, 'gini = 0.18\\nsamples = 30\\nvalue = [3, 27]'),\n",
       " Text(0.9596577017114915, 0.40476190476190477, 'gini = 0.375\\nsamples = 4\\nvalue = [1, 3]'),\n",
       " Text(0.9572127139364304, 0.5, 'gini = 0.0\\nsamples = 2\\nvalue = [0, 2]'),\n",
       " Text(0.9596577017114915, 0.5476190476190477, 'gini = 0.0\\nsamples = 3\\nvalue = [0, 3]'),\n",
       " Text(0.9669926650366748, 0.5952380952380952, 'x[3] <= 2.5\\ngini = 0.33\\nsamples = 24\\nvalue = [5, 19]'),\n",
       " Text(0.9645476772616137, 0.5476190476190477, 'gini = 0.351\\nsamples = 22\\nvalue = [5, 17]'),\n",
       " Text(0.969437652811736, 0.5476190476190477, 'gini = 0.0\\nsamples = 2\\nvalue = [0, 2]'),\n",
       " Text(0.9902200488997555, 0.7857142857142857, 'x[2] <= 21.0\\ngini = 0.117\\nsamples = 144\\nvalue = [9, 135]'),\n",
       " Text(0.9853300733496333, 0.7380952380952381, 'x[2] <= 1.5\\ngini = 0.107\\nsamples = 141\\nvalue = [8, 133]'),\n",
       " Text(0.9828850855745721, 0.6904761904761905, 'gini = 0.0\\nsamples = 36\\nvalue = [0, 36]'),\n",
       " Text(0.9877750611246944, 0.6904761904761905, 'x[5] <= 6.5\\ngini = 0.141\\nsamples = 105\\nvalue = [8, 97]'),\n",
       " Text(0.9853300733496333, 0.6428571428571429, 'x[5] <= 5.5\\ngini = 0.188\\nsamples = 76\\nvalue = [8, 68]'),\n",
       " Text(0.9828850855745721, 0.5952380952380952, 'x[2] <= 4.5\\ngini = 0.169\\nsamples = 75\\nvalue = [7, 68]'),\n",
       " Text(0.9743276283618582, 0.5476190476190477, 'x[6] <= 0.5\\ngini = 0.151\\nsamples = 73\\nvalue = [6, 67]'),\n",
       " Text(0.9645476772616137, 0.5, 'x[2] <= 3.5\\ngini = 0.053\\nsamples = 37\\nvalue = [1, 36]'),\n",
       " Text(0.9621026894865525, 0.4523809523809524, 'gini = 0.0\\nsamples = 30\\nvalue = [0, 30]'),\n",
       " Text(0.9669926650366748, 0.4523809523809524, 'x[3] <= 2.5\\ngini = 0.245\\nsamples = 7\\nvalue = [1, 6]'),\n",
       " Text(0.9645476772616137, 0.40476190476190477, 'x[7] <= 1.5\\ngini = 0.375\\nsamples = 4\\nvalue = [1, 3]'),\n",
       " Text(0.9621026894865525, 0.35714285714285715, 'gini = 0.0\\nsamples = 1\\nvalue = [0, 1]'),\n",
       " Text(0.9669926650366748, 0.35714285714285715, 'x[7] <= 2.5\\ngini = 0.444\\nsamples = 3\\nvalue = [1, 2]'),\n",
       " Text(0.9645476772616137, 0.30952380952380953, 'gini = 0.5\\nsamples = 2\\nvalue = [1, 1]'),\n",
       " Text(0.969437652811736, 0.30952380952380953, 'gini = 0.0\\nsamples = 1\\nvalue = [0, 1]'),\n",
       " Text(0.969437652811736, 0.40476190476190477, 'gini = 0.0\\nsamples = 3\\nvalue = [0, 3]'),\n",
       " Text(0.9841075794621027, 0.5, 'x[7] <= 1.5\\ngini = 0.239\\nsamples = 36\\nvalue = [5, 31]'),\n",
       " Text(0.9816625916870416, 0.4523809523809524, 'gini = 0.0\\nsamples = 1\\nvalue = [1, 0]'),\n",
       " Text(0.9865525672371638, 0.4523809523809524, 'x[2] <= 2.5\\ngini = 0.202\\nsamples = 35\\nvalue = [4, 31]'),\n",
       " Text(0.9816625916870416, 0.40476190476190477, 'x[3] <= 2.5\\ngini = 0.165\\nsamples = 33\\nvalue = [3, 30]'),\n",
       " Text(0.9792176039119804, 0.35714285714285715, 'x[1] <= 1.5\\ngini = 0.236\\nsamples = 22\\nvalue = [3, 19]'),\n",
       " Text(0.9743276283618582, 0.30952380952380953, 'x[5] <= 2.5\\ngini = 0.198\\nsamples = 18\\nvalue = [2, 16]'),\n",
       " Text(0.9718826405867971, 0.2619047619047619, 'x[0] <= 2.5\\ngini = 0.208\\nsamples = 17\\nvalue = [2, 15]'),\n",
       " Text(0.969437652811736, 0.21428571428571427, 'gini = 0.219\\nsamples = 16\\nvalue = [2, 14]'),\n",
       " Text(0.9743276283618582, 0.21428571428571427, 'gini = 0.0\\nsamples = 1\\nvalue = [0, 1]'),\n",
       " Text(0.9767726161369193, 0.2619047619047619, 'gini = 0.0\\nsamples = 1\\nvalue = [0, 1]'),\n",
       " Text(0.9841075794621027, 0.30952380952380953, 'x[5] <= 2.5\\ngini = 0.375\\nsamples = 4\\nvalue = [1, 3]'),\n",
       " Text(0.9816625916870416, 0.2619047619047619, 'gini = 0.444\\nsamples = 3\\nvalue = [1, 2]'),\n",
       " Text(0.9865525672371638, 0.2619047619047619, 'gini = 0.0\\nsamples = 1\\nvalue = [0, 1]'),\n",
       " Text(0.9841075794621027, 0.35714285714285715, 'gini = 0.0\\nsamples = 11\\nvalue = [0, 11]'),\n",
       " Text(0.991442542787286, 0.40476190476190477, 'x[4] <= 0.5\\ngini = 0.5\\nsamples = 2\\nvalue = [1, 1]'),\n",
       " Text(0.988997555012225, 0.35714285714285715, 'gini = 0.0\\nsamples = 1\\nvalue = [0, 1]'),\n",
       " Text(0.9938875305623472, 0.35714285714285715, 'gini = 0.0\\nsamples = 1\\nvalue = [1, 0]'),\n",
       " Text(0.991442542787286, 0.5476190476190477, 'x[1] <= 2.5\\ngini = 0.5\\nsamples = 2\\nvalue = [1, 1]'),\n",
       " Text(0.988997555012225, 0.5, 'gini = 0.0\\nsamples = 1\\nvalue = [1, 0]'),\n",
       " Text(0.9938875305623472, 0.5, 'gini = 0.0\\nsamples = 1\\nvalue = [0, 1]'),\n",
       " Text(0.9877750611246944, 0.5952380952380952, 'gini = 0.0\\nsamples = 1\\nvalue = [1, 0]'),\n",
       " Text(0.9902200488997555, 0.6428571428571429, 'gini = 0.0\\nsamples = 29\\nvalue = [0, 29]'),\n",
       " Text(0.9951100244498777, 0.7380952380952381, 'x[8] <= 29.0\\ngini = 0.444\\nsamples = 3\\nvalue = [1, 2]'),\n",
       " Text(0.9926650366748166, 0.6904761904761905, 'gini = 0.0\\nsamples = 1\\nvalue = [1, 0]'),\n",
       " Text(0.9975550122249389, 0.6904761904761905, 'gini = 0.0\\nsamples = 2\\nvalue = [0, 2]')]"
      ]
     },
     "execution_count": 154,
     "metadata": {},
     "output_type": "execute_result"
    },
    {
     "data": {
      "image/png": "[encoded data removed]",
      "text/plain": [
       "<Figure size 640x480 with 1 Axes>"
      ]
     },
     "metadata": {},
     "output_type": "display_data"
    }
   ],
   "source": [
    "tree.plot_tree(dt_fit)"
   ]
  },
  {
   "cell_type": "code",
   "execution_count": 155,
   "metadata": {},
   "outputs": [
    {
     "data": {
      "text/html": [
       "<div>\n",
       "<style scoped>\n",
       "    .dataframe tbody tr th:only-of-type {\n",
       "        vertical-align: middle;\n",
       "    }\n",
       "\n",
       "    .dataframe tbody tr th {\n",
       "        vertical-align: top;\n",
       "    }\n",
       "\n",
       "    .dataframe thead th {\n",
       "        text-align: right;\n",
       "    }\n",
       "</style>\n",
       "<table border=\"1\" class=\"dataframe\">\n",
       "  <thead>\n",
       "    <tr style=\"text-align: right;\">\n",
       "      <th></th>\n",
       "      <th>F-score</th>\n",
       "      <th>Precision</th>\n",
       "      <th>Recall</th>\n",
       "      <th>Accuracy</th>\n",
       "    </tr>\n",
       "  </thead>\n",
       "  <tbody>\n",
       "    <tr>\n",
       "      <th>Decision Tree (Default)</th>\n",
       "      <td>0.578521</td>\n",
       "      <td>0.635294</td>\n",
       "      <td>0.209845</td>\n",
       "      <td>0.742679</td>\n",
       "    </tr>\n",
       "    <tr>\n",
       "      <th>Logistic Regression (Default)</th>\n",
       "      <td>0.539261</td>\n",
       "      <td>0.61828</td>\n",
       "      <td>0.148964</td>\n",
       "      <td>0.733529</td>\n",
       "    </tr>\n",
       "  </tbody>\n",
       "</table>\n",
       "</div>"
      ],
      "text/plain": [
       "                                F-score Precision    Recall  Accuracy\n",
       "Decision Tree (Default)        0.578521  0.635294  0.209845  0.742679\n",
       "Logistic Regression (Default)  0.539261   0.61828  0.148964  0.733529"
      ]
     },
     "execution_count": 155,
     "metadata": {},
     "output_type": "execute_result"
    }
   ],
   "source": [
    "# Training the Logistic Regression model on the Training set\n",
    "lr = LogisticRegression(random_state=10)\n",
    "lr_fit = lr.fit(X_train, y_train)\n",
    "# Predicting the Test set results\n",
    "lr_predict = lr_fit.predict(X_test)\n",
    "\n",
    "results_df.loc['Logistic Regression (Default)',:] = [f1_score(y_test,lr_predict, average='macro'), precision_score(y_test,lr_predict), recall_score(y_test,lr_predict),accuracy_score(y_test,lr_predict)]\n",
    "\n",
    "results_df.sort_values(by='F-score', ascending=False)"
   ]
  },
  {
   "cell_type": "code",
   "execution_count": 156,
   "metadata": {},
   "outputs": [
    {
     "name": "stderr",
     "output_type": "stream",
     "text": [
      "/Users/abdalrhman/Library/Python/3.9/lib/python/site-packages/sklearn/linear_model/_sag.py:350: ConvergenceWarning: The max_iter was reached which means the coef_ did not converge\n",
      "  warnings.warn(\n",
      "/Users/abdalrhman/Library/Python/3.9/lib/python/site-packages/sklearn/linear_model/_sag.py:350: ConvergenceWarning: The max_iter was reached which means the coef_ did not converge\n",
      "  warnings.warn(\n",
      "/Users/abdalrhman/Library/Python/3.9/lib/python/site-packages/sklearn/linear_model/_sag.py:350: ConvergenceWarning: The max_iter was reached which means the coef_ did not converge\n",
      "  warnings.warn(\n",
      "/Users/abdalrhman/Library/Python/3.9/lib/python/site-packages/sklearn/linear_model/_sag.py:350: ConvergenceWarning: The max_iter was reached which means the coef_ did not converge\n",
      "  warnings.warn(\n",
      "/Users/abdalrhman/Library/Python/3.9/lib/python/site-packages/sklearn/linear_model/_sag.py:350: ConvergenceWarning: The max_iter was reached which means the coef_ did not converge\n",
      "  warnings.warn(\n",
      "/Users/abdalrhman/Library/Python/3.9/lib/python/site-packages/sklearn/linear_model/_sag.py:350: ConvergenceWarning: The max_iter was reached which means the coef_ did not converge\n",
      "  warnings.warn(\n",
      "/Users/abdalrhman/Library/Python/3.9/lib/python/site-packages/sklearn/linear_model/_sag.py:350: ConvergenceWarning: The max_iter was reached which means the coef_ did not converge\n",
      "  warnings.warn(\n",
      "/Users/abdalrhman/Library/Python/3.9/lib/python/site-packages/sklearn/linear_model/_sag.py:350: ConvergenceWarning: The max_iter was reached which means the coef_ did not converge\n",
      "  warnings.warn(\n",
      "/Users/abdalrhman/Library/Python/3.9/lib/python/site-packages/sklearn/linear_model/_sag.py:350: ConvergenceWarning: The max_iter was reached which means the coef_ did not converge\n",
      "  warnings.warn(\n",
      "/Users/abdalrhman/Library/Python/3.9/lib/python/site-packages/sklearn/linear_model/_sag.py:350: ConvergenceWarning: The max_iter was reached which means the coef_ did not converge\n",
      "  warnings.warn(\n",
      "/Users/abdalrhman/Library/Python/3.9/lib/python/site-packages/sklearn/linear_model/_sag.py:350: ConvergenceWarning: The max_iter was reached which means the coef_ did not converge\n",
      "  warnings.warn(\n",
      "/Users/abdalrhman/Library/Python/3.9/lib/python/site-packages/sklearn/linear_model/_sag.py:350: ConvergenceWarning: The max_iter was reached which means the coef_ did not converge\n",
      "  warnings.warn(\n",
      "/Users/abdalrhman/Library/Python/3.9/lib/python/site-packages/sklearn/linear_model/_sag.py:350: ConvergenceWarning: The max_iter was reached which means the coef_ did not converge\n",
      "  warnings.warn(\n",
      "/Users/abdalrhman/Library/Python/3.9/lib/python/site-packages/sklearn/linear_model/_sag.py:350: ConvergenceWarning: The max_iter was reached which means the coef_ did not converge\n",
      "  warnings.warn(\n",
      "/Users/abdalrhman/Library/Python/3.9/lib/python/site-packages/sklearn/linear_model/_sag.py:350: ConvergenceWarning: The max_iter was reached which means the coef_ did not converge\n",
      "  warnings.warn(\n",
      "/Users/abdalrhman/Library/Python/3.9/lib/python/site-packages/sklearn/linear_model/_sag.py:350: ConvergenceWarning: The max_iter was reached which means the coef_ did not converge\n",
      "  warnings.warn(\n",
      "/Users/abdalrhman/Library/Python/3.9/lib/python/site-packages/sklearn/linear_model/_sag.py:350: ConvergenceWarning: The max_iter was reached which means the coef_ did not converge\n",
      "  warnings.warn(\n",
      "/Users/abdalrhman/Library/Python/3.9/lib/python/site-packages/sklearn/linear_model/_sag.py:350: ConvergenceWarning: The max_iter was reached which means the coef_ did not converge\n",
      "  warnings.warn(\n",
      "/Users/abdalrhman/Library/Python/3.9/lib/python/site-packages/sklearn/linear_model/_sag.py:350: ConvergenceWarning: The max_iter was reached which means the coef_ did not converge\n",
      "  warnings.warn(\n",
      "/Users/abdalrhman/Library/Python/3.9/lib/python/site-packages/sklearn/linear_model/_sag.py:350: ConvergenceWarning: The max_iter was reached which means the coef_ did not converge\n",
      "  warnings.warn(\n",
      "/Users/abdalrhman/Library/Python/3.9/lib/python/site-packages/sklearn/linear_model/_sag.py:350: ConvergenceWarning: The max_iter was reached which means the coef_ did not converge\n",
      "  warnings.warn(\n",
      "/Users/abdalrhman/Library/Python/3.9/lib/python/site-packages/sklearn/linear_model/_sag.py:350: ConvergenceWarning: The max_iter was reached which means the coef_ did not converge\n",
      "  warnings.warn(\n",
      "/Users/abdalrhman/Library/Python/3.9/lib/python/site-packages/sklearn/linear_model/_sag.py:350: ConvergenceWarning: The max_iter was reached which means the coef_ did not converge\n",
      "  warnings.warn(\n",
      "/Users/abdalrhman/Library/Python/3.9/lib/python/site-packages/sklearn/linear_model/_sag.py:350: ConvergenceWarning: The max_iter was reached which means the coef_ did not converge\n",
      "  warnings.warn(\n",
      "/Users/abdalrhman/Library/Python/3.9/lib/python/site-packages/sklearn/linear_model/_sag.py:350: ConvergenceWarning: The max_iter was reached which means the coef_ did not converge\n",
      "  warnings.warn(\n",
      "/Users/abdalrhman/Library/Python/3.9/lib/python/site-packages/sklearn/linear_model/_sag.py:350: ConvergenceWarning: The max_iter was reached which means the coef_ did not converge\n",
      "  warnings.warn(\n",
      "/Users/abdalrhman/Library/Python/3.9/lib/python/site-packages/sklearn/linear_model/_sag.py:350: ConvergenceWarning: The max_iter was reached which means the coef_ did not converge\n",
      "  warnings.warn(\n",
      "/Users/abdalrhman/Library/Python/3.9/lib/python/site-packages/sklearn/linear_model/_sag.py:350: ConvergenceWarning: The max_iter was reached which means the coef_ did not converge\n",
      "  warnings.warn(\n",
      "/Users/abdalrhman/Library/Python/3.9/lib/python/site-packages/sklearn/linear_model/_sag.py:350: ConvergenceWarning: The max_iter was reached which means the coef_ did not converge\n",
      "  warnings.warn(\n",
      "/Users/abdalrhman/Library/Python/3.9/lib/python/site-packages/sklearn/linear_model/_sag.py:350: ConvergenceWarning: The max_iter was reached which means the coef_ did not converge\n",
      "  warnings.warn(\n",
      "/Users/abdalrhman/Library/Python/3.9/lib/python/site-packages/sklearn/linear_model/_sag.py:350: ConvergenceWarning: The max_iter was reached which means the coef_ did not converge\n",
      "  warnings.warn(\n",
      "/Users/abdalrhman/Library/Python/3.9/lib/python/site-packages/sklearn/linear_model/_sag.py:350: ConvergenceWarning: The max_iter was reached which means the coef_ did not converge\n",
      "  warnings.warn(\n",
      "/Users/abdalrhman/Library/Python/3.9/lib/python/site-packages/sklearn/linear_model/_sag.py:350: ConvergenceWarning: The max_iter was reached which means the coef_ did not converge\n",
      "  warnings.warn(\n",
      "/Users/abdalrhman/Library/Python/3.9/lib/python/site-packages/sklearn/linear_model/_sag.py:350: ConvergenceWarning: The max_iter was reached which means the coef_ did not converge\n",
      "  warnings.warn(\n",
      "/Users/abdalrhman/Library/Python/3.9/lib/python/site-packages/sklearn/linear_model/_sag.py:350: ConvergenceWarning: The max_iter was reached which means the coef_ did not converge\n",
      "  warnings.warn(\n",
      "/Users/abdalrhman/Library/Python/3.9/lib/python/site-packages/sklearn/linear_model/_sag.py:350: ConvergenceWarning: The max_iter was reached which means the coef_ did not converge\n",
      "  warnings.warn(\n",
      "/Users/abdalrhman/Library/Python/3.9/lib/python/site-packages/sklearn/linear_model/_sag.py:350: ConvergenceWarning: The max_iter was reached which means the coef_ did not converge\n",
      "  warnings.warn(\n",
      "/Users/abdalrhman/Library/Python/3.9/lib/python/site-packages/sklearn/linear_model/_sag.py:350: ConvergenceWarning: The max_iter was reached which means the coef_ did not converge\n",
      "  warnings.warn(\n",
      "/Users/abdalrhman/Library/Python/3.9/lib/python/site-packages/sklearn/linear_model/_sag.py:350: ConvergenceWarning: The max_iter was reached which means the coef_ did not converge\n",
      "  warnings.warn(\n",
      "/Users/abdalrhman/Library/Python/3.9/lib/python/site-packages/sklearn/linear_model/_sag.py:350: ConvergenceWarning: The max_iter was reached which means the coef_ did not converge\n",
      "  warnings.warn(\n",
      "/Users/abdalrhman/Library/Python/3.9/lib/python/site-packages/sklearn/linear_model/_sag.py:350: ConvergenceWarning: The max_iter was reached which means the coef_ did not converge\n",
      "  warnings.warn(\n",
      "/Users/abdalrhman/Library/Python/3.9/lib/python/site-packages/sklearn/linear_model/_sag.py:350: ConvergenceWarning: The max_iter was reached which means the coef_ did not converge\n",
      "  warnings.warn(\n",
      "/Users/abdalrhman/Library/Python/3.9/lib/python/site-packages/sklearn/linear_model/_sag.py:350: ConvergenceWarning: The max_iter was reached which means the coef_ did not converge\n",
      "  warnings.warn(\n",
      "/Users/abdalrhman/Library/Python/3.9/lib/python/site-packages/sklearn/linear_model/_sag.py:350: ConvergenceWarning: The max_iter was reached which means the coef_ did not converge\n",
      "  warnings.warn(\n",
      "/Users/abdalrhman/Library/Python/3.9/lib/python/site-packages/sklearn/linear_model/_sag.py:350: ConvergenceWarning: The max_iter was reached which means the coef_ did not converge\n",
      "  warnings.warn(\n",
      "/Users/abdalrhman/Library/Python/3.9/lib/python/site-packages/sklearn/linear_model/_sag.py:350: ConvergenceWarning: The max_iter was reached which means the coef_ did not converge\n",
      "  warnings.warn(\n",
      "/Users/abdalrhman/Library/Python/3.9/lib/python/site-packages/sklearn/linear_model/_sag.py:350: ConvergenceWarning: The max_iter was reached which means the coef_ did not converge\n",
      "  warnings.warn(\n",
      "/Users/abdalrhman/Library/Python/3.9/lib/python/site-packages/sklearn/linear_model/_sag.py:350: ConvergenceWarning: The max_iter was reached which means the coef_ did not converge\n",
      "  warnings.warn(\n",
      "/Users/abdalrhman/Library/Python/3.9/lib/python/site-packages/sklearn/linear_model/_sag.py:350: ConvergenceWarning: The max_iter was reached which means the coef_ did not converge\n",
      "  warnings.warn(\n",
      "/Users/abdalrhman/Library/Python/3.9/lib/python/site-packages/sklearn/linear_model/_sag.py:350: ConvergenceWarning: The max_iter was reached which means the coef_ did not converge\n",
      "  warnings.warn(\n",
      "/Users/abdalrhman/Library/Python/3.9/lib/python/site-packages/sklearn/linear_model/_sag.py:350: ConvergenceWarning: The max_iter was reached which means the coef_ did not converge\n",
      "  warnings.warn(\n",
      "/Users/abdalrhman/Library/Python/3.9/lib/python/site-packages/sklearn/linear_model/_sag.py:350: ConvergenceWarning: The max_iter was reached which means the coef_ did not converge\n",
      "  warnings.warn(\n",
      "/Users/abdalrhman/Library/Python/3.9/lib/python/site-packages/sklearn/linear_model/_sag.py:350: ConvergenceWarning: The max_iter was reached which means the coef_ did not converge\n",
      "  warnings.warn(\n",
      "/Users/abdalrhman/Library/Python/3.9/lib/python/site-packages/sklearn/linear_model/_sag.py:350: ConvergenceWarning: The max_iter was reached which means the coef_ did not converge\n",
      "  warnings.warn(\n",
      "/Users/abdalrhman/Library/Python/3.9/lib/python/site-packages/sklearn/linear_model/_sag.py:350: ConvergenceWarning: The max_iter was reached which means the coef_ did not converge\n",
      "  warnings.warn(\n",
      "/Users/abdalrhman/Library/Python/3.9/lib/python/site-packages/sklearn/linear_model/_sag.py:350: ConvergenceWarning: The max_iter was reached which means the coef_ did not converge\n",
      "  warnings.warn(\n",
      "/Users/abdalrhman/Library/Python/3.9/lib/python/site-packages/sklearn/linear_model/_sag.py:350: ConvergenceWarning: The max_iter was reached which means the coef_ did not converge\n",
      "  warnings.warn(\n",
      "/Users/abdalrhman/Library/Python/3.9/lib/python/site-packages/sklearn/linear_model/_sag.py:350: ConvergenceWarning: The max_iter was reached which means the coef_ did not converge\n",
      "  warnings.warn(\n",
      "/Users/abdalrhman/Library/Python/3.9/lib/python/site-packages/sklearn/linear_model/_sag.py:350: ConvergenceWarning: The max_iter was reached which means the coef_ did not converge\n",
      "  warnings.warn(\n",
      "/Users/abdalrhman/Library/Python/3.9/lib/python/site-packages/sklearn/linear_model/_sag.py:350: ConvergenceWarning: The max_iter was reached which means the coef_ did not converge\n",
      "  warnings.warn(\n",
      "/Users/abdalrhman/Library/Python/3.9/lib/python/site-packages/sklearn/linear_model/_sag.py:350: ConvergenceWarning: The max_iter was reached which means the coef_ did not converge\n",
      "  warnings.warn(\n",
      "/Users/abdalrhman/Library/Python/3.9/lib/python/site-packages/sklearn/linear_model/_sag.py:350: ConvergenceWarning: The max_iter was reached which means the coef_ did not converge\n",
      "  warnings.warn(\n",
      "/Users/abdalrhman/Library/Python/3.9/lib/python/site-packages/sklearn/linear_model/_sag.py:350: ConvergenceWarning: The max_iter was reached which means the coef_ did not converge\n",
      "  warnings.warn(\n",
      "/Users/abdalrhman/Library/Python/3.9/lib/python/site-packages/sklearn/linear_model/_sag.py:350: ConvergenceWarning: The max_iter was reached which means the coef_ did not converge\n",
      "  warnings.warn(\n",
      "/Users/abdalrhman/Library/Python/3.9/lib/python/site-packages/sklearn/linear_model/_sag.py:350: ConvergenceWarning: The max_iter was reached which means the coef_ did not converge\n",
      "  warnings.warn(\n",
      "/Users/abdalrhman/Library/Python/3.9/lib/python/site-packages/sklearn/linear_model/_sag.py:350: ConvergenceWarning: The max_iter was reached which means the coef_ did not converge\n",
      "  warnings.warn(\n",
      "/Users/abdalrhman/Library/Python/3.9/lib/python/site-packages/sklearn/linear_model/_sag.py:350: ConvergenceWarning: The max_iter was reached which means the coef_ did not converge\n",
      "  warnings.warn(\n",
      "/Users/abdalrhman/Library/Python/3.9/lib/python/site-packages/sklearn/linear_model/_sag.py:350: ConvergenceWarning: The max_iter was reached which means the coef_ did not converge\n",
      "  warnings.warn(\n",
      "/Users/abdalrhman/Library/Python/3.9/lib/python/site-packages/sklearn/linear_model/_sag.py:350: ConvergenceWarning: The max_iter was reached which means the coef_ did not converge\n",
      "  warnings.warn(\n",
      "/Users/abdalrhman/Library/Python/3.9/lib/python/site-packages/sklearn/linear_model/_sag.py:350: ConvergenceWarning: The max_iter was reached which means the coef_ did not converge\n",
      "  warnings.warn(\n",
      "/Users/abdalrhman/Library/Python/3.9/lib/python/site-packages/sklearn/linear_model/_sag.py:350: ConvergenceWarning: The max_iter was reached which means the coef_ did not converge\n",
      "  warnings.warn(\n",
      "/Users/abdalrhman/Library/Python/3.9/lib/python/site-packages/sklearn/linear_model/_sag.py:350: ConvergenceWarning: The max_iter was reached which means the coef_ did not converge\n",
      "  warnings.warn(\n",
      "/Users/abdalrhman/Library/Python/3.9/lib/python/site-packages/sklearn/linear_model/_sag.py:350: ConvergenceWarning: The max_iter was reached which means the coef_ did not converge\n",
      "  warnings.warn(\n",
      "/Users/abdalrhman/Library/Python/3.9/lib/python/site-packages/sklearn/linear_model/_sag.py:350: ConvergenceWarning: The max_iter was reached which means the coef_ did not converge\n",
      "  warnings.warn(\n",
      "/Users/abdalrhman/Library/Python/3.9/lib/python/site-packages/sklearn/linear_model/_sag.py:350: ConvergenceWarning: The max_iter was reached which means the coef_ did not converge\n",
      "  warnings.warn(\n",
      "/Users/abdalrhman/Library/Python/3.9/lib/python/site-packages/sklearn/linear_model/_sag.py:350: ConvergenceWarning: The max_iter was reached which means the coef_ did not converge\n",
      "  warnings.warn(\n",
      "/Users/abdalrhman/Library/Python/3.9/lib/python/site-packages/sklearn/linear_model/_sag.py:350: ConvergenceWarning: The max_iter was reached which means the coef_ did not converge\n",
      "  warnings.warn(\n",
      "/Users/abdalrhman/Library/Python/3.9/lib/python/site-packages/sklearn/linear_model/_sag.py:350: ConvergenceWarning: The max_iter was reached which means the coef_ did not converge\n",
      "  warnings.warn(\n",
      "/Users/abdalrhman/Library/Python/3.9/lib/python/site-packages/sklearn/linear_model/_sag.py:350: ConvergenceWarning: The max_iter was reached which means the coef_ did not converge\n",
      "  warnings.warn(\n",
      "/Users/abdalrhman/Library/Python/3.9/lib/python/site-packages/sklearn/linear_model/_sag.py:350: ConvergenceWarning: The max_iter was reached which means the coef_ did not converge\n",
      "  warnings.warn(\n",
      "/Users/abdalrhman/Library/Python/3.9/lib/python/site-packages/sklearn/linear_model/_sag.py:350: ConvergenceWarning: The max_iter was reached which means the coef_ did not converge\n",
      "  warnings.warn(\n",
      "/Users/abdalrhman/Library/Python/3.9/lib/python/site-packages/sklearn/linear_model/_sag.py:350: ConvergenceWarning: The max_iter was reached which means the coef_ did not converge\n",
      "  warnings.warn(\n",
      "/Users/abdalrhman/Library/Python/3.9/lib/python/site-packages/sklearn/linear_model/_sag.py:350: ConvergenceWarning: The max_iter was reached which means the coef_ did not converge\n",
      "  warnings.warn(\n",
      "/Users/abdalrhman/Library/Python/3.9/lib/python/site-packages/sklearn/linear_model/_sag.py:350: ConvergenceWarning: The max_iter was reached which means the coef_ did not converge\n",
      "  warnings.warn(\n",
      "/Users/abdalrhman/Library/Python/3.9/lib/python/site-packages/sklearn/linear_model/_sag.py:350: ConvergenceWarning: The max_iter was reached which means the coef_ did not converge\n",
      "  warnings.warn(\n",
      "/Users/abdalrhman/Library/Python/3.9/lib/python/site-packages/sklearn/linear_model/_sag.py:350: ConvergenceWarning: The max_iter was reached which means the coef_ did not converge\n",
      "  warnings.warn(\n",
      "/Users/abdalrhman/Library/Python/3.9/lib/python/site-packages/sklearn/linear_model/_sag.py:350: ConvergenceWarning: The max_iter was reached which means the coef_ did not converge\n",
      "  warnings.warn(\n",
      "/Users/abdalrhman/Library/Python/3.9/lib/python/site-packages/sklearn/linear_model/_sag.py:350: ConvergenceWarning: The max_iter was reached which means the coef_ did not converge\n",
      "  warnings.warn(\n",
      "/Users/abdalrhman/Library/Python/3.9/lib/python/site-packages/sklearn/linear_model/_sag.py:350: ConvergenceWarning: The max_iter was reached which means the coef_ did not converge\n",
      "  warnings.warn(\n",
      "/Users/abdalrhman/Library/Python/3.9/lib/python/site-packages/sklearn/linear_model/_sag.py:350: ConvergenceWarning: The max_iter was reached which means the coef_ did not converge\n",
      "  warnings.warn(\n",
      "/Users/abdalrhman/Library/Python/3.9/lib/python/site-packages/sklearn/linear_model/_sag.py:350: ConvergenceWarning: The max_iter was reached which means the coef_ did not converge\n",
      "  warnings.warn(\n",
      "/Users/abdalrhman/Library/Python/3.9/lib/python/site-packages/sklearn/linear_model/_sag.py:350: ConvergenceWarning: The max_iter was reached which means the coef_ did not converge\n",
      "  warnings.warn(\n",
      "/Users/abdalrhman/Library/Python/3.9/lib/python/site-packages/sklearn/linear_model/_sag.py:350: ConvergenceWarning: The max_iter was reached which means the coef_ did not converge\n",
      "  warnings.warn(\n",
      "/Users/abdalrhman/Library/Python/3.9/lib/python/site-packages/sklearn/linear_model/_sag.py:350: ConvergenceWarning: The max_iter was reached which means the coef_ did not converge\n",
      "  warnings.warn(\n",
      "/Users/abdalrhman/Library/Python/3.9/lib/python/site-packages/sklearn/linear_model/_sag.py:350: ConvergenceWarning: The max_iter was reached which means the coef_ did not converge\n",
      "  warnings.warn(\n",
      "/Users/abdalrhman/Library/Python/3.9/lib/python/site-packages/sklearn/linear_model/_sag.py:350: ConvergenceWarning: The max_iter was reached which means the coef_ did not converge\n",
      "  warnings.warn(\n",
      "/Users/abdalrhman/Library/Python/3.9/lib/python/site-packages/sklearn/linear_model/_sag.py:350: ConvergenceWarning: The max_iter was reached which means the coef_ did not converge\n",
      "  warnings.warn(\n",
      "/Users/abdalrhman/Library/Python/3.9/lib/python/site-packages/sklearn/linear_model/_sag.py:350: ConvergenceWarning: The max_iter was reached which means the coef_ did not converge\n",
      "  warnings.warn(\n",
      "/Users/abdalrhman/Library/Python/3.9/lib/python/site-packages/sklearn/linear_model/_sag.py:350: ConvergenceWarning: The max_iter was reached which means the coef_ did not converge\n",
      "  warnings.warn(\n",
      "/Users/abdalrhman/Library/Python/3.9/lib/python/site-packages/sklearn/linear_model/_sag.py:350: ConvergenceWarning: The max_iter was reached which means the coef_ did not converge\n",
      "  warnings.warn(\n",
      "/Users/abdalrhman/Library/Python/3.9/lib/python/site-packages/sklearn/linear_model/_sag.py:350: ConvergenceWarning: The max_iter was reached which means the coef_ did not converge\n",
      "  warnings.warn(\n",
      "/Users/abdalrhman/Library/Python/3.9/lib/python/site-packages/sklearn/linear_model/_sag.py:350: ConvergenceWarning: The max_iter was reached which means the coef_ did not converge\n",
      "  warnings.warn(\n",
      "/Users/abdalrhman/Library/Python/3.9/lib/python/site-packages/sklearn/linear_model/_sag.py:350: ConvergenceWarning: The max_iter was reached which means the coef_ did not converge\n",
      "  warnings.warn(\n",
      "/Users/abdalrhman/Library/Python/3.9/lib/python/site-packages/sklearn/linear_model/_sag.py:350: ConvergenceWarning: The max_iter was reached which means the coef_ did not converge\n",
      "  warnings.warn(\n",
      "/Users/abdalrhman/Library/Python/3.9/lib/python/site-packages/sklearn/linear_model/_sag.py:350: ConvergenceWarning: The max_iter was reached which means the coef_ did not converge\n",
      "  warnings.warn(\n",
      "/Users/abdalrhman/Library/Python/3.9/lib/python/site-packages/sklearn/linear_model/_sag.py:350: ConvergenceWarning: The max_iter was reached which means the coef_ did not converge\n",
      "  warnings.warn(\n",
      "/Users/abdalrhman/Library/Python/3.9/lib/python/site-packages/sklearn/linear_model/_sag.py:350: ConvergenceWarning: The max_iter was reached which means the coef_ did not converge\n",
      "  warnings.warn(\n",
      "/Users/abdalrhman/Library/Python/3.9/lib/python/site-packages/sklearn/linear_model/_sag.py:350: ConvergenceWarning: The max_iter was reached which means the coef_ did not converge\n",
      "  warnings.warn(\n",
      "/Users/abdalrhman/Library/Python/3.9/lib/python/site-packages/sklearn/linear_model/_sag.py:350: ConvergenceWarning: The max_iter was reached which means the coef_ did not converge\n",
      "  warnings.warn(\n",
      "/Users/abdalrhman/Library/Python/3.9/lib/python/site-packages/sklearn/linear_model/_sag.py:350: ConvergenceWarning: The max_iter was reached which means the coef_ did not converge\n",
      "  warnings.warn(\n",
      "/Users/abdalrhman/Library/Python/3.9/lib/python/site-packages/sklearn/linear_model/_sag.py:350: ConvergenceWarning: The max_iter was reached which means the coef_ did not converge\n",
      "  warnings.warn(\n",
      "/Users/abdalrhman/Library/Python/3.9/lib/python/site-packages/sklearn/linear_model/_sag.py:350: ConvergenceWarning: The max_iter was reached which means the coef_ did not converge\n",
      "  warnings.warn(\n",
      "/Users/abdalrhman/Library/Python/3.9/lib/python/site-packages/sklearn/linear_model/_sag.py:350: ConvergenceWarning: The max_iter was reached which means the coef_ did not converge\n",
      "  warnings.warn(\n",
      "/Users/abdalrhman/Library/Python/3.9/lib/python/site-packages/sklearn/linear_model/_sag.py:350: ConvergenceWarning: The max_iter was reached which means the coef_ did not converge\n",
      "  warnings.warn(\n",
      "/Users/abdalrhman/Library/Python/3.9/lib/python/site-packages/sklearn/linear_model/_sag.py:350: ConvergenceWarning: The max_iter was reached which means the coef_ did not converge\n",
      "  warnings.warn(\n",
      "/Users/abdalrhman/Library/Python/3.9/lib/python/site-packages/sklearn/linear_model/_sag.py:350: ConvergenceWarning: The max_iter was reached which means the coef_ did not converge\n",
      "  warnings.warn(\n",
      "/Users/abdalrhman/Library/Python/3.9/lib/python/site-packages/sklearn/linear_model/_sag.py:350: ConvergenceWarning: The max_iter was reached which means the coef_ did not converge\n",
      "  warnings.warn(\n",
      "/Users/abdalrhman/Library/Python/3.9/lib/python/site-packages/sklearn/linear_model/_sag.py:350: ConvergenceWarning: The max_iter was reached which means the coef_ did not converge\n",
      "  warnings.warn(\n",
      "/Users/abdalrhman/Library/Python/3.9/lib/python/site-packages/sklearn/linear_model/_sag.py:350: ConvergenceWarning: The max_iter was reached which means the coef_ did not converge\n",
      "  warnings.warn(\n",
      "/Users/abdalrhman/Library/Python/3.9/lib/python/site-packages/sklearn/linear_model/_sag.py:350: ConvergenceWarning: The max_iter was reached which means the coef_ did not converge\n",
      "  warnings.warn(\n",
      "/Users/abdalrhman/Library/Python/3.9/lib/python/site-packages/sklearn/linear_model/_sag.py:350: ConvergenceWarning: The max_iter was reached which means the coef_ did not converge\n",
      "  warnings.warn(\n",
      "/Users/abdalrhman/Library/Python/3.9/lib/python/site-packages/sklearn/linear_model/_sag.py:350: ConvergenceWarning: The max_iter was reached which means the coef_ did not converge\n",
      "  warnings.warn(\n",
      "/Users/abdalrhman/Library/Python/3.9/lib/python/site-packages/sklearn/linear_model/_sag.py:350: ConvergenceWarning: The max_iter was reached which means the coef_ did not converge\n",
      "  warnings.warn(\n"
     ]
    },
    {
     "data": {
      "text/html": [
       "<div>\n",
       "<style scoped>\n",
       "    .dataframe tbody tr th:only-of-type {\n",
       "        vertical-align: middle;\n",
       "    }\n",
       "\n",
       "    .dataframe tbody tr th {\n",
       "        vertical-align: top;\n",
       "    }\n",
       "\n",
       "    .dataframe thead th {\n",
       "        text-align: right;\n",
       "    }\n",
       "</style>\n",
       "<table border=\"1\" class=\"dataframe\">\n",
       "  <thead>\n",
       "    <tr style=\"text-align: right;\">\n",
       "      <th></th>\n",
       "      <th>F-score</th>\n",
       "      <th>Precision</th>\n",
       "      <th>Recall</th>\n",
       "      <th>Accuracy</th>\n",
       "    </tr>\n",
       "  </thead>\n",
       "  <tbody>\n",
       "    <tr>\n",
       "      <th>Logistic Regression (Grid CV Tuning)</th>\n",
       "      <td>0.730179</td>\n",
       "      <td>0.739231</td>\n",
       "      <td>0.732153</td>\n",
       "      <td>0.733094</td>\n",
       "    </tr>\n",
       "    <tr>\n",
       "      <th>Decision Tree (Default)</th>\n",
       "      <td>0.578521</td>\n",
       "      <td>0.635294</td>\n",
       "      <td>0.209845</td>\n",
       "      <td>0.742679</td>\n",
       "    </tr>\n",
       "    <tr>\n",
       "      <th>Logistic Regression (Default)</th>\n",
       "      <td>0.539261</td>\n",
       "      <td>0.61828</td>\n",
       "      <td>0.148964</td>\n",
       "      <td>0.733529</td>\n",
       "    </tr>\n",
       "  </tbody>\n",
       "</table>\n",
       "</div>"
      ],
      "text/plain": [
       "                                       F-score Precision    Recall  Accuracy\n",
       "Logistic Regression (Grid CV Tuning)  0.730179  0.739231  0.732153  0.733094\n",
       "Decision Tree (Default)               0.578521  0.635294  0.209845  0.742679\n",
       "Logistic Regression (Default)         0.539261   0.61828  0.148964  0.733529"
      ]
     },
     "execution_count": 156,
     "metadata": {},
     "output_type": "execute_result"
    }
   ],
   "source": [
    "solvers = ['lbfgs','newton-cg','liblinear','sag','saga']\n",
    "penalty = ['l2', 'None']\n",
    "c_values = [100, 10, 1.0, 0.1, 0.01]\n",
    "max_iteration= [100, 200, 500, 1000, 2000, 5000]\n",
    "# define grid search\n",
    "grid = dict(solver=solvers,penalty=penalty,C=c_values,max_iter=max_iteration)\n",
    "\n",
    "lr_grid = GridSearchCV(estimator=lr, param_grid=grid, n_jobs=-1, scoring='accuracy',error_score=0)\n",
    "lr_grid_fit = lr_grid.fit(X_train, y_train)\n",
    "\n",
    "cross_val_results = pd.DataFrame(cross_validate(lr_grid.best_estimator_, X_train, y_train, scoring = [ 'f1_macro', 'precision_macro', 'recall_macro', 'accuracy'] ))\n",
    "\n",
    "results_df.loc['Logistic Regression (Grid CV Tuning)',:] = cross_val_results[['test_f1_macro',\n",
    "       'test_precision_macro', 'test_recall_macro','test_accuracy']].mean().values\n",
    "\n",
    "results_df.sort_values(by='F-score', ascending=False)\n"
   ]
  },
  {
   "cell_type": "code",
   "execution_count": 157,
   "metadata": {},
   "outputs": [],
   "source": [
    "randomForestModel=RandomForestClassifier(n_estimators=75)\n",
    "randomForestModel.fit(X_train,y_train)\n",
    "y_pred=randomForestModel.predict(X_test)"
   ]
  },
  {
   "cell_type": "code",
   "execution_count": 158,
   "metadata": {},
   "outputs": [
    {
     "name": "stdout",
     "output_type": "stream",
     "text": [
      "Accuracy Score:  0.7408491947291361\n",
      "Recall Score:  0.22927461139896374\n",
      "Jaccard Score:  0.2\n",
      "F1 Score:  0.3333333333333333\n",
      "Precision Score:  0.6103448275862069\n"
     ]
    },
    {
     "data": {
      "application/vnd.plotly.v1+json": {
       "config": {
        "plotlyServerURL": "https://plot.ly"
       },
       "data": [
        {
         "coloraxis": "coloraxis",
         "hovertemplate": "Predicted Label: %{x}<br>Correct Label: %{y}<br>Value: %{z}<extra></extra>",
         "name": "0",
         "texttemplate": "%{z}",
         "type": "heatmap",
         "xaxis": "x",
         "yaxis": "y",
         "z": [
          [
           0.942,
           0.058
          ],
          [
           0.771,
           0.229
          ]
         ]
        }
       ],
       "layout": {
        "coloraxis": {
         "colorbar": {
          "title": {
           "text": "Value"
          }
         },
         "colorscale": [
          [
           0,
           "#440154"
          ],
          [
           0.1111111111111111,
           "#482878"
          ],
          [
           0.2222222222222222,
           "#3e4989"
          ],
          [
           0.3333333333333333,
           "#31688e"
          ],
          [
           0.4444444444444444,
           "#26828e"
          ],
          [
           0.5555555555555556,
           "#1f9e89"
          ],
          [
           0.6666666666666666,
           "#35b779"
          ],
          [
           0.7777777777777778,
           "#6ece58"
          ],
          [
           0.8888888888888888,
           "#b5de2b"
          ],
          [
           1,
           "#fde725"
          ]
         ]
        },
        "margin": {
         "t": 60
        },
        "template": {
         "data": {
          "bar": [
           {
            "error_x": {
             "color": "rgb(36,36,36)"
            },
            "error_y": {
             "color": "rgb(36,36,36)"
            },
            "marker": {
             "line": {
              "color": "white",
              "width": 0.5
             },
             "pattern": {
              "fillmode": "overlay",
              "size": 10,
              "solidity": 0.2
             }
            },
            "type": "bar"
           }
          ],
          "barpolar": [
           {
            "marker": {
             "line": {
              "color": "white",
              "width": 0.5
             },
             "pattern": {
              "fillmode": "overlay",
              "size": 10,
              "solidity": 0.2
             }
            },
            "type": "barpolar"
           }
          ],
          "carpet": [
           {
            "aaxis": {
             "endlinecolor": "rgb(36,36,36)",
             "gridcolor": "white",
             "linecolor": "white",
             "minorgridcolor": "white",
             "startlinecolor": "rgb(36,36,36)"
            },
            "baxis": {
             "endlinecolor": "rgb(36,36,36)",
             "gridcolor": "white",
             "linecolor": "white",
             "minorgridcolor": "white",
             "startlinecolor": "rgb(36,36,36)"
            },
            "type": "carpet"
           }
          ],
          "choropleth": [
           {
            "colorbar": {
             "outlinewidth": 1,
             "tickcolor": "rgb(36,36,36)",
             "ticks": "outside"
            },
            "type": "choropleth"
           }
          ],
          "contour": [
           {
            "colorbar": {
             "outlinewidth": 1,
             "tickcolor": "rgb(36,36,36)",
             "ticks": "outside"
            },
            "colorscale": [
             [
              0,
              "#440154"
             ],
             [
              0.1111111111111111,
              "#482878"
             ],
             [
              0.2222222222222222,
              "#3e4989"
             ],
             [
              0.3333333333333333,
              "#31688e"
             ],
             [
              0.4444444444444444,
              "#26828e"
             ],
             [
              0.5555555555555556,
              "#1f9e89"
             ],
             [
              0.6666666666666666,
              "#35b779"
             ],
             [
              0.7777777777777778,
              "#6ece58"
             ],
             [
              0.8888888888888888,
              "#b5de2b"
             ],
             [
              1,
              "#fde725"
             ]
            ],
            "type": "contour"
           }
          ],
          "contourcarpet": [
           {
            "colorbar": {
             "outlinewidth": 1,
             "tickcolor": "rgb(36,36,36)",
             "ticks": "outside"
            },
            "type": "contourcarpet"
           }
          ],
          "heatmap": [
           {
            "colorbar": {
             "outlinewidth": 1,
             "tickcolor": "rgb(36,36,36)",
             "ticks": "outside"
            },
            "colorscale": [
             [
              0,
              "#440154"
             ],
             [
              0.1111111111111111,
              "#482878"
             ],
             [
              0.2222222222222222,
              "#3e4989"
             ],
             [
              0.3333333333333333,
              "#31688e"
             ],
             [
              0.4444444444444444,
              "#26828e"
             ],
             [
              0.5555555555555556,
              "#1f9e89"
             ],
             [
              0.6666666666666666,
              "#35b779"
             ],
             [
              0.7777777777777778,
              "#6ece58"
             ],
             [
              0.8888888888888888,
              "#b5de2b"
             ],
             [
              1,
              "#fde725"
             ]
            ],
            "type": "heatmap"
           }
          ],
          "heatmapgl": [
           {
            "colorbar": {
             "outlinewidth": 1,
             "tickcolor": "rgb(36,36,36)",
             "ticks": "outside"
            },
            "colorscale": [
             [
              0,
              "#440154"
             ],
             [
              0.1111111111111111,
              "#482878"
             ],
             [
              0.2222222222222222,
              "#3e4989"
             ],
             [
              0.3333333333333333,
              "#31688e"
             ],
             [
              0.4444444444444444,
              "#26828e"
             ],
             [
              0.5555555555555556,
              "#1f9e89"
             ],
             [
              0.6666666666666666,
              "#35b779"
             ],
             [
              0.7777777777777778,
              "#6ece58"
             ],
             [
              0.8888888888888888,
              "#b5de2b"
             ],
             [
              1,
              "#fde725"
             ]
            ],
            "type": "heatmapgl"
           }
          ],
          "histogram": [
           {
            "marker": {
             "line": {
              "color": "white",
              "width": 0.6
             }
            },
            "type": "histogram"
           }
          ],
          "histogram2d": [
           {
            "colorbar": {
             "outlinewidth": 1,
             "tickcolor": "rgb(36,36,36)",
             "ticks": "outside"
            },
            "colorscale": [
             [
              0,
              "#440154"
             ],
             [
              0.1111111111111111,
              "#482878"
             ],
             [
              0.2222222222222222,
              "#3e4989"
             ],
             [
              0.3333333333333333,
              "#31688e"
             ],
             [
              0.4444444444444444,
              "#26828e"
             ],
             [
              0.5555555555555556,
              "#1f9e89"
             ],
             [
              0.6666666666666666,
              "#35b779"
             ],
             [
              0.7777777777777778,
              "#6ece58"
             ],
             [
              0.8888888888888888,
              "#b5de2b"
             ],
             [
              1,
              "#fde725"
             ]
            ],
            "type": "histogram2d"
           }
          ],
          "histogram2dcontour": [
           {
            "colorbar": {
             "outlinewidth": 1,
             "tickcolor": "rgb(36,36,36)",
             "ticks": "outside"
            },
            "colorscale": [
             [
              0,
              "#440154"
             ],
             [
              0.1111111111111111,
              "#482878"
             ],
             [
              0.2222222222222222,
              "#3e4989"
             ],
             [
              0.3333333333333333,
              "#31688e"
             ],
             [
              0.4444444444444444,
              "#26828e"
             ],
             [
              0.5555555555555556,
              "#1f9e89"
             ],
             [
              0.6666666666666666,
              "#35b779"
             ],
             [
              0.7777777777777778,
              "#6ece58"
             ],
             [
              0.8888888888888888,
              "#b5de2b"
             ],
             [
              1,
              "#fde725"
             ]
            ],
            "type": "histogram2dcontour"
           }
          ],
          "mesh3d": [
           {
            "colorbar": {
             "outlinewidth": 1,
             "tickcolor": "rgb(36,36,36)",
             "ticks": "outside"
            },
            "type": "mesh3d"
           }
          ],
          "parcoords": [
           {
            "line": {
             "colorbar": {
              "outlinewidth": 1,
              "tickcolor": "rgb(36,36,36)",
              "ticks": "outside"
             }
            },
            "type": "parcoords"
           }
          ],
          "pie": [
           {
            "automargin": true,
            "type": "pie"
           }
          ],
          "scatter": [
           {
            "fillpattern": {
             "fillmode": "overlay",
             "size": 10,
             "solidity": 0.2
            },
            "type": "scatter"
           }
          ],
          "scatter3d": [
           {
            "line": {
             "colorbar": {
              "outlinewidth": 1,
              "tickcolor": "rgb(36,36,36)",
              "ticks": "outside"
             }
            },
            "marker": {
             "colorbar": {
              "outlinewidth": 1,
              "tickcolor": "rgb(36,36,36)",
              "ticks": "outside"
             }
            },
            "type": "scatter3d"
           }
          ],
          "scattercarpet": [
           {
            "marker": {
             "colorbar": {
              "outlinewidth": 1,
              "tickcolor": "rgb(36,36,36)",
              "ticks": "outside"
             }
            },
            "type": "scattercarpet"
           }
          ],
          "scattergeo": [
           {
            "marker": {
             "colorbar": {
              "outlinewidth": 1,
              "tickcolor": "rgb(36,36,36)",
              "ticks": "outside"
             }
            },
            "type": "scattergeo"
           }
          ],
          "scattergl": [
           {
            "marker": {
             "colorbar": {
              "outlinewidth": 1,
              "tickcolor": "rgb(36,36,36)",
              "ticks": "outside"
             }
            },
            "type": "scattergl"
           }
          ],
          "scattermapbox": [
           {
            "marker": {
             "colorbar": {
              "outlinewidth": 1,
              "tickcolor": "rgb(36,36,36)",
              "ticks": "outside"
             }
            },
            "type": "scattermapbox"
           }
          ],
          "scatterpolar": [
           {
            "marker": {
             "colorbar": {
              "outlinewidth": 1,
              "tickcolor": "rgb(36,36,36)",
              "ticks": "outside"
             }
            },
            "type": "scatterpolar"
           }
          ],
          "scatterpolargl": [
           {
            "marker": {
             "colorbar": {
              "outlinewidth": 1,
              "tickcolor": "rgb(36,36,36)",
              "ticks": "outside"
             }
            },
            "type": "scatterpolargl"
           }
          ],
          "scatterternary": [
           {
            "marker": {
             "colorbar": {
              "outlinewidth": 1,
              "tickcolor": "rgb(36,36,36)",
              "ticks": "outside"
             }
            },
            "type": "scatterternary"
           }
          ],
          "surface": [
           {
            "colorbar": {
             "outlinewidth": 1,
             "tickcolor": "rgb(36,36,36)",
             "ticks": "outside"
            },
            "colorscale": [
             [
              0,
              "#440154"
             ],
             [
              0.1111111111111111,
              "#482878"
             ],
             [
              0.2222222222222222,
              "#3e4989"
             ],
             [
              0.3333333333333333,
              "#31688e"
             ],
             [
              0.4444444444444444,
              "#26828e"
             ],
             [
              0.5555555555555556,
              "#1f9e89"
             ],
             [
              0.6666666666666666,
              "#35b779"
             ],
             [
              0.7777777777777778,
              "#6ece58"
             ],
             [
              0.8888888888888888,
              "#b5de2b"
             ],
             [
              1,
              "#fde725"
             ]
            ],
            "type": "surface"
           }
          ],
          "table": [
           {
            "cells": {
             "fill": {
              "color": "rgb(237,237,237)"
             },
             "line": {
              "color": "white"
             }
            },
            "header": {
             "fill": {
              "color": "rgb(217,217,217)"
             },
             "line": {
              "color": "white"
             }
            },
            "type": "table"
           }
          ]
         },
         "layout": {
          "annotationdefaults": {
           "arrowhead": 0,
           "arrowwidth": 1
          },
          "autotypenumbers": "strict",
          "coloraxis": {
           "colorbar": {
            "outlinewidth": 1,
            "tickcolor": "rgb(36,36,36)",
            "ticks": "outside"
           }
          },
          "colorscale": {
           "diverging": [
            [
             0,
             "rgb(103,0,31)"
            ],
            [
             0.1,
             "rgb(178,24,43)"
            ],
            [
             0.2,
             "rgb(214,96,77)"
            ],
            [
             0.3,
             "rgb(244,165,130)"
            ],
            [
             0.4,
             "rgb(253,219,199)"
            ],
            [
             0.5,
             "rgb(247,247,247)"
            ],
            [
             0.6,
             "rgb(209,229,240)"
            ],
            [
             0.7,
             "rgb(146,197,222)"
            ],
            [
             0.8,
             "rgb(67,147,195)"
            ],
            [
             0.9,
             "rgb(33,102,172)"
            ],
            [
             1,
             "rgb(5,48,97)"
            ]
           ],
           "sequential": [
            [
             0,
             "#440154"
            ],
            [
             0.1111111111111111,
             "#482878"
            ],
            [
             0.2222222222222222,
             "#3e4989"
            ],
            [
             0.3333333333333333,
             "#31688e"
            ],
            [
             0.4444444444444444,
             "#26828e"
            ],
            [
             0.5555555555555556,
             "#1f9e89"
            ],
            [
             0.6666666666666666,
             "#35b779"
            ],
            [
             0.7777777777777778,
             "#6ece58"
            ],
            [
             0.8888888888888888,
             "#b5de2b"
            ],
            [
             1,
             "#fde725"
            ]
           ],
           "sequentialminus": [
            [
             0,
             "#440154"
            ],
            [
             0.1111111111111111,
             "#482878"
            ],
            [
             0.2222222222222222,
             "#3e4989"
            ],
            [
             0.3333333333333333,
             "#31688e"
            ],
            [
             0.4444444444444444,
             "#26828e"
            ],
            [
             0.5555555555555556,
             "#1f9e89"
            ],
            [
             0.6666666666666666,
             "#35b779"
            ],
            [
             0.7777777777777778,
             "#6ece58"
            ],
            [
             0.8888888888888888,
             "#b5de2b"
            ],
            [
             1,
             "#fde725"
            ]
           ]
          },
          "colorway": [
           "#1F77B4",
           "#FF7F0E",
           "#2CA02C",
           "#D62728",
           "#9467BD",
           "#8C564B",
           "#E377C2",
           "#7F7F7F",
           "#BCBD22",
           "#17BECF"
          ],
          "font": {
           "color": "rgb(36,36,36)"
          },
          "geo": {
           "bgcolor": "white",
           "lakecolor": "white",
           "landcolor": "white",
           "showlakes": true,
           "showland": true,
           "subunitcolor": "white"
          },
          "hoverlabel": {
           "align": "left"
          },
          "hovermode": "closest",
          "mapbox": {
           "style": "light"
          },
          "paper_bgcolor": "white",
          "plot_bgcolor": "white",
          "polar": {
           "angularaxis": {
            "gridcolor": "rgb(232,232,232)",
            "linecolor": "rgb(36,36,36)",
            "showgrid": false,
            "showline": true,
            "ticks": "outside"
           },
           "bgcolor": "white",
           "radialaxis": {
            "gridcolor": "rgb(232,232,232)",
            "linecolor": "rgb(36,36,36)",
            "showgrid": false,
            "showline": true,
            "ticks": "outside"
           }
          },
          "scene": {
           "xaxis": {
            "backgroundcolor": "white",
            "gridcolor": "rgb(232,232,232)",
            "gridwidth": 2,
            "linecolor": "rgb(36,36,36)",
            "showbackground": true,
            "showgrid": false,
            "showline": true,
            "ticks": "outside",
            "zeroline": false,
            "zerolinecolor": "rgb(36,36,36)"
           },
           "yaxis": {
            "backgroundcolor": "white",
            "gridcolor": "rgb(232,232,232)",
            "gridwidth": 2,
            "linecolor": "rgb(36,36,36)",
            "showbackground": true,
            "showgrid": false,
            "showline": true,
            "ticks": "outside",
            "zeroline": false,
            "zerolinecolor": "rgb(36,36,36)"
           },
           "zaxis": {
            "backgroundcolor": "white",
            "gridcolor": "rgb(232,232,232)",
            "gridwidth": 2,
            "linecolor": "rgb(36,36,36)",
            "showbackground": true,
            "showgrid": false,
            "showline": true,
            "ticks": "outside",
            "zeroline": false,
            "zerolinecolor": "rgb(36,36,36)"
           }
          },
          "shapedefaults": {
           "fillcolor": "black",
           "line": {
            "width": 0
           },
           "opacity": 0.3
          },
          "ternary": {
           "aaxis": {
            "gridcolor": "rgb(232,232,232)",
            "linecolor": "rgb(36,36,36)",
            "showgrid": false,
            "showline": true,
            "ticks": "outside"
           },
           "baxis": {
            "gridcolor": "rgb(232,232,232)",
            "linecolor": "rgb(36,36,36)",
            "showgrid": false,
            "showline": true,
            "ticks": "outside"
           },
           "bgcolor": "white",
           "caxis": {
            "gridcolor": "rgb(232,232,232)",
            "linecolor": "rgb(36,36,36)",
            "showgrid": false,
            "showline": true,
            "ticks": "outside"
           }
          },
          "title": {
           "x": 0.05
          },
          "xaxis": {
           "automargin": true,
           "gridcolor": "rgb(232,232,232)",
           "linecolor": "rgb(36,36,36)",
           "showgrid": false,
           "showline": true,
           "ticks": "outside",
           "title": {
            "standoff": 15
           },
           "zeroline": false,
           "zerolinecolor": "rgb(36,36,36)"
          },
          "yaxis": {
           "automargin": true,
           "gridcolor": "rgb(232,232,232)",
           "linecolor": "rgb(36,36,36)",
           "showgrid": false,
           "showline": true,
           "ticks": "outside",
           "title": {
            "standoff": 15
           },
           "zeroline": false,
           "zerolinecolor": "rgb(36,36,36)"
          }
         }
        },
        "xaxis": {
         "anchor": "y",
         "domain": [
          0,
          1
         ],
         "side": "bottom",
         "title": {
          "text": "Predicted Label"
         }
        },
        "yaxis": {
         "anchor": "x",
         "autorange": "reversed",
         "domain": [
          0,
          1
         ],
         "title": {
          "text": "Correct Label"
         }
        }
       }
      }
     },
     "metadata": {},
     "output_type": "display_data"
    }
   ],
   "source": [
    "print('Accuracy Score: ',accuracy_score(y_test,y_pred))\n",
    "print('Recall Score: ',recall_score(y_test,y_pred))\n",
    "print('Jaccard Score: ',jaccard_score(y_test,y_pred))\n",
    "print('F1 Score: ',f1_score(y_test,y_pred))\n",
    "print('Precision Score: ',precision_score(y_test,y_pred))\n",
    "\n",
    "plot = px.imshow(np.around(confusion_matrix(y_test, y_pred, normalize='true'),3), \n",
    "                template='simple_white',\n",
    "                text_auto=True, \n",
    "                aspect=\"True\", \n",
    "                labels=dict(x=\"Predicted Label\", y=\"Correct Label\", color='Value'))\n",
    "plot.update_xaxes(side=\"bottom\")\n",
    "plot.show()"
   ]
  },
  {
   "cell_type": "code",
   "execution_count": 159,
   "metadata": {},
   "outputs": [
    {
     "name": "stdout",
     "output_type": "stream",
     "text": [
      "Accuracy Score:  0.8994614003590664\n",
      "Recall Score:  0.8310897435897436\n",
      "Jaccard Score:  0.7678412792419307\n",
      "F1 Score:  0.8686767169179229\n",
      "Precision Score:  0.9098245614035088\n"
     ]
    }
   ],
   "source": [
    "data = df.copy()\n",
    "dataFrame=data.copy()\n",
    "X = dataFrame.drop(\"is_delayed\", axis=1)\n",
    "y = dataFrame[\"is_delayed\"]\n",
    "\n",
    "# Encode categorical features\n",
    "label_encoder = LabelEncoder()\n",
    "X_encoded = X.apply(label_encoder.fit_transform)\n",
    "\n",
    "# Split data into train and test sets\n",
    "X_train, X_test, y_train, y_test = train_test_split(X_encoded, y, train_size=0.7, random_state=1)\n",
    "\n",
    "# Initialize and fit the classifier\n",
    "clf = RandomForestClassifier(random_state=70)\n",
    "clf.fit(X_train, y_train)\n",
    "\n",
    "# Predict on the test set\n",
    "y_predict = clf.predict(X_test)\n",
    "\n",
    "# Evaluate the model\n",
    "print('Accuracy Score: ', accuracy_score(y_test, y_predict))\n",
    "print('Recall Score: ', recall_score(y_test, y_predict))\n",
    "print('Jaccard Score: ', jaccard_score(y_test, y_predict))\n",
    "print('F1 Score: ', f1_score(y_test, y_predict))\n",
    "print('Precision Score: ', precision_score(y_test, y_predict))"
   ]
  },
  {
   "cell_type": "code",
   "execution_count": 160,
   "metadata": {},
   "outputs": [],
   "source": [
    "# create target variable for prediction\n",
    "y = data['is_delayed']\n",
    "y = np.array(y).astype(int)\n",
    "x = data.drop([\"is_delayed\"], axis=1)"
   ]
  },
  {
   "cell_type": "code",
   "execution_count": 161,
   "metadata": {},
   "outputs": [
    {
     "data": {
      "text/plain": [
       "<AxesSubplot:>"
      ]
     },
     "execution_count": 161,
     "metadata": {},
     "output_type": "execute_result"
    },
    {
     "data": {
      "image/png": "[encoded data removed]",
      "text/plain": [
       "<Figure size 800x800 with 1 Axes>"
      ]
     },
     "metadata": {},
     "output_type": "display_data"
    }
   ],
   "source": [
    "df_new = data.drop('is_delayed', axis=1)\n",
    "\n",
    "var_imp = pd.DataFrame({'importance': clf.feature_importances_},\n",
    "                       index=df_new.columns)\n",
    "\n",
    "var_imp.sort_values(by='importance').plot.barh(figsize=(8,8),\n",
    "                                               legend=False)"
   ]
  },
  {
   "cell_type": "code",
   "execution_count": 162,
   "metadata": {},
   "outputs": [
    {
     "name": "stdout",
     "output_type": "stream",
     "text": [
      "                   importance\n",
      "s.type               0.004146\n",
      "w.machine            0.007605\n",
      "s.machine            0.008213\n",
      "r.name               0.010440\n",
      "concept:name         0.034838\n",
      "e.Usuario            0.090413\n",
      "e.batchID            0.169190\n",
      "e.KitID              0.299302\n",
      "case:concept:name    0.375853\n"
     ]
    }
   ],
   "source": [
    "print(var_imp.sort_values(by='importance'))"
   ]
  },
  {
   "cell_type": "code",
   "execution_count": 163,
   "metadata": {},
   "outputs": [
    {
     "name": "stdout",
     "output_type": "stream",
     "text": [
      "0.5160297512182611\n"
     ]
    }
   ],
   "source": [
    "count = 0\n",
    "accur = []\n",
    "for i in clf.predict(X_test):\n",
    "    if i == y[count]:\n",
    "        accur.append(1)\n",
    "    else:\n",
    "        accur.append(0)\n",
    "    count += 1\n",
    "\n",
    "print(sum(accur) / len(accur))"
   ]
  },
  {
   "cell_type": "code",
   "execution_count": 164,
   "metadata": {},
   "outputs": [],
   "source": [
    "# Implementation of Random Forest Classifier\n",
    "#clf = RandomForestClassifier(random_state=75)\n",
    "\n",
    "# fit model with 5-fold Cross Validation\n",
    "result = cross_validate(clf, X_train, y_train)  # (defaults) is 5-fold CV"
   ]
  },
  {
   "cell_type": "code",
   "execution_count": 165,
   "metadata": {},
   "outputs": [
    {
     "name": "stdout",
     "output_type": "stream",
     "text": [
      "fit_time: [0.99059772 1.1485858  0.93899608 0.96213722 0.95191312]\n",
      "score_time: [0.04351521 0.04354715 0.04157686 0.04119182 0.04092169]\n",
      "test_score: [0.89585051 0.88650728 0.87633965 0.89114898 0.89032435]\n",
      "mean accuracy: 0.888034156270239\n"
     ]
    }
   ],
   "source": [
    "# print evaluation metrics\n",
    "print('fit_time:', result['fit_time'])\n",
    "print('score_time:', result['score_time'])\n",
    "print('test_score:', result['test_score'])\n",
    "print('mean accuracy:', sum(result['test_score']) / len(result['test_score']))"
   ]
  }
 ],
 "metadata": {
  "kernelspec": {
   "display_name": "Python 3",
   "language": "python",
   "name": "python3"
  },
  "language_info": {
   "codemirror_mode": {
    "name": "ipython",
    "version": 3
   },
   "file_extension": ".py",
   "mimetype": "text/x-python",
   "name": "python",
   "nbconvert_exporter": "python",
   "pygments_lexer": "ipython3",
   "version": "3.9.18"
  }
 },
 "nbformat": 4,
 "nbformat_minor": 2
}
