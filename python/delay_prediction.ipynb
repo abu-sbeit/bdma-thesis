{
 "cells": [
  {
   "cell_type": "markdown",
   "metadata": {},
   "source": [
    "## Libraries"
   ]
  },
  {
   "cell_type": "code",
   "execution_count": 457,
   "metadata": {},
   "outputs": [],
   "source": [
    "from sklearn.metrics import accuracy_score\n",
    "from sklearn.metrics import precision_score\n",
    "from sklearn.metrics import recall_score\n",
    "from sklearn.metrics import jaccard_score\n",
    "from sklearn.metrics import confusion_matrix\n",
    "from sklearn.metrics import f1_score\n",
    "import plotly.express as px\n",
    "from sklearn import metrics\n",
    "from sklearn.ensemble import RandomForestClassifier\n",
    "import pandas as pd \n",
    "import matplotlib.pyplot as plt \n",
    "import warnings\n",
    "warnings.filterwarnings('ignore')\n",
    "from neo4j import GraphDatabase\n",
    "from pm4py.objects.log.obj import EventLog, Trace\n",
    "import pm4py\n",
    "import numpy as np\n",
    "import pickle\n",
    "from sklearn.tree import DecisionTreeClassifier\n",
    "from sklearn import tree\n",
    "from sklearn.linear_model import LogisticRegression\n",
    "from sklearn.model_selection import GridSearchCV, cross_validate\n",
    "from sklearn.model_selection import train_test_split\n",
    "from sklearn.preprocessing import LabelEncoder"
   ]
  },
  {
   "cell_type": "markdown",
   "metadata": {},
   "source": [
    "## Connect to Neo4J database"
   ]
  },
  {
   "cell_type": "code",
   "execution_count": 458,
   "metadata": {},
   "outputs": [],
   "source": [
    "driver = GraphDatabase.driver(\"bolt://localhost:7687\", auth=(\"neo4j\", \"Neo4J1234\"))\n",
    "session = driver.session()"
   ]
  },
  {
   "cell_type": "markdown",
   "metadata": {},
   "source": [
    "## Retrieve data "
   ]
  },
  {
   "cell_type": "code",
   "execution_count": 459,
   "metadata": {},
   "outputs": [
    {
     "data": {
      "text/html": [
       "<div>\n",
       "<style scoped>\n",
       "    .dataframe tbody tr th:only-of-type {\n",
       "        vertical-align: middle;\n",
       "    }\n",
       "\n",
       "    .dataframe tbody tr th {\n",
       "        vertical-align: top;\n",
       "    }\n",
       "\n",
       "    .dataframe thead th {\n",
       "        text-align: right;\n",
       "    }\n",
       "</style>\n",
       "<table border=\"1\" class=\"dataframe\">\n",
       "  <thead>\n",
       "    <tr style=\"text-align: right;\">\n",
       "      <th></th>\n",
       "      <th>n.CaseID</th>\n",
       "      <th>e.KitID</th>\n",
       "      <th>n.start_timestamp</th>\n",
       "      <th>n.end_timestamp</th>\n",
       "      <th>e.Activity</th>\n",
       "      <th>e.Usuario</th>\n",
       "      <th>e.timestamp</th>\n",
       "      <th>w.machine</th>\n",
       "      <th>r.name</th>\n",
       "      <th>s.machine</th>\n",
       "      <th>s.type</th>\n",
       "    </tr>\n",
       "  </thead>\n",
       "  <tbody>\n",
       "    <tr>\n",
       "      <th>0</th>\n",
       "      <td>CONT-QUI.OFT-1-CN16354</td>\n",
       "      <td>CONT-QUI.OFT-1</td>\n",
       "      <td>2022-03-31T11:45:00.000000000+00:00</td>\n",
       "      <td>2022-03-31T11:54:00.000000000+00:00</td>\n",
       "      <td>Cargado en carro L+D</td>\n",
       "      <td>MR</td>\n",
       "      <td>2022-03-31 11:54:00+00:00</td>\n",
       "      <td>None</td>\n",
       "      <td>None</td>\n",
       "      <td>None</td>\n",
       "      <td>None</td>\n",
       "    </tr>\n",
       "    <tr>\n",
       "      <th>1</th>\n",
       "      <td>CONT-QUI.OFT-1-CN16354</td>\n",
       "      <td>CONT-QUI.OFT-1</td>\n",
       "      <td>2022-03-31T11:45:00.000000000+00:00</td>\n",
       "      <td>2022-03-31T11:54:00.000000000+00:00</td>\n",
       "      <td>Entrada Material Sucio</td>\n",
       "      <td>MR</td>\n",
       "      <td>2022-03-31 11:45:00+00:00</td>\n",
       "      <td>None</td>\n",
       "      <td>None</td>\n",
       "      <td>None</td>\n",
       "      <td>None</td>\n",
       "    </tr>\n",
       "    <tr>\n",
       "      <th>2</th>\n",
       "      <td>CONT-QUI.TRA-2-CN16353</td>\n",
       "      <td>CONT-QUI.TRA-2</td>\n",
       "      <td>2022-03-31T11:14:00.000000000+00:00</td>\n",
       "      <td>2022-03-31T13:48:00.000000000+00:00</td>\n",
       "      <td>Carga L+D iniciada</td>\n",
       "      <td>BM</td>\n",
       "      <td>2022-03-31 12:50:00+00:00</td>\n",
       "      <td>None</td>\n",
       "      <td>None</td>\n",
       "      <td>None</td>\n",
       "      <td>None</td>\n",
       "    </tr>\n",
       "    <tr>\n",
       "      <th>3</th>\n",
       "      <td>CONT-QUI.TRA-2-CN16353</td>\n",
       "      <td>CONT-QUI.TRA-2</td>\n",
       "      <td>2022-03-31T11:14:00.000000000+00:00</td>\n",
       "      <td>2022-03-31T13:48:00.000000000+00:00</td>\n",
       "      <td>Carga L+D liberada</td>\n",
       "      <td>MCE</td>\n",
       "      <td>2022-03-31 13:48:00+00:00</td>\n",
       "      <td>None</td>\n",
       "      <td>None</td>\n",
       "      <td>None</td>\n",
       "      <td>None</td>\n",
       "    </tr>\n",
       "    <tr>\n",
       "      <th>4</th>\n",
       "      <td>CONT-QUI.TRA-2-CN16353</td>\n",
       "      <td>CONT-QUI.TRA-2</td>\n",
       "      <td>2022-03-31T11:14:00.000000000+00:00</td>\n",
       "      <td>2022-03-31T13:48:00.000000000+00:00</td>\n",
       "      <td>Cargado en carro L+D</td>\n",
       "      <td>MR</td>\n",
       "      <td>2022-03-31 12:47:00+00:00</td>\n",
       "      <td>None</td>\n",
       "      <td>None</td>\n",
       "      <td>None</td>\n",
       "      <td>None</td>\n",
       "    </tr>\n",
       "  </tbody>\n",
       "</table>\n",
       "</div>"
      ],
      "text/plain": [
       "                 n.CaseID         e.KitID  \\\n",
       "0  CONT-QUI.OFT-1-CN16354  CONT-QUI.OFT-1   \n",
       "1  CONT-QUI.OFT-1-CN16354  CONT-QUI.OFT-1   \n",
       "2  CONT-QUI.TRA-2-CN16353  CONT-QUI.TRA-2   \n",
       "3  CONT-QUI.TRA-2-CN16353  CONT-QUI.TRA-2   \n",
       "4  CONT-QUI.TRA-2-CN16353  CONT-QUI.TRA-2   \n",
       "\n",
       "                     n.start_timestamp                      n.end_timestamp  \\\n",
       "0  2022-03-31T11:45:00.000000000+00:00  2022-03-31T11:54:00.000000000+00:00   \n",
       "1  2022-03-31T11:45:00.000000000+00:00  2022-03-31T11:54:00.000000000+00:00   \n",
       "2  2022-03-31T11:14:00.000000000+00:00  2022-03-31T13:48:00.000000000+00:00   \n",
       "3  2022-03-31T11:14:00.000000000+00:00  2022-03-31T13:48:00.000000000+00:00   \n",
       "4  2022-03-31T11:14:00.000000000+00:00  2022-03-31T13:48:00.000000000+00:00   \n",
       "\n",
       "               e.Activity e.Usuario               e.timestamp w.machine  \\\n",
       "0    Cargado en carro L+D        MR 2022-03-31 11:54:00+00:00      None   \n",
       "1  Entrada Material Sucio        MR 2022-03-31 11:45:00+00:00      None   \n",
       "2      Carga L+D iniciada        BM 2022-03-31 12:50:00+00:00      None   \n",
       "3      Carga L+D liberada       MCE 2022-03-31 13:48:00+00:00      None   \n",
       "4    Cargado en carro L+D        MR 2022-03-31 12:47:00+00:00      None   \n",
       "\n",
       "  r.name s.machine s.type  \n",
       "0   None      None   None  \n",
       "1   None      None   None  \n",
       "2   None      None   None  \n",
       "3   None      None   None  \n",
       "4   None      None   None  "
      ]
     },
     "execution_count": 459,
     "metadata": {},
     "output_type": "execute_result"
    }
   ],
   "source": [
    "query = f'''MATCH (n:Run) <- [:CORR] - (e:Event)\n",
    "Optional match (e) - [:WASHED_IN] -> (w:WashingMachine)\n",
    "Optional match (e) - [:WASHED_ON] -> (r:Rack)\n",
    "Optional match (e) - [:STERILIZED_IN] -> (s:SterilizationMachine)\n",
    "RETURN n.CaseID, e.KitID, n.start_timestamp, n.end_timestamp, e.Activity, e.Usuario, e.timestamp, w.machine, r.name, s.machine, s.type'''\n",
    "result = session.run(query)\n",
    "records = [record.values() for record in result]\n",
    "columns = result.keys()\n",
    "df = pd.DataFrame(records, columns=columns)\n",
    "df['e.timestamp'] = pd.to_datetime(df['e.timestamp'], format='%Y-%m-%dT%H:%M:%S.%f%z')\n",
    "df.head()"
   ]
  },
  {
   "cell_type": "code",
   "execution_count": 460,
   "metadata": {},
   "outputs": [
    {
     "data": {
      "text/html": [
       "<div>\n",
       "<style scoped>\n",
       "    .dataframe tbody tr th:only-of-type {\n",
       "        vertical-align: middle;\n",
       "    }\n",
       "\n",
       "    .dataframe tbody tr th {\n",
       "        vertical-align: top;\n",
       "    }\n",
       "\n",
       "    .dataframe thead th {\n",
       "        text-align: right;\n",
       "    }\n",
       "</style>\n",
       "<table border=\"1\" class=\"dataframe\">\n",
       "  <thead>\n",
       "    <tr style=\"text-align: right;\">\n",
       "      <th></th>\n",
       "      <th>case:concept:name</th>\n",
       "      <th>e.KitID</th>\n",
       "      <th>n.start_timestamp</th>\n",
       "      <th>n.end_timestamp</th>\n",
       "      <th>concept:name</th>\n",
       "      <th>e.Usuario</th>\n",
       "      <th>time:timestamp</th>\n",
       "      <th>w.machine</th>\n",
       "      <th>r.name</th>\n",
       "      <th>s.machine</th>\n",
       "      <th>s.type</th>\n",
       "      <th>@@index</th>\n",
       "    </tr>\n",
       "  </thead>\n",
       "  <tbody>\n",
       "    <tr>\n",
       "      <th>37805</th>\n",
       "      <td>CONT-CCEE.ALE-1-CN10693</td>\n",
       "      <td>CONT-CCEE.ALE-1</td>\n",
       "      <td>2022-02-22T13:21:00.000000000+00:00</td>\n",
       "      <td>2022-02-22T15:06:00.000000000+00:00</td>\n",
       "      <td>Entrada Material Sucio</td>\n",
       "      <td>LI</td>\n",
       "      <td>2022-02-22 13:21:00+00:00</td>\n",
       "      <td>None</td>\n",
       "      <td>None</td>\n",
       "      <td>None</td>\n",
       "      <td>None</td>\n",
       "      <td>37805</td>\n",
       "    </tr>\n",
       "    <tr>\n",
       "      <th>37808</th>\n",
       "      <td>CONT-CCEE.ALE-1-CN10693</td>\n",
       "      <td>CONT-CCEE.ALE-1</td>\n",
       "      <td>2022-02-22T13:21:00.000000000+00:00</td>\n",
       "      <td>2022-02-22T15:06:00.000000000+00:00</td>\n",
       "      <td>Cargado en carro L+D</td>\n",
       "      <td>LI</td>\n",
       "      <td>2022-02-22 13:28:00+00:00</td>\n",
       "      <td>None</td>\n",
       "      <td>None</td>\n",
       "      <td>None</td>\n",
       "      <td>None</td>\n",
       "      <td>37808</td>\n",
       "    </tr>\n",
       "    <tr>\n",
       "      <th>37806</th>\n",
       "      <td>CONT-CCEE.ALE-1-CN10693</td>\n",
       "      <td>CONT-CCEE.ALE-1</td>\n",
       "      <td>2022-02-22T13:21:00.000000000+00:00</td>\n",
       "      <td>2022-02-22T15:06:00.000000000+00:00</td>\n",
       "      <td>Carga L+D iniciada</td>\n",
       "      <td>MR</td>\n",
       "      <td>2022-02-22 13:57:00+00:00</td>\n",
       "      <td>None</td>\n",
       "      <td>None</td>\n",
       "      <td>None</td>\n",
       "      <td>None</td>\n",
       "      <td>37806</td>\n",
       "    </tr>\n",
       "    <tr>\n",
       "      <th>37807</th>\n",
       "      <td>CONT-CCEE.ALE-1-CN10693</td>\n",
       "      <td>CONT-CCEE.ALE-1</td>\n",
       "      <td>2022-02-22T13:21:00.000000000+00:00</td>\n",
       "      <td>2022-02-22T15:06:00.000000000+00:00</td>\n",
       "      <td>Carga L+D liberada</td>\n",
       "      <td>SM</td>\n",
       "      <td>2022-02-22 15:06:00+00:00</td>\n",
       "      <td>None</td>\n",
       "      <td>None</td>\n",
       "      <td>None</td>\n",
       "      <td>None</td>\n",
       "      <td>37807</td>\n",
       "    </tr>\n",
       "    <tr>\n",
       "      <th>34973</th>\n",
       "      <td>CONT-CCEE.ALE-1-CN11313</td>\n",
       "      <td>CONT-CCEE.ALE-1</td>\n",
       "      <td>2022-02-24T13:26:00.000000000+00:00</td>\n",
       "      <td>2022-02-24T15:03:00.000000000+00:00</td>\n",
       "      <td>Entrada Material Sucio</td>\n",
       "      <td>PG</td>\n",
       "      <td>2022-02-24 13:26:00+00:00</td>\n",
       "      <td>None</td>\n",
       "      <td>None</td>\n",
       "      <td>None</td>\n",
       "      <td>None</td>\n",
       "      <td>34973</td>\n",
       "    </tr>\n",
       "    <tr>\n",
       "      <th>...</th>\n",
       "      <td>...</td>\n",
       "      <td>...</td>\n",
       "      <td>...</td>\n",
       "      <td>...</td>\n",
       "      <td>...</td>\n",
       "      <td>...</td>\n",
       "      <td>...</td>\n",
       "      <td>...</td>\n",
       "      <td>...</td>\n",
       "      <td>...</td>\n",
       "      <td>...</td>\n",
       "      <td>...</td>\n",
       "    </tr>\n",
       "    <tr>\n",
       "      <th>44035</th>\n",
       "      <td>TRAN-QUI.TRA.ZIMMER-1-CN9347</td>\n",
       "      <td>TRAN-QUI.TRA.ZIMMER-1</td>\n",
       "      <td>2022-02-16T12:37:00.000000000+00:00</td>\n",
       "      <td>2022-02-16T21:34:00.000000000+00:00</td>\n",
       "      <td>Producción montada</td>\n",
       "      <td>MCE</td>\n",
       "      <td>2022-02-16 17:04:00+00:00</td>\n",
       "      <td>None</td>\n",
       "      <td>None</td>\n",
       "      <td>None</td>\n",
       "      <td>None</td>\n",
       "      <td>44035</td>\n",
       "    </tr>\n",
       "    <tr>\n",
       "      <th>44038</th>\n",
       "      <td>TRAN-QUI.TRA.ZIMMER-1-CN9347</td>\n",
       "      <td>TRAN-QUI.TRA.ZIMMER-1</td>\n",
       "      <td>2022-02-16T12:37:00.000000000+00:00</td>\n",
       "      <td>2022-02-16T21:34:00.000000000+00:00</td>\n",
       "      <td>Montaje</td>\n",
       "      <td>MCE</td>\n",
       "      <td>2022-02-16 17:04:00+00:00</td>\n",
       "      <td>None</td>\n",
       "      <td>None</td>\n",
       "      <td>None</td>\n",
       "      <td>None</td>\n",
       "      <td>44038</td>\n",
       "    </tr>\n",
       "    <tr>\n",
       "      <th>44032</th>\n",
       "      <td>TRAN-QUI.TRA.ZIMMER-1-CN9347</td>\n",
       "      <td>TRAN-QUI.TRA.ZIMMER-1</td>\n",
       "      <td>2022-02-16T12:37:00.000000000+00:00</td>\n",
       "      <td>2022-02-16T21:34:00.000000000+00:00</td>\n",
       "      <td>Composición de cargas</td>\n",
       "      <td>MMF</td>\n",
       "      <td>2022-02-16 17:24:00+00:00</td>\n",
       "      <td>None</td>\n",
       "      <td>None</td>\n",
       "      <td>Autoclave 1</td>\n",
       "      <td>High Temperature Sterilization</td>\n",
       "      <td>44032</td>\n",
       "    </tr>\n",
       "    <tr>\n",
       "      <th>44034</th>\n",
       "      <td>TRAN-QUI.TRA.ZIMMER-1-CN9347</td>\n",
       "      <td>TRAN-QUI.TRA.ZIMMER-1</td>\n",
       "      <td>2022-02-16T12:37:00.000000000+00:00</td>\n",
       "      <td>2022-02-16T21:34:00.000000000+00:00</td>\n",
       "      <td>Carga de esterilizador liberada</td>\n",
       "      <td>PN</td>\n",
       "      <td>2022-02-16 19:00:00+00:00</td>\n",
       "      <td>None</td>\n",
       "      <td>None</td>\n",
       "      <td>None</td>\n",
       "      <td>None</td>\n",
       "      <td>44034</td>\n",
       "    </tr>\n",
       "    <tr>\n",
       "      <th>44037</th>\n",
       "      <td>TRAN-QUI.TRA.ZIMMER-1-CN9347</td>\n",
       "      <td>TRAN-QUI.TRA.ZIMMER-1</td>\n",
       "      <td>2022-02-16T12:37:00.000000000+00:00</td>\n",
       "      <td>2022-02-16T21:34:00.000000000+00:00</td>\n",
       "      <td>Comisionado</td>\n",
       "      <td>PN</td>\n",
       "      <td>2022-02-16 21:34:00+00:00</td>\n",
       "      <td>None</td>\n",
       "      <td>None</td>\n",
       "      <td>None</td>\n",
       "      <td>None</td>\n",
       "      <td>44037</td>\n",
       "    </tr>\n",
       "  </tbody>\n",
       "</table>\n",
       "<p>172560 rows × 12 columns</p>\n",
       "</div>"
      ],
      "text/plain": [
       "                  case:concept:name                e.KitID  \\\n",
       "37805       CONT-CCEE.ALE-1-CN10693        CONT-CCEE.ALE-1   \n",
       "37808       CONT-CCEE.ALE-1-CN10693        CONT-CCEE.ALE-1   \n",
       "37806       CONT-CCEE.ALE-1-CN10693        CONT-CCEE.ALE-1   \n",
       "37807       CONT-CCEE.ALE-1-CN10693        CONT-CCEE.ALE-1   \n",
       "34973       CONT-CCEE.ALE-1-CN11313        CONT-CCEE.ALE-1   \n",
       "...                             ...                    ...   \n",
       "44035  TRAN-QUI.TRA.ZIMMER-1-CN9347  TRAN-QUI.TRA.ZIMMER-1   \n",
       "44038  TRAN-QUI.TRA.ZIMMER-1-CN9347  TRAN-QUI.TRA.ZIMMER-1   \n",
       "44032  TRAN-QUI.TRA.ZIMMER-1-CN9347  TRAN-QUI.TRA.ZIMMER-1   \n",
       "44034  TRAN-QUI.TRA.ZIMMER-1-CN9347  TRAN-QUI.TRA.ZIMMER-1   \n",
       "44037  TRAN-QUI.TRA.ZIMMER-1-CN9347  TRAN-QUI.TRA.ZIMMER-1   \n",
       "\n",
       "                         n.start_timestamp  \\\n",
       "37805  2022-02-22T13:21:00.000000000+00:00   \n",
       "37808  2022-02-22T13:21:00.000000000+00:00   \n",
       "37806  2022-02-22T13:21:00.000000000+00:00   \n",
       "37807  2022-02-22T13:21:00.000000000+00:00   \n",
       "34973  2022-02-24T13:26:00.000000000+00:00   \n",
       "...                                    ...   \n",
       "44035  2022-02-16T12:37:00.000000000+00:00   \n",
       "44038  2022-02-16T12:37:00.000000000+00:00   \n",
       "44032  2022-02-16T12:37:00.000000000+00:00   \n",
       "44034  2022-02-16T12:37:00.000000000+00:00   \n",
       "44037  2022-02-16T12:37:00.000000000+00:00   \n",
       "\n",
       "                           n.end_timestamp                     concept:name  \\\n",
       "37805  2022-02-22T15:06:00.000000000+00:00           Entrada Material Sucio   \n",
       "37808  2022-02-22T15:06:00.000000000+00:00             Cargado en carro L+D   \n",
       "37806  2022-02-22T15:06:00.000000000+00:00               Carga L+D iniciada   \n",
       "37807  2022-02-22T15:06:00.000000000+00:00               Carga L+D liberada   \n",
       "34973  2022-02-24T15:03:00.000000000+00:00           Entrada Material Sucio   \n",
       "...                                    ...                              ...   \n",
       "44035  2022-02-16T21:34:00.000000000+00:00               Producción montada   \n",
       "44038  2022-02-16T21:34:00.000000000+00:00                          Montaje   \n",
       "44032  2022-02-16T21:34:00.000000000+00:00            Composición de cargas   \n",
       "44034  2022-02-16T21:34:00.000000000+00:00  Carga de esterilizador liberada   \n",
       "44037  2022-02-16T21:34:00.000000000+00:00                      Comisionado   \n",
       "\n",
       "      e.Usuario            time:timestamp w.machine r.name    s.machine  \\\n",
       "37805        LI 2022-02-22 13:21:00+00:00      None   None         None   \n",
       "37808        LI 2022-02-22 13:28:00+00:00      None   None         None   \n",
       "37806        MR 2022-02-22 13:57:00+00:00      None   None         None   \n",
       "37807        SM 2022-02-22 15:06:00+00:00      None   None         None   \n",
       "34973        PG 2022-02-24 13:26:00+00:00      None   None         None   \n",
       "...         ...                       ...       ...    ...          ...   \n",
       "44035       MCE 2022-02-16 17:04:00+00:00      None   None         None   \n",
       "44038       MCE 2022-02-16 17:04:00+00:00      None   None         None   \n",
       "44032       MMF 2022-02-16 17:24:00+00:00      None   None  Autoclave 1   \n",
       "44034        PN 2022-02-16 19:00:00+00:00      None   None         None   \n",
       "44037        PN 2022-02-16 21:34:00+00:00      None   None         None   \n",
       "\n",
       "                               s.type  @@index  \n",
       "37805                            None    37805  \n",
       "37808                            None    37808  \n",
       "37806                            None    37806  \n",
       "37807                            None    37807  \n",
       "34973                            None    34973  \n",
       "...                               ...      ...  \n",
       "44035                            None    44035  \n",
       "44038                            None    44038  \n",
       "44032  High Temperature Sterilization    44032  \n",
       "44034                            None    44034  \n",
       "44037                            None    44037  \n",
       "\n",
       "[172560 rows x 12 columns]"
      ]
     },
     "execution_count": 460,
     "metadata": {},
     "output_type": "execute_result"
    }
   ],
   "source": [
    "event_log = pm4py.format_dataframe(df, case_id='n.CaseID', activity_key='e.Activity', timestamp_key='e.timestamp')\n",
    "#event_log = pm4py.convert_to_event_log(event_log)\n",
    "event_log"
   ]
  },
  {
   "cell_type": "code",
   "execution_count": 461,
   "metadata": {},
   "outputs": [],
   "source": [
    "original_df = event_log.copy()\n",
    "original_df.fillna('NaN', inplace=True)"
   ]
  },
  {
   "cell_type": "code",
   "execution_count": 462,
   "metadata": {},
   "outputs": [],
   "source": [
    "event_log = pm4py.convert_to_event_log(event_log)"
   ]
  },
  {
   "cell_type": "markdown",
   "metadata": {},
   "source": [
    "## Split train test\n"
   ]
  },
  {
   "cell_type": "code",
   "execution_count": 463,
   "metadata": {},
   "outputs": [],
   "source": [
    "prefix_traces = []\n",
    "for trace in event_log:\n",
    "    trace_end_flag = False\n",
    "    for i,event in enumerate(trace):\n",
    "        if \"Comisionado\" in event['concept:name']:\n",
    "            trace_end_flag = True\n",
    "            i+=1\n",
    "            break\n",
    "        if \"Carga de esterilizador liberada\" in event['concept:name']:\n",
    "            trace_end_flag = True\n",
    "    if trace_end_flag:\n",
    "        prefix_traces.append(Trace(trace[:i], attributes = trace.attributes))\n",
    "prefix_traces = EventLog(prefix_traces)"
   ]
  },
  {
   "cell_type": "code",
   "execution_count": 464,
   "metadata": {},
   "outputs": [
    {
     "data": {
      "text/html": [
       "<div>\n",
       "<style scoped>\n",
       "    .dataframe tbody tr th:only-of-type {\n",
       "        vertical-align: middle;\n",
       "    }\n",
       "\n",
       "    .dataframe tbody tr th {\n",
       "        vertical-align: top;\n",
       "    }\n",
       "\n",
       "    .dataframe thead th {\n",
       "        text-align: right;\n",
       "    }\n",
       "</style>\n",
       "<table border=\"1\" class=\"dataframe\">\n",
       "  <thead>\n",
       "    <tr style=\"text-align: right;\">\n",
       "      <th></th>\n",
       "      <th>e.KitID</th>\n",
       "      <th>n.start_timestamp</th>\n",
       "      <th>n.end_timestamp</th>\n",
       "      <th>concept:name</th>\n",
       "      <th>e.Usuario</th>\n",
       "      <th>time:timestamp</th>\n",
       "      <th>w.machine</th>\n",
       "      <th>r.name</th>\n",
       "      <th>s.machine</th>\n",
       "      <th>s.type</th>\n",
       "      <th>@@index</th>\n",
       "      <th>case:concept:name</th>\n",
       "    </tr>\n",
       "  </thead>\n",
       "  <tbody>\n",
       "    <tr>\n",
       "      <th>0</th>\n",
       "      <td>DEP-QUI.BTF-1</td>\n",
       "      <td>2022-01-12T09:04:00.000000000+00:00</td>\n",
       "      <td>2022-01-12T21:42:00.000000000+00:00</td>\n",
       "      <td>Entrada Material Sucio</td>\n",
       "      <td>EH</td>\n",
       "      <td>2022-01-12 09:04:00+00:00</td>\n",
       "      <td>None</td>\n",
       "      <td>None</td>\n",
       "      <td>None</td>\n",
       "      <td>None</td>\n",
       "      <td>83063</td>\n",
       "      <td>DEP-QUI.BTF-1-CN1434</td>\n",
       "    </tr>\n",
       "    <tr>\n",
       "      <th>1</th>\n",
       "      <td>DEP-QUI.BTF-1</td>\n",
       "      <td>2022-01-12T09:04:00.000000000+00:00</td>\n",
       "      <td>2022-01-12T21:42:00.000000000+00:00</td>\n",
       "      <td>Carga L+D iniciada</td>\n",
       "      <td>EH</td>\n",
       "      <td>2022-01-12 09:05:00+00:00</td>\n",
       "      <td>None</td>\n",
       "      <td>None</td>\n",
       "      <td>None</td>\n",
       "      <td>None</td>\n",
       "      <td>83066</td>\n",
       "      <td>DEP-QUI.BTF-1-CN1434</td>\n",
       "    </tr>\n",
       "    <tr>\n",
       "      <th>2</th>\n",
       "      <td>DEP-QUI.BTF-1</td>\n",
       "      <td>2022-01-12T09:04:00.000000000+00:00</td>\n",
       "      <td>2022-01-12T21:42:00.000000000+00:00</td>\n",
       "      <td>Cargado en carro L+D</td>\n",
       "      <td>EH</td>\n",
       "      <td>2022-01-12 09:05:00+00:00</td>\n",
       "      <td>None</td>\n",
       "      <td>None</td>\n",
       "      <td>None</td>\n",
       "      <td>None</td>\n",
       "      <td>83067</td>\n",
       "      <td>DEP-QUI.BTF-1-CN1434</td>\n",
       "    </tr>\n",
       "    <tr>\n",
       "      <th>3</th>\n",
       "      <td>DEP-QUI.BTF-1</td>\n",
       "      <td>2022-01-12T09:04:00.000000000+00:00</td>\n",
       "      <td>2022-01-12T21:42:00.000000000+00:00</td>\n",
       "      <td>Montaje</td>\n",
       "      <td>MR</td>\n",
       "      <td>2022-01-12 09:12:00+00:00</td>\n",
       "      <td>None</td>\n",
       "      <td>None</td>\n",
       "      <td>None</td>\n",
       "      <td>None</td>\n",
       "      <td>83062</td>\n",
       "      <td>DEP-QUI.BTF-1-CN1434</td>\n",
       "    </tr>\n",
       "    <tr>\n",
       "      <th>4</th>\n",
       "      <td>DEP-QUI.BTF-1</td>\n",
       "      <td>2022-01-12T09:04:00.000000000+00:00</td>\n",
       "      <td>2022-01-12T21:42:00.000000000+00:00</td>\n",
       "      <td>Producción montada</td>\n",
       "      <td>MR</td>\n",
       "      <td>2022-01-12 09:14:00+00:00</td>\n",
       "      <td>None</td>\n",
       "      <td>None</td>\n",
       "      <td>None</td>\n",
       "      <td>None</td>\n",
       "      <td>83068</td>\n",
       "      <td>DEP-QUI.BTF-1-CN1434</td>\n",
       "    </tr>\n",
       "  </tbody>\n",
       "</table>\n",
       "</div>"
      ],
      "text/plain": [
       "         e.KitID                    n.start_timestamp  \\\n",
       "0  DEP-QUI.BTF-1  2022-01-12T09:04:00.000000000+00:00   \n",
       "1  DEP-QUI.BTF-1  2022-01-12T09:04:00.000000000+00:00   \n",
       "2  DEP-QUI.BTF-1  2022-01-12T09:04:00.000000000+00:00   \n",
       "3  DEP-QUI.BTF-1  2022-01-12T09:04:00.000000000+00:00   \n",
       "4  DEP-QUI.BTF-1  2022-01-12T09:04:00.000000000+00:00   \n",
       "\n",
       "                       n.end_timestamp            concept:name e.Usuario  \\\n",
       "0  2022-01-12T21:42:00.000000000+00:00  Entrada Material Sucio        EH   \n",
       "1  2022-01-12T21:42:00.000000000+00:00      Carga L+D iniciada        EH   \n",
       "2  2022-01-12T21:42:00.000000000+00:00    Cargado en carro L+D        EH   \n",
       "3  2022-01-12T21:42:00.000000000+00:00                 Montaje        MR   \n",
       "4  2022-01-12T21:42:00.000000000+00:00      Producción montada        MR   \n",
       "\n",
       "             time:timestamp w.machine r.name s.machine s.type  @@index  \\\n",
       "0 2022-01-12 09:04:00+00:00      None   None      None   None    83063   \n",
       "1 2022-01-12 09:05:00+00:00      None   None      None   None    83066   \n",
       "2 2022-01-12 09:05:00+00:00      None   None      None   None    83067   \n",
       "3 2022-01-12 09:12:00+00:00      None   None      None   None    83062   \n",
       "4 2022-01-12 09:14:00+00:00      None   None      None   None    83068   \n",
       "\n",
       "      case:concept:name  \n",
       "0  DEP-QUI.BTF-1-CN1434  \n",
       "1  DEP-QUI.BTF-1-CN1434  \n",
       "2  DEP-QUI.BTF-1-CN1434  \n",
       "3  DEP-QUI.BTF-1-CN1434  \n",
       "4  DEP-QUI.BTF-1-CN1434  "
      ]
     },
     "execution_count": 464,
     "metadata": {},
     "output_type": "execute_result"
    }
   ],
   "source": [
    "trace = pm4py.convert_to_dataframe(prefix_traces)\n",
    "trace.head()\n"
   ]
  },
  {
   "cell_type": "code",
   "execution_count": 465,
   "metadata": {},
   "outputs": [],
   "source": [
    "# get completion time and sort\n",
    "completion_time_ls = list(trace.groupby(['case:concept:name'])['time:timestamp'].max())\n",
    "completion_time_ls = sorted(completion_time_ls)"
   ]
  },
  {
   "cell_type": "code",
   "execution_count": 466,
   "metadata": {},
   "outputs": [
    {
     "data": {
      "text/plain": [
       "(Timestamp('2022-02-23 21:31:00+0000', tz='UTC'),\n",
       " Timestamp('2022-03-10 13:06:00+0000', tz='UTC'))"
      ]
     },
     "execution_count": 466,
     "metadata": {},
     "output_type": "execute_result"
    }
   ],
   "source": [
    "# split on 70% max time \n",
    "train_split_portion = 0.70\n",
    "val_split_seperation = 0.85\n",
    "total_data = len(completion_time_ls)\n",
    "train_len = int(train_split_portion*total_data)\n",
    "val_len = int(val_split_seperation*total_data)\n",
    "last_train_completion_time = completion_time_ls[train_len]\n",
    "last_val_completion_time = completion_time_ls[val_len]\n",
    "val_start_time = last_train_completion_time\n",
    "last_train_completion_time,last_val_completion_time"
   ]
  },
  {
   "cell_type": "code",
   "execution_count": 467,
   "metadata": {},
   "outputs": [
    {
     "name": "stdout",
     "output_type": "stream",
     "text": [
      "train, val and test count\n",
      "9499 2019 2022\n"
     ]
    }
   ],
   "source": [
    "# take all traces where start dates are after the last_train_completion_time\n",
    "dtype_list = list(trace.dtypes) # get original types of the columns\n",
    "train_df = pd.DataFrame(columns = trace.columns)\n",
    "test_df = pd.DataFrame(columns = trace.columns)\n",
    "val_df = pd.DataFrame(columns = trace.columns)\n",
    "train_count,test_count,val_count = 0,0,0\n",
    "intersecting_traces = []\n",
    "for name, group in trace.groupby(['case:concept:name'],as_index=False):\n",
    "    if group['time:timestamp'].iloc[-1] <= last_train_completion_time:\n",
    "        train_df = train_df.append(group)\n",
    "        train_count+=1\n",
    "    # elif (group['startTime'].iloc[0] >= last_train_completion_time) and (group['completeTime'].iloc[-1] <= last_val_completion_time):\n",
    "    elif group['time:timestamp'].iloc[-1] <= last_val_completion_time:\n",
    "        val_df = val_df.append(group)\n",
    "        val_count+=1        \n",
    "    # elif group['startTime'].iloc[0] >= last_val_completion_time:\n",
    "    #     test_df = test_df.append(group)\n",
    "    #     test_count+=1\n",
    "    else:\n",
    "        test_df = test_df.append(group)\n",
    "        test_count+=1\n",
    "        # intersecting_traces.append(group)\n",
    "\n",
    "\n",
    "# converting train and test to their original data types\n",
    "for i,col in enumerate(train_df.columns):\n",
    "    train_df[col] = train_df[col].astype(dtype_list[i])\n",
    "\n",
    "for i,col in enumerate(test_df.columns):\n",
    "    test_df[col] = test_df[col].astype(dtype_list[i])\n",
    "\n",
    "for i,col in enumerate(val_df.columns):\n",
    "    val_df[col] = val_df[col].astype(dtype_list[i])\n",
    "\n",
    "\n",
    "print(\"train, val and test count\")\n",
    "print(train_count,val_count,test_count)"
   ]
  },
  {
   "cell_type": "markdown",
   "metadata": {},
   "source": [
    "## Data encoding"
   ]
  },
  {
   "cell_type": "code",
   "execution_count": 468,
   "metadata": {},
   "outputs": [],
   "source": [
    "def get_ohe_dict(categorical_vars, df):\n",
    "    ohe_dict = {}\n",
    "    for var in categorical_vars:\n",
    "        var_dict = {}\n",
    "        print(df[var].unique())\n",
    "        var_data = sorted(df[var].unique())\n",
    "        var_len = len(var_data)\n",
    "        for i,cat in enumerate(var_data):\n",
    "            var_dict[cat] = [0]*var_len\n",
    "            var_dict[cat][i] = 1\n",
    "\n",
    "        ohe_dict[var] = var_dict\n",
    "\n",
    "    return ohe_dict"
   ]
  },
  {
   "cell_type": "code",
   "execution_count": 469,
   "metadata": {},
   "outputs": [],
   "source": [
    "# function to save the data\n",
    "def save_data(X,y,feature_names, save_path):\n",
    "    data_dict = {}\n",
    "    data_dict['X'] = X\n",
    "    data_dict['y'] = y\n",
    "    data_dict['feature_names'] = feature_names\n",
    "\n",
    "    # save pickle\n",
    "    with open(save_path, 'wb') as handle:\n",
    "        pickle.dump(data_dict, handle)"
   ]
  },
  {
   "cell_type": "code",
   "execution_count": 470,
   "metadata": {},
   "outputs": [],
   "source": [
    "def load_data(load_path):\n",
    "    with open(load_path, 'rb') as handle:\n",
    "        data = pickle.load(handle)\n",
    "    return data"
   ]
  },
  {
   "cell_type": "markdown",
   "metadata": {},
   "source": [
    "### Train data"
   ]
  },
  {
   "cell_type": "code",
   "execution_count": 471,
   "metadata": {},
   "outputs": [],
   "source": [
    "t_length = 10\n",
    "save_path_base = '/Users/abdalrhman/Documents/bdma-thesis/python/data/'\n",
    "df_type = 'train'\n",
    "permits = train_df"
   ]
  },
  {
   "cell_type": "code",
   "execution_count": 472,
   "metadata": {},
   "outputs": [],
   "source": [
    "trace_log = pm4py.format_dataframe(permits, case_id='case:concept:name', activity_key='concept:name', timestamp_key='time:timestamp')\n",
    "trace_log = pm4py.convert_to_event_log(trace_log)"
   ]
  },
  {
   "cell_type": "code",
   "execution_count": 473,
   "metadata": {},
   "outputs": [],
   "source": [
    "is_delayed = []\n",
    "for trace in trace_log:\n",
    "    flag = False\n",
    "    for i,event in enumerate(trace):\n",
    "        startTimestamp = pd.to_datetime(event['n.start_timestamp'], format='%Y-%m-%dT%H:%M:%S.%f%z')\n",
    "        finishTimestamp = pd.to_datetime(event['n.end_timestamp'], format='%Y-%m-%dT%H:%M:%S.%f%z')\n",
    "\n",
    "        duration_minutes = (finishTimestamp - startTimestamp).total_seconds() / 60\n",
    "\n",
    "        if duration_minutes > 370:\n",
    "            flag = True\n",
    "            break\n",
    "    \n",
    "    if flag:\n",
    "        is_delayed.append(1)\n",
    "    else:\n",
    "        is_delayed.append(0)"
   ]
  },
  {
   "cell_type": "code",
   "execution_count": 474,
   "metadata": {},
   "outputs": [],
   "source": [
    "prefix_traces = []\n",
    "for trace in trace_log:\n",
    "    for i,event in enumerate(trace):\n",
    "        if (\"Comisionado\" not in event['concept:name']) or (\"Carga de esterilizador liberada\" not in event['concept:name']):\n",
    "            break\n",
    "    prefix_traces.append(Trace(trace[:i], attributes = trace.attributes))\n",
    "prefix_traces = EventLog(prefix_traces)"
   ]
  },
  {
   "cell_type": "code",
   "execution_count": 475,
   "metadata": {},
   "outputs": [],
   "source": [
    "trace_prefixes = EventLog([Trace(trace[0:t_length], attributes = trace.attributes) for trace in prefix_traces])"
   ]
  },
  {
   "cell_type": "code",
   "execution_count": 476,
   "metadata": {},
   "outputs": [
    {
     "data": {
      "text/html": [
       "<div>\n",
       "<style scoped>\n",
       "    .dataframe tbody tr th:only-of-type {\n",
       "        vertical-align: middle;\n",
       "    }\n",
       "\n",
       "    .dataframe tbody tr th {\n",
       "        vertical-align: top;\n",
       "    }\n",
       "\n",
       "    .dataframe thead th {\n",
       "        text-align: right;\n",
       "    }\n",
       "</style>\n",
       "<table border=\"1\" class=\"dataframe\">\n",
       "  <thead>\n",
       "    <tr style=\"text-align: right;\">\n",
       "      <th></th>\n",
       "      <th>e.KitID</th>\n",
       "      <th>n.start_timestamp</th>\n",
       "      <th>n.end_timestamp</th>\n",
       "      <th>concept:name</th>\n",
       "      <th>e.Usuario</th>\n",
       "      <th>time:timestamp</th>\n",
       "      <th>w.machine</th>\n",
       "      <th>r.name</th>\n",
       "      <th>s.machine</th>\n",
       "      <th>s.type</th>\n",
       "      <th>@@index</th>\n",
       "      <th>case:concept:name</th>\n",
       "    </tr>\n",
       "  </thead>\n",
       "  <tbody>\n",
       "    <tr>\n",
       "      <th>0</th>\n",
       "      <td>DEP-QUI.BTF-1</td>\n",
       "      <td>2022-01-12T09:04:00.000000000+00:00</td>\n",
       "      <td>2022-01-12T21:42:00.000000000+00:00</td>\n",
       "      <td>Entrada Material Sucio</td>\n",
       "      <td>EH</td>\n",
       "      <td>2022-01-12 09:04:00+00:00</td>\n",
       "      <td>None</td>\n",
       "      <td>None</td>\n",
       "      <td>None</td>\n",
       "      <td>None</td>\n",
       "      <td>0</td>\n",
       "      <td>DEP-QUI.BTF-1-CN1434</td>\n",
       "    </tr>\n",
       "    <tr>\n",
       "      <th>1</th>\n",
       "      <td>DEP-QUI.BTF-1</td>\n",
       "      <td>2022-01-12T09:04:00.000000000+00:00</td>\n",
       "      <td>2022-01-12T21:42:00.000000000+00:00</td>\n",
       "      <td>Carga L+D iniciada</td>\n",
       "      <td>EH</td>\n",
       "      <td>2022-01-12 09:05:00+00:00</td>\n",
       "      <td>None</td>\n",
       "      <td>None</td>\n",
       "      <td>None</td>\n",
       "      <td>None</td>\n",
       "      <td>1</td>\n",
       "      <td>DEP-QUI.BTF-1-CN1434</td>\n",
       "    </tr>\n",
       "    <tr>\n",
       "      <th>2</th>\n",
       "      <td>DEP-QUI.BTF-1</td>\n",
       "      <td>2022-01-12T09:04:00.000000000+00:00</td>\n",
       "      <td>2022-01-12T21:42:00.000000000+00:00</td>\n",
       "      <td>Cargado en carro L+D</td>\n",
       "      <td>EH</td>\n",
       "      <td>2022-01-12 09:05:00+00:00</td>\n",
       "      <td>None</td>\n",
       "      <td>None</td>\n",
       "      <td>None</td>\n",
       "      <td>None</td>\n",
       "      <td>2</td>\n",
       "      <td>DEP-QUI.BTF-1-CN1434</td>\n",
       "    </tr>\n",
       "    <tr>\n",
       "      <th>3</th>\n",
       "      <td>DEP-QUI.BTF-1</td>\n",
       "      <td>2022-01-12T09:04:00.000000000+00:00</td>\n",
       "      <td>2022-01-12T21:42:00.000000000+00:00</td>\n",
       "      <td>Montaje</td>\n",
       "      <td>MR</td>\n",
       "      <td>2022-01-12 09:12:00+00:00</td>\n",
       "      <td>None</td>\n",
       "      <td>None</td>\n",
       "      <td>None</td>\n",
       "      <td>None</td>\n",
       "      <td>3</td>\n",
       "      <td>DEP-QUI.BTF-1-CN1434</td>\n",
       "    </tr>\n",
       "    <tr>\n",
       "      <th>4</th>\n",
       "      <td>DEP-QUI.BTF-1</td>\n",
       "      <td>2022-01-12T09:04:00.000000000+00:00</td>\n",
       "      <td>2022-01-12T21:42:00.000000000+00:00</td>\n",
       "      <td>Producción montada</td>\n",
       "      <td>MR</td>\n",
       "      <td>2022-01-12 09:14:00+00:00</td>\n",
       "      <td>None</td>\n",
       "      <td>None</td>\n",
       "      <td>None</td>\n",
       "      <td>None</td>\n",
       "      <td>4</td>\n",
       "      <td>DEP-QUI.BTF-1-CN1434</td>\n",
       "    </tr>\n",
       "  </tbody>\n",
       "</table>\n",
       "</div>"
      ],
      "text/plain": [
       "         e.KitID                    n.start_timestamp  \\\n",
       "0  DEP-QUI.BTF-1  2022-01-12T09:04:00.000000000+00:00   \n",
       "1  DEP-QUI.BTF-1  2022-01-12T09:04:00.000000000+00:00   \n",
       "2  DEP-QUI.BTF-1  2022-01-12T09:04:00.000000000+00:00   \n",
       "3  DEP-QUI.BTF-1  2022-01-12T09:04:00.000000000+00:00   \n",
       "4  DEP-QUI.BTF-1  2022-01-12T09:04:00.000000000+00:00   \n",
       "\n",
       "                       n.end_timestamp            concept:name e.Usuario  \\\n",
       "0  2022-01-12T21:42:00.000000000+00:00  Entrada Material Sucio        EH   \n",
       "1  2022-01-12T21:42:00.000000000+00:00      Carga L+D iniciada        EH   \n",
       "2  2022-01-12T21:42:00.000000000+00:00    Cargado en carro L+D        EH   \n",
       "3  2022-01-12T21:42:00.000000000+00:00                 Montaje        MR   \n",
       "4  2022-01-12T21:42:00.000000000+00:00      Producción montada        MR   \n",
       "\n",
       "             time:timestamp w.machine r.name s.machine s.type  @@index  \\\n",
       "0 2022-01-12 09:04:00+00:00      None   None      None   None        0   \n",
       "1 2022-01-12 09:05:00+00:00      None   None      None   None        1   \n",
       "2 2022-01-12 09:05:00+00:00      None   None      None   None        2   \n",
       "3 2022-01-12 09:12:00+00:00      None   None      None   None        3   \n",
       "4 2022-01-12 09:14:00+00:00      None   None      None   None        4   \n",
       "\n",
       "      case:concept:name  \n",
       "0  DEP-QUI.BTF-1-CN1434  \n",
       "1  DEP-QUI.BTF-1-CN1434  \n",
       "2  DEP-QUI.BTF-1-CN1434  \n",
       "3  DEP-QUI.BTF-1-CN1434  \n",
       "4  DEP-QUI.BTF-1-CN1434  "
      ]
     },
     "execution_count": 476,
     "metadata": {},
     "output_type": "execute_result"
    }
   ],
   "source": [
    "df = pm4py.convert_to_dataframe(trace_log)\n",
    "df.head(5)"
   ]
  },
  {
   "cell_type": "code",
   "execution_count": 477,
   "metadata": {},
   "outputs": [
    {
     "data": {
      "text/html": [
       "<div>\n",
       "<style scoped>\n",
       "    .dataframe tbody tr th:only-of-type {\n",
       "        vertical-align: middle;\n",
       "    }\n",
       "\n",
       "    .dataframe tbody tr th {\n",
       "        vertical-align: top;\n",
       "    }\n",
       "\n",
       "    .dataframe thead th {\n",
       "        text-align: right;\n",
       "    }\n",
       "</style>\n",
       "<table border=\"1\" class=\"dataframe\">\n",
       "  <thead>\n",
       "    <tr style=\"text-align: right;\">\n",
       "      <th></th>\n",
       "      <th>e.KitID</th>\n",
       "      <th>n.start_timestamp</th>\n",
       "      <th>concept:name</th>\n",
       "      <th>e.Usuario</th>\n",
       "      <th>w.machine</th>\n",
       "      <th>r.name</th>\n",
       "      <th>s.machine</th>\n",
       "      <th>s.type</th>\n",
       "      <th>@@index</th>\n",
       "      <th>case:concept:name</th>\n",
       "      <th>is_delayed</th>\n",
       "    </tr>\n",
       "  </thead>\n",
       "  <tbody>\n",
       "    <tr>\n",
       "      <th>0</th>\n",
       "      <td>DEP-QUI.BTF-1</td>\n",
       "      <td>2022-01-12T09:04:00.000000000+00:00</td>\n",
       "      <td>Entrada Material Sucio</td>\n",
       "      <td>EH</td>\n",
       "      <td>None</td>\n",
       "      <td>None</td>\n",
       "      <td>None</td>\n",
       "      <td>None</td>\n",
       "      <td>0</td>\n",
       "      <td>DEP-QUI.BTF-1-CN1434</td>\n",
       "      <td>1</td>\n",
       "    </tr>\n",
       "    <tr>\n",
       "      <th>1</th>\n",
       "      <td>DEP-QUI.BTF-1</td>\n",
       "      <td>2022-01-12T09:04:00.000000000+00:00</td>\n",
       "      <td>Carga L+D iniciada</td>\n",
       "      <td>EH</td>\n",
       "      <td>None</td>\n",
       "      <td>None</td>\n",
       "      <td>None</td>\n",
       "      <td>None</td>\n",
       "      <td>1</td>\n",
       "      <td>DEP-QUI.BTF-1-CN1434</td>\n",
       "      <td>1</td>\n",
       "    </tr>\n",
       "    <tr>\n",
       "      <th>2</th>\n",
       "      <td>DEP-QUI.BTF-1</td>\n",
       "      <td>2022-01-12T09:04:00.000000000+00:00</td>\n",
       "      <td>Cargado en carro L+D</td>\n",
       "      <td>EH</td>\n",
       "      <td>None</td>\n",
       "      <td>None</td>\n",
       "      <td>None</td>\n",
       "      <td>None</td>\n",
       "      <td>2</td>\n",
       "      <td>DEP-QUI.BTF-1-CN1434</td>\n",
       "      <td>1</td>\n",
       "    </tr>\n",
       "    <tr>\n",
       "      <th>3</th>\n",
       "      <td>DEP-QUI.BTF-1</td>\n",
       "      <td>2022-01-12T09:04:00.000000000+00:00</td>\n",
       "      <td>Montaje</td>\n",
       "      <td>MR</td>\n",
       "      <td>None</td>\n",
       "      <td>None</td>\n",
       "      <td>None</td>\n",
       "      <td>None</td>\n",
       "      <td>3</td>\n",
       "      <td>DEP-QUI.BTF-1-CN1434</td>\n",
       "      <td>1</td>\n",
       "    </tr>\n",
       "    <tr>\n",
       "      <th>4</th>\n",
       "      <td>DEP-QUI.BTF-1</td>\n",
       "      <td>2022-01-12T09:04:00.000000000+00:00</td>\n",
       "      <td>Producción montada</td>\n",
       "      <td>MR</td>\n",
       "      <td>None</td>\n",
       "      <td>None</td>\n",
       "      <td>None</td>\n",
       "      <td>None</td>\n",
       "      <td>4</td>\n",
       "      <td>DEP-QUI.BTF-1-CN1434</td>\n",
       "      <td>1</td>\n",
       "    </tr>\n",
       "  </tbody>\n",
       "</table>\n",
       "</div>"
      ],
      "text/plain": [
       "         e.KitID                    n.start_timestamp            concept:name  \\\n",
       "0  DEP-QUI.BTF-1  2022-01-12T09:04:00.000000000+00:00  Entrada Material Sucio   \n",
       "1  DEP-QUI.BTF-1  2022-01-12T09:04:00.000000000+00:00      Carga L+D iniciada   \n",
       "2  DEP-QUI.BTF-1  2022-01-12T09:04:00.000000000+00:00    Cargado en carro L+D   \n",
       "3  DEP-QUI.BTF-1  2022-01-12T09:04:00.000000000+00:00                 Montaje   \n",
       "4  DEP-QUI.BTF-1  2022-01-12T09:04:00.000000000+00:00      Producción montada   \n",
       "\n",
       "  e.Usuario w.machine r.name s.machine s.type  @@index     case:concept:name  \\\n",
       "0        EH      None   None      None   None        0  DEP-QUI.BTF-1-CN1434   \n",
       "1        EH      None   None      None   None        1  DEP-QUI.BTF-1-CN1434   \n",
       "2        EH      None   None      None   None        2  DEP-QUI.BTF-1-CN1434   \n",
       "3        MR      None   None      None   None        3  DEP-QUI.BTF-1-CN1434   \n",
       "4        MR      None   None      None   None        4  DEP-QUI.BTF-1-CN1434   \n",
       "\n",
       "   is_delayed  \n",
       "0           1  \n",
       "1           1  \n",
       "2           1  \n",
       "3           1  \n",
       "4           1  "
      ]
     },
     "execution_count": 477,
     "metadata": {},
     "output_type": "execute_result"
    }
   ],
   "source": [
    "cases = list(df.groupby(['case:concept:name'],sort=False)['e.KitID'].first().keys())\n",
    "df_dict = dict()\n",
    "df_dict['case:concept:name'] = cases\n",
    "df_dict['is_delayed'] = is_delayed\n",
    "temp_df = pd.DataFrame(df_dict)\n",
    "\n",
    "# merge target variable with permits\n",
    "df = df.merge(temp_df,on=['case:concept:name'])\n",
    "df.drop(columns=['n.end_timestamp', 'time:timestamp'], inplace=True)\n",
    "df.head()"
   ]
  },
  {
   "cell_type": "code",
   "execution_count": 478,
   "metadata": {},
   "outputs": [],
   "source": [
    "save_path = save_path_base + df_type +'_trace_len_'+str(t_length)+ '.csv'\n",
    "df.to_csv(save_path,index=False)"
   ]
  },
  {
   "cell_type": "code",
   "execution_count": 479,
   "metadata": {},
   "outputs": [
    {
     "name": "stdout",
     "output_type": "stream",
     "text": [
      "['Entrada Material Sucio' 'Cargado en carro L+D' 'Carga L+D iniciada'\n",
      " 'Carga L+D liberada' 'Montaje' 'Producción montada'\n",
      " 'Composición de cargas' 'Carga de esterilizador liberada' 'Comisionado']\n",
      "['LI' 'MR' 'SM' 'PG' 'EH' 'CLE' 'VA' 'PN' 'CM' 'SP' 'MMF' 'ER' 'VS' 'BM'\n",
      " 'MCE' 'ML' 'AV' 'MAA' 'MGP' 'DF']\n",
      "['NaN' 'Lavadora 2' 'Lavadora 3' 'Lavadora 1' 'Lavadora 4' 'Jupiter'\n",
      " 'Esclusa Lavado' 'Esclusa Reposicion' 'Esclusa Caducado']\n",
      "['NaN' 'Rack-Lav. 03' 'Rack-Lav. 04' 'Rack-Lav. 01' 'Rack-Lav. 06'\n",
      " 'Rack-Lav. 07' 'Rack-Lav. 10' 'Rack-Lav. 05' 'Rack-Lav. 02'\n",
      " 'Rack-Lav. 09' 'Rack-Lav. 08' 'Rack-Jupiter 02' 'Rack-Jupiter 01'\n",
      " 'Esclusa 03' 'Esclusa 02' 'Esclusa 01']\n",
      "['NaN' 'Autoclave 1' 'Autoclave 2' 'Autoclave 4' 'Autoclave 3'\n",
      " 'Amsco Vpro' 'Amsco Eagle']\n",
      "['NaN' 'High Temperature Sterilization' 'Low Temperature Sterilization']\n",
      "['CONT-CCEE.ALE-1' 'CONT-CCEE.CG-1' 'CONT-CCEE.CG-2' ...\n",
      " 'TRAN-QUI.TRA.STRYKER-7' 'TRAN-QUI.TRA.STRYKER-8' 'TRAN-QUI.TRA.ZIMMER-1']\n"
     ]
    },
    {
     "data": {
      "text/plain": [
       "['concept:name',\n",
       " 'e.Usuario',\n",
       " 'w.machine',\n",
       " 'r.name',\n",
       " 's.machine',\n",
       " 's.type',\n",
       " 'e.KitID']"
      ]
     },
     "execution_count": 479,
     "metadata": {},
     "output_type": "execute_result"
    }
   ],
   "source": [
    "str_ev_attr = ['concept:name', 'e.Usuario', 'w.machine', 'r.name', 's.machine',\t's.type']\n",
    "str_tr_attr = ['e.KitID']\n",
    "categorical_vars = str_ev_attr + str_tr_attr\n",
    "ohe_dict = get_ohe_dict(categorical_vars, original_df)\n",
    "categorical_vars"
   ]
  },
  {
   "cell_type": "code",
   "execution_count": 480,
   "metadata": {},
   "outputs": [],
   "source": [
    "data = []\n",
    "\n",
    "for id, group in df.groupby(['case:concept:name']):\n",
    "    feature_vec = []\n",
    "\n",
    "    # add categorical and numerical event attributes\n",
    "    for cat_atr in str_ev_attr[:1]:\n",
    "        attr_length = len(list(ohe_dict[cat_atr].values())[0])\n",
    "        str_ev_vec = np.array([0]*attr_length)\n",
    "\n",
    "        for ca in group[cat_atr]:\n",
    "            str_ev_vec  = str_ev_vec + np.array(ohe_dict[cat_atr][ca])\n",
    "\n",
    "        feature_vec.extend(list(str_ev_vec))\n",
    "\n",
    "    data.append(feature_vec)"
   ]
  },
  {
   "cell_type": "code",
   "execution_count": 481,
   "metadata": {},
   "outputs": [],
   "source": [
    "encode_name = 'frequency_encode_'\n",
    "save_path = save_path_base + encode_name + df_type +'_trace_len_'+str(t_length)+ '.pickle'\n",
    "save_data(data, is_delayed, ohe_dict ,save_path)"
   ]
  },
  {
   "cell_type": "markdown",
   "metadata": {},
   "source": [
    "### Test data"
   ]
  },
  {
   "cell_type": "code",
   "execution_count": 482,
   "metadata": {},
   "outputs": [],
   "source": [
    "df_type = 'test'\n",
    "permits = test_df"
   ]
  },
  {
   "cell_type": "code",
   "execution_count": 483,
   "metadata": {},
   "outputs": [
    {
     "data": {
      "text/html": [
       "<div>\n",
       "<style scoped>\n",
       "    .dataframe tbody tr th:only-of-type {\n",
       "        vertical-align: middle;\n",
       "    }\n",
       "\n",
       "    .dataframe tbody tr th {\n",
       "        vertical-align: top;\n",
       "    }\n",
       "\n",
       "    .dataframe thead th {\n",
       "        text-align: right;\n",
       "    }\n",
       "</style>\n",
       "<table border=\"1\" class=\"dataframe\">\n",
       "  <thead>\n",
       "    <tr style=\"text-align: right;\">\n",
       "      <th></th>\n",
       "      <th>e.KitID</th>\n",
       "      <th>n.start_timestamp</th>\n",
       "      <th>n.end_timestamp</th>\n",
       "      <th>concept:name</th>\n",
       "      <th>e.Usuario</th>\n",
       "      <th>time:timestamp</th>\n",
       "      <th>w.machine</th>\n",
       "      <th>r.name</th>\n",
       "      <th>s.machine</th>\n",
       "      <th>s.type</th>\n",
       "      <th>@@index</th>\n",
       "      <th>case:concept:name</th>\n",
       "    </tr>\n",
       "  </thead>\n",
       "  <tbody>\n",
       "    <tr>\n",
       "      <th>79</th>\n",
       "      <td>DEP-QUI.GIN-1</td>\n",
       "      <td>2022-03-14T12:31:00.000000000+00:00</td>\n",
       "      <td>2022-03-14T18:38:00.000000000+00:00</td>\n",
       "      <td>Entrada Material Sucio</td>\n",
       "      <td>PG</td>\n",
       "      <td>2022-03-14 12:31:00+00:00</td>\n",
       "      <td>None</td>\n",
       "      <td>None</td>\n",
       "      <td>None</td>\n",
       "      <td>None</td>\n",
       "      <td>16855</td>\n",
       "      <td>DEP-QUI.GIN-1-CN14136</td>\n",
       "    </tr>\n",
       "    <tr>\n",
       "      <th>80</th>\n",
       "      <td>DEP-QUI.GIN-1</td>\n",
       "      <td>2022-03-14T12:31:00.000000000+00:00</td>\n",
       "      <td>2022-03-14T18:38:00.000000000+00:00</td>\n",
       "      <td>Cargado en carro L+D</td>\n",
       "      <td>SP</td>\n",
       "      <td>2022-03-14 13:01:00+00:00</td>\n",
       "      <td>None</td>\n",
       "      <td>None</td>\n",
       "      <td>None</td>\n",
       "      <td>None</td>\n",
       "      <td>16852</td>\n",
       "      <td>DEP-QUI.GIN-1-CN14136</td>\n",
       "    </tr>\n",
       "    <tr>\n",
       "      <th>81</th>\n",
       "      <td>DEP-QUI.GIN-1</td>\n",
       "      <td>2022-03-14T12:31:00.000000000+00:00</td>\n",
       "      <td>2022-03-14T18:38:00.000000000+00:00</td>\n",
       "      <td>Carga L+D iniciada</td>\n",
       "      <td>EH</td>\n",
       "      <td>2022-03-14 14:00:00+00:00</td>\n",
       "      <td>None</td>\n",
       "      <td>None</td>\n",
       "      <td>None</td>\n",
       "      <td>None</td>\n",
       "      <td>16851</td>\n",
       "      <td>DEP-QUI.GIN-1-CN14136</td>\n",
       "    </tr>\n",
       "    <tr>\n",
       "      <th>82</th>\n",
       "      <td>DEP-QUI.GIN-1</td>\n",
       "      <td>2022-03-14T12:31:00.000000000+00:00</td>\n",
       "      <td>2022-03-14T18:38:00.000000000+00:00</td>\n",
       "      <td>Carga L+D liberada</td>\n",
       "      <td>MMF</td>\n",
       "      <td>2022-03-14 15:13:00+00:00</td>\n",
       "      <td>Lavadora 4</td>\n",
       "      <td>Rack-Lav. 07</td>\n",
       "      <td>None</td>\n",
       "      <td>None</td>\n",
       "      <td>16854</td>\n",
       "      <td>DEP-QUI.GIN-1-CN14136</td>\n",
       "    </tr>\n",
       "    <tr>\n",
       "      <th>83</th>\n",
       "      <td>DEP-QUI.GIN-1</td>\n",
       "      <td>2022-03-14T12:31:00.000000000+00:00</td>\n",
       "      <td>2022-03-14T18:38:00.000000000+00:00</td>\n",
       "      <td>Montaje</td>\n",
       "      <td>ER</td>\n",
       "      <td>2022-03-14 15:35:00+00:00</td>\n",
       "      <td>None</td>\n",
       "      <td>None</td>\n",
       "      <td>None</td>\n",
       "      <td>None</td>\n",
       "      <td>16853</td>\n",
       "      <td>DEP-QUI.GIN-1-CN14136</td>\n",
       "    </tr>\n",
       "  </tbody>\n",
       "</table>\n",
       "</div>"
      ],
      "text/plain": [
       "          e.KitID                    n.start_timestamp  \\\n",
       "79  DEP-QUI.GIN-1  2022-03-14T12:31:00.000000000+00:00   \n",
       "80  DEP-QUI.GIN-1  2022-03-14T12:31:00.000000000+00:00   \n",
       "81  DEP-QUI.GIN-1  2022-03-14T12:31:00.000000000+00:00   \n",
       "82  DEP-QUI.GIN-1  2022-03-14T12:31:00.000000000+00:00   \n",
       "83  DEP-QUI.GIN-1  2022-03-14T12:31:00.000000000+00:00   \n",
       "\n",
       "                        n.end_timestamp            concept:name e.Usuario  \\\n",
       "79  2022-03-14T18:38:00.000000000+00:00  Entrada Material Sucio        PG   \n",
       "80  2022-03-14T18:38:00.000000000+00:00    Cargado en carro L+D        SP   \n",
       "81  2022-03-14T18:38:00.000000000+00:00      Carga L+D iniciada        EH   \n",
       "82  2022-03-14T18:38:00.000000000+00:00      Carga L+D liberada       MMF   \n",
       "83  2022-03-14T18:38:00.000000000+00:00                 Montaje        ER   \n",
       "\n",
       "              time:timestamp   w.machine        r.name s.machine s.type  \\\n",
       "79 2022-03-14 12:31:00+00:00        None          None      None   None   \n",
       "80 2022-03-14 13:01:00+00:00        None          None      None   None   \n",
       "81 2022-03-14 14:00:00+00:00        None          None      None   None   \n",
       "82 2022-03-14 15:13:00+00:00  Lavadora 4  Rack-Lav. 07      None   None   \n",
       "83 2022-03-14 15:35:00+00:00        None          None      None   None   \n",
       "\n",
       "    @@index      case:concept:name  \n",
       "79    16855  DEP-QUI.GIN-1-CN14136  \n",
       "80    16852  DEP-QUI.GIN-1-CN14136  \n",
       "81    16851  DEP-QUI.GIN-1-CN14136  \n",
       "82    16854  DEP-QUI.GIN-1-CN14136  \n",
       "83    16853  DEP-QUI.GIN-1-CN14136  "
      ]
     },
     "execution_count": 483,
     "metadata": {},
     "output_type": "execute_result"
    }
   ],
   "source": [
    "test_df.head()"
   ]
  },
  {
   "cell_type": "code",
   "execution_count": 484,
   "metadata": {},
   "outputs": [
    {
     "data": {
      "text/plain": [
       "[{'attributes': {'concept:name': 'DEP-QUI.GIN-1-CN14136'}, 'events': [{'e.KitID': 'DEP-QUI.GIN-1', 'n.start_timestamp': neo4j.time.DateTime(2022, 3, 14, 12, 31, 0, 0, tzinfo=<UTC>), 'n.end_timestamp': neo4j.time.DateTime(2022, 3, 14, 18, 38, 0, 0, tzinfo=<UTC>), 'concept:name': 'Entrada Material Sucio', 'e.Usuario': 'PG', 'time:timestamp': Timestamp('2022-03-14 12:31:00+0000', tz='UTC'), 'w.machine': None, 'r.name': None, 's.machine': None, 's.type': None, '@@index': 79}, '..', {'e.KitID': 'DEP-QUI.GIN-1', 'n.start_timestamp': neo4j.time.DateTime(2022, 3, 14, 12, 31, 0, 0, tzinfo=<UTC>), 'n.end_timestamp': neo4j.time.DateTime(2022, 3, 14, 18, 38, 0, 0, tzinfo=<UTC>), 'concept:name': 'Composición de cargas', 'e.Usuario': 'CM', 'time:timestamp': Timestamp('2022-03-14 17:00:00+0000', tz='UTC'), 'w.machine': None, 'r.name': None, 's.machine': None, 's.type': None, '@@index': 85}]}, '....', {'attributes': {'concept:name': 'TRAN-QUI.TRA.ZIMMER-1-CN12543'}, 'events': [{'e.KitID': 'TRAN-QUI.TRA.ZIMMER-1', 'n.start_timestamp': neo4j.time.DateTime(2022, 3, 2, 14, 3, 0, 0, tzinfo=<UTC>), 'n.end_timestamp': neo4j.time.DateTime(2022, 3, 10, 15, 8, 0, 0, tzinfo=<UTC>), 'concept:name': 'Cargado en carro L+D', 'e.Usuario': 'AV', 'time:timestamp': Timestamp('2022-03-02 14:03:00+0000', tz='UTC'), 'w.machine': None, 'r.name': None, 's.machine': None, 's.type': None, '@@index': 156384}, '..', {'e.KitID': 'TRAN-QUI.TRA.ZIMMER-1', 'n.start_timestamp': neo4j.time.DateTime(2022, 3, 2, 14, 3, 0, 0, tzinfo=<UTC>), 'n.end_timestamp': neo4j.time.DateTime(2022, 3, 10, 15, 8, 0, 0, tzinfo=<UTC>), 'concept:name': 'Composición de cargas', 'e.Usuario': 'SM', 'time:timestamp': Timestamp('2022-03-10 13:41:00+0000', tz='UTC'), 'w.machine': None, 'r.name': None, 's.machine': None, 's.type': None, '@@index': 156403}]}]"
      ]
     },
     "execution_count": 484,
     "metadata": {},
     "output_type": "execute_result"
    }
   ],
   "source": [
    "event_log = pm4py.format_dataframe(permits, case_id='case:concept:name', activity_key='concept:name', timestamp_key='time:timestamp')\n",
    "event_log = pm4py.convert_to_event_log(event_log)\n",
    "event_log"
   ]
  },
  {
   "cell_type": "code",
   "execution_count": 485,
   "metadata": {},
   "outputs": [],
   "source": [
    "is_delayed = []\n",
    "for trace in event_log:\n",
    "    flag = False\n",
    "    for i,event in enumerate(trace):\n",
    "        startTimestamp = pd.to_datetime(event['n.start_timestamp'], format='%Y-%m-%dT%H:%M:%S.%f%z')\n",
    "        finishTimestamp = pd.to_datetime(event['n.end_timestamp'], format='%Y-%m-%dT%H:%M:%S.%f%z')\n",
    "\n",
    "        duration_minutes = (finishTimestamp - startTimestamp).total_seconds() / 60\n",
    "\n",
    "        if duration_minutes > 370:\n",
    "            flag = True\n",
    "            break\n",
    "    \n",
    "    if flag:\n",
    "        is_delayed.append(1)\n",
    "    else:\n",
    "        is_delayed.append(0)"
   ]
  },
  {
   "cell_type": "code",
   "execution_count": 486,
   "metadata": {},
   "outputs": [],
   "source": [
    "prefix_traces = []\n",
    "for trace in event_log:\n",
    "    for i,event in enumerate(trace):\n",
    "        if (\"Comisionado\" not in event['concept:name']) or (\"Carga de esterilizador liberada\" not in event['concept:name']):\n",
    "            break\n",
    "    prefix_traces.append(Trace(trace[:i], attributes = trace.attributes))\n",
    "prefix_traces = EventLog(prefix_traces)"
   ]
  },
  {
   "cell_type": "code",
   "execution_count": 487,
   "metadata": {},
   "outputs": [],
   "source": [
    "trace_prefixes = EventLog([Trace(trace[0:t_length], attributes = trace.attributes) for trace in prefix_traces])"
   ]
  },
  {
   "cell_type": "code",
   "execution_count": 488,
   "metadata": {},
   "outputs": [
    {
     "data": {
      "text/html": [
       "<div>\n",
       "<style scoped>\n",
       "    .dataframe tbody tr th:only-of-type {\n",
       "        vertical-align: middle;\n",
       "    }\n",
       "\n",
       "    .dataframe tbody tr th {\n",
       "        vertical-align: top;\n",
       "    }\n",
       "\n",
       "    .dataframe thead th {\n",
       "        text-align: right;\n",
       "    }\n",
       "</style>\n",
       "<table border=\"1\" class=\"dataframe\">\n",
       "  <thead>\n",
       "    <tr style=\"text-align: right;\">\n",
       "      <th></th>\n",
       "      <th>e.KitID</th>\n",
       "      <th>n.start_timestamp</th>\n",
       "      <th>n.end_timestamp</th>\n",
       "      <th>concept:name</th>\n",
       "      <th>e.Usuario</th>\n",
       "      <th>time:timestamp</th>\n",
       "      <th>w.machine</th>\n",
       "      <th>r.name</th>\n",
       "      <th>s.machine</th>\n",
       "      <th>s.type</th>\n",
       "      <th>@@index</th>\n",
       "      <th>case:concept:name</th>\n",
       "    </tr>\n",
       "  </thead>\n",
       "  <tbody>\n",
       "    <tr>\n",
       "      <th>0</th>\n",
       "      <td>DEP-QUI.GIN-1</td>\n",
       "      <td>2022-03-14T12:31:00.000000000+00:00</td>\n",
       "      <td>2022-03-14T18:38:00.000000000+00:00</td>\n",
       "      <td>Entrada Material Sucio</td>\n",
       "      <td>PG</td>\n",
       "      <td>2022-03-14 12:31:00+00:00</td>\n",
       "      <td>None</td>\n",
       "      <td>None</td>\n",
       "      <td>None</td>\n",
       "      <td>None</td>\n",
       "      <td>79</td>\n",
       "      <td>DEP-QUI.GIN-1-CN14136</td>\n",
       "    </tr>\n",
       "    <tr>\n",
       "      <th>1</th>\n",
       "      <td>DEP-QUI.GIN-1</td>\n",
       "      <td>2022-03-14T12:31:00.000000000+00:00</td>\n",
       "      <td>2022-03-14T18:38:00.000000000+00:00</td>\n",
       "      <td>Cargado en carro L+D</td>\n",
       "      <td>SP</td>\n",
       "      <td>2022-03-14 13:01:00+00:00</td>\n",
       "      <td>None</td>\n",
       "      <td>None</td>\n",
       "      <td>None</td>\n",
       "      <td>None</td>\n",
       "      <td>80</td>\n",
       "      <td>DEP-QUI.GIN-1-CN14136</td>\n",
       "    </tr>\n",
       "    <tr>\n",
       "      <th>2</th>\n",
       "      <td>DEP-QUI.GIN-1</td>\n",
       "      <td>2022-03-14T12:31:00.000000000+00:00</td>\n",
       "      <td>2022-03-14T18:38:00.000000000+00:00</td>\n",
       "      <td>Carga L+D iniciada</td>\n",
       "      <td>EH</td>\n",
       "      <td>2022-03-14 14:00:00+00:00</td>\n",
       "      <td>None</td>\n",
       "      <td>None</td>\n",
       "      <td>None</td>\n",
       "      <td>None</td>\n",
       "      <td>81</td>\n",
       "      <td>DEP-QUI.GIN-1-CN14136</td>\n",
       "    </tr>\n",
       "    <tr>\n",
       "      <th>3</th>\n",
       "      <td>DEP-QUI.GIN-1</td>\n",
       "      <td>2022-03-14T12:31:00.000000000+00:00</td>\n",
       "      <td>2022-03-14T18:38:00.000000000+00:00</td>\n",
       "      <td>Carga L+D liberada</td>\n",
       "      <td>MMF</td>\n",
       "      <td>2022-03-14 15:13:00+00:00</td>\n",
       "      <td>Lavadora 4</td>\n",
       "      <td>Rack-Lav. 07</td>\n",
       "      <td>None</td>\n",
       "      <td>None</td>\n",
       "      <td>82</td>\n",
       "      <td>DEP-QUI.GIN-1-CN14136</td>\n",
       "    </tr>\n",
       "    <tr>\n",
       "      <th>4</th>\n",
       "      <td>DEP-QUI.GIN-1</td>\n",
       "      <td>2022-03-14T12:31:00.000000000+00:00</td>\n",
       "      <td>2022-03-14T18:38:00.000000000+00:00</td>\n",
       "      <td>Montaje</td>\n",
       "      <td>ER</td>\n",
       "      <td>2022-03-14 15:35:00+00:00</td>\n",
       "      <td>None</td>\n",
       "      <td>None</td>\n",
       "      <td>None</td>\n",
       "      <td>None</td>\n",
       "      <td>83</td>\n",
       "      <td>DEP-QUI.GIN-1-CN14136</td>\n",
       "    </tr>\n",
       "  </tbody>\n",
       "</table>\n",
       "</div>"
      ],
      "text/plain": [
       "         e.KitID                    n.start_timestamp  \\\n",
       "0  DEP-QUI.GIN-1  2022-03-14T12:31:00.000000000+00:00   \n",
       "1  DEP-QUI.GIN-1  2022-03-14T12:31:00.000000000+00:00   \n",
       "2  DEP-QUI.GIN-1  2022-03-14T12:31:00.000000000+00:00   \n",
       "3  DEP-QUI.GIN-1  2022-03-14T12:31:00.000000000+00:00   \n",
       "4  DEP-QUI.GIN-1  2022-03-14T12:31:00.000000000+00:00   \n",
       "\n",
       "                       n.end_timestamp            concept:name e.Usuario  \\\n",
       "0  2022-03-14T18:38:00.000000000+00:00  Entrada Material Sucio        PG   \n",
       "1  2022-03-14T18:38:00.000000000+00:00    Cargado en carro L+D        SP   \n",
       "2  2022-03-14T18:38:00.000000000+00:00      Carga L+D iniciada        EH   \n",
       "3  2022-03-14T18:38:00.000000000+00:00      Carga L+D liberada       MMF   \n",
       "4  2022-03-14T18:38:00.000000000+00:00                 Montaje        ER   \n",
       "\n",
       "             time:timestamp   w.machine        r.name s.machine s.type  \\\n",
       "0 2022-03-14 12:31:00+00:00        None          None      None   None   \n",
       "1 2022-03-14 13:01:00+00:00        None          None      None   None   \n",
       "2 2022-03-14 14:00:00+00:00        None          None      None   None   \n",
       "3 2022-03-14 15:13:00+00:00  Lavadora 4  Rack-Lav. 07      None   None   \n",
       "4 2022-03-14 15:35:00+00:00        None          None      None   None   \n",
       "\n",
       "   @@index      case:concept:name  \n",
       "0       79  DEP-QUI.GIN-1-CN14136  \n",
       "1       80  DEP-QUI.GIN-1-CN14136  \n",
       "2       81  DEP-QUI.GIN-1-CN14136  \n",
       "3       82  DEP-QUI.GIN-1-CN14136  \n",
       "4       83  DEP-QUI.GIN-1-CN14136  "
      ]
     },
     "execution_count": 488,
     "metadata": {},
     "output_type": "execute_result"
    }
   ],
   "source": [
    "df = pm4py.convert_to_dataframe(event_log)\n",
    "df.head(5)"
   ]
  },
  {
   "cell_type": "code",
   "execution_count": 489,
   "metadata": {},
   "outputs": [
    {
     "data": {
      "text/html": [
       "<div>\n",
       "<style scoped>\n",
       "    .dataframe tbody tr th:only-of-type {\n",
       "        vertical-align: middle;\n",
       "    }\n",
       "\n",
       "    .dataframe tbody tr th {\n",
       "        vertical-align: top;\n",
       "    }\n",
       "\n",
       "    .dataframe thead th {\n",
       "        text-align: right;\n",
       "    }\n",
       "</style>\n",
       "<table border=\"1\" class=\"dataframe\">\n",
       "  <thead>\n",
       "    <tr style=\"text-align: right;\">\n",
       "      <th></th>\n",
       "      <th>e.KitID</th>\n",
       "      <th>n.start_timestamp</th>\n",
       "      <th>concept:name</th>\n",
       "      <th>e.Usuario</th>\n",
       "      <th>w.machine</th>\n",
       "      <th>r.name</th>\n",
       "      <th>s.machine</th>\n",
       "      <th>s.type</th>\n",
       "      <th>@@index</th>\n",
       "      <th>case:concept:name</th>\n",
       "      <th>is_delayed</th>\n",
       "    </tr>\n",
       "  </thead>\n",
       "  <tbody>\n",
       "    <tr>\n",
       "      <th>0</th>\n",
       "      <td>DEP-QUI.GIN-1</td>\n",
       "      <td>2022-03-14T12:31:00.000000000+00:00</td>\n",
       "      <td>Entrada Material Sucio</td>\n",
       "      <td>PG</td>\n",
       "      <td>None</td>\n",
       "      <td>None</td>\n",
       "      <td>None</td>\n",
       "      <td>None</td>\n",
       "      <td>79</td>\n",
       "      <td>DEP-QUI.GIN-1-CN14136</td>\n",
       "      <td>0</td>\n",
       "    </tr>\n",
       "    <tr>\n",
       "      <th>1</th>\n",
       "      <td>DEP-QUI.GIN-1</td>\n",
       "      <td>2022-03-14T12:31:00.000000000+00:00</td>\n",
       "      <td>Cargado en carro L+D</td>\n",
       "      <td>SP</td>\n",
       "      <td>None</td>\n",
       "      <td>None</td>\n",
       "      <td>None</td>\n",
       "      <td>None</td>\n",
       "      <td>80</td>\n",
       "      <td>DEP-QUI.GIN-1-CN14136</td>\n",
       "      <td>0</td>\n",
       "    </tr>\n",
       "    <tr>\n",
       "      <th>2</th>\n",
       "      <td>DEP-QUI.GIN-1</td>\n",
       "      <td>2022-03-14T12:31:00.000000000+00:00</td>\n",
       "      <td>Carga L+D iniciada</td>\n",
       "      <td>EH</td>\n",
       "      <td>None</td>\n",
       "      <td>None</td>\n",
       "      <td>None</td>\n",
       "      <td>None</td>\n",
       "      <td>81</td>\n",
       "      <td>DEP-QUI.GIN-1-CN14136</td>\n",
       "      <td>0</td>\n",
       "    </tr>\n",
       "    <tr>\n",
       "      <th>3</th>\n",
       "      <td>DEP-QUI.GIN-1</td>\n",
       "      <td>2022-03-14T12:31:00.000000000+00:00</td>\n",
       "      <td>Carga L+D liberada</td>\n",
       "      <td>MMF</td>\n",
       "      <td>Lavadora 4</td>\n",
       "      <td>Rack-Lav. 07</td>\n",
       "      <td>None</td>\n",
       "      <td>None</td>\n",
       "      <td>82</td>\n",
       "      <td>DEP-QUI.GIN-1-CN14136</td>\n",
       "      <td>0</td>\n",
       "    </tr>\n",
       "    <tr>\n",
       "      <th>4</th>\n",
       "      <td>DEP-QUI.GIN-1</td>\n",
       "      <td>2022-03-14T12:31:00.000000000+00:00</td>\n",
       "      <td>Montaje</td>\n",
       "      <td>ER</td>\n",
       "      <td>None</td>\n",
       "      <td>None</td>\n",
       "      <td>None</td>\n",
       "      <td>None</td>\n",
       "      <td>83</td>\n",
       "      <td>DEP-QUI.GIN-1-CN14136</td>\n",
       "      <td>0</td>\n",
       "    </tr>\n",
       "  </tbody>\n",
       "</table>\n",
       "</div>"
      ],
      "text/plain": [
       "         e.KitID                    n.start_timestamp            concept:name  \\\n",
       "0  DEP-QUI.GIN-1  2022-03-14T12:31:00.000000000+00:00  Entrada Material Sucio   \n",
       "1  DEP-QUI.GIN-1  2022-03-14T12:31:00.000000000+00:00    Cargado en carro L+D   \n",
       "2  DEP-QUI.GIN-1  2022-03-14T12:31:00.000000000+00:00      Carga L+D iniciada   \n",
       "3  DEP-QUI.GIN-1  2022-03-14T12:31:00.000000000+00:00      Carga L+D liberada   \n",
       "4  DEP-QUI.GIN-1  2022-03-14T12:31:00.000000000+00:00                 Montaje   \n",
       "\n",
       "  e.Usuario   w.machine        r.name s.machine s.type  @@index  \\\n",
       "0        PG        None          None      None   None       79   \n",
       "1        SP        None          None      None   None       80   \n",
       "2        EH        None          None      None   None       81   \n",
       "3       MMF  Lavadora 4  Rack-Lav. 07      None   None       82   \n",
       "4        ER        None          None      None   None       83   \n",
       "\n",
       "       case:concept:name  is_delayed  \n",
       "0  DEP-QUI.GIN-1-CN14136           0  \n",
       "1  DEP-QUI.GIN-1-CN14136           0  \n",
       "2  DEP-QUI.GIN-1-CN14136           0  \n",
       "3  DEP-QUI.GIN-1-CN14136           0  \n",
       "4  DEP-QUI.GIN-1-CN14136           0  "
      ]
     },
     "execution_count": 489,
     "metadata": {},
     "output_type": "execute_result"
    }
   ],
   "source": [
    "cases = list(df.groupby(['case:concept:name'],sort=False)['e.KitID'].first().keys())\n",
    "df_dict = dict()\n",
    "df_dict['case:concept:name'] = cases\n",
    "df_dict['is_delayed'] = is_delayed\n",
    "temp_df = pd.DataFrame(df_dict)\n",
    "df.drop(columns=['n.end_timestamp', 'time:timestamp'], inplace=True)\n",
    "\n",
    "# merge target variable with permits\n",
    "df = df.merge(temp_df,on=['case:concept:name'])\n",
    "df.head()"
   ]
  },
  {
   "cell_type": "code",
   "execution_count": 490,
   "metadata": {},
   "outputs": [],
   "source": [
    "save_path = save_path_base + df_type +'_trace_len_'+str(t_length)+ '.csv'\n",
    "df.to_csv(save_path,index=False)"
   ]
  },
  {
   "cell_type": "code",
   "execution_count": 491,
   "metadata": {},
   "outputs": [],
   "source": [
    "encode_name = 'frequency_encode_'\n",
    "save_path = save_path_base + encode_name + 'train' +'_trace_len_'+str(t_length)+ '.pickle'\n",
    "loaded_data = load_data(save_path)\n",
    "ohe_dict = loaded_data['feature_names']"
   ]
  },
  {
   "cell_type": "code",
   "execution_count": 492,
   "metadata": {},
   "outputs": [],
   "source": [
    "data = []\n",
    "\n",
    "for id, group in df.groupby(['case:concept:name']):\n",
    "    feature_vec = []\n",
    "\n",
    "    # add categorical and numerical event attributes\n",
    "    for cat_atr in str_ev_attr[:1]:\n",
    "        attr_length = len(list(ohe_dict[cat_atr].values())[0])\n",
    "        str_ev_vec = np.array([0]*attr_length)\n",
    "\n",
    "        for ca in group[cat_atr]:\n",
    "            str_ev_vec  = str_ev_vec + np.array(ohe_dict[cat_atr][ca])\n",
    "\n",
    "        feature_vec.extend(list(str_ev_vec))\n",
    "\n",
    "    data.append(feature_vec)"
   ]
  },
  {
   "cell_type": "code",
   "execution_count": 493,
   "metadata": {},
   "outputs": [],
   "source": [
    "encode_name = 'frequency_encode_'\n",
    "save_path = save_path_base + encode_name + df_type +'_trace_len_'+str(t_length)+ '.pickle'\n",
    "save_data(data, is_delayed, ohe_dict ,save_path)"
   ]
  },
  {
   "cell_type": "markdown",
   "metadata": {},
   "source": [
    "## Modeling"
   ]
  },
  {
   "cell_type": "code",
   "execution_count": 494,
   "metadata": {},
   "outputs": [],
   "source": [
    "data_test = load_data(save_path_base + \"frequency_encode_test_trace_len_10.pickle\")\n",
    "data_train = load_data(save_path_base + \"frequency_encode_train_trace_len_10.pickle\")"
   ]
  },
  {
   "cell_type": "code",
   "execution_count": 495,
   "metadata": {},
   "outputs": [],
   "source": [
    "X_train = np.array(data_train['X'])\n",
    "X_test = np.array(data_test['X'])\n",
    "y_train = np.array(data_train['y'])\n",
    "y_test = np.array(data_test['y'])"
   ]
  },
  {
   "cell_type": "code",
   "execution_count": 496,
   "metadata": {},
   "outputs": [],
   "source": [
    "results_df = pd.DataFrame(index=['Decision Tree (Default)'],\n",
    "                          columns=['F-score', 'Precision','Recall', 'Accuracy'])"
   ]
  },
  {
   "cell_type": "code",
   "execution_count": 497,
   "metadata": {},
   "outputs": [
    {
     "data": {
      "text/plain": [
       "2022"
      ]
     },
     "execution_count": 497,
     "metadata": {},
     "output_type": "execute_result"
    }
   ],
   "source": [
    "len(y_test)"
   ]
  },
  {
   "cell_type": "code",
   "execution_count": 498,
   "metadata": {},
   "outputs": [
    {
     "data": {
      "text/html": [
       "<div>\n",
       "<style scoped>\n",
       "    .dataframe tbody tr th:only-of-type {\n",
       "        vertical-align: middle;\n",
       "    }\n",
       "\n",
       "    .dataframe tbody tr th {\n",
       "        vertical-align: top;\n",
       "    }\n",
       "\n",
       "    .dataframe thead th {\n",
       "        text-align: right;\n",
       "    }\n",
       "</style>\n",
       "<table border=\"1\" class=\"dataframe\">\n",
       "  <thead>\n",
       "    <tr style=\"text-align: right;\">\n",
       "      <th></th>\n",
       "      <th>F-score</th>\n",
       "      <th>Precision</th>\n",
       "      <th>Recall</th>\n",
       "      <th>Accuracy</th>\n",
       "    </tr>\n",
       "  </thead>\n",
       "  <tbody>\n",
       "    <tr>\n",
       "      <th>Decision Tree (Default)</th>\n",
       "      <td>0.557185</td>\n",
       "      <td>0.837209</td>\n",
       "      <td>0.193809</td>\n",
       "      <td>0.689911</td>\n",
       "    </tr>\n",
       "  </tbody>\n",
       "</table>\n",
       "</div>"
      ],
      "text/plain": [
       "                          F-score Precision    Recall  Accuracy\n",
       "Decision Tree (Default)  0.557185  0.837209  0.193809  0.689911"
      ]
     },
     "execution_count": 498,
     "metadata": {},
     "output_type": "execute_result"
    }
   ],
   "source": [
    "# Create Decision Tree classifier object\n",
    "dt = DecisionTreeClassifier()\n",
    "\n",
    "# Train Decision Tree Classifier\n",
    "dt_fit = dt.fit(X_train,y_train)\n",
    "\n",
    "#Predict the response for test dataset\n",
    "dt_predict = dt_fit.predict(X_test)\n",
    "\n",
    "results_df.loc['Decision Tree (Default)',:] = [f1_score(y_test,dt_predict, average='macro'), precision_score(y_test,dt_predict), recall_score(y_test,dt_predict),accuracy_score(y_test,dt_predict)]\n",
    "\n",
    "results_df.sort_values(by='F-score', ascending=False)"
   ]
  },
  {
   "cell_type": "code",
   "execution_count": 499,
   "metadata": {},
   "outputs": [
    {
     "data": {
      "text/plain": [
       "[Text(0.5170838891006098, 0.98, 'x[3] <= 0.5\\ngini = 0.498\\nsamples = 9499\\nvalue = [4467, 5032]'),\n",
       " Text(0.2821431974085366, 0.94, 'x[7] <= 1.5\\ngini = 0.338\\nsamples = 4081\\nvalue = [3203, 878]'),\n",
       " Text(0.13674256859756098, 0.9, 'x[6] <= 0.5\\ngini = 0.241\\nsamples = 3076\\nvalue = [2645, 431]'),\n",
       " Text(0.09055830792682927, 0.86, 'x[7] <= 0.5\\ngini = 0.229\\nsamples = 3026\\nvalue = [2626, 400]'),\n",
       " Text(0.046303353658536585, 0.82, 'x[5] <= 0.5\\ngini = 0.354\\nsamples = 265\\nvalue = [204, 61]'),\n",
       " Text(0.020960365853658538, 0.78, 'x[0] <= 3.5\\ngini = 0.182\\nsamples = 208\\nvalue = [187, 21]'),\n",
       " Text(0.006097560975609756, 0.74, 'x[2] <= 1.5\\ngini = 0.018\\nsamples = 111\\nvalue = [110, 1]'),\n",
       " Text(0.003048780487804878, 0.7, 'gini = 0.0\\nsamples = 70\\nvalue = [70, 0]'),\n",
       " Text(0.009146341463414634, 0.7, 'x[2] <= 2.5\\ngini = 0.048\\nsamples = 41\\nvalue = [40, 1]'),\n",
       " Text(0.006097560975609756, 0.66, 'gini = 0.091\\nsamples = 21\\nvalue = [20, 1]'),\n",
       " Text(0.012195121951219513, 0.66, 'gini = 0.0\\nsamples = 20\\nvalue = [20, 0]'),\n",
       " Text(0.035823170731707314, 0.74, 'x[0] <= 46.5\\ngini = 0.327\\nsamples = 97\\nvalue = [77, 20]'),\n",
       " Text(0.03277439024390244, 0.7, 'x[0] <= 39.0\\ngini = 0.375\\nsamples = 80\\nvalue = [60, 20]'),\n",
       " Text(0.018292682926829267, 0.66, 'x[0] <= 7.5\\ngini = 0.327\\nsamples = 68\\nvalue = [54, 14]'),\n",
       " Text(0.01524390243902439, 0.62, 'gini = 0.0\\nsamples = 1\\nvalue = [0, 1]'),\n",
       " Text(0.021341463414634148, 0.62, 'x[0] <= 17.5\\ngini = 0.313\\nsamples = 67\\nvalue = [54, 13]'),\n",
       " Text(0.013719512195121951, 0.58, 'x[0] <= 13.5\\ngini = 0.432\\nsamples = 19\\nvalue = [13, 6]'),\n",
       " Text(0.007621951219512195, 0.54, 'x[0] <= 9.0\\ngini = 0.165\\nsamples = 11\\nvalue = [10, 1]'),\n",
       " Text(0.004573170731707317, 0.5, 'gini = 0.444\\nsamples = 3\\nvalue = [2, 1]'),\n",
       " Text(0.010670731707317074, 0.5, 'gini = 0.0\\nsamples = 8\\nvalue = [8, 0]'),\n",
       " Text(0.019817073170731708, 0.54, 'x[1] <= 11.0\\ngini = 0.469\\nsamples = 8\\nvalue = [3, 5]'),\n",
       " Text(0.01676829268292683, 0.5, 'gini = 0.0\\nsamples = 1\\nvalue = [0, 1]'),\n",
       " Text(0.022865853658536585, 0.5, 'x[1] <= 16.5\\ngini = 0.49\\nsamples = 7\\nvalue = [3, 4]'),\n",
       " Text(0.019817073170731708, 0.46, 'x[0] <= 15.0\\ngini = 0.444\\nsamples = 3\\nvalue = [2, 1]'),\n",
       " Text(0.01676829268292683, 0.42, 'gini = 0.5\\nsamples = 2\\nvalue = [1, 1]'),\n",
       " Text(0.022865853658536585, 0.42, 'gini = 0.0\\nsamples = 1\\nvalue = [1, 0]'),\n",
       " Text(0.025914634146341462, 0.46, 'gini = 0.375\\nsamples = 4\\nvalue = [1, 3]'),\n",
       " Text(0.028963414634146343, 0.58, 'x[1] <= 20.5\\ngini = 0.249\\nsamples = 48\\nvalue = [41, 7]'),\n",
       " Text(0.025914634146341462, 0.54, 'gini = 0.0\\nsamples = 17\\nvalue = [17, 0]'),\n",
       " Text(0.03201219512195122, 0.54, 'x[1] <= 22.0\\ngini = 0.35\\nsamples = 31\\nvalue = [24, 7]'),\n",
       " Text(0.028963414634146343, 0.5, 'gini = 0.375\\nsamples = 4\\nvalue = [1, 3]'),\n",
       " Text(0.0350609756097561, 0.5, 'x[1] <= 24.5\\ngini = 0.252\\nsamples = 27\\nvalue = [23, 4]'),\n",
       " Text(0.03201219512195122, 0.46, 'gini = 0.0\\nsamples = 7\\nvalue = [7, 0]'),\n",
       " Text(0.038109756097560975, 0.46, 'x[0] <= 28.5\\ngini = 0.32\\nsamples = 20\\nvalue = [16, 4]'),\n",
       " Text(0.03201219512195122, 0.42, 'x[1] <= 27.0\\ngini = 0.49\\nsamples = 7\\nvalue = [4, 3]'),\n",
       " Text(0.028963414634146343, 0.38, 'x[0] <= 25.5\\ngini = 0.444\\nsamples = 6\\nvalue = [4, 2]'),\n",
       " Text(0.025914634146341462, 0.34, 'gini = 0.5\\nsamples = 2\\nvalue = [1, 1]'),\n",
       " Text(0.03201219512195122, 0.34, 'gini = 0.375\\nsamples = 4\\nvalue = [3, 1]'),\n",
       " Text(0.0350609756097561, 0.38, 'gini = 0.0\\nsamples = 1\\nvalue = [0, 1]'),\n",
       " Text(0.04420731707317073, 0.42, 'x[0] <= 34.5\\ngini = 0.142\\nsamples = 13\\nvalue = [12, 1]'),\n",
       " Text(0.041158536585365856, 0.38, 'gini = 0.0\\nsamples = 7\\nvalue = [7, 0]'),\n",
       " Text(0.04725609756097561, 0.38, 'x[1] <= 35.5\\ngini = 0.278\\nsamples = 6\\nvalue = [5, 1]'),\n",
       " Text(0.04420731707317073, 0.34, 'gini = 0.444\\nsamples = 3\\nvalue = [2, 1]'),\n",
       " Text(0.05030487804878049, 0.34, 'gini = 0.0\\nsamples = 3\\nvalue = [3, 0]'),\n",
       " Text(0.04725609756097561, 0.66, 'x[0] <= 40.5\\ngini = 0.5\\nsamples = 12\\nvalue = [6, 6]'),\n",
       " Text(0.04420731707317073, 0.62, 'gini = 0.0\\nsamples = 1\\nvalue = [0, 1]'),\n",
       " Text(0.05030487804878049, 0.62, 'x[0] <= 41.5\\ngini = 0.496\\nsamples = 11\\nvalue = [6, 5]'),\n",
       " Text(0.04725609756097561, 0.58, 'gini = 0.0\\nsamples = 1\\nvalue = [1, 0]'),\n",
       " Text(0.053353658536585365, 0.58, 'x[0] <= 45.5\\ngini = 0.5\\nsamples = 10\\nvalue = [5, 5]'),\n",
       " Text(0.05030487804878049, 0.54, 'x[1] <= 44.5\\ngini = 0.49\\nsamples = 7\\nvalue = [3, 4]'),\n",
       " Text(0.04725609756097561, 0.5, 'x[0] <= 43.0\\ngini = 0.48\\nsamples = 5\\nvalue = [3, 2]'),\n",
       " Text(0.04420731707317073, 0.46, 'gini = 0.5\\nsamples = 2\\nvalue = [1, 1]'),\n",
       " Text(0.05030487804878049, 0.46, 'gini = 0.444\\nsamples = 3\\nvalue = [2, 1]'),\n",
       " Text(0.053353658536585365, 0.5, 'gini = 0.0\\nsamples = 2\\nvalue = [0, 2]'),\n",
       " Text(0.056402439024390245, 0.54, 'gini = 0.444\\nsamples = 3\\nvalue = [2, 1]'),\n",
       " Text(0.038871951219512195, 0.7, 'gini = 0.0\\nsamples = 17\\nvalue = [17, 0]'),\n",
       " Text(0.07164634146341463, 0.78, 'x[2] <= 0.5\\ngini = 0.419\\nsamples = 57\\nvalue = [17, 40]'),\n",
       " Text(0.06859756097560976, 0.74, 'gini = 0.0\\nsamples = 3\\nvalue = [3, 0]'),\n",
       " Text(0.07469512195121951, 0.74, 'x[2] <= 4.5\\ngini = 0.384\\nsamples = 54\\nvalue = [14, 40]'),\n",
       " Text(0.06859756097560976, 0.7, 'x[2] <= 2.5\\ngini = 0.36\\nsamples = 51\\nvalue = [12, 39]'),\n",
       " Text(0.06554878048780488, 0.66, 'x[5] <= 1.5\\ngini = 0.391\\nsamples = 45\\nvalue = [12, 33]'),\n",
       " Text(0.0625, 0.62, 'x[2] <= 1.5\\ngini = 0.366\\nsamples = 29\\nvalue = [7, 22]'),\n",
       " Text(0.05945121951219512, 0.58, 'gini = 0.375\\nsamples = 28\\nvalue = [7, 21]'),\n",
       " Text(0.06554878048780488, 0.58, 'gini = 0.0\\nsamples = 1\\nvalue = [0, 1]'),\n",
       " Text(0.06859756097560976, 0.62, 'gini = 0.43\\nsamples = 16\\nvalue = [5, 11]'),\n",
       " Text(0.07164634146341463, 0.66, 'gini = 0.0\\nsamples = 6\\nvalue = [0, 6]'),\n",
       " Text(0.08079268292682927, 0.7, 'x[5] <= 5.5\\ngini = 0.444\\nsamples = 3\\nvalue = [2, 1]'),\n",
       " Text(0.07774390243902439, 0.66, 'gini = 0.0\\nsamples = 1\\nvalue = [1, 0]'),\n",
       " Text(0.08384146341463415, 0.66, 'gini = 0.5\\nsamples = 2\\nvalue = [1, 1]'),\n",
       " Text(0.13481326219512196, 0.82, 'x[0] <= 0.5\\ngini = 0.215\\nsamples = 2761\\nvalue = [2422, 339]'),\n",
       " Text(0.13176448170731708, 0.78, 'x[5] <= 15.0\\ngini = 0.211\\nsamples = 2752\\nvalue = [2422, 330]'),\n",
       " Text(0.11566310975609756, 0.74, 'x[1] <= 0.5\\ngini = 0.209\\nsamples = 2742\\nvalue = [2417, 325]'),\n",
       " Text(0.11261432926829268, 0.7, 'x[8] <= 1.5\\ngini = 0.208\\nsamples = 2741\\nvalue = [2417, 324]'),\n",
       " Text(0.0899390243902439, 0.66, 'x[2] <= 1.5\\ngini = 0.226\\nsamples = 1815\\nvalue = [1579, 236]'),\n",
       " Text(0.08384146341463415, 0.62, 'x[5] <= 1.5\\ngini = 0.223\\nsamples = 1807\\nvalue = [1576, 231]'),\n",
       " Text(0.08079268292682927, 0.58, 'x[5] <= 0.5\\ngini = 0.222\\nsamples = 1797\\nvalue = [1568, 229]'),\n",
       " Text(0.07774390243902439, 0.54, 'gini = 0.0\\nsamples = 3\\nvalue = [3, 0]'),\n",
       " Text(0.08384146341463415, 0.54, 'x[4] <= 0.5\\ngini = 0.223\\nsamples = 1794\\nvalue = [1565, 229]'),\n",
       " Text(0.08079268292682927, 0.5, 'gini = 0.0\\nsamples = 1\\nvalue = [1, 0]'),\n",
       " Text(0.08689024390243902, 0.5, 'x[2] <= 0.5\\ngini = 0.223\\nsamples = 1793\\nvalue = [1564, 229]'),\n",
       " Text(0.08384146341463415, 0.46, 'gini = 0.32\\nsamples = 5\\nvalue = [4, 1]'),\n",
       " Text(0.0899390243902439, 0.46, 'gini = 0.223\\nsamples = 1788\\nvalue = [1560, 228]'),\n",
       " Text(0.08689024390243902, 0.58, 'gini = 0.32\\nsamples = 10\\nvalue = [8, 2]'),\n",
       " Text(0.09603658536585366, 0.62, 'x[2] <= 4.5\\ngini = 0.469\\nsamples = 8\\nvalue = [3, 5]'),\n",
       " Text(0.09298780487804878, 0.58, 'x[2] <= 2.5\\ngini = 0.278\\nsamples = 6\\nvalue = [1, 5]'),\n",
       " Text(0.0899390243902439, 0.54, 'gini = 0.32\\nsamples = 5\\nvalue = [1, 4]'),\n",
       " Text(0.09603658536585366, 0.54, 'gini = 0.0\\nsamples = 1\\nvalue = [0, 1]'),\n",
       " Text(0.09908536585365854, 0.58, 'gini = 0.0\\nsamples = 2\\nvalue = [2, 0]'),\n",
       " Text(0.13528963414634146, 0.66, 'x[2] <= 9.5\\ngini = 0.172\\nsamples = 926\\nvalue = [838, 88]'),\n",
       " Text(0.12576219512195122, 0.62, 'x[8] <= 6.5\\ngini = 0.164\\nsamples = 890\\nvalue = [810, 80]'),\n",
       " Text(0.11585365853658537, 0.58, 'x[8] <= 4.5\\ngini = 0.16\\nsamples = 844\\nvalue = [770, 74]'),\n",
       " Text(0.10518292682926829, 0.54, 'x[5] <= 5.0\\ngini = 0.165\\nsamples = 729\\nvalue = [663, 66]'),\n",
       " Text(0.10213414634146341, 0.5, 'x[8] <= 2.5\\ngini = 0.165\\nsamples = 727\\nvalue = [661, 66]'),\n",
       " Text(0.09603658536585366, 0.46, 'x[2] <= 2.5\\ngini = 0.17\\nsamples = 459\\nvalue = [416, 43]'),\n",
       " Text(0.09298780487804878, 0.42, 'x[5] <= 3.0\\ngini = 0.167\\nsamples = 456\\nvalue = [414, 42]'),\n",
       " Text(0.0899390243902439, 0.38, 'x[2] <= 1.0\\ngini = 0.168\\nsamples = 454\\nvalue = [412, 42]'),\n",
       " Text(0.08689024390243902, 0.34, 'gini = 0.0\\nsamples = 1\\nvalue = [1, 0]'),\n",
       " Text(0.09298780487804878, 0.34, 'gini = 0.168\\nsamples = 453\\nvalue = [411, 42]'),\n",
       " Text(0.09603658536585366, 0.38, 'gini = 0.0\\nsamples = 2\\nvalue = [2, 0]'),\n",
       " Text(0.09908536585365854, 0.42, 'gini = 0.444\\nsamples = 3\\nvalue = [2, 1]'),\n",
       " Text(0.10823170731707317, 0.46, 'x[2] <= 2.5\\ngini = 0.157\\nsamples = 268\\nvalue = [245, 23]'),\n",
       " Text(0.10518292682926829, 0.42, 'gini = 0.0\\nsamples = 3\\nvalue = [3, 0]'),\n",
       " Text(0.11128048780487805, 0.42, 'x[2] <= 3.5\\ngini = 0.159\\nsamples = 265\\nvalue = [242, 23]'),\n",
       " Text(0.10823170731707317, 0.38, 'gini = 0.159\\nsamples = 161\\nvalue = [147, 14]'),\n",
       " Text(0.11432926829268293, 0.38, 'gini = 0.158\\nsamples = 104\\nvalue = [95, 9]'),\n",
       " Text(0.10823170731707317, 0.5, 'gini = 0.0\\nsamples = 2\\nvalue = [2, 0]'),\n",
       " Text(0.12652439024390244, 0.54, 'x[2] <= 5.5\\ngini = 0.129\\nsamples = 115\\nvalue = [107, 8]'),\n",
       " Text(0.12347560975609756, 0.5, 'x[2] <= 4.5\\ngini = 0.088\\nsamples = 65\\nvalue = [62, 3]'),\n",
       " Text(0.12042682926829268, 0.46, 'gini = 0.0\\nsamples = 3\\nvalue = [3, 0]'),\n",
       " Text(0.12652439024390244, 0.46, 'x[8] <= 5.5\\ngini = 0.092\\nsamples = 62\\nvalue = [59, 3]'),\n",
       " Text(0.12347560975609756, 0.42, 'x[5] <= 7.5\\ngini = 0.094\\nsamples = 61\\nvalue = [58, 3]'),\n",
       " Text(0.12042682926829268, 0.38, 'gini = 0.095\\nsamples = 60\\nvalue = [57, 3]'),\n",
       " Text(0.12652439024390244, 0.38, 'gini = 0.0\\nsamples = 1\\nvalue = [1, 0]'),\n",
       " Text(0.12957317073170732, 0.42, 'gini = 0.0\\nsamples = 1\\nvalue = [1, 0]'),\n",
       " Text(0.12957317073170732, 0.5, 'gini = 0.18\\nsamples = 50\\nvalue = [45, 5]'),\n",
       " Text(0.13567073170731708, 0.58, 'x[2] <= 7.5\\ngini = 0.227\\nsamples = 46\\nvalue = [40, 6]'),\n",
       " Text(0.1326219512195122, 0.54, 'gini = 0.285\\nsamples = 29\\nvalue = [24, 5]'),\n",
       " Text(0.13871951219512196, 0.54, 'x[5] <= 8.5\\ngini = 0.111\\nsamples = 17\\nvalue = [16, 1]'),\n",
       " Text(0.13567073170731708, 0.5, 'gini = 0.165\\nsamples = 11\\nvalue = [10, 1]'),\n",
       " Text(0.14176829268292682, 0.5, 'gini = 0.0\\nsamples = 6\\nvalue = [6, 0]'),\n",
       " Text(0.1448170731707317, 0.62, 'x[5] <= 10.5\\ngini = 0.346\\nsamples = 36\\nvalue = [28, 8]'),\n",
       " Text(0.14176829268292682, 0.58, 'gini = 0.434\\nsamples = 22\\nvalue = [15, 7]'),\n",
       " Text(0.14786585365853658, 0.58, 'x[5] <= 13.5\\ngini = 0.133\\nsamples = 14\\nvalue = [13, 1]'),\n",
       " Text(0.1448170731707317, 0.54, 'gini = 0.0\\nsamples = 10\\nvalue = [10, 0]'),\n",
       " Text(0.15091463414634146, 0.54, 'gini = 0.375\\nsamples = 4\\nvalue = [3, 1]'),\n",
       " Text(0.11871189024390244, 0.7, 'gini = 0.0\\nsamples = 1\\nvalue = [0, 1]'),\n",
       " Text(0.14786585365853658, 0.74, 'x[8] <= 16.5\\ngini = 0.5\\nsamples = 10\\nvalue = [5, 5]'),\n",
       " Text(0.1448170731707317, 0.7, 'gini = 0.0\\nsamples = 1\\nvalue = [0, 1]'),\n",
       " Text(0.15091463414634146, 0.7, 'x[5] <= 18.5\\ngini = 0.494\\nsamples = 9\\nvalue = [5, 4]'),\n",
       " Text(0.14786585365853658, 0.66, 'gini = 0.0\\nsamples = 2\\nvalue = [2, 0]'),\n",
       " Text(0.15396341463414634, 0.66, 'x[2] <= 20.5\\ngini = 0.49\\nsamples = 7\\nvalue = [3, 4]'),\n",
       " Text(0.15091463414634146, 0.62, 'gini = 0.0\\nsamples = 2\\nvalue = [0, 2]'),\n",
       " Text(0.15701219512195122, 0.62, 'x[8] <= 21.5\\ngini = 0.48\\nsamples = 5\\nvalue = [3, 2]'),\n",
       " Text(0.15396341463414634, 0.58, 'gini = 0.375\\nsamples = 4\\nvalue = [3, 1]'),\n",
       " Text(0.1600609756097561, 0.58, 'gini = 0.0\\nsamples = 1\\nvalue = [0, 1]'),\n",
       " Text(0.13786204268292682, 0.78, 'gini = 0.0\\nsamples = 9\\nvalue = [0, 9]'),\n",
       " Text(0.18292682926829268, 0.86, 'x[1] <= 0.5\\ngini = 0.471\\nsamples = 50\\nvalue = [19, 31]'),\n",
       " Text(0.17530487804878048, 0.82, 'x[5] <= 3.0\\ngini = 0.5\\nsamples = 33\\nvalue = [17, 16]'),\n",
       " Text(0.1722560975609756, 0.78, 'x[7] <= 0.5\\ngini = 0.491\\nsamples = 30\\nvalue = [17, 13]'),\n",
       " Text(0.16615853658536586, 0.74, 'x[2] <= 0.5\\ngini = 0.346\\nsamples = 9\\nvalue = [7, 2]'),\n",
       " Text(0.16310975609756098, 0.7, 'x[4] <= 0.5\\ngini = 0.48\\nsamples = 5\\nvalue = [3, 2]'),\n",
       " Text(0.1600609756097561, 0.66, 'gini = 0.0\\nsamples = 2\\nvalue = [2, 0]'),\n",
       " Text(0.16615853658536586, 0.66, 'gini = 0.444\\nsamples = 3\\nvalue = [1, 2]'),\n",
       " Text(0.16920731707317074, 0.7, 'gini = 0.0\\nsamples = 4\\nvalue = [4, 0]'),\n",
       " Text(0.17835365853658536, 0.74, 'x[6] <= 1.5\\ngini = 0.499\\nsamples = 21\\nvalue = [10, 11]'),\n",
       " Text(0.17530487804878048, 0.7, 'x[2] <= 1.5\\ngini = 0.495\\nsamples = 20\\nvalue = [9, 11]'),\n",
       " Text(0.1722560975609756, 0.66, 'x[5] <= 1.5\\ngini = 0.488\\nsamples = 19\\nvalue = [8, 11]'),\n",
       " Text(0.16920731707317074, 0.62, 'gini = 0.494\\nsamples = 18\\nvalue = [8, 10]'),\n",
       " Text(0.17530487804878048, 0.62, 'gini = 0.0\\nsamples = 1\\nvalue = [0, 1]'),\n",
       " Text(0.17835365853658536, 0.66, 'gini = 0.0\\nsamples = 1\\nvalue = [1, 0]'),\n",
       " Text(0.18140243902439024, 0.7, 'gini = 0.0\\nsamples = 1\\nvalue = [1, 0]'),\n",
       " Text(0.17835365853658536, 0.78, 'gini = 0.0\\nsamples = 3\\nvalue = [0, 3]'),\n",
       " Text(0.19054878048780488, 0.82, 'x[1] <= 1.5\\ngini = 0.208\\nsamples = 17\\nvalue = [2, 15]'),\n",
       " Text(0.1875, 0.78, 'x[0] <= 0.5\\ngini = 0.219\\nsamples = 16\\nvalue = [2, 14]'),\n",
       " Text(0.18445121951219512, 0.74, 'gini = 0.245\\nsamples = 7\\nvalue = [1, 6]'),\n",
       " Text(0.19054878048780488, 0.74, 'gini = 0.198\\nsamples = 9\\nvalue = [1, 8]'),\n",
       " Text(0.19359756097560976, 0.78, 'gini = 0.0\\nsamples = 1\\nvalue = [0, 1]'),\n",
       " Text(0.4275438262195122, 0.9, 'x[7] <= 5.5\\ngini = 0.494\\nsamples = 1005\\nvalue = [558, 447]'),\n",
       " Text(0.3247903963414634, 0.86, 'x[7] <= 2.5\\ngini = 0.482\\nsamples = 895\\nvalue = [532, 363]'),\n",
       " Text(0.2500952743902439, 0.82, 'x[2] <= 3.5\\ngini = 0.458\\nsamples = 590\\nvalue = [381, 209]'),\n",
       " Text(0.2145579268292683, 0.78, 'x[6] <= 0.5\\ngini = 0.472\\nsamples = 421\\nvalue = [260, 161]'),\n",
       " Text(0.2035060975609756, 0.74, 'x[5] <= 2.5\\ngini = 0.47\\nsamples = 416\\nvalue = [259, 157]'),\n",
       " Text(0.19054878048780488, 0.7, 'x[8] <= 3.5\\ngini = 0.46\\nsamples = 307\\nvalue = [197, 110]'),\n",
       " Text(0.1875, 0.66, 'x[8] <= 2.5\\ngini = 0.457\\nsamples = 305\\nvalue = [197, 108]'),\n",
       " Text(0.18140243902439024, 0.62, 'x[1] <= 0.5\\ngini = 0.46\\nsamples = 299\\nvalue = [192, 107]'),\n",
       " Text(0.17835365853658536, 0.58, 'x[5] <= 0.5\\ngini = 0.46\\nsamples = 298\\nvalue = [191, 107]'),\n",
       " Text(0.17530487804878048, 0.54, 'gini = 0.0\\nsamples = 1\\nvalue = [1, 0]'),\n",
       " Text(0.18140243902439024, 0.54, 'x[2] <= 1.5\\ngini = 0.461\\nsamples = 297\\nvalue = [190, 107]'),\n",
       " Text(0.17835365853658536, 0.5, 'x[5] <= 1.5\\ngini = 0.45\\nsamples = 117\\nvalue = [77, 40]'),\n",
       " Text(0.17530487804878048, 0.46, 'x[8] <= 1.5\\ngini = 0.472\\nsamples = 84\\nvalue = [52, 32]'),\n",
       " Text(0.1722560975609756, 0.42, 'gini = 0.452\\nsamples = 58\\nvalue = [38, 20]'),\n",
       " Text(0.17835365853658536, 0.42, 'gini = 0.497\\nsamples = 26\\nvalue = [14, 12]'),\n",
       " Text(0.18140243902439024, 0.46, 'gini = 0.367\\nsamples = 33\\nvalue = [25, 8]'),\n",
       " Text(0.18445121951219512, 0.5, 'gini = 0.467\\nsamples = 180\\nvalue = [113, 67]'),\n",
       " Text(0.18445121951219512, 0.58, 'gini = 0.0\\nsamples = 1\\nvalue = [1, 0]'),\n",
       " Text(0.19359756097560976, 0.62, 'x[5] <= 1.5\\ngini = 0.278\\nsamples = 6\\nvalue = [5, 1]'),\n",
       " Text(0.19054878048780488, 0.58, 'gini = 0.0\\nsamples = 2\\nvalue = [2, 0]'),\n",
       " Text(0.19664634146341464, 0.58, 'gini = 0.375\\nsamples = 4\\nvalue = [3, 1]'),\n",
       " Text(0.19359756097560976, 0.66, 'gini = 0.0\\nsamples = 2\\nvalue = [0, 2]'),\n",
       " Text(0.21646341463414634, 0.7, 'x[2] <= 1.5\\ngini = 0.491\\nsamples = 109\\nvalue = [62, 47]'),\n",
       " Text(0.20884146341463414, 0.66, 'x[1] <= 0.5\\ngini = 0.375\\nsamples = 12\\nvalue = [3, 9]'),\n",
       " Text(0.20579268292682926, 0.62, 'x[8] <= 3.5\\ngini = 0.298\\nsamples = 11\\nvalue = [2, 9]'),\n",
       " Text(0.2027439024390244, 0.58, 'x[8] <= 2.5\\ngini = 0.444\\nsamples = 6\\nvalue = [2, 4]'),\n",
       " Text(0.19969512195121952, 0.54, 'gini = 0.5\\nsamples = 2\\nvalue = [1, 1]'),\n",
       " Text(0.20579268292682926, 0.54, 'gini = 0.375\\nsamples = 4\\nvalue = [1, 3]'),\n",
       " Text(0.20884146341463414, 0.58, 'gini = 0.0\\nsamples = 5\\nvalue = [0, 5]'),\n",
       " Text(0.21189024390243902, 0.62, 'gini = 0.0\\nsamples = 1\\nvalue = [1, 0]'),\n",
       " Text(0.22408536585365854, 0.66, 'x[8] <= 3.5\\ngini = 0.477\\nsamples = 97\\nvalue = [59, 38]'),\n",
       " Text(0.22103658536585366, 0.62, 'x[8] <= 2.5\\ngini = 0.491\\nsamples = 88\\nvalue = [50, 38]'),\n",
       " Text(0.2149390243902439, 0.58, 'x[2] <= 2.5\\ngini = 0.375\\nsamples = 8\\nvalue = [2, 6]'),\n",
       " Text(0.21189024390243902, 0.54, 'x[5] <= 3.5\\ngini = 0.444\\nsamples = 6\\nvalue = [2, 4]'),\n",
       " Text(0.20884146341463414, 0.5, 'gini = 0.375\\nsamples = 4\\nvalue = [1, 3]'),\n",
       " Text(0.2149390243902439, 0.5, 'gini = 0.5\\nsamples = 2\\nvalue = [1, 1]'),\n",
       " Text(0.21798780487804878, 0.54, 'gini = 0.0\\nsamples = 2\\nvalue = [0, 2]'),\n",
       " Text(0.22713414634146342, 0.58, 'x[2] <= 2.5\\ngini = 0.48\\nsamples = 80\\nvalue = [48, 32]'),\n",
       " Text(0.22408536585365854, 0.54, 'gini = 0.0\\nsamples = 3\\nvalue = [3, 0]'),\n",
       " Text(0.2301829268292683, 0.54, 'x[0] <= 0.5\\ngini = 0.486\\nsamples = 77\\nvalue = [45, 32]'),\n",
       " Text(0.22713414634146342, 0.5, 'gini = 0.483\\nsamples = 76\\nvalue = [45, 31]'),\n",
       " Text(0.23323170731707318, 0.5, 'gini = 0.0\\nsamples = 1\\nvalue = [0, 1]'),\n",
       " Text(0.22713414634146342, 0.62, 'gini = 0.0\\nsamples = 9\\nvalue = [9, 0]'),\n",
       " Text(0.22560975609756098, 0.74, 'x[1] <= 2.5\\ngini = 0.32\\nsamples = 5\\nvalue = [1, 4]'),\n",
       " Text(0.2225609756097561, 0.7, 'gini = 0.0\\nsamples = 4\\nvalue = [0, 4]'),\n",
       " Text(0.22865853658536586, 0.7, 'gini = 0.0\\nsamples = 1\\nvalue = [1, 0]'),\n",
       " Text(0.2856326219512195, 0.78, 'x[2] <= 21.5\\ngini = 0.407\\nsamples = 169\\nvalue = [121, 48]'),\n",
       " Text(0.2740091463414634, 0.74, 'x[8] <= 3.5\\ngini = 0.393\\nsamples = 160\\nvalue = [117, 43]'),\n",
       " Text(0.2709603658536585, 0.7, 'gini = 0.0\\nsamples = 1\\nvalue = [0, 1]'),\n",
       " Text(0.2770579268292683, 0.7, 'x[5] <= 18.0\\ngini = 0.389\\nsamples = 159\\nvalue = [117, 42]'),\n",
       " Text(0.2740091463414634, 0.66, 'x[8] <= 17.5\\ngini = 0.398\\nsamples = 153\\nvalue = [111, 42]'),\n",
       " Text(0.2709603658536585, 0.62, 'x[8] <= 11.5\\ngini = 0.394\\nsamples = 152\\nvalue = [111, 41]'),\n",
       " Text(0.2553353658536585, 0.58, 'x[2] <= 9.5\\ngini = 0.413\\nsamples = 127\\nvalue = [90, 37]'),\n",
       " Text(0.24695121951219512, 0.54, 'x[8] <= 6.5\\ngini = 0.39\\nsamples = 113\\nvalue = [83, 30]'),\n",
       " Text(0.23932926829268292, 0.5, 'x[5] <= 4.5\\ngini = 0.419\\nsamples = 77\\nvalue = [54, 23]'),\n",
       " Text(0.23323170731707318, 0.46, 'x[6] <= 0.5\\ngini = 0.375\\nsamples = 40\\nvalue = [30, 10]'),\n",
       " Text(0.2301829268292683, 0.42, 'gini = 0.381\\nsamples = 39\\nvalue = [29, 10]'),\n",
       " Text(0.23628048780487804, 0.42, 'gini = 0.0\\nsamples = 1\\nvalue = [1, 0]'),\n",
       " Text(0.24542682926829268, 0.46, 'x[8] <= 4.5\\ngini = 0.456\\nsamples = 37\\nvalue = [24, 13]'),\n",
       " Text(0.2423780487804878, 0.42, 'gini = 0.0\\nsamples = 1\\nvalue = [0, 1]'),\n",
       " Text(0.24847560975609756, 0.42, 'x[2] <= 4.5\\ngini = 0.444\\nsamples = 36\\nvalue = [24, 12]'),\n",
       " Text(0.24542682926829268, 0.38, 'gini = 0.0\\nsamples = 1\\nvalue = [1, 0]'),\n",
       " Text(0.25152439024390244, 0.38, 'x[5] <= 8.0\\ngini = 0.451\\nsamples = 35\\nvalue = [23, 12]'),\n",
       " Text(0.24847560975609756, 0.34, 'x[2] <= 5.5\\ngini = 0.457\\nsamples = 34\\nvalue = [22, 12]'),\n",
       " Text(0.24542682926829268, 0.3, 'gini = 0.457\\nsamples = 17\\nvalue = [11, 6]'),\n",
       " Text(0.25152439024390244, 0.3, 'gini = 0.457\\nsamples = 17\\nvalue = [11, 6]'),\n",
       " Text(0.2545731707317073, 0.34, 'gini = 0.0\\nsamples = 1\\nvalue = [1, 0]'),\n",
       " Text(0.2545731707317073, 0.5, 'x[2] <= 6.5\\ngini = 0.313\\nsamples = 36\\nvalue = [29, 7]'),\n",
       " Text(0.25152439024390244, 0.46, 'gini = 0.0\\nsamples = 4\\nvalue = [4, 0]'),\n",
       " Text(0.2576219512195122, 0.46, 'x[5] <= 7.5\\ngini = 0.342\\nsamples = 32\\nvalue = [25, 7]'),\n",
       " Text(0.2545731707317073, 0.42, 'gini = 0.32\\nsamples = 15\\nvalue = [12, 3]'),\n",
       " Text(0.2606707317073171, 0.42, 'x[8] <= 8.5\\ngini = 0.36\\nsamples = 17\\nvalue = [13, 4]'),\n",
       " Text(0.2576219512195122, 0.38, 'gini = 0.375\\nsamples = 12\\nvalue = [9, 3]'),\n",
       " Text(0.26371951219512196, 0.38, 'gini = 0.32\\nsamples = 5\\nvalue = [4, 1]'),\n",
       " Text(0.26371951219512196, 0.54, 'x[8] <= 10.5\\ngini = 0.5\\nsamples = 14\\nvalue = [7, 7]'),\n",
       " Text(0.2606707317073171, 0.5, 'gini = 0.49\\nsamples = 7\\nvalue = [4, 3]'),\n",
       " Text(0.26676829268292684, 0.5, 'gini = 0.49\\nsamples = 7\\nvalue = [3, 4]'),\n",
       " Text(0.2865853658536585, 0.58, 'x[2] <= 15.5\\ngini = 0.269\\nsamples = 25\\nvalue = [21, 4]'),\n",
       " Text(0.27896341463414637, 0.54, 'x[2] <= 13.5\\ngini = 0.227\\nsamples = 23\\nvalue = [20, 3]'),\n",
       " Text(0.2728658536585366, 0.5, 'x[8] <= 12.5\\ngini = 0.133\\nsamples = 14\\nvalue = [13, 1]'),\n",
       " Text(0.2698170731707317, 0.46, 'x[2] <= 9.0\\ngini = 0.32\\nsamples = 5\\nvalue = [4, 1]'),\n",
       " Text(0.26676829268292684, 0.42, 'gini = 0.0\\nsamples = 1\\nvalue = [1, 0]'),\n",
       " Text(0.2728658536585366, 0.42, 'gini = 0.375\\nsamples = 4\\nvalue = [3, 1]'),\n",
       " Text(0.2759146341463415, 0.46, 'gini = 0.0\\nsamples = 9\\nvalue = [9, 0]'),\n",
       " Text(0.2850609756097561, 0.5, 'x[5] <= 14.5\\ngini = 0.346\\nsamples = 9\\nvalue = [7, 2]'),\n",
       " Text(0.2820121951219512, 0.46, 'gini = 0.444\\nsamples = 6\\nvalue = [4, 2]'),\n",
       " Text(0.28810975609756095, 0.46, 'gini = 0.0\\nsamples = 3\\nvalue = [3, 0]'),\n",
       " Text(0.2942073170731707, 0.54, 'x[2] <= 16.5\\ngini = 0.5\\nsamples = 2\\nvalue = [1, 1]'),\n",
       " Text(0.29115853658536583, 0.5, 'gini = 0.0\\nsamples = 1\\nvalue = [0, 1]'),\n",
       " Text(0.2972560975609756, 0.5, 'gini = 0.0\\nsamples = 1\\nvalue = [1, 0]'),\n",
       " Text(0.2770579268292683, 0.62, 'gini = 0.0\\nsamples = 1\\nvalue = [0, 1]'),\n",
       " Text(0.28010670731707316, 0.66, 'gini = 0.0\\nsamples = 6\\nvalue = [6, 0]'),\n",
       " Text(0.2972560975609756, 0.74, 'x[8] <= 24.0\\ngini = 0.494\\nsamples = 9\\nvalue = [4, 5]'),\n",
       " Text(0.2942073170731707, 0.7, 'gini = 0.0\\nsamples = 2\\nvalue = [0, 2]'),\n",
       " Text(0.3003048780487805, 0.7, 'x[5] <= 23.5\\ngini = 0.49\\nsamples = 7\\nvalue = [4, 3]'),\n",
       " Text(0.2972560975609756, 0.66, 'gini = 0.0\\nsamples = 1\\nvalue = [0, 1]'),\n",
       " Text(0.30335365853658536, 0.66, 'x[2] <= 23.5\\ngini = 0.444\\nsamples = 6\\nvalue = [4, 2]'),\n",
       " Text(0.3003048780487805, 0.62, 'gini = 0.0\\nsamples = 1\\nvalue = [1, 0]'),\n",
       " Text(0.30640243902439024, 0.62, 'x[5] <= 28.5\\ngini = 0.48\\nsamples = 5\\nvalue = [3, 2]'),\n",
       " Text(0.30335365853658536, 0.58, 'x[8] <= 25.5\\ngini = 0.5\\nsamples = 4\\nvalue = [2, 2]'),\n",
       " Text(0.3003048780487805, 0.54, 'gini = 0.5\\nsamples = 2\\nvalue = [1, 1]'),\n",
       " Text(0.30640243902439024, 0.54, 'gini = 0.5\\nsamples = 2\\nvalue = [1, 1]'),\n",
       " Text(0.3094512195121951, 0.58, 'gini = 0.0\\nsamples = 1\\nvalue = [1, 0]'),\n",
       " Text(0.3994855182926829, 0.82, 'x[8] <= 9.5\\ngini = 0.5\\nsamples = 305\\nvalue = [151, 154]'),\n",
       " Text(0.35346798780487804, 0.78, 'x[2] <= 4.5\\ngini = 0.488\\nsamples = 216\\nvalue = [91, 125]'),\n",
       " Text(0.3319359756097561, 0.74, 'x[5] <= 6.0\\ngini = 0.5\\nsamples = 137\\nvalue = [69, 68]'),\n",
       " Text(0.3288871951219512, 0.7, 'x[8] <= 6.5\\ngini = 0.5\\nsamples = 132\\nvalue = [64, 68]'),\n",
       " Text(0.32583841463414637, 0.66, 'x[5] <= 2.5\\ngini = 0.5\\nsamples = 130\\nvalue = [64, 66]'),\n",
       " Text(0.31859756097560976, 0.62, 'x[7] <= 3.5\\ngini = 0.459\\nsamples = 14\\nvalue = [5, 9]'),\n",
       " Text(0.3155487804878049, 0.58, 'x[8] <= 3.5\\ngini = 0.473\\nsamples = 13\\nvalue = [5, 8]'),\n",
       " Text(0.3125, 0.54, 'x[8] <= 2.5\\ngini = 0.444\\nsamples = 12\\nvalue = [4, 8]'),\n",
       " Text(0.30640243902439024, 0.5, 'x[2] <= 1.5\\ngini = 0.444\\nsamples = 9\\nvalue = [3, 6]'),\n",
       " Text(0.30335365853658536, 0.46, 'gini = 0.0\\nsamples = 1\\nvalue = [0, 1]'),\n",
       " Text(0.3094512195121951, 0.46, 'gini = 0.469\\nsamples = 8\\nvalue = [3, 5]'),\n",
       " Text(0.31859756097560976, 0.5, 'x[2] <= 1.5\\ngini = 0.444\\nsamples = 3\\nvalue = [1, 2]'),\n",
       " Text(0.3155487804878049, 0.46, 'gini = 0.5\\nsamples = 2\\nvalue = [1, 1]'),\n",
       " Text(0.32164634146341464, 0.46, 'gini = 0.0\\nsamples = 1\\nvalue = [0, 1]'),\n",
       " Text(0.31859756097560976, 0.54, 'gini = 0.0\\nsamples = 1\\nvalue = [1, 0]'),\n",
       " Text(0.32164634146341464, 0.58, 'gini = 0.0\\nsamples = 1\\nvalue = [0, 1]'),\n",
       " Text(0.3330792682926829, 0.62, 'x[2] <= 1.5\\ngini = 0.5\\nsamples = 116\\nvalue = [59, 57]'),\n",
       " Text(0.33003048780487804, 0.58, 'gini = 0.0\\nsamples = 3\\nvalue = [3, 0]'),\n",
       " Text(0.3361280487804878, 0.58, 'x[8] <= 2.5\\ngini = 0.5\\nsamples = 113\\nvalue = [56, 57]'),\n",
       " Text(0.3330792682926829, 0.54, 'gini = 0.0\\nsamples = 1\\nvalue = [1, 0]'),\n",
       " Text(0.3391768292682927, 0.54, 'x[8] <= 5.5\\ngini = 0.5\\nsamples = 112\\nvalue = [55, 57]'),\n",
       " Text(0.3361280487804878, 0.5, 'x[7] <= 4.5\\ngini = 0.5\\nsamples = 111\\nvalue = [54, 57]'),\n",
       " Text(0.3277439024390244, 0.46, 'x[2] <= 2.5\\ngini = 0.5\\nsamples = 108\\nvalue = [53, 55]'),\n",
       " Text(0.3201219512195122, 0.42, 'x[5] <= 3.5\\ngini = 0.444\\nsamples = 3\\nvalue = [2, 1]'),\n",
       " Text(0.3170731707317073, 0.38, 'gini = 0.5\\nsamples = 2\\nvalue = [1, 1]'),\n",
       " Text(0.3231707317073171, 0.38, 'gini = 0.0\\nsamples = 1\\nvalue = [1, 0]'),\n",
       " Text(0.3353658536585366, 0.42, 'x[7] <= 3.5\\ngini = 0.5\\nsamples = 105\\nvalue = [51, 54]'),\n",
       " Text(0.32926829268292684, 0.38, 'x[8] <= 4.5\\ngini = 0.498\\nsamples = 73\\nvalue = [34, 39]'),\n",
       " Text(0.32621951219512196, 0.34, 'x[8] <= 3.5\\ngini = 0.497\\nsamples = 72\\nvalue = [33, 39]'),\n",
       " Text(0.3231707317073171, 0.3, 'gini = 0.499\\nsamples = 56\\nvalue = [27, 29]'),\n",
       " Text(0.32926829268292684, 0.3, 'x[5] <= 3.5\\ngini = 0.469\\nsamples = 16\\nvalue = [6, 10]'),\n",
       " Text(0.32621951219512196, 0.26, 'gini = 0.0\\nsamples = 2\\nvalue = [0, 2]'),\n",
       " Text(0.3323170731707317, 0.26, 'gini = 0.49\\nsamples = 14\\nvalue = [6, 8]'),\n",
       " Text(0.3323170731707317, 0.34, 'gini = 0.0\\nsamples = 1\\nvalue = [1, 0]'),\n",
       " Text(0.34146341463414637, 0.38, 'x[8] <= 4.5\\ngini = 0.498\\nsamples = 32\\nvalue = [17, 15]'),\n",
       " Text(0.3384146341463415, 0.34, 'x[8] <= 3.5\\ngini = 0.495\\nsamples = 31\\nvalue = [17, 14]'),\n",
       " Text(0.3353658536585366, 0.3, 'gini = 0.444\\nsamples = 3\\nvalue = [2, 1]'),\n",
       " Text(0.34146341463414637, 0.3, 'x[5] <= 3.5\\ngini = 0.497\\nsamples = 28\\nvalue = [15, 13]'),\n",
       " Text(0.3384146341463415, 0.26, 'gini = 0.0\\nsamples = 1\\nvalue = [0, 1]'),\n",
       " Text(0.3445121951219512, 0.26, 'x[2] <= 3.5\\ngini = 0.494\\nsamples = 27\\nvalue = [15, 12]'),\n",
       " Text(0.34146341463414637, 0.22, 'gini = 0.0\\nsamples = 1\\nvalue = [1, 0]'),\n",
       " Text(0.3475609756097561, 0.22, 'gini = 0.497\\nsamples = 26\\nvalue = [14, 12]'),\n",
       " Text(0.3445121951219512, 0.34, 'gini = 0.0\\nsamples = 1\\nvalue = [0, 1]'),\n",
       " Text(0.3445121951219512, 0.46, 'x[2] <= 2.5\\ngini = 0.444\\nsamples = 3\\nvalue = [1, 2]'),\n",
       " Text(0.34146341463414637, 0.42, 'gini = 0.0\\nsamples = 1\\nvalue = [0, 1]'),\n",
       " Text(0.3475609756097561, 0.42, 'gini = 0.5\\nsamples = 2\\nvalue = [1, 1]'),\n",
       " Text(0.34222560975609756, 0.5, 'gini = 0.0\\nsamples = 1\\nvalue = [1, 0]'),\n",
       " Text(0.3319359756097561, 0.66, 'gini = 0.0\\nsamples = 2\\nvalue = [0, 2]'),\n",
       " Text(0.33498475609756095, 0.7, 'gini = 0.0\\nsamples = 5\\nvalue = [5, 0]'),\n",
       " Text(0.375, 0.74, 'x[7] <= 3.5\\ngini = 0.402\\nsamples = 79\\nvalue = [22, 57]'),\n",
       " Text(0.36509146341463417, 0.7, 'x[5] <= 7.5\\ngini = 0.491\\nsamples = 37\\nvalue = [16, 21]'),\n",
       " Text(0.35746951219512196, 0.66, 'x[2] <= 6.5\\ngini = 0.458\\nsamples = 31\\nvalue = [11, 20]'),\n",
       " Text(0.3513719512195122, 0.62, 'x[8] <= 7.0\\ngini = 0.483\\nsamples = 22\\nvalue = [9, 13]'),\n",
       " Text(0.3483231707317073, 0.58, 'x[2] <= 5.5\\ngini = 0.472\\nsamples = 21\\nvalue = [8, 13]'),\n",
       " Text(0.34527439024390244, 0.54, 'gini = 0.463\\nsamples = 11\\nvalue = [4, 7]'),\n",
       " Text(0.3513719512195122, 0.54, 'gini = 0.48\\nsamples = 10\\nvalue = [4, 6]'),\n",
       " Text(0.3544207317073171, 0.58, 'gini = 0.0\\nsamples = 1\\nvalue = [1, 0]'),\n",
       " Text(0.3635670731707317, 0.62, 'x[0] <= 1.5\\ngini = 0.346\\nsamples = 9\\nvalue = [2, 7]'),\n",
       " Text(0.36051829268292684, 0.58, 'x[8] <= 5.5\\ngini = 0.375\\nsamples = 8\\nvalue = [2, 6]'),\n",
       " Text(0.35746951219512196, 0.54, 'gini = 0.0\\nsamples = 1\\nvalue = [0, 1]'),\n",
       " Text(0.3635670731707317, 0.54, 'x[5] <= 6.5\\ngini = 0.408\\nsamples = 7\\nvalue = [2, 5]'),\n",
       " Text(0.36051829268292684, 0.5, 'gini = 0.0\\nsamples = 1\\nvalue = [0, 1]'),\n",
       " Text(0.3666158536585366, 0.5, 'gini = 0.444\\nsamples = 6\\nvalue = [2, 4]'),\n",
       " Text(0.3666158536585366, 0.58, 'gini = 0.0\\nsamples = 1\\nvalue = [0, 1]'),\n",
       " Text(0.37271341463414637, 0.66, 'x[8] <= 8.5\\ngini = 0.278\\nsamples = 6\\nvalue = [5, 1]'),\n",
       " Text(0.3696646341463415, 0.62, 'gini = 0.444\\nsamples = 3\\nvalue = [2, 1]'),\n",
       " Text(0.3757621951219512, 0.62, 'gini = 0.0\\nsamples = 3\\nvalue = [3, 0]'),\n",
       " Text(0.38490853658536583, 0.7, 'x[5] <= 4.5\\ngini = 0.245\\nsamples = 42\\nvalue = [6, 36]'),\n",
       " Text(0.38185975609756095, 0.66, 'gini = 0.0\\nsamples = 1\\nvalue = [1, 0]'),\n",
       " Text(0.3879573170731707, 0.66, 'x[5] <= 5.5\\ngini = 0.214\\nsamples = 41\\nvalue = [5, 36]'),\n",
       " Text(0.38185975609756095, 0.62, 'x[7] <= 4.5\\ngini = 0.375\\nsamples = 12\\nvalue = [3, 9]'),\n",
       " Text(0.3788109756097561, 0.58, 'gini = 0.0\\nsamples = 5\\nvalue = [0, 5]'),\n",
       " Text(0.38490853658536583, 0.58, 'gini = 0.49\\nsamples = 7\\nvalue = [3, 4]'),\n",
       " Text(0.3940548780487805, 0.62, 'x[8] <= 7.5\\ngini = 0.128\\nsamples = 29\\nvalue = [2, 27]'),\n",
       " Text(0.3910060975609756, 0.58, 'gini = 0.0\\nsamples = 16\\nvalue = [0, 16]'),\n",
       " Text(0.39710365853658536, 0.58, 'x[2] <= 7.5\\ngini = 0.26\\nsamples = 13\\nvalue = [2, 11]'),\n",
       " Text(0.3940548780487805, 0.54, 'x[7] <= 4.5\\ngini = 0.48\\nsamples = 5\\nvalue = [2, 3]'),\n",
       " Text(0.3910060975609756, 0.5, 'x[8] <= 8.5\\ngini = 0.444\\nsamples = 3\\nvalue = [2, 1]'),\n",
       " Text(0.3879573170731707, 0.46, 'x[2] <= 6.5\\ngini = 0.5\\nsamples = 2\\nvalue = [1, 1]'),\n",
       " Text(0.38490853658536583, 0.42, 'gini = 0.0\\nsamples = 1\\nvalue = [0, 1]'),\n",
       " Text(0.3910060975609756, 0.42, 'gini = 0.0\\nsamples = 1\\nvalue = [1, 0]'),\n",
       " Text(0.3940548780487805, 0.46, 'gini = 0.0\\nsamples = 1\\nvalue = [1, 0]'),\n",
       " Text(0.39710365853658536, 0.5, 'gini = 0.0\\nsamples = 2\\nvalue = [0, 2]'),\n",
       " Text(0.40015243902439024, 0.54, 'gini = 0.0\\nsamples = 8\\nvalue = [0, 8]'),\n",
       " Text(0.4455030487804878, 0.78, 'x[1] <= 0.5\\ngini = 0.439\\nsamples = 89\\nvalue = [60, 29]'),\n",
       " Text(0.4424542682926829, 0.74, 'x[2] <= 8.5\\ngini = 0.434\\nsamples = 88\\nvalue = [60, 28]'),\n",
       " Text(0.43940548780487804, 0.7, 'gini = 0.0\\nsamples = 4\\nvalue = [4, 0]'),\n",
       " Text(0.4455030487804878, 0.7, 'x[2] <= 36.5\\ngini = 0.444\\nsamples = 84\\nvalue = [56, 28]'),\n",
       " Text(0.4298780487804878, 0.66, 'x[8] <= 31.5\\ngini = 0.428\\nsamples = 71\\nvalue = [49, 22]'),\n",
       " Text(0.4268292682926829, 0.62, 'x[8] <= 29.5\\ngini = 0.461\\nsamples = 61\\nvalue = [39, 22]'),\n",
       " Text(0.42378048780487804, 0.58, 'x[8] <= 26.0\\ngini = 0.448\\nsamples = 59\\nvalue = [39, 20]'),\n",
       " Text(0.4108231707317073, 0.54, 'x[5] <= 11.5\\ngini = 0.464\\nsamples = 52\\nvalue = [33, 19]'),\n",
       " Text(0.4032012195121951, 0.5, 'x[8] <= 10.5\\ngini = 0.278\\nsamples = 6\\nvalue = [5, 1]'),\n",
       " Text(0.40015243902439024, 0.46, 'x[7] <= 3.5\\ngini = 0.444\\nsamples = 3\\nvalue = [2, 1]'),\n",
       " Text(0.39710365853658536, 0.42, 'gini = 0.0\\nsamples = 1\\nvalue = [1, 0]'),\n",
       " Text(0.4032012195121951, 0.42, 'gini = 0.5\\nsamples = 2\\nvalue = [1, 1]'),\n",
       " Text(0.40625, 0.46, 'gini = 0.0\\nsamples = 3\\nvalue = [3, 0]'),\n",
       " Text(0.4184451219512195, 0.5, 'x[5] <= 13.5\\ngini = 0.476\\nsamples = 46\\nvalue = [28, 18]'),\n",
       " Text(0.41234756097560976, 0.46, 'x[7] <= 3.5\\ngini = 0.444\\nsamples = 6\\nvalue = [2, 4]'),\n",
       " Text(0.4092987804878049, 0.42, 'gini = 0.0\\nsamples = 2\\nvalue = [2, 0]'),\n",
       " Text(0.41539634146341464, 0.42, 'gini = 0.0\\nsamples = 4\\nvalue = [0, 4]'),\n",
       " Text(0.4245426829268293, 0.46, 'x[2] <= 10.5\\ngini = 0.455\\nsamples = 40\\nvalue = [26, 14]'),\n",
       " Text(0.4214939024390244, 0.42, 'gini = 0.0\\nsamples = 1\\nvalue = [0, 1]'),\n",
       " Text(0.42759146341463417, 0.42, 'x[2] <= 15.5\\ngini = 0.444\\nsamples = 39\\nvalue = [26, 13]'),\n",
       " Text(0.41539634146341464, 0.38, 'x[5] <= 14.5\\ngini = 0.198\\nsamples = 9\\nvalue = [8, 1]'),\n",
       " Text(0.41234756097560976, 0.34, 'x[7] <= 3.5\\ngini = 0.444\\nsamples = 3\\nvalue = [2, 1]'),\n",
       " Text(0.4092987804878049, 0.3, 'gini = 0.0\\nsamples = 1\\nvalue = [1, 0]'),\n",
       " Text(0.41539634146341464, 0.3, 'x[7] <= 4.5\\ngini = 0.5\\nsamples = 2\\nvalue = [1, 1]'),\n",
       " Text(0.41234756097560976, 0.26, 'gini = 0.0\\nsamples = 1\\nvalue = [0, 1]'),\n",
       " Text(0.4184451219512195, 0.26, 'gini = 0.0\\nsamples = 1\\nvalue = [1, 0]'),\n",
       " Text(0.4184451219512195, 0.34, 'gini = 0.0\\nsamples = 6\\nvalue = [6, 0]'),\n",
       " Text(0.43978658536585363, 0.38, 'x[5] <= 17.5\\ngini = 0.48\\nsamples = 30\\nvalue = [18, 12]'),\n",
       " Text(0.43064024390243905, 0.34, 'x[7] <= 3.5\\ngini = 0.375\\nsamples = 4\\nvalue = [1, 3]'),\n",
       " Text(0.42759146341463417, 0.3, 'x[2] <= 16.5\\ngini = 0.5\\nsamples = 2\\nvalue = [1, 1]'),\n",
       " Text(0.4245426829268293, 0.26, 'gini = 0.0\\nsamples = 1\\nvalue = [1, 0]'),\n",
       " Text(0.43064024390243905, 0.26, 'gini = 0.0\\nsamples = 1\\nvalue = [0, 1]'),\n",
       " Text(0.4336890243902439, 0.3, 'gini = 0.0\\nsamples = 2\\nvalue = [0, 2]'),\n",
       " Text(0.4489329268292683, 0.34, 'x[8] <= 21.5\\ngini = 0.453\\nsamples = 26\\nvalue = [17, 9]'),\n",
       " Text(0.43978658536585363, 0.3, 'x[7] <= 3.5\\ngini = 0.32\\nsamples = 10\\nvalue = [8, 2]'),\n",
       " Text(0.4367378048780488, 0.26, 'x[2] <= 18.5\\ngini = 0.5\\nsamples = 4\\nvalue = [2, 2]'),\n",
       " Text(0.4336890243902439, 0.22, 'gini = 0.0\\nsamples = 1\\nvalue = [0, 1]'),\n",
       " Text(0.43978658536585363, 0.22, 'x[8] <= 20.0\\ngini = 0.444\\nsamples = 3\\nvalue = [2, 1]'),\n",
       " Text(0.4367378048780488, 0.18, 'gini = 0.0\\nsamples = 2\\nvalue = [2, 0]'),\n",
       " Text(0.4428353658536585, 0.18, 'gini = 0.0\\nsamples = 1\\nvalue = [0, 1]'),\n",
       " Text(0.4428353658536585, 0.26, 'gini = 0.0\\nsamples = 6\\nvalue = [6, 0]'),\n",
       " Text(0.4580792682926829, 0.3, 'x[7] <= 4.5\\ngini = 0.492\\nsamples = 16\\nvalue = [9, 7]'),\n",
       " Text(0.45503048780487804, 0.26, 'x[2] <= 20.0\\ngini = 0.459\\nsamples = 14\\nvalue = [9, 5]'),\n",
       " Text(0.45198170731707316, 0.22, 'gini = 0.0\\nsamples = 1\\nvalue = [0, 1]'),\n",
       " Text(0.4580792682926829, 0.22, 'x[7] <= 3.5\\ngini = 0.426\\nsamples = 13\\nvalue = [9, 4]'),\n",
       " Text(0.4489329268292683, 0.18, 'x[5] <= 22.5\\ngini = 0.49\\nsamples = 7\\nvalue = [4, 3]'),\n",
       " Text(0.4458841463414634, 0.14, 'gini = 0.0\\nsamples = 1\\nvalue = [0, 1]'),\n",
       " Text(0.45198170731707316, 0.14, 'x[8] <= 23.5\\ngini = 0.444\\nsamples = 6\\nvalue = [4, 2]'),\n",
       " Text(0.4489329268292683, 0.1, 'gini = 0.0\\nsamples = 2\\nvalue = [2, 0]'),\n",
       " Text(0.45503048780487804, 0.1, 'x[8] <= 24.5\\ngini = 0.5\\nsamples = 4\\nvalue = [2, 2]'),\n",
       " Text(0.45198170731707316, 0.06, 'gini = 0.0\\nsamples = 1\\nvalue = [0, 1]'),\n",
       " Text(0.4580792682926829, 0.06, 'x[5] <= 24.5\\ngini = 0.444\\nsamples = 3\\nvalue = [2, 1]'),\n",
       " Text(0.45503048780487804, 0.02, 'gini = 0.0\\nsamples = 1\\nvalue = [1, 0]'),\n",
       " Text(0.4611280487804878, 0.02, 'gini = 0.5\\nsamples = 2\\nvalue = [1, 1]'),\n",
       " Text(0.46722560975609756, 0.18, 'x[8] <= 23.5\\ngini = 0.278\\nsamples = 6\\nvalue = [5, 1]'),\n",
       " Text(0.4641768292682927, 0.14, 'x[2] <= 22.5\\ngini = 0.375\\nsamples = 4\\nvalue = [3, 1]'),\n",
       " Text(0.4611280487804878, 0.1, 'gini = 0.0\\nsamples = 1\\nvalue = [1, 0]'),\n",
       " Text(0.46722560975609756, 0.1, 'gini = 0.444\\nsamples = 3\\nvalue = [2, 1]'),\n",
       " Text(0.47027439024390244, 0.14, 'gini = 0.0\\nsamples = 2\\nvalue = [2, 0]'),\n",
       " Text(0.4611280487804878, 0.26, 'gini = 0.0\\nsamples = 2\\nvalue = [0, 2]'),\n",
       " Text(0.4367378048780488, 0.54, 'x[7] <= 3.5\\ngini = 0.245\\nsamples = 7\\nvalue = [6, 1]'),\n",
       " Text(0.4336890243902439, 0.5, 'x[2] <= 28.5\\ngini = 0.444\\nsamples = 3\\nvalue = [2, 1]'),\n",
       " Text(0.43064024390243905, 0.46, 'gini = 0.0\\nsamples = 2\\nvalue = [2, 0]'),\n",
       " Text(0.4367378048780488, 0.46, 'gini = 0.0\\nsamples = 1\\nvalue = [0, 1]'),\n",
       " Text(0.43978658536585363, 0.5, 'gini = 0.0\\nsamples = 4\\nvalue = [4, 0]'),\n",
       " Text(0.4298780487804878, 0.58, 'gini = 0.0\\nsamples = 2\\nvalue = [0, 2]'),\n",
       " Text(0.4329268292682927, 0.62, 'gini = 0.0\\nsamples = 10\\nvalue = [10, 0]'),\n",
       " Text(0.4611280487804878, 0.66, 'x[7] <= 4.5\\ngini = 0.497\\nsamples = 13\\nvalue = [7, 6]'),\n",
       " Text(0.45503048780487804, 0.62, 'x[7] <= 3.5\\ngini = 0.408\\nsamples = 7\\nvalue = [2, 5]'),\n",
       " Text(0.45198170731707316, 0.58, 'x[2] <= 56.0\\ngini = 0.5\\nsamples = 4\\nvalue = [2, 2]'),\n",
       " Text(0.4489329268292683, 0.54, 'x[2] <= 45.5\\ngini = 0.444\\nsamples = 3\\nvalue = [1, 2]'),\n",
       " Text(0.4458841463414634, 0.5, 'gini = 0.5\\nsamples = 2\\nvalue = [1, 1]'),\n",
       " Text(0.45198170731707316, 0.5, 'gini = 0.0\\nsamples = 1\\nvalue = [0, 1]'),\n",
       " Text(0.45503048780487804, 0.54, 'gini = 0.0\\nsamples = 1\\nvalue = [1, 0]'),\n",
       " Text(0.4580792682926829, 0.58, 'gini = 0.0\\nsamples = 3\\nvalue = [0, 3]'),\n",
       " Text(0.46722560975609756, 0.62, 'x[2] <= 37.5\\ngini = 0.278\\nsamples = 6\\nvalue = [5, 1]'),\n",
       " Text(0.4641768292682927, 0.58, 'gini = 0.0\\nsamples = 1\\nvalue = [0, 1]'),\n",
       " Text(0.47027439024390244, 0.58, 'gini = 0.0\\nsamples = 5\\nvalue = [5, 0]'),\n",
       " Text(0.4485518292682927, 0.74, 'gini = 0.0\\nsamples = 1\\nvalue = [0, 1]'),\n",
       " Text(0.530297256097561, 0.86, 'x[8] <= 22.0\\ngini = 0.361\\nsamples = 110\\nvalue = [26, 84]'),\n",
       " Text(0.5110518292682927, 0.82, 'x[5] <= 13.5\\ngini = 0.251\\nsamples = 95\\nvalue = [14, 81]'),\n",
       " Text(0.4847560975609756, 0.78, 'x[2] <= 6.5\\ngini = 0.153\\nsamples = 72\\nvalue = [6, 66]'),\n",
       " Text(0.4763719512195122, 0.74, 'x[8] <= 9.0\\ngini = 0.305\\nsamples = 16\\nvalue = [3, 13]'),\n",
       " Text(0.4733231707317073, 0.7, 'x[7] <= 6.5\\ngini = 0.133\\nsamples = 14\\nvalue = [1, 13]'),\n",
       " Text(0.47027439024390244, 0.66, 'gini = 0.0\\nsamples = 8\\nvalue = [0, 8]'),\n",
       " Text(0.4763719512195122, 0.66, 'x[8] <= 6.5\\ngini = 0.278\\nsamples = 6\\nvalue = [1, 5]'),\n",
       " Text(0.4733231707317073, 0.62, 'gini = 0.0\\nsamples = 1\\nvalue = [1, 0]'),\n",
       " Text(0.4794207317073171, 0.62, 'gini = 0.0\\nsamples = 5\\nvalue = [0, 5]'),\n",
       " Text(0.4794207317073171, 0.7, 'gini = 0.0\\nsamples = 2\\nvalue = [2, 0]'),\n",
       " Text(0.49314024390243905, 0.74, 'x[2] <= 10.5\\ngini = 0.101\\nsamples = 56\\nvalue = [3, 53]'),\n",
       " Text(0.49009146341463417, 0.7, 'gini = 0.0\\nsamples = 27\\nvalue = [0, 27]'),\n",
       " Text(0.4961890243902439, 0.7, 'x[8] <= 10.5\\ngini = 0.185\\nsamples = 29\\nvalue = [3, 26]'),\n",
       " Text(0.4885670731707317, 0.66, 'x[7] <= 7.0\\ngini = 0.5\\nsamples = 2\\nvalue = [1, 1]'),\n",
       " Text(0.48551829268292684, 0.62, 'gini = 0.0\\nsamples = 1\\nvalue = [0, 1]'),\n",
       " Text(0.4916158536585366, 0.62, 'gini = 0.0\\nsamples = 1\\nvalue = [1, 0]'),\n",
       " Text(0.5038109756097561, 0.66, 'x[7] <= 6.5\\ngini = 0.137\\nsamples = 27\\nvalue = [2, 25]'),\n",
       " Text(0.49771341463414637, 0.62, 'x[2] <= 12.5\\ngini = 0.375\\nsamples = 4\\nvalue = [1, 3]'),\n",
       " Text(0.4946646341463415, 0.58, 'gini = 0.0\\nsamples = 3\\nvalue = [0, 3]'),\n",
       " Text(0.5007621951219512, 0.58, 'gini = 0.0\\nsamples = 1\\nvalue = [1, 0]'),\n",
       " Text(0.5099085365853658, 0.62, 'x[5] <= 11.5\\ngini = 0.083\\nsamples = 23\\nvalue = [1, 22]'),\n",
       " Text(0.506859756097561, 0.58, 'x[8] <= 12.5\\ngini = 0.245\\nsamples = 7\\nvalue = [1, 6]'),\n",
       " Text(0.5038109756097561, 0.54, 'gini = 0.0\\nsamples = 6\\nvalue = [0, 6]'),\n",
       " Text(0.5099085365853658, 0.54, 'gini = 0.0\\nsamples = 1\\nvalue = [1, 0]'),\n",
       " Text(0.5129573170731707, 0.58, 'gini = 0.0\\nsamples = 16\\nvalue = [0, 16]'),\n",
       " Text(0.5373475609756098, 0.78, 'x[7] <= 8.5\\ngini = 0.454\\nsamples = 23\\nvalue = [8, 15]'),\n",
       " Text(0.53125, 0.74, 'x[2] <= 21.0\\ngini = 0.498\\nsamples = 15\\nvalue = [7, 8]'),\n",
       " Text(0.5282012195121951, 0.7, 'x[8] <= 18.5\\ngini = 0.497\\nsamples = 13\\nvalue = [7, 6]'),\n",
       " Text(0.5251524390243902, 0.66, 'x[8] <= 17.5\\ngini = 0.48\\nsamples = 10\\nvalue = [4, 6]'),\n",
       " Text(0.5221036585365854, 0.62, 'x[5] <= 14.5\\ngini = 0.49\\nsamples = 7\\nvalue = [4, 3]'),\n",
       " Text(0.5190548780487805, 0.58, 'gini = 0.0\\nsamples = 2\\nvalue = [0, 2]'),\n",
       " Text(0.5251524390243902, 0.58, 'x[2] <= 16.0\\ngini = 0.32\\nsamples = 5\\nvalue = [4, 1]'),\n",
       " Text(0.5221036585365854, 0.54, 'gini = 0.0\\nsamples = 3\\nvalue = [3, 0]'),\n",
       " Text(0.5282012195121951, 0.54, 'x[7] <= 6.5\\ngini = 0.5\\nsamples = 2\\nvalue = [1, 1]'),\n",
       " Text(0.5251524390243902, 0.5, 'gini = 0.0\\nsamples = 1\\nvalue = [1, 0]'),\n",
       " Text(0.53125, 0.5, 'gini = 0.0\\nsamples = 1\\nvalue = [0, 1]'),\n",
       " Text(0.5282012195121951, 0.62, 'gini = 0.0\\nsamples = 3\\nvalue = [0, 3]'),\n",
       " Text(0.53125, 0.66, 'gini = 0.0\\nsamples = 3\\nvalue = [3, 0]'),\n",
       " Text(0.5342987804878049, 0.7, 'gini = 0.0\\nsamples = 2\\nvalue = [0, 2]'),\n",
       " Text(0.5434451219512195, 0.74, 'x[2] <= 12.5\\ngini = 0.219\\nsamples = 8\\nvalue = [1, 7]'),\n",
       " Text(0.5403963414634146, 0.7, 'gini = 0.0\\nsamples = 1\\nvalue = [1, 0]'),\n",
       " Text(0.5464939024390244, 0.7, 'gini = 0.0\\nsamples = 7\\nvalue = [0, 7]'),\n",
       " Text(0.5495426829268293, 0.82, 'x[5] <= 17.5\\ngini = 0.32\\nsamples = 15\\nvalue = [12, 3]'),\n",
       " Text(0.5464939024390244, 0.78, 'gini = 0.0\\nsamples = 1\\nvalue = [0, 1]'),\n",
       " Text(0.5525914634146342, 0.78, 'x[5] <= 32.5\\ngini = 0.245\\nsamples = 14\\nvalue = [12, 2]'),\n",
       " Text(0.5495426829268293, 0.74, 'gini = 0.0\\nsamples = 8\\nvalue = [8, 0]'),\n",
       " Text(0.555640243902439, 0.74, 'x[8] <= 33.5\\ngini = 0.444\\nsamples = 6\\nvalue = [4, 2]'),\n",
       " Text(0.5525914634146342, 0.7, 'gini = 0.0\\nsamples = 1\\nvalue = [0, 1]'),\n",
       " Text(0.5586890243902439, 0.7, 'x[5] <= 58.0\\ngini = 0.32\\nsamples = 5\\nvalue = [4, 1]'),\n",
       " Text(0.555640243902439, 0.66, 'gini = 0.0\\nsamples = 3\\nvalue = [3, 0]'),\n",
       " Text(0.5617378048780488, 0.66, 'x[8] <= 75.5\\ngini = 0.5\\nsamples = 2\\nvalue = [1, 1]'),\n",
       " Text(0.5586890243902439, 0.62, 'gini = 0.0\\nsamples = 1\\nvalue = [0, 1]'),\n",
       " Text(0.5647865853658537, 0.62, 'gini = 0.0\\nsamples = 1\\nvalue = [1, 0]'),\n",
       " Text(0.752024580792683, 0.94, 'x[2] <= 0.5\\ngini = 0.358\\nsamples = 5418\\nvalue = [1264, 4154]'),\n",
       " Text(0.6424352134146342, 0.9, 'x[1] <= 44.0\\ngini = 0.42\\nsamples = 223\\nvalue = [156, 67]'),\n",
       " Text(0.6393864329268293, 0.86, 'x[0] <= 79.0\\ngini = 0.45\\nsamples = 196\\nvalue = [129, 67]'),\n",
       " Text(0.6363376524390244, 0.82, 'x[0] <= 45.0\\ngini = 0.446\\nsamples = 194\\nvalue = [129, 65]'),\n",
       " Text(0.6332888719512195, 0.78, 'x[0] <= 41.0\\ngini = 0.454\\nsamples = 187\\nvalue = [122, 65]'),\n",
       " Text(0.6149009146341463, 0.74, 'x[3] <= 21.5\\ngini = 0.447\\nsamples = 181\\nvalue = [120, 61]'),\n",
       " Text(0.5872713414634146, 0.7, 'x[0] <= 1.5\\ngini = 0.47\\nsamples = 143\\nvalue = [89, 54]'),\n",
       " Text(0.5739329268292683, 0.66, 'x[4] <= 0.5\\ngini = 0.423\\nsamples = 89\\nvalue = [62, 27]'),\n",
       " Text(0.5708841463414634, 0.62, 'x[3] <= 1.5\\ngini = 0.439\\nsamples = 83\\nvalue = [56, 27]'),\n",
       " Text(0.5678353658536586, 0.58, 'x[6] <= 0.5\\ngini = 0.453\\nsamples = 78\\nvalue = [51, 27]'),\n",
       " Text(0.5647865853658537, 0.54, 'gini = 0.444\\nsamples = 3\\nvalue = [1, 2]'),\n",
       " Text(0.5708841463414634, 0.54, 'x[6] <= 1.5\\ngini = 0.444\\nsamples = 75\\nvalue = [50, 25]'),\n",
       " Text(0.5678353658536586, 0.5, 'x[5] <= 1.5\\ngini = 0.447\\nsamples = 74\\nvalue = [49, 25]'),\n",
       " Text(0.5647865853658537, 0.46, 'x[1] <= 0.5\\ngini = 0.45\\nsamples = 73\\nvalue = [48, 25]'),\n",
       " Text(0.5617378048780488, 0.42, 'gini = 0.32\\nsamples = 5\\nvalue = [4, 1]'),\n",
       " Text(0.5678353658536586, 0.42, 'gini = 0.457\\nsamples = 68\\nvalue = [44, 24]'),\n",
       " Text(0.5708841463414634, 0.46, 'gini = 0.0\\nsamples = 1\\nvalue = [1, 0]'),\n",
       " Text(0.5739329268292683, 0.5, 'gini = 0.0\\nsamples = 1\\nvalue = [1, 0]'),\n",
       " Text(0.5739329268292683, 0.58, 'gini = 0.0\\nsamples = 5\\nvalue = [5, 0]'),\n",
       " Text(0.5769817073170732, 0.62, 'gini = 0.0\\nsamples = 6\\nvalue = [6, 0]'),\n",
       " Text(0.600609756097561, 0.66, 'x[0] <= 5.5\\ngini = 0.5\\nsamples = 54\\nvalue = [27, 27]'),\n",
       " Text(0.5891768292682927, 0.62, 'x[6] <= 1.5\\ngini = 0.444\\nsamples = 15\\nvalue = [5, 10]'),\n",
       " Text(0.5861280487804879, 0.58, 'x[4] <= 0.5\\ngini = 0.408\\nsamples = 14\\nvalue = [4, 10]'),\n",
       " Text(0.583079268292683, 0.54, 'x[0] <= 2.5\\ngini = 0.463\\nsamples = 11\\nvalue = [4, 7]'),\n",
       " Text(0.5800304878048781, 0.5, 'x[1] <= 0.5\\ngini = 0.42\\nsamples = 10\\nvalue = [3, 7]'),\n",
       " Text(0.5769817073170732, 0.46, 'gini = 0.0\\nsamples = 1\\nvalue = [0, 1]'),\n",
       " Text(0.583079268292683, 0.46, 'x[3] <= 2.5\\ngini = 0.444\\nsamples = 9\\nvalue = [3, 6]'),\n",
       " Text(0.5800304878048781, 0.42, 'x[6] <= 0.5\\ngini = 0.469\\nsamples = 8\\nvalue = [3, 5]'),\n",
       " Text(0.5769817073170732, 0.38, 'gini = 0.0\\nsamples = 1\\nvalue = [0, 1]'),\n",
       " Text(0.583079268292683, 0.38, 'x[3] <= 1.5\\ngini = 0.49\\nsamples = 7\\nvalue = [3, 4]'),\n",
       " Text(0.5800304878048781, 0.34, 'gini = 0.5\\nsamples = 2\\nvalue = [1, 1]'),\n",
       " Text(0.5861280487804879, 0.34, 'gini = 0.48\\nsamples = 5\\nvalue = [2, 3]'),\n",
       " Text(0.5861280487804879, 0.42, 'gini = 0.0\\nsamples = 1\\nvalue = [0, 1]'),\n",
       " Text(0.5861280487804879, 0.5, 'gini = 0.0\\nsamples = 1\\nvalue = [1, 0]'),\n",
       " Text(0.5891768292682927, 0.54, 'gini = 0.0\\nsamples = 3\\nvalue = [0, 3]'),\n",
       " Text(0.5922256097560976, 0.58, 'gini = 0.0\\nsamples = 1\\nvalue = [1, 0]'),\n",
       " Text(0.6120426829268293, 0.62, 'x[0] <= 9.0\\ngini = 0.492\\nsamples = 39\\nvalue = [22, 17]'),\n",
       " Text(0.6089939024390244, 0.58, 'gini = 0.0\\nsamples = 3\\nvalue = [3, 0]'),\n",
       " Text(0.6150914634146342, 0.58, 'x[0] <= 39.0\\ngini = 0.498\\nsamples = 36\\nvalue = [19, 17]'),\n",
       " Text(0.6120426829268293, 0.54, 'x[0] <= 34.0\\ngini = 0.5\\nsamples = 34\\nvalue = [17, 17]'),\n",
       " Text(0.6089939024390244, 0.5, 'x[0] <= 29.5\\ngini = 0.498\\nsamples = 32\\nvalue = [17, 15]'),\n",
       " Text(0.6059451219512195, 0.46, 'x[3] <= 10.5\\ngini = 0.499\\nsamples = 29\\nvalue = [14, 15]'),\n",
       " Text(0.5983231707317073, 0.42, 'x[3] <= 5.5\\ngini = 0.346\\nsamples = 9\\nvalue = [2, 7]'),\n",
       " Text(0.5952743902439024, 0.38, 'x[3] <= 1.5\\ngini = 0.444\\nsamples = 3\\nvalue = [2, 1]'),\n",
       " Text(0.5922256097560976, 0.34, 'gini = 0.0\\nsamples = 1\\nvalue = [0, 1]'),\n",
       " Text(0.5983231707317073, 0.34, 'gini = 0.0\\nsamples = 2\\nvalue = [2, 0]'),\n",
       " Text(0.6013719512195121, 0.38, 'gini = 0.0\\nsamples = 6\\nvalue = [0, 6]'),\n",
       " Text(0.6135670731707317, 0.42, 'x[1] <= 25.5\\ngini = 0.48\\nsamples = 20\\nvalue = [12, 8]'),\n",
       " Text(0.6105182926829268, 0.38, 'x[3] <= 14.5\\ngini = 0.444\\nsamples = 18\\nvalue = [12, 6]'),\n",
       " Text(0.604420731707317, 0.34, 'x[1] <= 11.5\\ngini = 0.245\\nsamples = 7\\nvalue = [6, 1]'),\n",
       " Text(0.6013719512195121, 0.3, 'gini = 0.5\\nsamples = 2\\nvalue = [1, 1]'),\n",
       " Text(0.6074695121951219, 0.3, 'gini = 0.0\\nsamples = 5\\nvalue = [5, 0]'),\n",
       " Text(0.6166158536585366, 0.34, 'x[0] <= 15.5\\ngini = 0.496\\nsamples = 11\\nvalue = [6, 5]'),\n",
       " Text(0.6135670731707317, 0.3, 'gini = 0.0\\nsamples = 3\\nvalue = [0, 3]'),\n",
       " Text(0.6196646341463414, 0.3, 'x[3] <= 18.5\\ngini = 0.375\\nsamples = 8\\nvalue = [6, 2]'),\n",
       " Text(0.6166158536585366, 0.26, 'gini = 0.0\\nsamples = 3\\nvalue = [3, 0]'),\n",
       " Text(0.6227134146341463, 0.26, 'x[0] <= 19.5\\ngini = 0.48\\nsamples = 5\\nvalue = [3, 2]'),\n",
       " Text(0.6196646341463414, 0.22, 'gini = 0.0\\nsamples = 1\\nvalue = [0, 1]'),\n",
       " Text(0.6257621951219512, 0.22, 'x[0] <= 20.5\\ngini = 0.375\\nsamples = 4\\nvalue = [3, 1]'),\n",
       " Text(0.6227134146341463, 0.18, 'gini = 0.0\\nsamples = 1\\nvalue = [1, 0]'),\n",
       " Text(0.6288109756097561, 0.18, 'gini = 0.444\\nsamples = 3\\nvalue = [2, 1]'),\n",
       " Text(0.6166158536585366, 0.38, 'gini = 0.0\\nsamples = 2\\nvalue = [0, 2]'),\n",
       " Text(0.6120426829268293, 0.46, 'gini = 0.0\\nsamples = 3\\nvalue = [3, 0]'),\n",
       " Text(0.6150914634146342, 0.5, 'gini = 0.0\\nsamples = 2\\nvalue = [0, 2]'),\n",
       " Text(0.618140243902439, 0.54, 'gini = 0.0\\nsamples = 2\\nvalue = [2, 0]'),\n",
       " Text(0.6425304878048781, 0.7, 'x[1] <= 3.5\\ngini = 0.301\\nsamples = 38\\nvalue = [31, 7]'),\n",
       " Text(0.6394817073170732, 0.66, 'gini = 0.0\\nsamples = 1\\nvalue = [0, 1]'),\n",
       " Text(0.645579268292683, 0.66, 'x[1] <= 32.0\\ngini = 0.272\\nsamples = 37\\nvalue = [31, 6]'),\n",
       " Text(0.6425304878048781, 0.62, 'x[1] <= 30.5\\ngini = 0.346\\nsamples = 27\\nvalue = [21, 6]'),\n",
       " Text(0.6394817073170732, 0.58, 'x[1] <= 22.5\\ngini = 0.311\\nsamples = 26\\nvalue = [21, 5]'),\n",
       " Text(0.6364329268292683, 0.54, 'gini = 0.0\\nsamples = 7\\nvalue = [7, 0]'),\n",
       " Text(0.6425304878048781, 0.54, 'x[3] <= 37.5\\ngini = 0.388\\nsamples = 19\\nvalue = [14, 5]'),\n",
       " Text(0.6349085365853658, 0.5, 'x[3] <= 27.5\\ngini = 0.36\\nsamples = 17\\nvalue = [13, 4]'),\n",
       " Text(0.6288109756097561, 0.46, 'x[0] <= 26.5\\ngini = 0.42\\nsamples = 10\\nvalue = [7, 3]'),\n",
       " Text(0.6257621951219512, 0.42, 'x[3] <= 23.5\\ngini = 0.375\\nsamples = 8\\nvalue = [6, 2]'),\n",
       " Text(0.6227134146341463, 0.38, 'gini = 0.444\\nsamples = 3\\nvalue = [2, 1]'),\n",
       " Text(0.6288109756097561, 0.38, 'x[3] <= 25.0\\ngini = 0.32\\nsamples = 5\\nvalue = [4, 1]'),\n",
       " Text(0.6257621951219512, 0.34, 'gini = 0.0\\nsamples = 1\\nvalue = [1, 0]'),\n",
       " Text(0.631859756097561, 0.34, 'gini = 0.375\\nsamples = 4\\nvalue = [3, 1]'),\n",
       " Text(0.631859756097561, 0.42, 'gini = 0.5\\nsamples = 2\\nvalue = [1, 1]'),\n",
       " Text(0.6410060975609756, 0.46, 'x[0] <= 28.5\\ngini = 0.245\\nsamples = 7\\nvalue = [6, 1]'),\n",
       " Text(0.6379573170731707, 0.42, 'gini = 0.0\\nsamples = 2\\nvalue = [2, 0]'),\n",
       " Text(0.6440548780487805, 0.42, 'x[0] <= 29.5\\ngini = 0.32\\nsamples = 5\\nvalue = [4, 1]'),\n",
       " Text(0.6410060975609756, 0.38, 'gini = 0.375\\nsamples = 4\\nvalue = [3, 1]'),\n",
       " Text(0.6471036585365854, 0.38, 'gini = 0.0\\nsamples = 1\\nvalue = [1, 0]'),\n",
       " Text(0.6501524390243902, 0.5, 'x[3] <= 49.5\\ngini = 0.5\\nsamples = 2\\nvalue = [1, 1]'),\n",
       " Text(0.6471036585365854, 0.46, 'gini = 0.0\\nsamples = 1\\nvalue = [0, 1]'),\n",
       " Text(0.6532012195121951, 0.46, 'gini = 0.0\\nsamples = 1\\nvalue = [1, 0]'),\n",
       " Text(0.645579268292683, 0.58, 'gini = 0.0\\nsamples = 1\\nvalue = [0, 1]'),\n",
       " Text(0.6486280487804879, 0.62, 'gini = 0.0\\nsamples = 10\\nvalue = [10, 0]'),\n",
       " Text(0.6516768292682927, 0.74, 'x[3] <= 42.5\\ngini = 0.444\\nsamples = 6\\nvalue = [2, 4]'),\n",
       " Text(0.6486280487804879, 0.7, 'gini = 0.0\\nsamples = 3\\nvalue = [0, 3]'),\n",
       " Text(0.6547256097560976, 0.7, 'x[1] <= 42.5\\ngini = 0.444\\nsamples = 3\\nvalue = [2, 1]'),\n",
       " Text(0.6516768292682927, 0.66, 'gini = 0.0\\nsamples = 2\\nvalue = [2, 0]'),\n",
       " Text(0.6577743902439024, 0.66, 'gini = 0.0\\nsamples = 1\\nvalue = [0, 1]'),\n",
       " Text(0.6393864329268293, 0.78, 'gini = 0.0\\nsamples = 7\\nvalue = [7, 0]'),\n",
       " Text(0.6424352134146342, 0.82, 'gini = 0.0\\nsamples = 2\\nvalue = [0, 2]'),\n",
       " Text(0.645483993902439, 0.86, 'gini = 0.0\\nsamples = 27\\nvalue = [27, 0]'),\n",
       " Text(0.8616139481707317, 0.9, 'x[0] <= 1.5\\ngini = 0.336\\nsamples = 5195\\nvalue = [1108, 4087]'),\n",
       " Text(0.7740091463414634, 0.86, 'x[7] <= 1.5\\ngini = 0.359\\nsamples = 4260\\nvalue = [998, 3262]'),\n",
       " Text(0.7179878048780488, 0.82, 'x[6] <= 0.5\\ngini = 0.366\\nsamples = 3932\\nvalue = [949, 2983]'),\n",
       " Text(0.6920731707317073, 0.78, 'x[8] <= 2.5\\ngini = 0.459\\nsamples = 255\\nvalue = [91, 164]'),\n",
       " Text(0.6745426829268293, 0.74, 'x[1] <= 0.5\\ngini = 0.446\\nsamples = 226\\nvalue = [76, 150]'),\n",
       " Text(0.666920731707317, 0.7, 'x[0] <= 0.5\\ngini = 0.497\\nsamples = 28\\nvalue = [13, 15]'),\n",
       " Text(0.6638719512195121, 0.66, 'gini = 0.0\\nsamples = 1\\nvalue = [1, 0]'),\n",
       " Text(0.6699695121951219, 0.66, 'gini = 0.494\\nsamples = 27\\nvalue = [12, 15]'),\n",
       " Text(0.6821646341463414, 0.7, 'x[5] <= 1.5\\ngini = 0.434\\nsamples = 198\\nvalue = [63, 135]'),\n",
       " Text(0.6760670731707317, 0.66, 'x[7] <= 0.5\\ngini = 0.443\\nsamples = 181\\nvalue = [60, 121]'),\n",
       " Text(0.6730182926829268, 0.62, 'gini = 0.0\\nsamples = 1\\nvalue = [0, 1]'),\n",
       " Text(0.6791158536585366, 0.62, 'x[3] <= 2.5\\ngini = 0.444\\nsamples = 180\\nvalue = [60, 120]'),\n",
       " Text(0.6760670731707317, 0.58, 'x[3] <= 1.5\\ngini = 0.446\\nsamples = 179\\nvalue = [60, 119]'),\n",
       " Text(0.6730182926829268, 0.54, 'gini = 0.444\\nsamples = 168\\nvalue = [56, 112]'),\n",
       " Text(0.6791158536585366, 0.54, 'gini = 0.463\\nsamples = 11\\nvalue = [4, 7]'),\n",
       " Text(0.6821646341463414, 0.58, 'gini = 0.0\\nsamples = 1\\nvalue = [0, 1]'),\n",
       " Text(0.6882621951219512, 0.66, 'x[8] <= 1.5\\ngini = 0.291\\nsamples = 17\\nvalue = [3, 14]'),\n",
       " Text(0.6852134146341463, 0.62, 'gini = 0.0\\nsamples = 4\\nvalue = [0, 4]'),\n",
       " Text(0.6913109756097561, 0.62, 'gini = 0.355\\nsamples = 13\\nvalue = [3, 10]'),\n",
       " Text(0.7096036585365854, 0.74, 'x[2] <= 10.5\\ngini = 0.499\\nsamples = 29\\nvalue = [15, 14]'),\n",
       " Text(0.7065548780487805, 0.7, 'x[2] <= 6.5\\ngini = 0.499\\nsamples = 27\\nvalue = [13, 14]'),\n",
       " Text(0.7004573170731707, 0.66, 'x[3] <= 1.5\\ngini = 0.495\\nsamples = 20\\nvalue = [11, 9]'),\n",
       " Text(0.6974085365853658, 0.62, 'x[2] <= 2.5\\ngini = 0.488\\nsamples = 19\\nvalue = [11, 8]'),\n",
       " Text(0.694359756097561, 0.58, 'gini = 0.0\\nsamples = 1\\nvalue = [1, 0]'),\n",
       " Text(0.7004573170731707, 0.58, 'x[5] <= 3.5\\ngini = 0.494\\nsamples = 18\\nvalue = [10, 8]'),\n",
       " Text(0.6974085365853658, 0.54, 'gini = 0.469\\nsamples = 8\\nvalue = [5, 3]'),\n",
       " Text(0.7035060975609756, 0.54, 'x[8] <= 5.0\\ngini = 0.5\\nsamples = 10\\nvalue = [5, 5]'),\n",
       " Text(0.7004573170731707, 0.5, 'gini = 0.49\\nsamples = 7\\nvalue = [3, 4]'),\n",
       " Text(0.7065548780487805, 0.5, 'gini = 0.444\\nsamples = 3\\nvalue = [2, 1]'),\n",
       " Text(0.7035060975609756, 0.62, 'gini = 0.0\\nsamples = 1\\nvalue = [0, 1]'),\n",
       " Text(0.7126524390243902, 0.66, 'x[8] <= 7.5\\ngini = 0.408\\nsamples = 7\\nvalue = [2, 5]'),\n",
       " Text(0.7096036585365854, 0.62, 'gini = 0.32\\nsamples = 5\\nvalue = [1, 4]'),\n",
       " Text(0.7157012195121951, 0.62, 'gini = 0.5\\nsamples = 2\\nvalue = [1, 1]'),\n",
       " Text(0.7126524390243902, 0.7, 'gini = 0.0\\nsamples = 2\\nvalue = [2, 0]'),\n",
       " Text(0.7439024390243902, 0.78, 'x[5] <= 0.5\\ngini = 0.358\\nsamples = 3677\\nvalue = [858, 2819]'),\n",
       " Text(0.7408536585365854, 0.74, 'gini = 0.0\\nsamples = 2\\nvalue = [2, 0]'),\n",
       " Text(0.7469512195121951, 0.74, 'x[3] <= 3.5\\ngini = 0.357\\nsamples = 3675\\nvalue = [856, 2819]'),\n",
       " Text(0.7439024390243902, 0.7, 'x[1] <= 1.5\\ngini = 0.357\\nsamples = 3674\\nvalue = [855, 2819]'),\n",
       " Text(0.7378048780487805, 0.66, 'x[8] <= 1.5\\ngini = 0.357\\nsamples = 3671\\nvalue = [853, 2818]'),\n",
       " Text(0.7347560975609756, 0.62, 'x[2] <= 1.5\\ngini = 0.357\\nsamples = 3667\\nvalue = [853, 2814]'),\n",
       " Text(0.7286585365853658, 0.58, 'x[5] <= 2.5\\ngini = 0.357\\nsamples = 3665\\nvalue = [852, 2813]'),\n",
       " Text(0.725609756097561, 0.54, 'x[3] <= 1.5\\ngini = 0.357\\nsamples = 3664\\nvalue = [851, 2813]'),\n",
       " Text(0.7126524390243902, 0.5, 'x[1] <= 0.5\\ngini = 0.356\\nsamples = 3475\\nvalue = [804, 2671]'),\n",
       " Text(0.7050304878048781, 0.46, 'x[5] <= 1.5\\ngini = 0.384\\nsamples = 81\\nvalue = [21, 60]'),\n",
       " Text(0.7019817073170732, 0.42, 'x[6] <= 1.5\\ngini = 0.39\\nsamples = 79\\nvalue = [21, 58]'),\n",
       " Text(0.6989329268292683, 0.38, 'gini = 0.393\\nsamples = 78\\nvalue = [21, 57]'),\n",
       " Text(0.7050304878048781, 0.38, 'gini = 0.0\\nsamples = 1\\nvalue = [0, 1]'),\n",
       " Text(0.708079268292683, 0.42, 'gini = 0.0\\nsamples = 2\\nvalue = [0, 2]'),\n",
       " Text(0.7202743902439024, 0.46, 'x[6] <= 1.5\\ngini = 0.355\\nsamples = 3394\\nvalue = [783, 2611]'),\n",
       " Text(0.7141768292682927, 0.42, 'x[5] <= 1.5\\ngini = 0.355\\nsamples = 3366\\nvalue = [777, 2589]'),\n",
       " Text(0.7111280487804879, 0.38, 'gini = 0.355\\nsamples = 3343\\nvalue = [772, 2571]'),\n",
       " Text(0.7172256097560976, 0.38, 'gini = 0.34\\nsamples = 23\\nvalue = [5, 18]'),\n",
       " Text(0.7263719512195121, 0.42, 'x[5] <= 1.5\\ngini = 0.337\\nsamples = 28\\nvalue = [6, 22]'),\n",
       " Text(0.7233231707317073, 0.38, 'gini = 0.311\\nsamples = 26\\nvalue = [5, 21]'),\n",
       " Text(0.729420731707317, 0.38, 'gini = 0.5\\nsamples = 2\\nvalue = [1, 1]'),\n",
       " Text(0.7385670731707317, 0.5, 'x[1] <= 0.5\\ngini = 0.374\\nsamples = 189\\nvalue = [47, 142]'),\n",
       " Text(0.7355182926829268, 0.46, 'gini = 0.0\\nsamples = 3\\nvalue = [0, 3]'),\n",
       " Text(0.7416158536585366, 0.46, 'x[6] <= 1.5\\ngini = 0.378\\nsamples = 186\\nvalue = [47, 139]'),\n",
       " Text(0.7385670731707317, 0.42, 'x[3] <= 2.5\\ngini = 0.374\\nsamples = 181\\nvalue = [45, 136]'),\n",
       " Text(0.7355182926829268, 0.38, 'gini = 0.379\\nsamples = 169\\nvalue = [43, 126]'),\n",
       " Text(0.7416158536585366, 0.38, 'gini = 0.278\\nsamples = 12\\nvalue = [2, 10]'),\n",
       " Text(0.7446646341463414, 0.42, 'gini = 0.48\\nsamples = 5\\nvalue = [2, 3]'),\n",
       " Text(0.7317073170731707, 0.54, 'gini = 0.0\\nsamples = 1\\nvalue = [1, 0]'),\n",
       " Text(0.7408536585365854, 0.58, 'x[5] <= 2.5\\ngini = 0.5\\nsamples = 2\\nvalue = [1, 1]'),\n",
       " Text(0.7378048780487805, 0.54, 'gini = 0.0\\nsamples = 1\\nvalue = [1, 0]'),\n",
       " Text(0.7439024390243902, 0.54, 'gini = 0.0\\nsamples = 1\\nvalue = [0, 1]'),\n",
       " Text(0.7408536585365854, 0.62, 'gini = 0.0\\nsamples = 4\\nvalue = [0, 4]'),\n",
       " Text(0.75, 0.66, 'x[6] <= 1.5\\ngini = 0.444\\nsamples = 3\\nvalue = [2, 1]'),\n",
       " Text(0.7469512195121951, 0.62, 'gini = 0.5\\nsamples = 2\\nvalue = [1, 1]'),\n",
       " Text(0.7530487804878049, 0.62, 'gini = 0.0\\nsamples = 1\\nvalue = [1, 0]'),\n",
       " Text(0.75, 0.7, 'gini = 0.0\\nsamples = 1\\nvalue = [1, 0]'),\n",
       " Text(0.8300304878048781, 0.82, 'x[5] <= 21.5\\ngini = 0.254\\nsamples = 328\\nvalue = [49, 279]'),\n",
       " Text(0.8003048780487805, 0.78, 'x[5] <= 1.5\\ngini = 0.237\\nsamples = 320\\nvalue = [44, 276]'),\n",
       " Text(0.7728658536585366, 0.74, 'x[7] <= 8.5\\ngini = 0.293\\nsamples = 185\\nvalue = [33, 152]'),\n",
       " Text(0.7698170731707317, 0.7, 'x[1] <= 0.5\\ngini = 0.287\\nsamples = 184\\nvalue = [32, 152]'),\n",
       " Text(0.7621951219512195, 0.66, 'x[8] <= 1.5\\ngini = 0.49\\nsamples = 7\\nvalue = [3, 4]'),\n",
       " Text(0.7591463414634146, 0.62, 'x[7] <= 2.5\\ngini = 0.48\\nsamples = 5\\nvalue = [3, 2]'),\n",
       " Text(0.7560975609756098, 0.58, 'x[6] <= 0.5\\ngini = 0.5\\nsamples = 4\\nvalue = [2, 2]'),\n",
       " Text(0.7530487804878049, 0.54, 'gini = 0.444\\nsamples = 3\\nvalue = [1, 2]'),\n",
       " Text(0.7591463414634146, 0.54, 'gini = 0.0\\nsamples = 1\\nvalue = [1, 0]'),\n",
       " Text(0.7621951219512195, 0.58, 'gini = 0.0\\nsamples = 1\\nvalue = [1, 0]'),\n",
       " Text(0.7652439024390244, 0.62, 'gini = 0.0\\nsamples = 2\\nvalue = [0, 2]'),\n",
       " Text(0.7774390243902439, 0.66, 'x[7] <= 2.5\\ngini = 0.274\\nsamples = 177\\nvalue = [29, 148]'),\n",
       " Text(0.774390243902439, 0.62, 'x[8] <= 1.5\\ngini = 0.283\\nsamples = 170\\nvalue = [29, 141]'),\n",
       " Text(0.7682926829268293, 0.58, 'x[3] <= 2.5\\ngini = 0.265\\nsamples = 146\\nvalue = [23, 123]'),\n",
       " Text(0.7652439024390244, 0.54, 'x[6] <= 0.5\\ngini = 0.267\\nsamples = 145\\nvalue = [23, 122]'),\n",
       " Text(0.7621951219512195, 0.5, 'gini = 0.346\\nsamples = 9\\nvalue = [2, 7]'),\n",
       " Text(0.7682926829268293, 0.5, 'x[3] <= 1.5\\ngini = 0.261\\nsamples = 136\\nvalue = [21, 115]'),\n",
       " Text(0.7652439024390244, 0.46, 'gini = 0.259\\nsamples = 124\\nvalue = [19, 105]'),\n",
       " Text(0.7713414634146342, 0.46, 'gini = 0.278\\nsamples = 12\\nvalue = [2, 10]'),\n",
       " Text(0.7713414634146342, 0.54, 'gini = 0.0\\nsamples = 1\\nvalue = [0, 1]'),\n",
       " Text(0.7804878048780488, 0.58, 'x[6] <= 0.5\\ngini = 0.375\\nsamples = 24\\nvalue = [6, 18]'),\n",
       " Text(0.7774390243902439, 0.54, 'gini = 0.0\\nsamples = 4\\nvalue = [0, 4]'),\n",
       " Text(0.7835365853658537, 0.54, 'x[3] <= 1.5\\ngini = 0.42\\nsamples = 20\\nvalue = [6, 14]'),\n",
       " Text(0.7804878048780488, 0.5, 'gini = 0.457\\nsamples = 17\\nvalue = [6, 11]'),\n",
       " Text(0.7865853658536586, 0.5, 'gini = 0.0\\nsamples = 3\\nvalue = [0, 3]'),\n",
       " Text(0.7804878048780488, 0.62, 'gini = 0.0\\nsamples = 7\\nvalue = [0, 7]'),\n",
       " Text(0.7759146341463414, 0.7, 'gini = 0.0\\nsamples = 1\\nvalue = [1, 0]'),\n",
       " Text(0.8277439024390244, 0.74, 'x[2] <= 1.5\\ngini = 0.15\\nsamples = 135\\nvalue = [11, 124]'),\n",
       " Text(0.8246951219512195, 0.7, 'gini = 0.0\\nsamples = 33\\nvalue = [0, 33]'),\n",
       " Text(0.8307926829268293, 0.7, 'x[8] <= 4.5\\ngini = 0.192\\nsamples = 102\\nvalue = [11, 91]'),\n",
       " Text(0.8170731707317073, 0.66, 'x[7] <= 3.5\\ngini = 0.305\\nsamples = 48\\nvalue = [9, 39]'),\n",
       " Text(0.8079268292682927, 0.62, 'x[2] <= 2.5\\ngini = 0.287\\nsamples = 46\\nvalue = [8, 38]'),\n",
       " Text(0.7987804878048781, 0.58, 'x[5] <= 2.5\\ngini = 0.363\\nsamples = 21\\nvalue = [5, 16]'),\n",
       " Text(0.7957317073170732, 0.54, 'x[8] <= 2.5\\ngini = 0.32\\nsamples = 20\\nvalue = [4, 16]'),\n",
       " Text(0.7926829268292683, 0.5, 'x[1] <= 1.5\\ngini = 0.346\\nsamples = 18\\nvalue = [4, 14]'),\n",
       " Text(0.7896341463414634, 0.46, 'x[7] <= 2.5\\ngini = 0.375\\nsamples = 16\\nvalue = [4, 12]'),\n",
       " Text(0.7865853658536586, 0.42, 'x[6] <= 0.5\\ngini = 0.391\\nsamples = 15\\nvalue = [4, 11]'),\n",
       " Text(0.7835365853658537, 0.38, 'gini = 0.397\\nsamples = 11\\nvalue = [3, 8]'),\n",
       " Text(0.7896341463414634, 0.38, 'gini = 0.375\\nsamples = 4\\nvalue = [1, 3]'),\n",
       " Text(0.7926829268292683, 0.42, 'gini = 0.0\\nsamples = 1\\nvalue = [0, 1]'),\n",
       " Text(0.7957317073170732, 0.46, 'gini = 0.0\\nsamples = 2\\nvalue = [0, 2]'),\n",
       " Text(0.7987804878048781, 0.5, 'gini = 0.0\\nsamples = 2\\nvalue = [0, 2]'),\n",
       " Text(0.801829268292683, 0.54, 'gini = 0.0\\nsamples = 1\\nvalue = [1, 0]'),\n",
       " Text(0.8170731707317073, 0.58, 'x[2] <= 3.5\\ngini = 0.211\\nsamples = 25\\nvalue = [3, 22]'),\n",
       " Text(0.8079268292682927, 0.54, 'x[7] <= 2.5\\ngini = 0.117\\nsamples = 16\\nvalue = [1, 15]'),\n",
       " Text(0.8048780487804879, 0.5, 'gini = 0.0\\nsamples = 8\\nvalue = [0, 8]'),\n",
       " Text(0.8109756097560976, 0.5, 'x[8] <= 3.5\\ngini = 0.219\\nsamples = 8\\nvalue = [1, 7]'),\n",
       " Text(0.8079268292682927, 0.46, 'gini = 0.278\\nsamples = 6\\nvalue = [1, 5]'),\n",
       " Text(0.8140243902439024, 0.46, 'gini = 0.0\\nsamples = 2\\nvalue = [0, 2]'),\n",
       " Text(0.8262195121951219, 0.54, 'x[6] <= 0.5\\ngini = 0.346\\nsamples = 9\\nvalue = [2, 7]'),\n",
       " Text(0.823170731707317, 0.5, 'x[7] <= 2.5\\ngini = 0.375\\nsamples = 8\\nvalue = [2, 6]'),\n",
       " Text(0.8201219512195121, 0.46, 'gini = 0.444\\nsamples = 3\\nvalue = [1, 2]'),\n",
       " Text(0.8262195121951219, 0.46, 'gini = 0.32\\nsamples = 5\\nvalue = [1, 4]'),\n",
       " Text(0.8292682926829268, 0.5, 'gini = 0.0\\nsamples = 1\\nvalue = [0, 1]'),\n",
       " Text(0.8262195121951219, 0.62, 'x[5] <= 3.5\\ngini = 0.5\\nsamples = 2\\nvalue = [1, 1]'),\n",
       " Text(0.823170731707317, 0.58, 'gini = 0.0\\nsamples = 1\\nvalue = [0, 1]'),\n",
       " Text(0.8292682926829268, 0.58, 'gini = 0.0\\nsamples = 1\\nvalue = [1, 0]'),\n",
       " Text(0.8445121951219512, 0.66, 'x[6] <= 0.5\\ngini = 0.071\\nsamples = 54\\nvalue = [2, 52]'),\n",
       " Text(0.8384146341463414, 0.62, 'x[2] <= 14.5\\ngini = 0.038\\nsamples = 52\\nvalue = [1, 51]'),\n",
       " Text(0.8353658536585366, 0.58, 'gini = 0.0\\nsamples = 47\\nvalue = [0, 47]'),\n",
       " Text(0.8414634146341463, 0.58, 'x[2] <= 15.5\\ngini = 0.32\\nsamples = 5\\nvalue = [1, 4]'),\n",
       " Text(0.8384146341463414, 0.54, 'gini = 0.0\\nsamples = 1\\nvalue = [1, 0]'),\n",
       " Text(0.8445121951219512, 0.54, 'gini = 0.0\\nsamples = 4\\nvalue = [0, 4]'),\n",
       " Text(0.850609756097561, 0.62, 'x[1] <= 1.5\\ngini = 0.5\\nsamples = 2\\nvalue = [1, 1]'),\n",
       " Text(0.8475609756097561, 0.58, 'gini = 0.0\\nsamples = 1\\nvalue = [0, 1]'),\n",
       " Text(0.8536585365853658, 0.58, 'gini = 0.0\\nsamples = 1\\nvalue = [1, 0]'),\n",
       " Text(0.8597560975609756, 0.78, 'x[7] <= 4.5\\ngini = 0.469\\nsamples = 8\\nvalue = [5, 3]'),\n",
       " Text(0.8567073170731707, 0.74, 'x[2] <= 28.0\\ngini = 0.48\\nsamples = 5\\nvalue = [2, 3]'),\n",
       " Text(0.8536585365853658, 0.7, 'x[7] <= 3.5\\ngini = 0.444\\nsamples = 3\\nvalue = [2, 1]'),\n",
       " Text(0.850609756097561, 0.66, 'gini = 0.0\\nsamples = 2\\nvalue = [2, 0]'),\n",
       " Text(0.8567073170731707, 0.66, 'gini = 0.0\\nsamples = 1\\nvalue = [0, 1]'),\n",
       " Text(0.8597560975609756, 0.7, 'gini = 0.0\\nsamples = 2\\nvalue = [0, 2]'),\n",
       " Text(0.8628048780487805, 0.74, 'gini = 0.0\\nsamples = 3\\nvalue = [3, 0]'),\n",
       " Text(0.94921875, 0.86, 'x[5] <= 1.5\\ngini = 0.208\\nsamples = 935\\nvalue = [110, 825]'),\n",
       " Text(0.9140625, 0.82, 'x[3] <= 2.5\\ngini = 0.228\\nsamples = 776\\nvalue = [102, 674]'),\n",
       " Text(0.890625, 0.78, 'x[8] <= 2.5\\ngini = 0.245\\nsamples = 673\\nvalue = [96, 577]'),\n",
       " Text(0.8875762195121951, 0.74, 'x[3] <= 1.5\\ngini = 0.243\\nsamples = 672\\nvalue = [95, 577]'),\n",
       " Text(0.8719512195121951, 0.7, 'x[7] <= 1.5\\ngini = 0.309\\nsamples = 115\\nvalue = [22, 93]'),\n",
       " Text(0.8658536585365854, 0.66, 'x[1] <= 1.5\\ngini = 0.298\\nsamples = 110\\nvalue = [20, 90]'),\n",
       " Text(0.8628048780487805, 0.62, 'x[0] <= 2.5\\ngini = 0.302\\nsamples = 108\\nvalue = [20, 88]'),\n",
       " Text(0.8597560975609756, 0.58, 'x[6] <= 0.5\\ngini = 0.304\\nsamples = 107\\nvalue = [20, 87]'),\n",
       " Text(0.8567073170731707, 0.54, 'gini = 0.219\\nsamples = 8\\nvalue = [1, 7]'),\n",
       " Text(0.8628048780487805, 0.54, 'gini = 0.31\\nsamples = 99\\nvalue = [19, 80]'),\n",
       " Text(0.8658536585365854, 0.58, 'gini = 0.0\\nsamples = 1\\nvalue = [0, 1]'),\n",
       " Text(0.8689024390243902, 0.62, 'gini = 0.0\\nsamples = 2\\nvalue = [0, 2]'),\n",
       " Text(0.8780487804878049, 0.66, 'x[7] <= 2.5\\ngini = 0.48\\nsamples = 5\\nvalue = [2, 3]'),\n",
       " Text(0.875, 0.62, 'gini = 0.5\\nsamples = 4\\nvalue = [2, 2]'),\n",
       " Text(0.8810975609756098, 0.62, 'gini = 0.0\\nsamples = 1\\nvalue = [0, 1]'),\n",
       " Text(0.9032012195121951, 0.7, 'x[0] <= 2.5\\ngini = 0.228\\nsamples = 557\\nvalue = [73, 484]'),\n",
       " Text(0.8917682926829268, 0.66, 'x[6] <= 1.5\\ngini = 0.222\\nsamples = 535\\nvalue = [68, 467]'),\n",
       " Text(0.8887195121951219, 0.62, 'x[7] <= 1.5\\ngini = 0.224\\nsamples = 528\\nvalue = [68, 460]'),\n",
       " Text(0.875, 0.58, 'x[6] <= 0.5\\ngini = 0.229\\nsamples = 500\\nvalue = [66, 434]'),\n",
       " Text(0.8689024390243902, 0.54, 'x[1] <= 1.5\\ngini = 0.202\\nsamples = 35\\nvalue = [4, 31]'),\n",
       " Text(0.8658536585365854, 0.5, 'gini = 0.0\\nsamples = 1\\nvalue = [0, 1]'),\n",
       " Text(0.8719512195121951, 0.5, 'gini = 0.208\\nsamples = 34\\nvalue = [4, 30]'),\n",
       " Text(0.8810975609756098, 0.54, 'x[1] <= 0.5\\ngini = 0.231\\nsamples = 465\\nvalue = [62, 403]'),\n",
       " Text(0.8780487804878049, 0.5, 'gini = 0.278\\nsamples = 6\\nvalue = [1, 5]'),\n",
       " Text(0.8841463414634146, 0.5, 'x[1] <= 1.5\\ngini = 0.23\\nsamples = 459\\nvalue = [61, 398]'),\n",
       " Text(0.8810975609756098, 0.46, 'gini = 0.24\\nsamples = 43\\nvalue = [6, 37]'),\n",
       " Text(0.8871951219512195, 0.46, 'gini = 0.229\\nsamples = 416\\nvalue = [55, 361]'),\n",
       " Text(0.9024390243902439, 0.58, 'x[7] <= 2.5\\ngini = 0.133\\nsamples = 28\\nvalue = [2, 26]'),\n",
       " Text(0.899390243902439, 0.54, 'x[8] <= 1.5\\ngini = 0.153\\nsamples = 24\\nvalue = [2, 22]'),\n",
       " Text(0.8963414634146342, 0.5, 'x[6] <= 0.5\\ngini = 0.165\\nsamples = 22\\nvalue = [2, 20]'),\n",
       " Text(0.8932926829268293, 0.46, 'gini = 0.0\\nsamples = 1\\nvalue = [0, 1]'),\n",
       " Text(0.899390243902439, 0.46, 'x[1] <= 1.5\\ngini = 0.172\\nsamples = 21\\nvalue = [2, 19]'),\n",
       " Text(0.8963414634146342, 0.42, 'gini = 0.0\\nsamples = 1\\nvalue = [0, 1]'),\n",
       " Text(0.9024390243902439, 0.42, 'gini = 0.18\\nsamples = 20\\nvalue = [2, 18]'),\n",
       " Text(0.9024390243902439, 0.5, 'gini = 0.0\\nsamples = 2\\nvalue = [0, 2]'),\n",
       " Text(0.9054878048780488, 0.54, 'gini = 0.0\\nsamples = 4\\nvalue = [0, 4]'),\n",
       " Text(0.8948170731707317, 0.62, 'gini = 0.0\\nsamples = 7\\nvalue = [0, 7]'),\n",
       " Text(0.9146341463414634, 0.66, 'x[0] <= 3.5\\ngini = 0.351\\nsamples = 22\\nvalue = [5, 17]'),\n",
       " Text(0.9115853658536586, 0.62, 'x[6] <= 0.5\\ngini = 0.388\\nsamples = 19\\nvalue = [5, 14]'),\n",
       " Text(0.9085365853658537, 0.58, 'gini = 0.0\\nsamples = 1\\nvalue = [0, 1]'),\n",
       " Text(0.9146341463414634, 0.58, 'gini = 0.401\\nsamples = 18\\nvalue = [5, 13]'),\n",
       " Text(0.9176829268292683, 0.62, 'gini = 0.0\\nsamples = 3\\nvalue = [0, 3]'),\n",
       " Text(0.8936737804878049, 0.74, 'gini = 0.0\\nsamples = 1\\nvalue = [1, 0]'),\n",
       " Text(0.9375, 0.78, 'x[7] <= 1.5\\ngini = 0.11\\nsamples = 103\\nvalue = [6, 97]'),\n",
       " Text(0.9298780487804879, 0.74, 'x[1] <= 2.5\\ngini = 0.097\\nsamples = 98\\nvalue = [5, 93]'),\n",
       " Text(0.9237804878048781, 0.7, 'x[1] <= 1.5\\ngini = 0.084\\nsamples = 91\\nvalue = [4, 87]'),\n",
       " Text(0.9207317073170732, 0.66, 'gini = 0.0\\nsamples = 14\\nvalue = [0, 14]'),\n",
       " Text(0.926829268292683, 0.66, 'x[0] <= 2.5\\ngini = 0.098\\nsamples = 77\\nvalue = [4, 73]'),\n",
       " Text(0.9237804878048781, 0.62, 'x[6] <= 0.5\\ngini = 0.104\\nsamples = 73\\nvalue = [4, 69]'),\n",
       " Text(0.9207317073170732, 0.58, 'gini = 0.0\\nsamples = 4\\nvalue = [0, 4]'),\n",
       " Text(0.926829268292683, 0.58, 'x[3] <= 4.5\\ngini = 0.109\\nsamples = 69\\nvalue = [4, 65]'),\n",
       " Text(0.9237804878048781, 0.54, 'x[3] <= 3.5\\ngini = 0.112\\nsamples = 67\\nvalue = [4, 63]'),\n",
       " Text(0.9207317073170732, 0.5, 'gini = 0.101\\nsamples = 56\\nvalue = [3, 53]'),\n",
       " Text(0.926829268292683, 0.5, 'gini = 0.165\\nsamples = 11\\nvalue = [1, 10]'),\n",
       " Text(0.9298780487804879, 0.54, 'gini = 0.0\\nsamples = 2\\nvalue = [0, 2]'),\n",
       " Text(0.9298780487804879, 0.62, 'gini = 0.0\\nsamples = 4\\nvalue = [0, 4]'),\n",
       " Text(0.9359756097560976, 0.7, 'x[3] <= 3.5\\ngini = 0.245\\nsamples = 7\\nvalue = [1, 6]'),\n",
       " Text(0.9329268292682927, 0.66, 'gini = 0.5\\nsamples = 2\\nvalue = [1, 1]'),\n",
       " Text(0.9390243902439024, 0.66, 'gini = 0.0\\nsamples = 5\\nvalue = [0, 5]'),\n",
       " Text(0.9451219512195121, 0.74, 'x[3] <= 3.5\\ngini = 0.32\\nsamples = 5\\nvalue = [1, 4]'),\n",
       " Text(0.9420731707317073, 0.7, 'gini = 0.0\\nsamples = 3\\nvalue = [0, 3]'),\n",
       " Text(0.948170731707317, 0.7, 'gini = 0.5\\nsamples = 2\\nvalue = [1, 1]'),\n",
       " Text(0.984375, 0.82, 'x[1] <= 5.5\\ngini = 0.096\\nsamples = 159\\nvalue = [8, 151]'),\n",
       " Text(0.9748475609756098, 0.78, 'x[2] <= 21.5\\ngini = 0.085\\nsamples = 157\\nvalue = [7, 150]'),\n",
       " Text(0.9649390243902439, 0.74, 'x[2] <= 2.5\\ngini = 0.075\\nsamples = 154\\nvalue = [6, 148]'),\n",
       " Text(0.9542682926829268, 0.7, 'x[1] <= 1.5\\ngini = 0.039\\nsamples = 100\\nvalue = [2, 98]'),\n",
       " Text(0.9512195121951219, 0.66, 'x[3] <= 2.5\\ngini = 0.083\\nsamples = 46\\nvalue = [2, 44]'),\n",
       " Text(0.9420731707317073, 0.62, 'x[6] <= 0.5\\ngini = 0.059\\nsamples = 33\\nvalue = [1, 32]'),\n",
       " Text(0.9390243902439024, 0.58, 'gini = 0.0\\nsamples = 6\\nvalue = [0, 6]'),\n",
       " Text(0.9451219512195121, 0.58, 'x[2] <= 1.5\\ngini = 0.071\\nsamples = 27\\nvalue = [1, 26]'),\n",
       " Text(0.9420731707317073, 0.54, 'gini = 0.0\\nsamples = 3\\nvalue = [0, 3]'),\n",
       " Text(0.948170731707317, 0.54, 'x[6] <= 1.5\\ngini = 0.08\\nsamples = 24\\nvalue = [1, 23]'),\n",
       " Text(0.9451219512195121, 0.5, 'x[8] <= 2.5\\ngini = 0.087\\nsamples = 22\\nvalue = [1, 21]'),\n",
       " Text(0.9420731707317073, 0.46, 'x[0] <= 2.5\\ngini = 0.091\\nsamples = 21\\nvalue = [1, 20]'),\n",
       " Text(0.9390243902439024, 0.42, 'x[5] <= 2.5\\ngini = 0.095\\nsamples = 20\\nvalue = [1, 19]'),\n",
       " Text(0.9359756097560976, 0.38, 'gini = 0.1\\nsamples = 19\\nvalue = [1, 18]'),\n",
       " Text(0.9420731707317073, 0.38, 'gini = 0.0\\nsamples = 1\\nvalue = [0, 1]'),\n",
       " Text(0.9451219512195121, 0.42, 'gini = 0.0\\nsamples = 1\\nvalue = [0, 1]'),\n",
       " Text(0.948170731707317, 0.46, 'gini = 0.0\\nsamples = 1\\nvalue = [0, 1]'),\n",
       " Text(0.9512195121951219, 0.5, 'gini = 0.0\\nsamples = 2\\nvalue = [0, 2]'),\n",
       " Text(0.9603658536585366, 0.62, 'x[0] <= 2.5\\ngini = 0.142\\nsamples = 13\\nvalue = [1, 12]'),\n",
       " Text(0.9573170731707317, 0.58, 'x[4] <= 0.5\\ngini = 0.165\\nsamples = 11\\nvalue = [1, 10]'),\n",
       " Text(0.9542682926829268, 0.54, 'gini = 0.0\\nsamples = 1\\nvalue = [0, 1]'),\n",
       " Text(0.9603658536585366, 0.54, 'gini = 0.18\\nsamples = 10\\nvalue = [1, 9]'),\n",
       " Text(0.9634146341463414, 0.58, 'gini = 0.0\\nsamples = 2\\nvalue = [0, 2]'),\n",
       " Text(0.9573170731707317, 0.66, 'gini = 0.0\\nsamples = 54\\nvalue = [0, 54]'),\n",
       " Text(0.975609756097561, 0.7, 'x[2] <= 5.5\\ngini = 0.137\\nsamples = 54\\nvalue = [4, 50]'),\n",
       " Text(0.9725609756097561, 0.66, 'x[3] <= 1.5\\ngini = 0.26\\nsamples = 26\\nvalue = [4, 22]'),\n",
       " Text(0.9695121951219512, 0.62, 'gini = 0.0\\nsamples = 1\\nvalue = [1, 0]'),\n",
       " Text(0.975609756097561, 0.62, 'x[5] <= 5.5\\ngini = 0.211\\nsamples = 25\\nvalue = [3, 22]'),\n",
       " Text(0.9725609756097561, 0.58, 'x[2] <= 4.5\\ngini = 0.153\\nsamples = 24\\nvalue = [2, 22]'),\n",
       " Text(0.9664634146341463, 0.54, 'x[7] <= 1.5\\ngini = 0.095\\nsamples = 20\\nvalue = [1, 19]'),\n",
       " Text(0.9634146341463414, 0.5, 'x[1] <= 2.5\\ngini = 0.32\\nsamples = 5\\nvalue = [1, 4]'),\n",
       " Text(0.9603658536585366, 0.46, 'x[5] <= 3.5\\ngini = 0.444\\nsamples = 3\\nvalue = [1, 2]'),\n",
       " Text(0.9573170731707317, 0.42, 'gini = 0.5\\nsamples = 2\\nvalue = [1, 1]'),\n",
       " Text(0.9634146341463414, 0.42, 'gini = 0.0\\nsamples = 1\\nvalue = [0, 1]'),\n",
       " Text(0.9664634146341463, 0.46, 'gini = 0.0\\nsamples = 2\\nvalue = [0, 2]'),\n",
       " Text(0.9695121951219512, 0.5, 'gini = 0.0\\nsamples = 15\\nvalue = [0, 15]'),\n",
       " Text(0.9786585365853658, 0.54, 'x[7] <= 2.5\\ngini = 0.375\\nsamples = 4\\nvalue = [1, 3]'),\n",
       " Text(0.975609756097561, 0.5, 'gini = 0.0\\nsamples = 1\\nvalue = [1, 0]'),\n",
       " Text(0.9817073170731707, 0.5, 'gini = 0.0\\nsamples = 3\\nvalue = [0, 3]'),\n",
       " Text(0.9786585365853658, 0.58, 'gini = 0.0\\nsamples = 1\\nvalue = [1, 0]'),\n",
       " Text(0.9786585365853658, 0.66, 'gini = 0.0\\nsamples = 28\\nvalue = [0, 28]'),\n",
       " Text(0.9847560975609756, 0.74, 'x[7] <= 4.0\\ngini = 0.444\\nsamples = 3\\nvalue = [1, 2]'),\n",
       " Text(0.9817073170731707, 0.7, 'gini = 0.0\\nsamples = 1\\nvalue = [1, 0]'),\n",
       " Text(0.9878048780487805, 0.7, 'gini = 0.0\\nsamples = 2\\nvalue = [0, 2]'),\n",
       " Text(0.9939024390243902, 0.78, 'x[2] <= 6.5\\ngini = 0.5\\nsamples = 2\\nvalue = [1, 1]'),\n",
       " Text(0.9908536585365854, 0.74, 'gini = 0.0\\nsamples = 1\\nvalue = [1, 0]'),\n",
       " Text(0.9969512195121951, 0.74, 'gini = 0.0\\nsamples = 1\\nvalue = [0, 1]')]"
      ]
     },
     "execution_count": 499,
     "metadata": {},
     "output_type": "execute_result"
    },
    {
     "data": {
      "image/png": "[encoded data removed]",
      "text/plain": [
       "<Figure size 640x480 with 1 Axes>"
      ]
     },
     "metadata": {},
     "output_type": "display_data"
    }
   ],
   "source": [
    "tree.plot_tree(dt_fit)"
   ]
  },
  {
   "cell_type": "code",
   "execution_count": 500,
   "metadata": {},
   "outputs": [
    {
     "data": {
      "text/html": [
       "<div>\n",
       "<style scoped>\n",
       "    .dataframe tbody tr th:only-of-type {\n",
       "        vertical-align: middle;\n",
       "    }\n",
       "\n",
       "    .dataframe tbody tr th {\n",
       "        vertical-align: top;\n",
       "    }\n",
       "\n",
       "    .dataframe thead th {\n",
       "        text-align: right;\n",
       "    }\n",
       "</style>\n",
       "<table border=\"1\" class=\"dataframe\">\n",
       "  <thead>\n",
       "    <tr style=\"text-align: right;\">\n",
       "      <th></th>\n",
       "      <th>F-score</th>\n",
       "      <th>Precision</th>\n",
       "      <th>Recall</th>\n",
       "      <th>Accuracy</th>\n",
       "    </tr>\n",
       "  </thead>\n",
       "  <tbody>\n",
       "    <tr>\n",
       "      <th>Decision Tree (Default)</th>\n",
       "      <td>0.557185</td>\n",
       "      <td>0.837209</td>\n",
       "      <td>0.193809</td>\n",
       "      <td>0.689911</td>\n",
       "    </tr>\n",
       "    <tr>\n",
       "      <th>Logistic Regression (Default)</th>\n",
       "      <td>0.54678</td>\n",
       "      <td>0.725888</td>\n",
       "      <td>0.192463</td>\n",
       "      <td>0.676558</td>\n",
       "    </tr>\n",
       "  </tbody>\n",
       "</table>\n",
       "</div>"
      ],
      "text/plain": [
       "                                F-score Precision    Recall  Accuracy\n",
       "Decision Tree (Default)        0.557185  0.837209  0.193809  0.689911\n",
       "Logistic Regression (Default)   0.54678  0.725888  0.192463  0.676558"
      ]
     },
     "execution_count": 500,
     "metadata": {},
     "output_type": "execute_result"
    }
   ],
   "source": [
    "# Training the Logistic Regression model on the Training set\n",
    "lr = LogisticRegression(random_state=42)\n",
    "lr_fit = lr.fit(X_train, y_train)\n",
    "# Predicting the Test set results\n",
    "lr_predict = lr_fit.predict(X_test)\n",
    "\n",
    "results_df.loc['Logistic Regression (Default)',:] = [f1_score(y_test,lr_predict, average='macro'), precision_score(y_test,lr_predict), recall_score(y_test,lr_predict),accuracy_score(y_test,lr_predict)]\n",
    "\n",
    "results_df.sort_values(by='F-score', ascending=False)"
   ]
  },
  {
   "cell_type": "code",
   "execution_count": 501,
   "metadata": {},
   "outputs": [
    {
     "name": "stderr",
     "output_type": "stream",
     "text": [
      "/Users/abdalrhman/Library/Python/3.9/lib/python/site-packages/sklearn/linear_model/_logistic.py:458: ConvergenceWarning: lbfgs failed to converge (status=1):\n",
      "STOP: TOTAL NO. of ITERATIONS REACHED LIMIT.\n",
      "\n",
      "Increase the number of iterations (max_iter) or scale the data as shown in:\n",
      "    https://scikit-learn.org/stable/modules/preprocessing.html\n",
      "Please also refer to the documentation for alternative solver options:\n",
      "    https://scikit-learn.org/stable/modules/linear_model.html#logistic-regression\n",
      "  n_iter_i = _check_optimize_result(\n",
      "/Users/abdalrhman/Library/Python/3.9/lib/python/site-packages/sklearn/linear_model/_sag.py:350: ConvergenceWarning: The max_iter was reached which means the coef_ did not converge\n",
      "  warnings.warn(\n",
      "/Users/abdalrhman/Library/Python/3.9/lib/python/site-packages/sklearn/linear_model/_sag.py:350: ConvergenceWarning: The max_iter was reached which means the coef_ did not converge\n",
      "  warnings.warn(\n",
      "/Users/abdalrhman/Library/Python/3.9/lib/python/site-packages/sklearn/linear_model/_sag.py:350: ConvergenceWarning: The max_iter was reached which means the coef_ did not converge\n",
      "  warnings.warn(\n",
      "/Users/abdalrhman/Library/Python/3.9/lib/python/site-packages/sklearn/linear_model/_sag.py:350: ConvergenceWarning: The max_iter was reached which means the coef_ did not converge\n",
      "  warnings.warn(\n",
      "/Users/abdalrhman/Library/Python/3.9/lib/python/site-packages/sklearn/linear_model/_sag.py:350: ConvergenceWarning: The max_iter was reached which means the coef_ did not converge\n",
      "  warnings.warn(\n",
      "/Users/abdalrhman/Library/Python/3.9/lib/python/site-packages/sklearn/linear_model/_sag.py:350: ConvergenceWarning: The max_iter was reached which means the coef_ did not converge\n",
      "  warnings.warn(\n",
      "/Users/abdalrhman/Library/Python/3.9/lib/python/site-packages/sklearn/linear_model/_sag.py:350: ConvergenceWarning: The max_iter was reached which means the coef_ did not converge\n",
      "  warnings.warn(\n",
      "/Users/abdalrhman/Library/Python/3.9/lib/python/site-packages/sklearn/linear_model/_sag.py:350: ConvergenceWarning: The max_iter was reached which means the coef_ did not converge\n",
      "  warnings.warn(\n",
      "/Users/abdalrhman/Library/Python/3.9/lib/python/site-packages/sklearn/linear_model/_sag.py:350: ConvergenceWarning: The max_iter was reached which means the coef_ did not converge\n",
      "  warnings.warn(\n",
      "/Users/abdalrhman/Library/Python/3.9/lib/python/site-packages/sklearn/linear_model/_sag.py:350: ConvergenceWarning: The max_iter was reached which means the coef_ did not converge\n",
      "  warnings.warn(\n",
      "/Users/abdalrhman/Library/Python/3.9/lib/python/site-packages/sklearn/linear_model/_sag.py:350: ConvergenceWarning: The max_iter was reached which means the coef_ did not converge\n",
      "  warnings.warn(\n",
      "/Users/abdalrhman/Library/Python/3.9/lib/python/site-packages/sklearn/linear_model/_sag.py:350: ConvergenceWarning: The max_iter was reached which means the coef_ did not converge\n",
      "  warnings.warn(\n",
      "/Users/abdalrhman/Library/Python/3.9/lib/python/site-packages/sklearn/linear_model/_sag.py:350: ConvergenceWarning: The max_iter was reached which means the coef_ did not converge\n",
      "  warnings.warn(\n",
      "/Users/abdalrhman/Library/Python/3.9/lib/python/site-packages/sklearn/linear_model/_sag.py:350: ConvergenceWarning: The max_iter was reached which means the coef_ did not converge\n",
      "  warnings.warn(\n",
      "/Users/abdalrhman/Library/Python/3.9/lib/python/site-packages/sklearn/linear_model/_sag.py:350: ConvergenceWarning: The max_iter was reached which means the coef_ did not converge\n",
      "  warnings.warn(\n",
      "/Users/abdalrhman/Library/Python/3.9/lib/python/site-packages/sklearn/linear_model/_sag.py:350: ConvergenceWarning: The max_iter was reached which means the coef_ did not converge\n",
      "  warnings.warn(\n",
      "/Users/abdalrhman/Library/Python/3.9/lib/python/site-packages/sklearn/linear_model/_sag.py:350: ConvergenceWarning: The max_iter was reached which means the coef_ did not converge\n",
      "  warnings.warn(\n",
      "/Users/abdalrhman/Library/Python/3.9/lib/python/site-packages/sklearn/linear_model/_sag.py:350: ConvergenceWarning: The max_iter was reached which means the coef_ did not converge\n",
      "  warnings.warn(\n",
      "/Users/abdalrhman/Library/Python/3.9/lib/python/site-packages/sklearn/linear_model/_sag.py:350: ConvergenceWarning: The max_iter was reached which means the coef_ did not converge\n",
      "  warnings.warn(\n",
      "/Users/abdalrhman/Library/Python/3.9/lib/python/site-packages/sklearn/linear_model/_sag.py:350: ConvergenceWarning: The max_iter was reached which means the coef_ did not converge\n",
      "  warnings.warn(\n",
      "/Users/abdalrhman/Library/Python/3.9/lib/python/site-packages/sklearn/linear_model/_sag.py:350: ConvergenceWarning: The max_iter was reached which means the coef_ did not converge\n",
      "  warnings.warn(\n",
      "/Users/abdalrhman/Library/Python/3.9/lib/python/site-packages/sklearn/linear_model/_sag.py:350: ConvergenceWarning: The max_iter was reached which means the coef_ did not converge\n",
      "  warnings.warn(\n",
      "/Users/abdalrhman/Library/Python/3.9/lib/python/site-packages/sklearn/linear_model/_sag.py:350: ConvergenceWarning: The max_iter was reached which means the coef_ did not converge\n",
      "  warnings.warn(\n",
      "/Users/abdalrhman/Library/Python/3.9/lib/python/site-packages/sklearn/linear_model/_sag.py:350: ConvergenceWarning: The max_iter was reached which means the coef_ did not converge\n",
      "  warnings.warn(\n",
      "/Users/abdalrhman/Library/Python/3.9/lib/python/site-packages/sklearn/linear_model/_sag.py:350: ConvergenceWarning: The max_iter was reached which means the coef_ did not converge\n",
      "  warnings.warn(\n",
      "/Users/abdalrhman/Library/Python/3.9/lib/python/site-packages/sklearn/linear_model/_sag.py:350: ConvergenceWarning: The max_iter was reached which means the coef_ did not converge\n",
      "  warnings.warn(\n",
      "/Users/abdalrhman/Library/Python/3.9/lib/python/site-packages/sklearn/linear_model/_sag.py:350: ConvergenceWarning: The max_iter was reached which means the coef_ did not converge\n",
      "  warnings.warn(\n",
      "/Users/abdalrhman/Library/Python/3.9/lib/python/site-packages/sklearn/linear_model/_sag.py:350: ConvergenceWarning: The max_iter was reached which means the coef_ did not converge\n",
      "  warnings.warn(\n",
      "/Users/abdalrhman/Library/Python/3.9/lib/python/site-packages/sklearn/linear_model/_sag.py:350: ConvergenceWarning: The max_iter was reached which means the coef_ did not converge\n",
      "  warnings.warn(\n",
      "/Users/abdalrhman/Library/Python/3.9/lib/python/site-packages/sklearn/linear_model/_sag.py:350: ConvergenceWarning: The max_iter was reached which means the coef_ did not converge\n",
      "  warnings.warn(\n",
      "/Users/abdalrhman/Library/Python/3.9/lib/python/site-packages/sklearn/linear_model/_sag.py:350: ConvergenceWarning: The max_iter was reached which means the coef_ did not converge\n",
      "  warnings.warn(\n",
      "/Users/abdalrhman/Library/Python/3.9/lib/python/site-packages/sklearn/linear_model/_sag.py:350: ConvergenceWarning: The max_iter was reached which means the coef_ did not converge\n",
      "  warnings.warn(\n",
      "/Users/abdalrhman/Library/Python/3.9/lib/python/site-packages/sklearn/linear_model/_sag.py:350: ConvergenceWarning: The max_iter was reached which means the coef_ did not converge\n",
      "  warnings.warn(\n",
      "/Users/abdalrhman/Library/Python/3.9/lib/python/site-packages/sklearn/linear_model/_sag.py:350: ConvergenceWarning: The max_iter was reached which means the coef_ did not converge\n",
      "  warnings.warn(\n",
      "/Users/abdalrhman/Library/Python/3.9/lib/python/site-packages/sklearn/linear_model/_sag.py:350: ConvergenceWarning: The max_iter was reached which means the coef_ did not converge\n",
      "  warnings.warn(\n",
      "/Users/abdalrhman/Library/Python/3.9/lib/python/site-packages/sklearn/linear_model/_sag.py:350: ConvergenceWarning: The max_iter was reached which means the coef_ did not converge\n",
      "  warnings.warn(\n",
      "/Users/abdalrhman/Library/Python/3.9/lib/python/site-packages/sklearn/linear_model/_sag.py:350: ConvergenceWarning: The max_iter was reached which means the coef_ did not converge\n",
      "  warnings.warn(\n",
      "/Users/abdalrhman/Library/Python/3.9/lib/python/site-packages/sklearn/linear_model/_sag.py:350: ConvergenceWarning: The max_iter was reached which means the coef_ did not converge\n",
      "  warnings.warn(\n",
      "/Users/abdalrhman/Library/Python/3.9/lib/python/site-packages/sklearn/linear_model/_sag.py:350: ConvergenceWarning: The max_iter was reached which means the coef_ did not converge\n",
      "  warnings.warn(\n",
      "/Users/abdalrhman/Library/Python/3.9/lib/python/site-packages/sklearn/linear_model/_sag.py:350: ConvergenceWarning: The max_iter was reached which means the coef_ did not converge\n",
      "  warnings.warn(\n",
      "/Users/abdalrhman/Library/Python/3.9/lib/python/site-packages/sklearn/linear_model/_sag.py:350: ConvergenceWarning: The max_iter was reached which means the coef_ did not converge\n",
      "  warnings.warn(\n",
      "/Users/abdalrhman/Library/Python/3.9/lib/python/site-packages/sklearn/linear_model/_sag.py:350: ConvergenceWarning: The max_iter was reached which means the coef_ did not converge\n",
      "  warnings.warn(\n",
      "/Users/abdalrhman/Library/Python/3.9/lib/python/site-packages/sklearn/linear_model/_sag.py:350: ConvergenceWarning: The max_iter was reached which means the coef_ did not converge\n",
      "  warnings.warn(\n",
      "/Users/abdalrhman/Library/Python/3.9/lib/python/site-packages/sklearn/linear_model/_sag.py:350: ConvergenceWarning: The max_iter was reached which means the coef_ did not converge\n",
      "  warnings.warn(\n",
      "/Users/abdalrhman/Library/Python/3.9/lib/python/site-packages/sklearn/linear_model/_sag.py:350: ConvergenceWarning: The max_iter was reached which means the coef_ did not converge\n",
      "  warnings.warn(\n",
      "/Users/abdalrhman/Library/Python/3.9/lib/python/site-packages/sklearn/linear_model/_sag.py:350: ConvergenceWarning: The max_iter was reached which means the coef_ did not converge\n",
      "  warnings.warn(\n",
      "/Users/abdalrhman/Library/Python/3.9/lib/python/site-packages/sklearn/linear_model/_sag.py:350: ConvergenceWarning: The max_iter was reached which means the coef_ did not converge\n",
      "  warnings.warn(\n",
      "/Users/abdalrhman/Library/Python/3.9/lib/python/site-packages/sklearn/linear_model/_sag.py:350: ConvergenceWarning: The max_iter was reached which means the coef_ did not converge\n",
      "  warnings.warn(\n",
      "/Users/abdalrhman/Library/Python/3.9/lib/python/site-packages/sklearn/linear_model/_sag.py:350: ConvergenceWarning: The max_iter was reached which means the coef_ did not converge\n",
      "  warnings.warn(\n",
      "/Users/abdalrhman/Library/Python/3.9/lib/python/site-packages/sklearn/linear_model/_sag.py:350: ConvergenceWarning: The max_iter was reached which means the coef_ did not converge\n",
      "  warnings.warn(\n",
      "/Users/abdalrhman/Library/Python/3.9/lib/python/site-packages/sklearn/linear_model/_sag.py:350: ConvergenceWarning: The max_iter was reached which means the coef_ did not converge\n",
      "  warnings.warn(\n",
      "/Users/abdalrhman/Library/Python/3.9/lib/python/site-packages/sklearn/linear_model/_sag.py:350: ConvergenceWarning: The max_iter was reached which means the coef_ did not converge\n",
      "  warnings.warn(\n",
      "/Users/abdalrhman/Library/Python/3.9/lib/python/site-packages/sklearn/linear_model/_sag.py:350: ConvergenceWarning: The max_iter was reached which means the coef_ did not converge\n",
      "  warnings.warn(\n",
      "/Users/abdalrhman/Library/Python/3.9/lib/python/site-packages/sklearn/linear_model/_sag.py:350: ConvergenceWarning: The max_iter was reached which means the coef_ did not converge\n",
      "  warnings.warn(\n",
      "/Users/abdalrhman/Library/Python/3.9/lib/python/site-packages/sklearn/linear_model/_sag.py:350: ConvergenceWarning: The max_iter was reached which means the coef_ did not converge\n",
      "  warnings.warn(\n",
      "/Users/abdalrhman/Library/Python/3.9/lib/python/site-packages/sklearn/linear_model/_sag.py:350: ConvergenceWarning: The max_iter was reached which means the coef_ did not converge\n",
      "  warnings.warn(\n",
      "/Users/abdalrhman/Library/Python/3.9/lib/python/site-packages/sklearn/linear_model/_sag.py:350: ConvergenceWarning: The max_iter was reached which means the coef_ did not converge\n",
      "  warnings.warn(\n",
      "/Users/abdalrhman/Library/Python/3.9/lib/python/site-packages/sklearn/linear_model/_sag.py:350: ConvergenceWarning: The max_iter was reached which means the coef_ did not converge\n",
      "  warnings.warn(\n",
      "/Users/abdalrhman/Library/Python/3.9/lib/python/site-packages/sklearn/linear_model/_sag.py:350: ConvergenceWarning: The max_iter was reached which means the coef_ did not converge\n",
      "  warnings.warn(\n",
      "/Users/abdalrhman/Library/Python/3.9/lib/python/site-packages/sklearn/linear_model/_sag.py:350: ConvergenceWarning: The max_iter was reached which means the coef_ did not converge\n",
      "  warnings.warn(\n",
      "/Users/abdalrhman/Library/Python/3.9/lib/python/site-packages/sklearn/linear_model/_sag.py:350: ConvergenceWarning: The max_iter was reached which means the coef_ did not converge\n",
      "  warnings.warn(\n",
      "/Users/abdalrhman/Library/Python/3.9/lib/python/site-packages/sklearn/linear_model/_sag.py:350: ConvergenceWarning: The max_iter was reached which means the coef_ did not converge\n",
      "  warnings.warn(\n",
      "/Users/abdalrhman/Library/Python/3.9/lib/python/site-packages/sklearn/linear_model/_sag.py:350: ConvergenceWarning: The max_iter was reached which means the coef_ did not converge\n",
      "  warnings.warn(\n",
      "/Users/abdalrhman/Library/Python/3.9/lib/python/site-packages/sklearn/linear_model/_sag.py:350: ConvergenceWarning: The max_iter was reached which means the coef_ did not converge\n",
      "  warnings.warn(\n",
      "/Users/abdalrhman/Library/Python/3.9/lib/python/site-packages/sklearn/linear_model/_sag.py:350: ConvergenceWarning: The max_iter was reached which means the coef_ did not converge\n",
      "  warnings.warn(\n",
      "/Users/abdalrhman/Library/Python/3.9/lib/python/site-packages/sklearn/linear_model/_sag.py:350: ConvergenceWarning: The max_iter was reached which means the coef_ did not converge\n",
      "  warnings.warn(\n",
      "/Users/abdalrhman/Library/Python/3.9/lib/python/site-packages/sklearn/linear_model/_sag.py:350: ConvergenceWarning: The max_iter was reached which means the coef_ did not converge\n",
      "  warnings.warn(\n",
      "/Users/abdalrhman/Library/Python/3.9/lib/python/site-packages/sklearn/linear_model/_sag.py:350: ConvergenceWarning: The max_iter was reached which means the coef_ did not converge\n",
      "  warnings.warn(\n",
      "/Users/abdalrhman/Library/Python/3.9/lib/python/site-packages/sklearn/linear_model/_sag.py:350: ConvergenceWarning: The max_iter was reached which means the coef_ did not converge\n",
      "  warnings.warn(\n",
      "/Users/abdalrhman/Library/Python/3.9/lib/python/site-packages/sklearn/linear_model/_sag.py:350: ConvergenceWarning: The max_iter was reached which means the coef_ did not converge\n",
      "  warnings.warn(\n",
      "/Users/abdalrhman/Library/Python/3.9/lib/python/site-packages/sklearn/linear_model/_sag.py:350: ConvergenceWarning: The max_iter was reached which means the coef_ did not converge\n",
      "  warnings.warn(\n",
      "/Users/abdalrhman/Library/Python/3.9/lib/python/site-packages/sklearn/linear_model/_sag.py:350: ConvergenceWarning: The max_iter was reached which means the coef_ did not converge\n",
      "  warnings.warn(\n",
      "/Users/abdalrhman/Library/Python/3.9/lib/python/site-packages/sklearn/linear_model/_sag.py:350: ConvergenceWarning: The max_iter was reached which means the coef_ did not converge\n",
      "  warnings.warn(\n",
      "/Users/abdalrhman/Library/Python/3.9/lib/python/site-packages/sklearn/linear_model/_sag.py:350: ConvergenceWarning: The max_iter was reached which means the coef_ did not converge\n",
      "  warnings.warn(\n",
      "/Users/abdalrhman/Library/Python/3.9/lib/python/site-packages/sklearn/linear_model/_sag.py:350: ConvergenceWarning: The max_iter was reached which means the coef_ did not converge\n",
      "  warnings.warn(\n",
      "/Users/abdalrhman/Library/Python/3.9/lib/python/site-packages/sklearn/linear_model/_sag.py:350: ConvergenceWarning: The max_iter was reached which means the coef_ did not converge\n",
      "  warnings.warn(\n",
      "/Users/abdalrhman/Library/Python/3.9/lib/python/site-packages/sklearn/linear_model/_logistic.py:458: ConvergenceWarning: lbfgs failed to converge (status=1):\n",
      "STOP: TOTAL NO. of ITERATIONS REACHED LIMIT.\n",
      "\n",
      "Increase the number of iterations (max_iter) or scale the data as shown in:\n",
      "    https://scikit-learn.org/stable/modules/preprocessing.html\n",
      "Please also refer to the documentation for alternative solver options:\n",
      "    https://scikit-learn.org/stable/modules/linear_model.html#logistic-regression\n",
      "  n_iter_i = _check_optimize_result(\n",
      "/Users/abdalrhman/Library/Python/3.9/lib/python/site-packages/sklearn/linear_model/_sag.py:350: ConvergenceWarning: The max_iter was reached which means the coef_ did not converge\n",
      "  warnings.warn(\n",
      "/Users/abdalrhman/Library/Python/3.9/lib/python/site-packages/sklearn/linear_model/_sag.py:350: ConvergenceWarning: The max_iter was reached which means the coef_ did not converge\n",
      "  warnings.warn(\n",
      "/Users/abdalrhman/Library/Python/3.9/lib/python/site-packages/sklearn/linear_model/_sag.py:350: ConvergenceWarning: The max_iter was reached which means the coef_ did not converge\n",
      "  warnings.warn(\n",
      "/Users/abdalrhman/Library/Python/3.9/lib/python/site-packages/sklearn/linear_model/_sag.py:350: ConvergenceWarning: The max_iter was reached which means the coef_ did not converge\n",
      "  warnings.warn(\n",
      "/Users/abdalrhman/Library/Python/3.9/lib/python/site-packages/sklearn/linear_model/_sag.py:350: ConvergenceWarning: The max_iter was reached which means the coef_ did not converge\n",
      "  warnings.warn(\n",
      "/Users/abdalrhman/Library/Python/3.9/lib/python/site-packages/sklearn/linear_model/_sag.py:350: ConvergenceWarning: The max_iter was reached which means the coef_ did not converge\n",
      "  warnings.warn(\n",
      "/Users/abdalrhman/Library/Python/3.9/lib/python/site-packages/sklearn/linear_model/_sag.py:350: ConvergenceWarning: The max_iter was reached which means the coef_ did not converge\n",
      "  warnings.warn(\n",
      "/Users/abdalrhman/Library/Python/3.9/lib/python/site-packages/sklearn/linear_model/_sag.py:350: ConvergenceWarning: The max_iter was reached which means the coef_ did not converge\n",
      "  warnings.warn(\n",
      "/Users/abdalrhman/Library/Python/3.9/lib/python/site-packages/sklearn/linear_model/_sag.py:350: ConvergenceWarning: The max_iter was reached which means the coef_ did not converge\n",
      "  warnings.warn(\n",
      "/Users/abdalrhman/Library/Python/3.9/lib/python/site-packages/sklearn/linear_model/_sag.py:350: ConvergenceWarning: The max_iter was reached which means the coef_ did not converge\n",
      "  warnings.warn(\n",
      "/Users/abdalrhman/Library/Python/3.9/lib/python/site-packages/sklearn/linear_model/_sag.py:350: ConvergenceWarning: The max_iter was reached which means the coef_ did not converge\n",
      "  warnings.warn(\n",
      "/Users/abdalrhman/Library/Python/3.9/lib/python/site-packages/sklearn/linear_model/_sag.py:350: ConvergenceWarning: The max_iter was reached which means the coef_ did not converge\n",
      "  warnings.warn(\n",
      "/Users/abdalrhman/Library/Python/3.9/lib/python/site-packages/sklearn/linear_model/_sag.py:350: ConvergenceWarning: The max_iter was reached which means the coef_ did not converge\n",
      "  warnings.warn(\n",
      "/Users/abdalrhman/Library/Python/3.9/lib/python/site-packages/sklearn/linear_model/_sag.py:350: ConvergenceWarning: The max_iter was reached which means the coef_ did not converge\n",
      "  warnings.warn(\n",
      "/Users/abdalrhman/Library/Python/3.9/lib/python/site-packages/sklearn/linear_model/_sag.py:350: ConvergenceWarning: The max_iter was reached which means the coef_ did not converge\n",
      "  warnings.warn(\n",
      "/Users/abdalrhman/Library/Python/3.9/lib/python/site-packages/sklearn/linear_model/_sag.py:350: ConvergenceWarning: The max_iter was reached which means the coef_ did not converge\n",
      "  warnings.warn(\n",
      "/Users/abdalrhman/Library/Python/3.9/lib/python/site-packages/sklearn/linear_model/_sag.py:350: ConvergenceWarning: The max_iter was reached which means the coef_ did not converge\n",
      "  warnings.warn(\n",
      "/Users/abdalrhman/Library/Python/3.9/lib/python/site-packages/sklearn/linear_model/_sag.py:350: ConvergenceWarning: The max_iter was reached which means the coef_ did not converge\n",
      "  warnings.warn(\n",
      "/Users/abdalrhman/Library/Python/3.9/lib/python/site-packages/sklearn/linear_model/_sag.py:350: ConvergenceWarning: The max_iter was reached which means the coef_ did not converge\n",
      "  warnings.warn(\n",
      "/Users/abdalrhman/Library/Python/3.9/lib/python/site-packages/sklearn/linear_model/_sag.py:350: ConvergenceWarning: The max_iter was reached which means the coef_ did not converge\n",
      "  warnings.warn(\n",
      "/Users/abdalrhman/Library/Python/3.9/lib/python/site-packages/sklearn/linear_model/_sag.py:350: ConvergenceWarning: The max_iter was reached which means the coef_ did not converge\n",
      "  warnings.warn(\n",
      "/Users/abdalrhman/Library/Python/3.9/lib/python/site-packages/sklearn/linear_model/_sag.py:350: ConvergenceWarning: The max_iter was reached which means the coef_ did not converge\n",
      "  warnings.warn(\n",
      "/Users/abdalrhman/Library/Python/3.9/lib/python/site-packages/sklearn/linear_model/_sag.py:350: ConvergenceWarning: The max_iter was reached which means the coef_ did not converge\n",
      "  warnings.warn(\n",
      "/Users/abdalrhman/Library/Python/3.9/lib/python/site-packages/sklearn/linear_model/_sag.py:350: ConvergenceWarning: The max_iter was reached which means the coef_ did not converge\n",
      "  warnings.warn(\n",
      "/Users/abdalrhman/Library/Python/3.9/lib/python/site-packages/sklearn/linear_model/_sag.py:350: ConvergenceWarning: The max_iter was reached which means the coef_ did not converge\n",
      "  warnings.warn(\n",
      "/Users/abdalrhman/Library/Python/3.9/lib/python/site-packages/sklearn/linear_model/_sag.py:350: ConvergenceWarning: The max_iter was reached which means the coef_ did not converge\n",
      "  warnings.warn(\n",
      "/Users/abdalrhman/Library/Python/3.9/lib/python/site-packages/sklearn/linear_model/_sag.py:350: ConvergenceWarning: The max_iter was reached which means the coef_ did not converge\n",
      "  warnings.warn(\n",
      "/Users/abdalrhman/Library/Python/3.9/lib/python/site-packages/sklearn/linear_model/_sag.py:350: ConvergenceWarning: The max_iter was reached which means the coef_ did not converge\n",
      "  warnings.warn(\n",
      "/Users/abdalrhman/Library/Python/3.9/lib/python/site-packages/sklearn/linear_model/_sag.py:350: ConvergenceWarning: The max_iter was reached which means the coef_ did not converge\n",
      "  warnings.warn(\n",
      "/Users/abdalrhman/Library/Python/3.9/lib/python/site-packages/sklearn/linear_model/_sag.py:350: ConvergenceWarning: The max_iter was reached which means the coef_ did not converge\n",
      "  warnings.warn(\n",
      "/Users/abdalrhman/Library/Python/3.9/lib/python/site-packages/sklearn/linear_model/_sag.py:350: ConvergenceWarning: The max_iter was reached which means the coef_ did not converge\n",
      "  warnings.warn(\n",
      "/Users/abdalrhman/Library/Python/3.9/lib/python/site-packages/sklearn/linear_model/_sag.py:350: ConvergenceWarning: The max_iter was reached which means the coef_ did not converge\n",
      "  warnings.warn(\n",
      "/Users/abdalrhman/Library/Python/3.9/lib/python/site-packages/sklearn/linear_model/_sag.py:350: ConvergenceWarning: The max_iter was reached which means the coef_ did not converge\n",
      "  warnings.warn(\n",
      "/Users/abdalrhman/Library/Python/3.9/lib/python/site-packages/sklearn/linear_model/_sag.py:350: ConvergenceWarning: The max_iter was reached which means the coef_ did not converge\n",
      "  warnings.warn(\n",
      "/Users/abdalrhman/Library/Python/3.9/lib/python/site-packages/sklearn/linear_model/_sag.py:350: ConvergenceWarning: The max_iter was reached which means the coef_ did not converge\n",
      "  warnings.warn(\n",
      "/Users/abdalrhman/Library/Python/3.9/lib/python/site-packages/sklearn/linear_model/_sag.py:350: ConvergenceWarning: The max_iter was reached which means the coef_ did not converge\n",
      "  warnings.warn(\n",
      "/Users/abdalrhman/Library/Python/3.9/lib/python/site-packages/sklearn/linear_model/_sag.py:350: ConvergenceWarning: The max_iter was reached which means the coef_ did not converge\n",
      "  warnings.warn(\n",
      "/Users/abdalrhman/Library/Python/3.9/lib/python/site-packages/sklearn/linear_model/_sag.py:350: ConvergenceWarning: The max_iter was reached which means the coef_ did not converge\n",
      "  warnings.warn(\n",
      "/Users/abdalrhman/Library/Python/3.9/lib/python/site-packages/sklearn/linear_model/_sag.py:350: ConvergenceWarning: The max_iter was reached which means the coef_ did not converge\n",
      "  warnings.warn(\n",
      "/Users/abdalrhman/Library/Python/3.9/lib/python/site-packages/sklearn/linear_model/_sag.py:350: ConvergenceWarning: The max_iter was reached which means the coef_ did not converge\n",
      "  warnings.warn(\n",
      "/Users/abdalrhman/Library/Python/3.9/lib/python/site-packages/sklearn/linear_model/_sag.py:350: ConvergenceWarning: The max_iter was reached which means the coef_ did not converge\n",
      "  warnings.warn(\n",
      "/Users/abdalrhman/Library/Python/3.9/lib/python/site-packages/sklearn/linear_model/_sag.py:350: ConvergenceWarning: The max_iter was reached which means the coef_ did not converge\n",
      "  warnings.warn(\n",
      "/Users/abdalrhman/Library/Python/3.9/lib/python/site-packages/sklearn/linear_model/_sag.py:350: ConvergenceWarning: The max_iter was reached which means the coef_ did not converge\n",
      "  warnings.warn(\n",
      "/Users/abdalrhman/Library/Python/3.9/lib/python/site-packages/sklearn/linear_model/_sag.py:350: ConvergenceWarning: The max_iter was reached which means the coef_ did not converge\n",
      "  warnings.warn(\n",
      "/Users/abdalrhman/Library/Python/3.9/lib/python/site-packages/sklearn/linear_model/_sag.py:350: ConvergenceWarning: The max_iter was reached which means the coef_ did not converge\n",
      "  warnings.warn(\n",
      "/Users/abdalrhman/Library/Python/3.9/lib/python/site-packages/sklearn/linear_model/_sag.py:350: ConvergenceWarning: The max_iter was reached which means the coef_ did not converge\n",
      "  warnings.warn(\n",
      "/Users/abdalrhman/Library/Python/3.9/lib/python/site-packages/sklearn/linear_model/_sag.py:350: ConvergenceWarning: The max_iter was reached which means the coef_ did not converge\n",
      "  warnings.warn(\n",
      "/Users/abdalrhman/Library/Python/3.9/lib/python/site-packages/sklearn/linear_model/_sag.py:350: ConvergenceWarning: The max_iter was reached which means the coef_ did not converge\n",
      "  warnings.warn(\n",
      "/Users/abdalrhman/Library/Python/3.9/lib/python/site-packages/sklearn/linear_model/_sag.py:350: ConvergenceWarning: The max_iter was reached which means the coef_ did not converge\n",
      "  warnings.warn(\n",
      "/Users/abdalrhman/Library/Python/3.9/lib/python/site-packages/sklearn/linear_model/_sag.py:350: ConvergenceWarning: The max_iter was reached which means the coef_ did not converge\n",
      "  warnings.warn(\n",
      "/Users/abdalrhman/Library/Python/3.9/lib/python/site-packages/sklearn/linear_model/_sag.py:350: ConvergenceWarning: The max_iter was reached which means the coef_ did not converge\n",
      "  warnings.warn(\n",
      "/Users/abdalrhman/Library/Python/3.9/lib/python/site-packages/sklearn/linear_model/_sag.py:350: ConvergenceWarning: The max_iter was reached which means the coef_ did not converge\n",
      "  warnings.warn(\n",
      "/Users/abdalrhman/Library/Python/3.9/lib/python/site-packages/sklearn/linear_model/_sag.py:350: ConvergenceWarning: The max_iter was reached which means the coef_ did not converge\n",
      "  warnings.warn(\n",
      "/Users/abdalrhman/Library/Python/3.9/lib/python/site-packages/sklearn/linear_model/_sag.py:350: ConvergenceWarning: The max_iter was reached which means the coef_ did not converge\n",
      "  warnings.warn(\n",
      "/Users/abdalrhman/Library/Python/3.9/lib/python/site-packages/sklearn/linear_model/_sag.py:350: ConvergenceWarning: The max_iter was reached which means the coef_ did not converge\n",
      "  warnings.warn(\n",
      "/Users/abdalrhman/Library/Python/3.9/lib/python/site-packages/sklearn/linear_model/_sag.py:350: ConvergenceWarning: The max_iter was reached which means the coef_ did not converge\n",
      "  warnings.warn(\n",
      "/Users/abdalrhman/Library/Python/3.9/lib/python/site-packages/sklearn/linear_model/_sag.py:350: ConvergenceWarning: The max_iter was reached which means the coef_ did not converge\n",
      "  warnings.warn(\n",
      "/Users/abdalrhman/Library/Python/3.9/lib/python/site-packages/sklearn/linear_model/_sag.py:350: ConvergenceWarning: The max_iter was reached which means the coef_ did not converge\n",
      "  warnings.warn(\n",
      "/Users/abdalrhman/Library/Python/3.9/lib/python/site-packages/sklearn/linear_model/_sag.py:350: ConvergenceWarning: The max_iter was reached which means the coef_ did not converge\n",
      "  warnings.warn(\n",
      "/Users/abdalrhman/Library/Python/3.9/lib/python/site-packages/sklearn/linear_model/_sag.py:350: ConvergenceWarning: The max_iter was reached which means the coef_ did not converge\n",
      "  warnings.warn(\n",
      "/Users/abdalrhman/Library/Python/3.9/lib/python/site-packages/sklearn/linear_model/_sag.py:350: ConvergenceWarning: The max_iter was reached which means the coef_ did not converge\n",
      "  warnings.warn(\n",
      "/Users/abdalrhman/Library/Python/3.9/lib/python/site-packages/sklearn/linear_model/_sag.py:350: ConvergenceWarning: The max_iter was reached which means the coef_ did not converge\n",
      "  warnings.warn(\n",
      "/Users/abdalrhman/Library/Python/3.9/lib/python/site-packages/sklearn/linear_model/_sag.py:350: ConvergenceWarning: The max_iter was reached which means the coef_ did not converge\n",
      "  warnings.warn(\n",
      "/Users/abdalrhman/Library/Python/3.9/lib/python/site-packages/sklearn/linear_model/_sag.py:350: ConvergenceWarning: The max_iter was reached which means the coef_ did not converge\n",
      "  warnings.warn(\n",
      "/Users/abdalrhman/Library/Python/3.9/lib/python/site-packages/sklearn/linear_model/_sag.py:350: ConvergenceWarning: The max_iter was reached which means the coef_ did not converge\n",
      "  warnings.warn(\n",
      "/Users/abdalrhman/Library/Python/3.9/lib/python/site-packages/sklearn/linear_model/_sag.py:350: ConvergenceWarning: The max_iter was reached which means the coef_ did not converge\n",
      "  warnings.warn(\n",
      "/Users/abdalrhman/Library/Python/3.9/lib/python/site-packages/sklearn/linear_model/_sag.py:350: ConvergenceWarning: The max_iter was reached which means the coef_ did not converge\n",
      "  warnings.warn(\n",
      "/Users/abdalrhman/Library/Python/3.9/lib/python/site-packages/sklearn/linear_model/_sag.py:350: ConvergenceWarning: The max_iter was reached which means the coef_ did not converge\n",
      "  warnings.warn(\n",
      "/Users/abdalrhman/Library/Python/3.9/lib/python/site-packages/sklearn/linear_model/_sag.py:350: ConvergenceWarning: The max_iter was reached which means the coef_ did not converge\n",
      "  warnings.warn(\n",
      "/Users/abdalrhman/Library/Python/3.9/lib/python/site-packages/sklearn/linear_model/_sag.py:350: ConvergenceWarning: The max_iter was reached which means the coef_ did not converge\n",
      "  warnings.warn(\n",
      "/Users/abdalrhman/Library/Python/3.9/lib/python/site-packages/sklearn/linear_model/_sag.py:350: ConvergenceWarning: The max_iter was reached which means the coef_ did not converge\n",
      "  warnings.warn(\n",
      "/Users/abdalrhman/Library/Python/3.9/lib/python/site-packages/sklearn/linear_model/_sag.py:350: ConvergenceWarning: The max_iter was reached which means the coef_ did not converge\n",
      "  warnings.warn(\n",
      "/Users/abdalrhman/Library/Python/3.9/lib/python/site-packages/sklearn/linear_model/_sag.py:350: ConvergenceWarning: The max_iter was reached which means the coef_ did not converge\n",
      "  warnings.warn(\n",
      "/Users/abdalrhman/Library/Python/3.9/lib/python/site-packages/sklearn/linear_model/_sag.py:350: ConvergenceWarning: The max_iter was reached which means the coef_ did not converge\n",
      "  warnings.warn(\n",
      "/Users/abdalrhman/Library/Python/3.9/lib/python/site-packages/sklearn/linear_model/_sag.py:350: ConvergenceWarning: The max_iter was reached which means the coef_ did not converge\n",
      "  warnings.warn(\n",
      "/Users/abdalrhman/Library/Python/3.9/lib/python/site-packages/sklearn/linear_model/_sag.py:350: ConvergenceWarning: The max_iter was reached which means the coef_ did not converge\n",
      "  warnings.warn(\n",
      "/Users/abdalrhman/Library/Python/3.9/lib/python/site-packages/sklearn/linear_model/_sag.py:350: ConvergenceWarning: The max_iter was reached which means the coef_ did not converge\n",
      "  warnings.warn(\n",
      "/Users/abdalrhman/Library/Python/3.9/lib/python/site-packages/sklearn/linear_model/_sag.py:350: ConvergenceWarning: The max_iter was reached which means the coef_ did not converge\n",
      "  warnings.warn(\n",
      "/Users/abdalrhman/Library/Python/3.9/lib/python/site-packages/sklearn/linear_model/_sag.py:350: ConvergenceWarning: The max_iter was reached which means the coef_ did not converge\n",
      "  warnings.warn(\n",
      "/Users/abdalrhman/Library/Python/3.9/lib/python/site-packages/sklearn/linear_model/_sag.py:350: ConvergenceWarning: The max_iter was reached which means the coef_ did not converge\n",
      "  warnings.warn(\n",
      "/Users/abdalrhman/Library/Python/3.9/lib/python/site-packages/sklearn/linear_model/_sag.py:350: ConvergenceWarning: The max_iter was reached which means the coef_ did not converge\n",
      "  warnings.warn(\n",
      "/Users/abdalrhman/Library/Python/3.9/lib/python/site-packages/sklearn/linear_model/_sag.py:350: ConvergenceWarning: The max_iter was reached which means the coef_ did not converge\n",
      "  warnings.warn(\n",
      "/Users/abdalrhman/Library/Python/3.9/lib/python/site-packages/sklearn/linear_model/_sag.py:350: ConvergenceWarning: The max_iter was reached which means the coef_ did not converge\n",
      "  warnings.warn(\n",
      "/Users/abdalrhman/Library/Python/3.9/lib/python/site-packages/sklearn/linear_model/_sag.py:350: ConvergenceWarning: The max_iter was reached which means the coef_ did not converge\n",
      "  warnings.warn(\n",
      "/Users/abdalrhman/Library/Python/3.9/lib/python/site-packages/sklearn/linear_model/_sag.py:350: ConvergenceWarning: The max_iter was reached which means the coef_ did not converge\n",
      "  warnings.warn(\n",
      "/Users/abdalrhman/Library/Python/3.9/lib/python/site-packages/sklearn/linear_model/_sag.py:350: ConvergenceWarning: The max_iter was reached which means the coef_ did not converge\n",
      "  warnings.warn(\n",
      "/Users/abdalrhman/Library/Python/3.9/lib/python/site-packages/sklearn/linear_model/_sag.py:350: ConvergenceWarning: The max_iter was reached which means the coef_ did not converge\n",
      "  warnings.warn(\n",
      "/Users/abdalrhman/Library/Python/3.9/lib/python/site-packages/sklearn/linear_model/_sag.py:350: ConvergenceWarning: The max_iter was reached which means the coef_ did not converge\n",
      "  warnings.warn(\n",
      "/Users/abdalrhman/Library/Python/3.9/lib/python/site-packages/sklearn/linear_model/_sag.py:350: ConvergenceWarning: The max_iter was reached which means the coef_ did not converge\n",
      "  warnings.warn(\n",
      "/Users/abdalrhman/Library/Python/3.9/lib/python/site-packages/sklearn/linear_model/_sag.py:350: ConvergenceWarning: The max_iter was reached which means the coef_ did not converge\n",
      "  warnings.warn(\n",
      "/Users/abdalrhman/Library/Python/3.9/lib/python/site-packages/sklearn/linear_model/_sag.py:350: ConvergenceWarning: The max_iter was reached which means the coef_ did not converge\n",
      "  warnings.warn(\n",
      "/Users/abdalrhman/Library/Python/3.9/lib/python/site-packages/sklearn/linear_model/_sag.py:350: ConvergenceWarning: The max_iter was reached which means the coef_ did not converge\n",
      "  warnings.warn(\n",
      "/Users/abdalrhman/Library/Python/3.9/lib/python/site-packages/sklearn/linear_model/_sag.py:350: ConvergenceWarning: The max_iter was reached which means the coef_ did not converge\n",
      "  warnings.warn(\n",
      "/Users/abdalrhman/Library/Python/3.9/lib/python/site-packages/sklearn/linear_model/_sag.py:350: ConvergenceWarning: The max_iter was reached which means the coef_ did not converge\n",
      "  warnings.warn(\n",
      "/Users/abdalrhman/Library/Python/3.9/lib/python/site-packages/sklearn/linear_model/_sag.py:350: ConvergenceWarning: The max_iter was reached which means the coef_ did not converge\n",
      "  warnings.warn(\n",
      "/Users/abdalrhman/Library/Python/3.9/lib/python/site-packages/sklearn/linear_model/_sag.py:350: ConvergenceWarning: The max_iter was reached which means the coef_ did not converge\n",
      "  warnings.warn(\n",
      "/Users/abdalrhman/Library/Python/3.9/lib/python/site-packages/sklearn/linear_model/_sag.py:350: ConvergenceWarning: The max_iter was reached which means the coef_ did not converge\n",
      "  warnings.warn(\n",
      "/Users/abdalrhman/Library/Python/3.9/lib/python/site-packages/sklearn/linear_model/_sag.py:350: ConvergenceWarning: The max_iter was reached which means the coef_ did not converge\n",
      "  warnings.warn(\n",
      "/Users/abdalrhman/Library/Python/3.9/lib/python/site-packages/sklearn/linear_model/_sag.py:350: ConvergenceWarning: The max_iter was reached which means the coef_ did not converge\n",
      "  warnings.warn(\n",
      "/Users/abdalrhman/Library/Python/3.9/lib/python/site-packages/sklearn/linear_model/_sag.py:350: ConvergenceWarning: The max_iter was reached which means the coef_ did not converge\n",
      "  warnings.warn(\n",
      "/Users/abdalrhman/Library/Python/3.9/lib/python/site-packages/sklearn/linear_model/_sag.py:350: ConvergenceWarning: The max_iter was reached which means the coef_ did not converge\n",
      "  warnings.warn(\n",
      "/Users/abdalrhman/Library/Python/3.9/lib/python/site-packages/sklearn/linear_model/_sag.py:350: ConvergenceWarning: The max_iter was reached which means the coef_ did not converge\n",
      "  warnings.warn(\n",
      "/Users/abdalrhman/Library/Python/3.9/lib/python/site-packages/sklearn/linear_model/_sag.py:350: ConvergenceWarning: The max_iter was reached which means the coef_ did not converge\n",
      "  warnings.warn(\n",
      "/Users/abdalrhman/Library/Python/3.9/lib/python/site-packages/sklearn/linear_model/_sag.py:350: ConvergenceWarning: The max_iter was reached which means the coef_ did not converge\n",
      "  warnings.warn(\n",
      "/Users/abdalrhman/Library/Python/3.9/lib/python/site-packages/sklearn/linear_model/_sag.py:350: ConvergenceWarning: The max_iter was reached which means the coef_ did not converge\n",
      "  warnings.warn(\n",
      "/Users/abdalrhman/Library/Python/3.9/lib/python/site-packages/sklearn/linear_model/_sag.py:350: ConvergenceWarning: The max_iter was reached which means the coef_ did not converge\n",
      "  warnings.warn(\n",
      "/Users/abdalrhman/Library/Python/3.9/lib/python/site-packages/sklearn/linear_model/_sag.py:350: ConvergenceWarning: The max_iter was reached which means the coef_ did not converge\n",
      "  warnings.warn(\n",
      "/Users/abdalrhman/Library/Python/3.9/lib/python/site-packages/sklearn/linear_model/_sag.py:350: ConvergenceWarning: The max_iter was reached which means the coef_ did not converge\n",
      "  warnings.warn(\n",
      "/Users/abdalrhman/Library/Python/3.9/lib/python/site-packages/sklearn/linear_model/_sag.py:350: ConvergenceWarning: The max_iter was reached which means the coef_ did not converge\n",
      "  warnings.warn(\n",
      "/Users/abdalrhman/Library/Python/3.9/lib/python/site-packages/sklearn/linear_model/_sag.py:350: ConvergenceWarning: The max_iter was reached which means the coef_ did not converge\n",
      "  warnings.warn(\n",
      "/Users/abdalrhman/Library/Python/3.9/lib/python/site-packages/sklearn/linear_model/_sag.py:350: ConvergenceWarning: The max_iter was reached which means the coef_ did not converge\n",
      "  warnings.warn(\n",
      "/Users/abdalrhman/Library/Python/3.9/lib/python/site-packages/sklearn/linear_model/_sag.py:350: ConvergenceWarning: The max_iter was reached which means the coef_ did not converge\n",
      "  warnings.warn(\n",
      "/Users/abdalrhman/Library/Python/3.9/lib/python/site-packages/sklearn/linear_model/_sag.py:350: ConvergenceWarning: The max_iter was reached which means the coef_ did not converge\n",
      "  warnings.warn(\n",
      "/Users/abdalrhman/Library/Python/3.9/lib/python/site-packages/sklearn/linear_model/_sag.py:350: ConvergenceWarning: The max_iter was reached which means the coef_ did not converge\n",
      "  warnings.warn(\n",
      "/Users/abdalrhman/Library/Python/3.9/lib/python/site-packages/sklearn/linear_model/_sag.py:350: ConvergenceWarning: The max_iter was reached which means the coef_ did not converge\n",
      "  warnings.warn(\n",
      "/Users/abdalrhman/Library/Python/3.9/lib/python/site-packages/sklearn/linear_model/_sag.py:350: ConvergenceWarning: The max_iter was reached which means the coef_ did not converge\n",
      "  warnings.warn(\n",
      "/Users/abdalrhman/Library/Python/3.9/lib/python/site-packages/sklearn/linear_model/_sag.py:350: ConvergenceWarning: The max_iter was reached which means the coef_ did not converge\n",
      "  warnings.warn(\n",
      "/Users/abdalrhman/Library/Python/3.9/lib/python/site-packages/sklearn/linear_model/_sag.py:350: ConvergenceWarning: The max_iter was reached which means the coef_ did not converge\n",
      "  warnings.warn(\n",
      "/Users/abdalrhman/Library/Python/3.9/lib/python/site-packages/sklearn/linear_model/_sag.py:350: ConvergenceWarning: The max_iter was reached which means the coef_ did not converge\n",
      "  warnings.warn(\n",
      "/Users/abdalrhman/Library/Python/3.9/lib/python/site-packages/sklearn/linear_model/_sag.py:350: ConvergenceWarning: The max_iter was reached which means the coef_ did not converge\n",
      "  warnings.warn(\n",
      "/Users/abdalrhman/Library/Python/3.9/lib/python/site-packages/sklearn/linear_model/_sag.py:350: ConvergenceWarning: The max_iter was reached which means the coef_ did not converge\n",
      "  warnings.warn(\n",
      "/Users/abdalrhman/Library/Python/3.9/lib/python/site-packages/sklearn/linear_model/_sag.py:350: ConvergenceWarning: The max_iter was reached which means the coef_ did not converge\n",
      "  warnings.warn(\n",
      "/Users/abdalrhman/Library/Python/3.9/lib/python/site-packages/sklearn/linear_model/_sag.py:350: ConvergenceWarning: The max_iter was reached which means the coef_ did not converge\n",
      "  warnings.warn(\n",
      "/Users/abdalrhman/Library/Python/3.9/lib/python/site-packages/sklearn/linear_model/_sag.py:350: ConvergenceWarning: The max_iter was reached which means the coef_ did not converge\n",
      "  warnings.warn(\n",
      "/Users/abdalrhman/Library/Python/3.9/lib/python/site-packages/sklearn/linear_model/_sag.py:350: ConvergenceWarning: The max_iter was reached which means the coef_ did not converge\n",
      "  warnings.warn(\n",
      "/Users/abdalrhman/Library/Python/3.9/lib/python/site-packages/sklearn/linear_model/_sag.py:350: ConvergenceWarning: The max_iter was reached which means the coef_ did not converge\n",
      "  warnings.warn(\n",
      "/Users/abdalrhman/Library/Python/3.9/lib/python/site-packages/sklearn/linear_model/_sag.py:350: ConvergenceWarning: The max_iter was reached which means the coef_ did not converge\n",
      "  warnings.warn(\n",
      "/Users/abdalrhman/Library/Python/3.9/lib/python/site-packages/sklearn/linear_model/_sag.py:350: ConvergenceWarning: The max_iter was reached which means the coef_ did not converge\n",
      "  warnings.warn(\n",
      "/Users/abdalrhman/Library/Python/3.9/lib/python/site-packages/sklearn/linear_model/_sag.py:350: ConvergenceWarning: The max_iter was reached which means the coef_ did not converge\n",
      "  warnings.warn(\n",
      "/Users/abdalrhman/Library/Python/3.9/lib/python/site-packages/sklearn/linear_model/_sag.py:350: ConvergenceWarning: The max_iter was reached which means the coef_ did not converge\n",
      "  warnings.warn(\n",
      "/Users/abdalrhman/Library/Python/3.9/lib/python/site-packages/sklearn/linear_model/_sag.py:350: ConvergenceWarning: The max_iter was reached which means the coef_ did not converge\n",
      "  warnings.warn(\n",
      "/Users/abdalrhman/Library/Python/3.9/lib/python/site-packages/sklearn/linear_model/_sag.py:350: ConvergenceWarning: The max_iter was reached which means the coef_ did not converge\n",
      "  warnings.warn(\n",
      "/Users/abdalrhman/Library/Python/3.9/lib/python/site-packages/sklearn/linear_model/_sag.py:350: ConvergenceWarning: The max_iter was reached which means the coef_ did not converge\n",
      "  warnings.warn(\n",
      "/Users/abdalrhman/Library/Python/3.9/lib/python/site-packages/sklearn/linear_model/_sag.py:350: ConvergenceWarning: The max_iter was reached which means the coef_ did not converge\n",
      "  warnings.warn(\n",
      "/Users/abdalrhman/Library/Python/3.9/lib/python/site-packages/sklearn/linear_model/_sag.py:350: ConvergenceWarning: The max_iter was reached which means the coef_ did not converge\n",
      "  warnings.warn(\n",
      "/Users/abdalrhman/Library/Python/3.9/lib/python/site-packages/sklearn/linear_model/_sag.py:350: ConvergenceWarning: The max_iter was reached which means the coef_ did not converge\n",
      "  warnings.warn(\n",
      "/Users/abdalrhman/Library/Python/3.9/lib/python/site-packages/sklearn/linear_model/_sag.py:350: ConvergenceWarning: The max_iter was reached which means the coef_ did not converge\n",
      "  warnings.warn(\n",
      "/Users/abdalrhman/Library/Python/3.9/lib/python/site-packages/sklearn/linear_model/_sag.py:350: ConvergenceWarning: The max_iter was reached which means the coef_ did not converge\n",
      "  warnings.warn(\n",
      "/Users/abdalrhman/Library/Python/3.9/lib/python/site-packages/sklearn/linear_model/_sag.py:350: ConvergenceWarning: The max_iter was reached which means the coef_ did not converge\n",
      "  warnings.warn(\n"
     ]
    },
    {
     "data": {
      "text/html": [
       "<div>\n",
       "<style scoped>\n",
       "    .dataframe tbody tr th:only-of-type {\n",
       "        vertical-align: middle;\n",
       "    }\n",
       "\n",
       "    .dataframe tbody tr th {\n",
       "        vertical-align: top;\n",
       "    }\n",
       "\n",
       "    .dataframe thead th {\n",
       "        text-align: right;\n",
       "    }\n",
       "</style>\n",
       "<table border=\"1\" class=\"dataframe\">\n",
       "  <thead>\n",
       "    <tr style=\"text-align: right;\">\n",
       "      <th></th>\n",
       "      <th>F-score</th>\n",
       "      <th>Precision</th>\n",
       "      <th>Recall</th>\n",
       "      <th>Accuracy</th>\n",
       "    </tr>\n",
       "  </thead>\n",
       "  <tbody>\n",
       "    <tr>\n",
       "      <th>Logistic Regression (Grid CV Tuning)</th>\n",
       "      <td>0.745359</td>\n",
       "      <td>0.763978</td>\n",
       "      <td>0.749181</td>\n",
       "      <td>0.752071</td>\n",
       "    </tr>\n",
       "    <tr>\n",
       "      <th>Decision Tree (Default)</th>\n",
       "      <td>0.557185</td>\n",
       "      <td>0.837209</td>\n",
       "      <td>0.193809</td>\n",
       "      <td>0.689911</td>\n",
       "    </tr>\n",
       "    <tr>\n",
       "      <th>Logistic Regression (Default)</th>\n",
       "      <td>0.54678</td>\n",
       "      <td>0.725888</td>\n",
       "      <td>0.192463</td>\n",
       "      <td>0.676558</td>\n",
       "    </tr>\n",
       "  </tbody>\n",
       "</table>\n",
       "</div>"
      ],
      "text/plain": [
       "                                       F-score Precision    Recall  Accuracy\n",
       "Logistic Regression (Grid CV Tuning)  0.745359  0.763978  0.749181  0.752071\n",
       "Decision Tree (Default)               0.557185  0.837209  0.193809  0.689911\n",
       "Logistic Regression (Default)          0.54678  0.725888  0.192463  0.676558"
      ]
     },
     "execution_count": 501,
     "metadata": {},
     "output_type": "execute_result"
    }
   ],
   "source": [
    "solvers = ['lbfgs','newton-cg','liblinear','sag','saga']\n",
    "penalty = ['l2', 'None']\n",
    "c_values = [100, 10, 1.0, 0.1, 0.01]\n",
    "max_iteration= [100, 200, 500, 1000, 2000, 5000]\n",
    "# define grid search\n",
    "grid = dict(solver=solvers,penalty=penalty,C=c_values,max_iter=max_iteration)\n",
    "\n",
    "lr_grid = GridSearchCV(estimator=lr, param_grid=grid, n_jobs=-1, scoring='accuracy',error_score=0)\n",
    "lr_grid_fit = lr_grid.fit(X_train, y_train)\n",
    "\n",
    "cross_val_results = pd.DataFrame(cross_validate(lr_grid.best_estimator_, X_train, y_train, scoring = [ 'f1_macro', 'precision_macro', 'recall_macro', 'accuracy'] ))\n",
    "\n",
    "results_df.loc['Logistic Regression (Grid CV Tuning)',:] = cross_val_results[['test_f1_macro',\n",
    "       'test_precision_macro', 'test_recall_macro','test_accuracy']].mean().values\n",
    "\n",
    "results_df.sort_values(by='F-score', ascending=False)"
   ]
  },
  {
   "cell_type": "code",
   "execution_count": 502,
   "metadata": {},
   "outputs": [],
   "source": [
    "randomForestModel=RandomForestClassifier(n_estimators=75)\n",
    "randomForestModel.fit(X_train,y_train)\n",
    "y_pred=randomForestModel.predict(X_test)"
   ]
  },
  {
   "cell_type": "code",
   "execution_count": 503,
   "metadata": {},
   "outputs": [
    {
     "name": "stdout",
     "output_type": "stream",
     "text": [
      "Accuracy Score:  0.6874381800197824\n",
      "Recall Score:  0.20861372812920592\n",
      "Jaccard Score:  0.19695044472681067\n",
      "F1 Score:  0.3290870488322718\n",
      "Precision Score:  0.7788944723618091\n"
     ]
    },
    {
     "data": {
      "application/vnd.plotly.v1+json": {
       "config": {
        "plotlyServerURL": "https://plot.ly"
       },
       "data": [
        {
         "coloraxis": "coloraxis",
         "hovertemplate": "Predicted Label: %{x}<br>Correct Label: %{y}<br>Value: %{z}<extra></extra>",
         "name": "0",
         "texttemplate": "%{z}",
         "type": "heatmap",
         "xaxis": "x",
         "yaxis": "y",
         "z": [
          [
           0.966,
           0.034
          ],
          [
           0.791,
           0.209
          ]
         ]
        }
       ],
       "layout": {
        "coloraxis": {
         "colorbar": {
          "title": {
           "text": "Value"
          }
         },
         "colorscale": [
          [
           0,
           "#440154"
          ],
          [
           0.1111111111111111,
           "#482878"
          ],
          [
           0.2222222222222222,
           "#3e4989"
          ],
          [
           0.3333333333333333,
           "#31688e"
          ],
          [
           0.4444444444444444,
           "#26828e"
          ],
          [
           0.5555555555555556,
           "#1f9e89"
          ],
          [
           0.6666666666666666,
           "#35b779"
          ],
          [
           0.7777777777777778,
           "#6ece58"
          ],
          [
           0.8888888888888888,
           "#b5de2b"
          ],
          [
           1,
           "#fde725"
          ]
         ]
        },
        "margin": {
         "t": 60
        },
        "template": {
         "data": {
          "bar": [
           {
            "error_x": {
             "color": "rgb(36,36,36)"
            },
            "error_y": {
             "color": "rgb(36,36,36)"
            },
            "marker": {
             "line": {
              "color": "white",
              "width": 0.5
             },
             "pattern": {
              "fillmode": "overlay",
              "size": 10,
              "solidity": 0.2
             }
            },
            "type": "bar"
           }
          ],
          "barpolar": [
           {
            "marker": {
             "line": {
              "color": "white",
              "width": 0.5
             },
             "pattern": {
              "fillmode": "overlay",
              "size": 10,
              "solidity": 0.2
             }
            },
            "type": "barpolar"
           }
          ],
          "carpet": [
           {
            "aaxis": {
             "endlinecolor": "rgb(36,36,36)",
             "gridcolor": "white",
             "linecolor": "white",
             "minorgridcolor": "white",
             "startlinecolor": "rgb(36,36,36)"
            },
            "baxis": {
             "endlinecolor": "rgb(36,36,36)",
             "gridcolor": "white",
             "linecolor": "white",
             "minorgridcolor": "white",
             "startlinecolor": "rgb(36,36,36)"
            },
            "type": "carpet"
           }
          ],
          "choropleth": [
           {
            "colorbar": {
             "outlinewidth": 1,
             "tickcolor": "rgb(36,36,36)",
             "ticks": "outside"
            },
            "type": "choropleth"
           }
          ],
          "contour": [
           {
            "colorbar": {
             "outlinewidth": 1,
             "tickcolor": "rgb(36,36,36)",
             "ticks": "outside"
            },
            "colorscale": [
             [
              0,
              "#440154"
             ],
             [
              0.1111111111111111,
              "#482878"
             ],
             [
              0.2222222222222222,
              "#3e4989"
             ],
             [
              0.3333333333333333,
              "#31688e"
             ],
             [
              0.4444444444444444,
              "#26828e"
             ],
             [
              0.5555555555555556,
              "#1f9e89"
             ],
             [
              0.6666666666666666,
              "#35b779"
             ],
             [
              0.7777777777777778,
              "#6ece58"
             ],
             [
              0.8888888888888888,
              "#b5de2b"
             ],
             [
              1,
              "#fde725"
             ]
            ],
            "type": "contour"
           }
          ],
          "contourcarpet": [
           {
            "colorbar": {
             "outlinewidth": 1,
             "tickcolor": "rgb(36,36,36)",
             "ticks": "outside"
            },
            "type": "contourcarpet"
           }
          ],
          "heatmap": [
           {
            "colorbar": {
             "outlinewidth": 1,
             "tickcolor": "rgb(36,36,36)",
             "ticks": "outside"
            },
            "colorscale": [
             [
              0,
              "#440154"
             ],
             [
              0.1111111111111111,
              "#482878"
             ],
             [
              0.2222222222222222,
              "#3e4989"
             ],
             [
              0.3333333333333333,
              "#31688e"
             ],
             [
              0.4444444444444444,
              "#26828e"
             ],
             [
              0.5555555555555556,
              "#1f9e89"
             ],
             [
              0.6666666666666666,
              "#35b779"
             ],
             [
              0.7777777777777778,
              "#6ece58"
             ],
             [
              0.8888888888888888,
              "#b5de2b"
             ],
             [
              1,
              "#fde725"
             ]
            ],
            "type": "heatmap"
           }
          ],
          "heatmapgl": [
           {
            "colorbar": {
             "outlinewidth": 1,
             "tickcolor": "rgb(36,36,36)",
             "ticks": "outside"
            },
            "colorscale": [
             [
              0,
              "#440154"
             ],
             [
              0.1111111111111111,
              "#482878"
             ],
             [
              0.2222222222222222,
              "#3e4989"
             ],
             [
              0.3333333333333333,
              "#31688e"
             ],
             [
              0.4444444444444444,
              "#26828e"
             ],
             [
              0.5555555555555556,
              "#1f9e89"
             ],
             [
              0.6666666666666666,
              "#35b779"
             ],
             [
              0.7777777777777778,
              "#6ece58"
             ],
             [
              0.8888888888888888,
              "#b5de2b"
             ],
             [
              1,
              "#fde725"
             ]
            ],
            "type": "heatmapgl"
           }
          ],
          "histogram": [
           {
            "marker": {
             "line": {
              "color": "white",
              "width": 0.6
             }
            },
            "type": "histogram"
           }
          ],
          "histogram2d": [
           {
            "colorbar": {
             "outlinewidth": 1,
             "tickcolor": "rgb(36,36,36)",
             "ticks": "outside"
            },
            "colorscale": [
             [
              0,
              "#440154"
             ],
             [
              0.1111111111111111,
              "#482878"
             ],
             [
              0.2222222222222222,
              "#3e4989"
             ],
             [
              0.3333333333333333,
              "#31688e"
             ],
             [
              0.4444444444444444,
              "#26828e"
             ],
             [
              0.5555555555555556,
              "#1f9e89"
             ],
             [
              0.6666666666666666,
              "#35b779"
             ],
             [
              0.7777777777777778,
              "#6ece58"
             ],
             [
              0.8888888888888888,
              "#b5de2b"
             ],
             [
              1,
              "#fde725"
             ]
            ],
            "type": "histogram2d"
           }
          ],
          "histogram2dcontour": [
           {
            "colorbar": {
             "outlinewidth": 1,
             "tickcolor": "rgb(36,36,36)",
             "ticks": "outside"
            },
            "colorscale": [
             [
              0,
              "#440154"
             ],
             [
              0.1111111111111111,
              "#482878"
             ],
             [
              0.2222222222222222,
              "#3e4989"
             ],
             [
              0.3333333333333333,
              "#31688e"
             ],
             [
              0.4444444444444444,
              "#26828e"
             ],
             [
              0.5555555555555556,
              "#1f9e89"
             ],
             [
              0.6666666666666666,
              "#35b779"
             ],
             [
              0.7777777777777778,
              "#6ece58"
             ],
             [
              0.8888888888888888,
              "#b5de2b"
             ],
             [
              1,
              "#fde725"
             ]
            ],
            "type": "histogram2dcontour"
           }
          ],
          "mesh3d": [
           {
            "colorbar": {
             "outlinewidth": 1,
             "tickcolor": "rgb(36,36,36)",
             "ticks": "outside"
            },
            "type": "mesh3d"
           }
          ],
          "parcoords": [
           {
            "line": {
             "colorbar": {
              "outlinewidth": 1,
              "tickcolor": "rgb(36,36,36)",
              "ticks": "outside"
             }
            },
            "type": "parcoords"
           }
          ],
          "pie": [
           {
            "automargin": true,
            "type": "pie"
           }
          ],
          "scatter": [
           {
            "fillpattern": {
             "fillmode": "overlay",
             "size": 10,
             "solidity": 0.2
            },
            "type": "scatter"
           }
          ],
          "scatter3d": [
           {
            "line": {
             "colorbar": {
              "outlinewidth": 1,
              "tickcolor": "rgb(36,36,36)",
              "ticks": "outside"
             }
            },
            "marker": {
             "colorbar": {
              "outlinewidth": 1,
              "tickcolor": "rgb(36,36,36)",
              "ticks": "outside"
             }
            },
            "type": "scatter3d"
           }
          ],
          "scattercarpet": [
           {
            "marker": {
             "colorbar": {
              "outlinewidth": 1,
              "tickcolor": "rgb(36,36,36)",
              "ticks": "outside"
             }
            },
            "type": "scattercarpet"
           }
          ],
          "scattergeo": [
           {
            "marker": {
             "colorbar": {
              "outlinewidth": 1,
              "tickcolor": "rgb(36,36,36)",
              "ticks": "outside"
             }
            },
            "type": "scattergeo"
           }
          ],
          "scattergl": [
           {
            "marker": {
             "colorbar": {
              "outlinewidth": 1,
              "tickcolor": "rgb(36,36,36)",
              "ticks": "outside"
             }
            },
            "type": "scattergl"
           }
          ],
          "scattermapbox": [
           {
            "marker": {
             "colorbar": {
              "outlinewidth": 1,
              "tickcolor": "rgb(36,36,36)",
              "ticks": "outside"
             }
            },
            "type": "scattermapbox"
           }
          ],
          "scatterpolar": [
           {
            "marker": {
             "colorbar": {
              "outlinewidth": 1,
              "tickcolor": "rgb(36,36,36)",
              "ticks": "outside"
             }
            },
            "type": "scatterpolar"
           }
          ],
          "scatterpolargl": [
           {
            "marker": {
             "colorbar": {
              "outlinewidth": 1,
              "tickcolor": "rgb(36,36,36)",
              "ticks": "outside"
             }
            },
            "type": "scatterpolargl"
           }
          ],
          "scatterternary": [
           {
            "marker": {
             "colorbar": {
              "outlinewidth": 1,
              "tickcolor": "rgb(36,36,36)",
              "ticks": "outside"
             }
            },
            "type": "scatterternary"
           }
          ],
          "surface": [
           {
            "colorbar": {
             "outlinewidth": 1,
             "tickcolor": "rgb(36,36,36)",
             "ticks": "outside"
            },
            "colorscale": [
             [
              0,
              "#440154"
             ],
             [
              0.1111111111111111,
              "#482878"
             ],
             [
              0.2222222222222222,
              "#3e4989"
             ],
             [
              0.3333333333333333,
              "#31688e"
             ],
             [
              0.4444444444444444,
              "#26828e"
             ],
             [
              0.5555555555555556,
              "#1f9e89"
             ],
             [
              0.6666666666666666,
              "#35b779"
             ],
             [
              0.7777777777777778,
              "#6ece58"
             ],
             [
              0.8888888888888888,
              "#b5de2b"
             ],
             [
              1,
              "#fde725"
             ]
            ],
            "type": "surface"
           }
          ],
          "table": [
           {
            "cells": {
             "fill": {
              "color": "rgb(237,237,237)"
             },
             "line": {
              "color": "white"
             }
            },
            "header": {
             "fill": {
              "color": "rgb(217,217,217)"
             },
             "line": {
              "color": "white"
             }
            },
            "type": "table"
           }
          ]
         },
         "layout": {
          "annotationdefaults": {
           "arrowhead": 0,
           "arrowwidth": 1
          },
          "autotypenumbers": "strict",
          "coloraxis": {
           "colorbar": {
            "outlinewidth": 1,
            "tickcolor": "rgb(36,36,36)",
            "ticks": "outside"
           }
          },
          "colorscale": {
           "diverging": [
            [
             0,
             "rgb(103,0,31)"
            ],
            [
             0.1,
             "rgb(178,24,43)"
            ],
            [
             0.2,
             "rgb(214,96,77)"
            ],
            [
             0.3,
             "rgb(244,165,130)"
            ],
            [
             0.4,
             "rgb(253,219,199)"
            ],
            [
             0.5,
             "rgb(247,247,247)"
            ],
            [
             0.6,
             "rgb(209,229,240)"
            ],
            [
             0.7,
             "rgb(146,197,222)"
            ],
            [
             0.8,
             "rgb(67,147,195)"
            ],
            [
             0.9,
             "rgb(33,102,172)"
            ],
            [
             1,
             "rgb(5,48,97)"
            ]
           ],
           "sequential": [
            [
             0,
             "#440154"
            ],
            [
             0.1111111111111111,
             "#482878"
            ],
            [
             0.2222222222222222,
             "#3e4989"
            ],
            [
             0.3333333333333333,
             "#31688e"
            ],
            [
             0.4444444444444444,
             "#26828e"
            ],
            [
             0.5555555555555556,
             "#1f9e89"
            ],
            [
             0.6666666666666666,
             "#35b779"
            ],
            [
             0.7777777777777778,
             "#6ece58"
            ],
            [
             0.8888888888888888,
             "#b5de2b"
            ],
            [
             1,
             "#fde725"
            ]
           ],
           "sequentialminus": [
            [
             0,
             "#440154"
            ],
            [
             0.1111111111111111,
             "#482878"
            ],
            [
             0.2222222222222222,
             "#3e4989"
            ],
            [
             0.3333333333333333,
             "#31688e"
            ],
            [
             0.4444444444444444,
             "#26828e"
            ],
            [
             0.5555555555555556,
             "#1f9e89"
            ],
            [
             0.6666666666666666,
             "#35b779"
            ],
            [
             0.7777777777777778,
             "#6ece58"
            ],
            [
             0.8888888888888888,
             "#b5de2b"
            ],
            [
             1,
             "#fde725"
            ]
           ]
          },
          "colorway": [
           "#1F77B4",
           "#FF7F0E",
           "#2CA02C",
           "#D62728",
           "#9467BD",
           "#8C564B",
           "#E377C2",
           "#7F7F7F",
           "#BCBD22",
           "#17BECF"
          ],
          "font": {
           "color": "rgb(36,36,36)"
          },
          "geo": {
           "bgcolor": "white",
           "lakecolor": "white",
           "landcolor": "white",
           "showlakes": true,
           "showland": true,
           "subunitcolor": "white"
          },
          "hoverlabel": {
           "align": "left"
          },
          "hovermode": "closest",
          "mapbox": {
           "style": "light"
          },
          "paper_bgcolor": "white",
          "plot_bgcolor": "white",
          "polar": {
           "angularaxis": {
            "gridcolor": "rgb(232,232,232)",
            "linecolor": "rgb(36,36,36)",
            "showgrid": false,
            "showline": true,
            "ticks": "outside"
           },
           "bgcolor": "white",
           "radialaxis": {
            "gridcolor": "rgb(232,232,232)",
            "linecolor": "rgb(36,36,36)",
            "showgrid": false,
            "showline": true,
            "ticks": "outside"
           }
          },
          "scene": {
           "xaxis": {
            "backgroundcolor": "white",
            "gridcolor": "rgb(232,232,232)",
            "gridwidth": 2,
            "linecolor": "rgb(36,36,36)",
            "showbackground": true,
            "showgrid": false,
            "showline": true,
            "ticks": "outside",
            "zeroline": false,
            "zerolinecolor": "rgb(36,36,36)"
           },
           "yaxis": {
            "backgroundcolor": "white",
            "gridcolor": "rgb(232,232,232)",
            "gridwidth": 2,
            "linecolor": "rgb(36,36,36)",
            "showbackground": true,
            "showgrid": false,
            "showline": true,
            "ticks": "outside",
            "zeroline": false,
            "zerolinecolor": "rgb(36,36,36)"
           },
           "zaxis": {
            "backgroundcolor": "white",
            "gridcolor": "rgb(232,232,232)",
            "gridwidth": 2,
            "linecolor": "rgb(36,36,36)",
            "showbackground": true,
            "showgrid": false,
            "showline": true,
            "ticks": "outside",
            "zeroline": false,
            "zerolinecolor": "rgb(36,36,36)"
           }
          },
          "shapedefaults": {
           "fillcolor": "black",
           "line": {
            "width": 0
           },
           "opacity": 0.3
          },
          "ternary": {
           "aaxis": {
            "gridcolor": "rgb(232,232,232)",
            "linecolor": "rgb(36,36,36)",
            "showgrid": false,
            "showline": true,
            "ticks": "outside"
           },
           "baxis": {
            "gridcolor": "rgb(232,232,232)",
            "linecolor": "rgb(36,36,36)",
            "showgrid": false,
            "showline": true,
            "ticks": "outside"
           },
           "bgcolor": "white",
           "caxis": {
            "gridcolor": "rgb(232,232,232)",
            "linecolor": "rgb(36,36,36)",
            "showgrid": false,
            "showline": true,
            "ticks": "outside"
           }
          },
          "title": {
           "x": 0.05
          },
          "xaxis": {
           "automargin": true,
           "gridcolor": "rgb(232,232,232)",
           "linecolor": "rgb(36,36,36)",
           "showgrid": false,
           "showline": true,
           "ticks": "outside",
           "title": {
            "standoff": 15
           },
           "zeroline": false,
           "zerolinecolor": "rgb(36,36,36)"
          },
          "yaxis": {
           "automargin": true,
           "gridcolor": "rgb(232,232,232)",
           "linecolor": "rgb(36,36,36)",
           "showgrid": false,
           "showline": true,
           "ticks": "outside",
           "title": {
            "standoff": 15
           },
           "zeroline": false,
           "zerolinecolor": "rgb(36,36,36)"
          }
         }
        },
        "xaxis": {
         "anchor": "y",
         "domain": [
          0,
          1
         ],
         "side": "bottom",
         "title": {
          "text": "Predicted Label"
         }
        },
        "yaxis": {
         "anchor": "x",
         "autorange": "reversed",
         "domain": [
          0,
          1
         ],
         "title": {
          "text": "Correct Label"
         }
        }
       }
      }
     },
     "metadata": {},
     "output_type": "display_data"
    }
   ],
   "source": [
    "print('Accuracy Score: ',accuracy_score(y_test,y_pred))\n",
    "print('Recall Score: ',recall_score(y_test,y_pred))\n",
    "print('Jaccard Score: ',jaccard_score(y_test,y_pred))\n",
    "print('F1 Score: ',f1_score(y_test,y_pred))\n",
    "print('Precision Score: ',precision_score(y_test,y_pred))\n",
    "\n",
    "plot = px.imshow(np.around(confusion_matrix(y_test, y_pred, normalize='true'),3), \n",
    "                template='simple_white',\n",
    "                text_auto=True, \n",
    "                aspect=\"True\", \n",
    "                labels=dict(x=\"Predicted Label\", y=\"Correct Label\", color='Value'))\n",
    "plot.update_xaxes(side=\"bottom\")\n",
    "plot.show()"
   ]
  },
  {
   "cell_type": "code",
   "execution_count": 504,
   "metadata": {},
   "outputs": [],
   "source": [
    "data = df.copy()\n",
    "dataFrame=data.copy()\n",
    "new_y=dataFrame.pop('is_delayed').values\n",
    "new_x=dataFrame.values\n",
    "X_train,X_test,y_train,y_test=train_test_split(new_x,new_y,train_size=0.7,random_state=1)\n",
    "y_train = data['is_delayed']\n",
    "y_train = np.array(y_train).astype(int)\n",
    "X_train = data.drop([\"is_delayed\"], axis=1)\n",
    "y_test = data['is_delayed']\n",
    "y_test = np.array(y_test).astype(int)\n",
    "X_test = data.drop([\"is_delayed\"], axis=1)"
   ]
  },
  {
   "cell_type": "code",
   "execution_count": 505,
   "metadata": {},
   "outputs": [],
   "source": [
    "# create target variable for prediction\n",
    "y = data['is_delayed']\n",
    "y = np.array(y).astype(int)\n",
    "x = data.drop([\"is_delayed\"], axis=1)"
   ]
  },
  {
   "cell_type": "code",
   "execution_count": 506,
   "metadata": {},
   "outputs": [
    {
     "data": {
      "text/plain": [
       "array([0, 0, 0, ..., 1, 1, 1])"
      ]
     },
     "execution_count": 506,
     "metadata": {},
     "output_type": "execute_result"
    }
   ],
   "source": [
    "# test implementation of Random Forest Classifier (seed = 0) \n",
    "clf = RandomForestClassifier(random_state=0)\n",
    "\n",
    "# Convert categorical variables to numerical using label encoding\n",
    "label_encoder = LabelEncoder()\n",
    "x_encoded = x.apply(label_encoder.fit_transform)\n",
    "\n",
    "# Now fit your RandomForestClassifier\n",
    "clf.fit(x_encoded, y)\n",
    "# fit the model\n",
    "#clf.fit(x, y)\n",
    "#RandomForestClassifier(random_state=0)\n",
    "\n",
    "# predict\n",
    "clf.predict(x_encoded)"
   ]
  },
  {
   "cell_type": "code",
   "execution_count": 507,
   "metadata": {},
   "outputs": [
    {
     "data": {
      "text/plain": [
       "<AxesSubplot:>"
      ]
     },
     "execution_count": 507,
     "metadata": {},
     "output_type": "execute_result"
    },
    {
     "data": {
      "image/png": "[encoded data removed]",
      "text/plain": [
       "<Figure size 800x800 with 1 Axes>"
      ]
     },
     "metadata": {},
     "output_type": "display_data"
    }
   ],
   "source": [
    "df_new = data.drop('is_delayed', axis=1)\n",
    "\n",
    "var_imp = pd.DataFrame({'importance': clf.feature_importances_},\n",
    "                       index=df_new.columns)\n",
    "\n",
    "var_imp.sort_values(by='importance').plot.barh(figsize=(8,8),\n",
    "                                               legend=False)"
   ]
  },
  {
   "cell_type": "code",
   "execution_count": 508,
   "metadata": {},
   "outputs": [
    {
     "name": "stdout",
     "output_type": "stream",
     "text": [
      "                   importance\n",
      "s.type               0.002297\n",
      "s.machine            0.004035\n",
      "w.machine            0.005498\n",
      "r.name               0.007655\n",
      "concept:name         0.024702\n",
      "e.Usuario            0.070219\n",
      "e.KitID              0.136485\n",
      "@@index              0.190224\n",
      "case:concept:name    0.191545\n",
      "n.start_timestamp    0.367341\n"
     ]
    }
   ],
   "source": [
    "print(var_imp.sort_values(by='importance'))"
   ]
  }
 ],
 "metadata": {
  "kernelspec": {
   "display_name": "Python 3",
   "language": "python",
   "name": "python3"
  },
  "language_info": {
   "codemirror_mode": {
    "name": "ipython",
    "version": 3
   },
   "file_extension": ".py",
   "mimetype": "text/x-python",
   "name": "python",
   "nbconvert_exporter": "python",
   "pygments_lexer": "ipython3",
   "version": "3.9.18"
  }
 },
 "nbformat": 4,
 "nbformat_minor": 2
}
